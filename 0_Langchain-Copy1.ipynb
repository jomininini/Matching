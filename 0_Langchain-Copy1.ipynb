{
 "cells": [
  {
   "cell_type": "code",
   "execution_count": 1,
   "id": "6a9d62e9",
   "metadata": {},
   "outputs": [],
   "source": [
    "import os\n",
    "\n",
    "# Set the environment variable\n",
    "os.environ['OPENAI_API_KEY'] =\"sk-\""
   ]
  },
  {
   "cell_type": "code",
   "execution_count": 2,
   "id": "5f87c2a6",
   "metadata": {},
   "outputs": [],
   "source": [
    "from langchain.chains import RetrievalQA\n",
    "from langchain.document_loaders import TextLoader\n",
    "from langchain.embeddings.openai import OpenAIEmbeddings\n",
    "from langchain.llms import OpenAI\n",
    "from langchain.text_splitter import CharacterTextSplitter\n",
    "from langchain.vectorstores import Chroma"
   ]
  },
  {
   "cell_type": "code",
   "execution_count": null,
   "id": "b0f8e042",
   "metadata": {},
   "outputs": [],
   "source": [
    "from langchain.document_loaders import WebBaseLoader\n",
    "from langchain.indexes import VectorstoreIndexCreator"
   ]
  },
  {
   "cell_type": "code",
   "execution_count": 133,
   "id": "782d7afe",
   "metadata": {},
   "outputs": [],
   "source": [
    "loader = WebBaseLoader(\"https://www.hkstp.org\")"
   ]
  },
  {
   "cell_type": "code",
   "execution_count": 219,
   "id": "6af34679",
   "metadata": {},
   "outputs": [],
   "source": [
    "index = VectorstoreIndexCreator().from_loaders([loader])"
   ]
  },
  {
   "cell_type": "code",
   "execution_count": 220,
   "id": "0c35f885",
   "metadata": {},
   "outputs": [
    {
     "data": {
      "text/plain": [
       "' HKSTP stands for Hong Kong Science and Technology Parks. It is an organization that works to promote innovation and technology in Hong Kong. It provides infrastructure, funding, corporate partnerships, incubation and acceleration programs, and other resources to help startups and entrepreneurs succeed.'"
      ]
     },
     "execution_count": 220,
     "metadata": {},
     "output_type": "execute_result"
    }
   ],
   "source": [
    "index.query(\"What is hkstp\")"
   ]
  },
  {
   "cell_type": "code",
   "execution_count": 5,
   "id": "5ab73d33",
   "metadata": {},
   "outputs": [],
   "source": [
    "from langchain.document_loaders.csv_loader import CSVLoader"
   ]
  },
  {
   "cell_type": "code",
   "execution_count": 6,
   "id": "5bd1ae40",
   "metadata": {},
   "outputs": [],
   "source": [
    "import pandas as pd"
   ]
  },
  {
   "cell_type": "code",
   "execution_count": 11,
   "id": "c6c59136-202b-404c-bc21-b90a5afadbcb",
   "metadata": {},
   "outputs": [
    {
     "data": {
      "text/plain": [
       "Index(['(Do Not Modify) Program', '(Do Not Modify) Row Checksum',\n",
       "       '(Do Not Modify) Modified On', 'Account', 'Program Name',\n",
       "       'Program Status', 'Account Name (CHI) (Account) (Account)',\n",
       "       'Account Name (ENG) (Account) (Account)',\n",
       "       'Business Description (Eng) (Account) (Account)',\n",
       "       'Business Name (CHI) (RFB Tenant) (Account) (Account)',\n",
       "       'Business Name (ENG) (RFB Tenant) (Account) (Account)',\n",
       "       'Business Sector (Incubation) (Account) (Account)',\n",
       "       'Business Sector (Incubation) (Label) (Account) (Account)',\n",
       "       'Business Sector (Incubation) (Value) (Account) (Account)',\n",
       "       'Business Type (Account) (Account)', 'Category (Account) (Account)',\n",
       "       'Category (Capital) (Account) (Account)',\n",
       "       'Classification (Account) (Account)',\n",
       "       'Collaboration with Local Institutions / Partners (Account) (Account)',\n",
       "       'Company Background Summary (Account) (Account)',\n",
       "       'Company/ Organization Brief Introduction (Eng) (Account) (Account)',\n",
       "       'Company/ Organization Brief Introduction (S.Chi) (Account) (Account)',\n",
       "       'Company/ Organization Brief Introduction (T.Chi) (Account) (Account)',\n",
       "       'I&T Development Blueprint (Account) (Account)',\n",
       "       'Industry Vertical (Incubation) (Account) (Account)',\n",
       "       'Industry Vertical (Incubation) (Label) (Account) (Account)',\n",
       "       'Product (Eng) for www.hkstp.org (Account) (Account)',\n",
       "       'Product (S Chi) for www.hkstp.org (Account) (Account)',\n",
       "       'Product (T Chi) for www.hkstp.org (Account) (Account)',\n",
       "       'Product Development Status (Incubation) (Account) (Account)',\n",
       "       'Projects, Products and Services Summary (Account) (Account)',\n",
       "       'Projects, Products and Services Summary (S Chi) (Account) (Account)',\n",
       "       'Projects, Products and Services Summary (T Chi) (Account) (Account)',\n",
       "       'R&D Activities and Plan (Account) (Account)',\n",
       "       'Short description (Eng) for  www.hkstp.org (Account) (Account)'],\n",
       "      dtype='object')"
      ]
     },
     "execution_count": 11,
     "metadata": {},
     "output_type": "execute_result"
    }
   ],
   "source": []
  },
  {
   "cell_type": "code",
   "execution_count": 15,
   "id": "f6232d5c-cfe8-474d-a328-911902636c11",
   "metadata": {},
   "outputs": [
    {
     "data": {
      "text/html": [
       "<div>\n",
       "<style scoped>\n",
       "    .dataframe tbody tr th:only-of-type {\n",
       "        vertical-align: middle;\n",
       "    }\n",
       "\n",
       "    .dataframe tbody tr th {\n",
       "        vertical-align: top;\n",
       "    }\n",
       "\n",
       "    .dataframe thead th {\n",
       "        text-align: right;\n",
       "    }\n",
       "</style>\n",
       "<table border=\"1\" class=\"dataframe\">\n",
       "  <thead>\n",
       "    <tr style=\"text-align: right;\">\n",
       "      <th></th>\n",
       "      <th>(Do Not Modify) Program</th>\n",
       "      <th>(Do Not Modify) Row Checksum</th>\n",
       "      <th>(Do Not Modify) Modified On</th>\n",
       "      <th>Account</th>\n",
       "      <th>Program Name</th>\n",
       "      <th>Program Status</th>\n",
       "      <th>Account Name (CHI) (Account) (Account)</th>\n",
       "      <th>Account Name (ENG) (Account) (Account)</th>\n",
       "      <th>Business Description (Eng) (Account) (Account)</th>\n",
       "      <th>Business Name (CHI) (RFB Tenant) (Account) (Account)</th>\n",
       "      <th>...</th>\n",
       "      <th>Industry Vertical (Incubation) (Label) (Account) (Account)</th>\n",
       "      <th>Product (Eng) for www.hkstp.org (Account) (Account)</th>\n",
       "      <th>Product (S Chi) for www.hkstp.org (Account) (Account)</th>\n",
       "      <th>Product (T Chi) for www.hkstp.org (Account) (Account)</th>\n",
       "      <th>Product Development Status (Incubation) (Account) (Account)</th>\n",
       "      <th>Projects, Products and Services Summary (Account) (Account)</th>\n",
       "      <th>Projects, Products and Services Summary (S Chi) (Account) (Account)</th>\n",
       "      <th>Projects, Products and Services Summary (T Chi) (Account) (Account)</th>\n",
       "      <th>R&amp;D Activities and Plan (Account) (Account)</th>\n",
       "      <th>Short description (Eng) for  www.hkstp.org (Account) (Account)</th>\n",
       "    </tr>\n",
       "  </thead>\n",
       "  <tbody>\n",
       "    <tr>\n",
       "      <th>0</th>\n",
       "      <td>bb7a1288-f38c-ee11-be36-000d3a07e30c</td>\n",
       "      <td>ssivOUrCPGTyT7YsFX3tL11Kvld4XKhCDDpmXEVDeCLIOb...</td>\n",
       "      <td>2024-01-01 16:00:09</td>\n",
       "      <td>Achelous Pure Metal Company Limited</td>\n",
       "      <td>Acceleration</td>\n",
       "      <td>Current</td>\n",
       "      <td>澤浩高純金屬有限公司</td>\n",
       "      <td>Achelous Pure Metal Company Limited</td>\n",
       "      <td>NaN</td>\n",
       "      <td>NaN</td>\n",
       "      <td>...</td>\n",
       "      <td>Others - Manufacturing||Energy &amp; Environmental</td>\n",
       "      <td>Achelous works to develop elite circular econo...</td>\n",
       "      <td>1）江苏连云港污水处理工程。该系统是在泽浩的设计、监督和测试下构建的。正在讨论二期项目。\\n...</td>\n",
       "      <td>1）江蘇連雲港污水處理工程。該系統是在澤浩的設計、監督和測試下構建的。正在討論二期項目。\\n...</td>\n",
       "      <td>Early Growth</td>\n",
       "      <td>Achelous' mission is to enhance the environm...</td>\n",
       "      <td>NaN</td>\n",
       "      <td>NaN</td>\n",
       "      <td>Year 2024: \\nEstimated Budget: HK$1.36 millio...</td>\n",
       "      <td>NaN</td>\n",
       "    </tr>\n",
       "  </tbody>\n",
       "</table>\n",
       "<p>1 rows × 35 columns</p>\n",
       "</div>"
      ],
      "text/plain": [
       "                (Do Not Modify) Program  \\\n",
       "0  bb7a1288-f38c-ee11-be36-000d3a07e30c   \n",
       "\n",
       "                        (Do Not Modify) Row Checksum  \\\n",
       "0  ssivOUrCPGTyT7YsFX3tL11Kvld4XKhCDDpmXEVDeCLIOb...   \n",
       "\n",
       "  (Do Not Modify) Modified On                              Account  \\\n",
       "0         2024-01-01 16:00:09  Achelous Pure Metal Company Limited   \n",
       "\n",
       "   Program Name Program Status Account Name (CHI) (Account) (Account)  \\\n",
       "0  Acceleration        Current                             澤浩高純金屬有限公司   \n",
       "\n",
       "  Account Name (ENG) (Account) (Account)  \\\n",
       "0    Achelous Pure Metal Company Limited   \n",
       "\n",
       "  Business Description (Eng) (Account) (Account)  \\\n",
       "0                                            NaN   \n",
       "\n",
       "  Business Name (CHI) (RFB Tenant) (Account) (Account)  ...  \\\n",
       "0                                                NaN    ...   \n",
       "\n",
       "  Industry Vertical (Incubation) (Label) (Account) (Account)  \\\n",
       "0     Others - Manufacturing||Energy & Environmental           \n",
       "\n",
       "  Product (Eng) for www.hkstp.org (Account) (Account)  \\\n",
       "0  Achelous works to develop elite circular econo...    \n",
       "\n",
       "  Product (S Chi) for www.hkstp.org (Account) (Account)  \\\n",
       "0  1）江苏连云港污水处理工程。该系统是在泽浩的设计、监督和测试下构建的。正在讨论二期项目。\\n...      \n",
       "\n",
       "  Product (T Chi) for www.hkstp.org (Account) (Account)  \\\n",
       "0  1）江蘇連雲港污水處理工程。該系統是在澤浩的設計、監督和測試下構建的。正在討論二期項目。\\n...      \n",
       "\n",
       "  Product Development Status (Incubation) (Account) (Account)  \\\n",
       "0                                       Early Growth            \n",
       "\n",
       "  Projects, Products and Services Summary (Account) (Account)  \\\n",
       "0    Achelous' mission is to enhance the environm...            \n",
       "\n",
       "  Projects, Products and Services Summary (S Chi) (Account) (Account)  \\\n",
       "0                                                NaN                    \n",
       "\n",
       "  Projects, Products and Services Summary (T Chi) (Account) (Account)  \\\n",
       "0                                                NaN                    \n",
       "\n",
       "         R&D Activities and Plan (Account) (Account)  \\\n",
       "0   Year 2024: \\nEstimated Budget: HK$1.36 millio...   \n",
       "\n",
       "  Short description (Eng) for  www.hkstp.org (Account) (Account)  \n",
       "0                                                NaN              \n",
       "\n",
       "[1 rows x 35 columns]"
      ]
     },
     "execution_count": 15,
     "metadata": {},
     "output_type": "execute_result"
    }
   ],
   "source": [
    "df.head(1)"
   ]
  },
  {
   "cell_type": "code",
   "execution_count": 16,
   "id": "db1ff2dc-19f6-4352-be65-df18020116c1",
   "metadata": {},
   "outputs": [],
   "source": [
    "df_hkstp = pd.read_csv(\"hkstp_company_directory.csv\")"
   ]
  },
  {
   "cell_type": "code",
   "execution_count": null,
   "id": "5da304a5-4b36-4bc1-a924-b2207e225dbb",
   "metadata": {},
   "outputs": [],
   "source": [
    "df_hkstp"
   ]
  },
  {
   "cell_type": "code",
   "execution_count": 7,
   "id": "b07628f7-84f9-4c7d-bd59-c8e55534ddd8",
   "metadata": {},
   "outputs": [],
   "source": [
    "loader = CSVLoader(file_path='hkstp_company_directory.csv', source_column=\"name_EN\")\n",
    "data = loader.load()"
   ]
  },
  {
   "cell_type": "code",
   "execution_count": 8,
   "id": "43033918-d3d6-4920-8aa2-c0d76a33969c",
   "metadata": {},
   "outputs": [],
   "source": [
    "from langchain.text_splitter import RecursiveCharacterTextSplitter\n",
    "text_splitter = RecursiveCharacterTextSplitter(chunk_size = 200000, chunk_overlap = 0)\n",
    "all_splits = text_splitter.split_documents(data)"
   ]
  },
  {
   "cell_type": "code",
   "execution_count": 9,
   "id": "e05d4859",
   "metadata": {},
   "outputs": [],
   "source": [
    "from langchain.document_loaders import TextLoader\n",
    "from langchain.embeddings.openai import OpenAIEmbeddings\n",
    "from langchain.text_splitter import CharacterTextSplitter\n",
    "from langchain.vectorstores import FAISS"
   ]
  },
  {
   "cell_type": "code",
   "execution_count": 10,
   "id": "dee97b54-760f-4268-b45a-93c189270924",
   "metadata": {},
   "outputs": [],
   "source": [
    "from langchain.vectorstores import FAISS"
   ]
  },
  {
   "cell_type": "code",
   "execution_count": 11,
   "id": "a8f4f5e8-928f-4b72-8acc-f3d808ffcbb2",
   "metadata": {},
   "outputs": [],
   "source": [
    "db = FAISS.from_documents(all_splits, OpenAIEmbeddings())"
   ]
  },
  {
   "cell_type": "code",
   "execution_count": 18,
   "id": "9eff5991-190a-4280-b8bd-6969594dd2ab",
   "metadata": {},
   "outputs": [],
   "source": [
    "db.save_local(\"index_hkstp_new\")"
   ]
  },
  {
   "cell_type": "code",
   "execution_count": null,
   "id": "9e66b97b-b3f0-4c7f-ba46-6ba9c8c6d6b6",
   "metadata": {},
   "outputs": [],
   "source": []
  },
  {
   "cell_type": "code",
   "execution_count": null,
   "id": "1dc7d6b1-5850-41f0-961e-b30caadb983f",
   "metadata": {},
   "outputs": [],
   "source": []
  },
  {
   "cell_type": "code",
   "execution_count": null,
   "id": "3de9e2ad-4bd5-4d13-9c0a-3169f9f2e457",
   "metadata": {},
   "outputs": [],
   "source": []
  },
  {
   "cell_type": "code",
   "execution_count": null,
   "id": "b84a3187-9f8b-444c-940e-3872dc47d8b9",
   "metadata": {},
   "outputs": [],
   "source": [
    "db = FAISS.from_documents(all_splits[400:475], OpenAIEmbeddings())"
   ]
  },
  {
   "cell_type": "code",
   "execution_count": null,
   "id": "6ad9f06c-2bb1-4cf6-938b-2c75eb22fb12",
   "metadata": {},
   "outputs": [],
   "source": [
    "db.save_local(\"index_solutions\")"
   ]
  },
  {
   "cell_type": "code",
   "execution_count": null,
   "id": "3875c7d9-cf47-4c4c-ae91-dacd0ff1fa75",
   "metadata": {},
   "outputs": [],
   "source": []
  },
  {
   "cell_type": "code",
   "execution_count": 34,
   "id": "028cf870",
   "metadata": {},
   "outputs": [],
   "source": [
    "loader = CSVLoader(file_path='./hkstp_company_directory_web.csv', source_column=\"Title\")\n",
    "data = loader.load()"
   ]
  },
  {
   "cell_type": "code",
   "execution_count": 25,
   "id": "1ee973f0",
   "metadata": {},
   "outputs": [],
   "source": [
    "from langchain.text_splitter import RecursiveCharacterTextSplitter\n",
    "text_splitter = RecursiveCharacterTextSplitter(chunk_size = 20000, chunk_overlap = 0)\n",
    "all_splits = text_splitter.split_documents(data)"
   ]
  },
  {
   "cell_type": "code",
   "execution_count": 18,
   "id": "c4c452db",
   "metadata": {},
   "outputs": [
    {
     "ename": "NameError",
     "evalue": "name 'db' is not defined",
     "output_type": "error",
     "traceback": [
      "\u001b[0;31m---------------------------------------------------------------------------\u001b[0m",
      "\u001b[0;31mNameError\u001b[0m                                 Traceback (most recent call last)",
      "Cell \u001b[0;32mIn[18], line 1\u001b[0m\n\u001b[0;32m----> 1\u001b[0m db\u001b[38;5;241m.\u001b[39msave_local(\u001b[38;5;124m\"\u001b[39m\u001b[38;5;124mindex_hkstp_new\u001b[39m\u001b[38;5;124m\"\u001b[39m)\n",
      "\u001b[0;31mNameError\u001b[0m: name 'db' is not defined"
     ]
    }
   ],
   "source": [
    "db.save_local(\"index_hkstp_new\")"
   ]
  },
  {
   "cell_type": "code",
   "execution_count": 120,
   "id": "5e2bbf52",
   "metadata": {},
   "outputs": [
    {
     "data": {
      "text/plain": [
       "Index(['Unnamed: 0', 'ID', 'cluster', 'cluster_TC', 'cluster_SC', 'telephone',\n",
       "       'fax', 'email', 'website', 'name_EN', 'address_EN', 'contact_EN',\n",
       "       'introduction_EN', 'product_EN', 'name_TC', 'introduction_TC',\n",
       "       'product_TC', 'name_SC', 'address_SC', 'contact_SC', 'introduction_SC',\n",
       "       'product_SC', 'Primary Category', 'Subcategory'],\n",
       "      dtype='object')"
      ]
     },
     "execution_count": 120,
     "metadata": {},
     "output_type": "execute_result"
    }
   ],
   "source": [
    "df.columns"
   ]
  },
  {
   "cell_type": "code",
   "execution_count": 121,
   "id": "4d4c303a",
   "metadata": {},
   "outputs": [
    {
     "data": {
      "text/html": [
       "<div>\n",
       "<style scoped>\n",
       "    .dataframe tbody tr th:only-of-type {\n",
       "        vertical-align: middle;\n",
       "    }\n",
       "\n",
       "    .dataframe tbody tr th {\n",
       "        vertical-align: top;\n",
       "    }\n",
       "\n",
       "    .dataframe thead th {\n",
       "        text-align: right;\n",
       "    }\n",
       "</style>\n",
       "<table border=\"1\" class=\"dataframe\">\n",
       "  <thead>\n",
       "    <tr style=\"text-align: right;\">\n",
       "      <th></th>\n",
       "      <th>INVESTOR</th>\n",
       "      <th>英文名称</th>\n",
       "      <th>管理规模(记录币种)</th>\n",
       "      <th>管理规模(记录金额)</th>\n",
       "      <th>管理规模区间(已换算汇率)</th>\n",
       "      <th>品牌介绍</th>\n",
       "      <th>机构官网</th>\n",
       "      <th>资金币种</th>\n",
       "      <th>成立时间</th>\n",
       "      <th>机构人数</th>\n",
       "      <th>主要投资领域</th>\n",
       "      <th>基金管理人数</th>\n",
       "      <th>管理基金数</th>\n",
       "      <th>累计投资企业数</th>\n",
       "      <th>近三个月投资总数</th>\n",
       "    </tr>\n",
       "  </thead>\n",
       "  <tbody>\n",
       "    <tr>\n",
       "      <th>0</th>\n",
       "      <td>深创投</td>\n",
       "      <td>SZVC</td>\n",
       "      <td>CNY</td>\n",
       "      <td>4.314000e+11</td>\n",
       "      <td>￥1000亿~￥1万亿</td>\n",
       "      <td>深创投1999年由深圳市政府出资并引导社会资本出资设立，公司以发现并成就伟大企业为使命，致力...</td>\n",
       "      <td>http://www.szvc.com.cn/main/index/index.shtml</td>\n",
       "      <td>人民币</td>\n",
       "      <td>1999-08-25</td>\n",
       "      <td>349人</td>\n",
       "      <td>企业服务、通用类企业服务、生产制造</td>\n",
       "      <td>60</td>\n",
       "      <td>174支</td>\n",
       "      <td>1811</td>\n",
       "      <td>11</td>\n",
       "    </tr>\n",
       "    <tr>\n",
       "      <th>1</th>\n",
       "      <td>红杉中国</td>\n",
       "      <td>HongShan</td>\n",
       "      <td>CNY</td>\n",
       "      <td>5.000000e+10</td>\n",
       "      <td>￥100亿~￥500亿</td>\n",
       "      <td>红杉中国专注于科技/传媒、医疗健康、消费品/服务、工业科技四个方向的投资机遇。十二年来，红杉...</td>\n",
       "      <td>http://www.sequoiacap.cn</td>\n",
       "      <td>人民币</td>\n",
       "      <td>2005-09-01</td>\n",
       "      <td>-</td>\n",
       "      <td>企业服务、通用类企业服务、医疗健康、新一代信息技术、人工智能</td>\n",
       "      <td>3</td>\n",
       "      <td>155支</td>\n",
       "      <td>1784</td>\n",
       "      <td>11</td>\n",
       "    </tr>\n",
       "    <tr>\n",
       "      <th>2</th>\n",
       "      <td>YC</td>\n",
       "      <td>YC</td>\n",
       "      <td>NaN</td>\n",
       "      <td>NaN</td>\n",
       "      <td>-</td>\n",
       "      <td>YC成立于2005年4月，是一家位于美国全球领先的孵化机构，扶持初创企业并为其提供创业指南。...</td>\n",
       "      <td>http://www.ycombinator.com</td>\n",
       "      <td>-</td>\n",
       "      <td>2005-03-01</td>\n",
       "      <td>-</td>\n",
       "      <td>金融、企业服务、通用类企业服务、IT服务、新一代信息技术、人工智能、软件和信息技术、软件产业</td>\n",
       "      <td>-</td>\n",
       "      <td>-</td>\n",
       "      <td>1738</td>\n",
       "      <td>31</td>\n",
       "    </tr>\n",
       "    <tr>\n",
       "      <th>3</th>\n",
       "      <td>腾讯投资</td>\n",
       "      <td>Tencent Investment</td>\n",
       "      <td>NaN</td>\n",
       "      <td>NaN</td>\n",
       "      <td>-</td>\n",
       "      <td>腾讯投资成立于2008年，是腾讯集团的投资部门与核心战略部门之一，主导集团投资相关业务。长期...</td>\n",
       "      <td>https://da.qq.com/index.shtml</td>\n",
       "      <td>-</td>\n",
       "      <td>2008-01-01</td>\n",
       "      <td>6人</td>\n",
       "      <td>企业服务、通用类企业服务、文体行业、游戏、新一代信息技术</td>\n",
       "      <td>1</td>\n",
       "      <td>3支</td>\n",
       "      <td>1652</td>\n",
       "      <td>17</td>\n",
       "    </tr>\n",
       "    <tr>\n",
       "      <th>4</th>\n",
       "      <td>IDG资本</td>\n",
       "      <td>IDG Capital Partners</td>\n",
       "      <td>USD</td>\n",
       "      <td>2.000000e+10</td>\n",
       "      <td>￥1000亿~￥1万亿</td>\n",
       "      <td>IDG资本于1992年开始在中国进行风险投资。IDG资本重点关注互联网、移动互联网、文化娱乐...</td>\n",
       "      <td>http://www.idgvc.com</td>\n",
       "      <td>美元</td>\n",
       "      <td>1992-01-01</td>\n",
       "      <td>110人</td>\n",
       "      <td>电子商务、企业服务、通用类企业服务、新一代信息技术、消费生活</td>\n",
       "      <td>12</td>\n",
       "      <td>144支</td>\n",
       "      <td>1583</td>\n",
       "      <td>5</td>\n",
       "    </tr>\n",
       "    <tr>\n",
       "      <th>...</th>\n",
       "      <td>...</td>\n",
       "      <td>...</td>\n",
       "      <td>...</td>\n",
       "      <td>...</td>\n",
       "      <td>...</td>\n",
       "      <td>...</td>\n",
       "      <td>...</td>\n",
       "      <td>...</td>\n",
       "      <td>...</td>\n",
       "      <td>...</td>\n",
       "      <td>...</td>\n",
       "      <td>...</td>\n",
       "      <td>...</td>\n",
       "      <td>...</td>\n",
       "      <td>...</td>\n",
       "    </tr>\n",
       "    <tr>\n",
       "      <th>9995</th>\n",
       "      <td>Friále</td>\n",
       "      <td>-</td>\n",
       "      <td>NaN</td>\n",
       "      <td>NaN</td>\n",
       "      <td>-</td>\n",
       "      <td>Friále投资于世界各地正在做大事的初创企业。</td>\n",
       "      <td>-</td>\n",
       "      <td>-</td>\n",
       "      <td>2000-01-01</td>\n",
       "      <td>-</td>\n",
       "      <td>金融、企业服务、通用类企业服务、农业技术、农业相关服务、生物肥料、新一代信息技术、SaaS、...</td>\n",
       "      <td>-</td>\n",
       "      <td>-</td>\n",
       "      <td>8</td>\n",
       "      <td>-</td>\n",
       "    </tr>\n",
       "    <tr>\n",
       "      <th>9996</th>\n",
       "      <td>腾晋投资基金</td>\n",
       "      <td>-</td>\n",
       "      <td>NaN</td>\n",
       "      <td>NaN</td>\n",
       "      <td>-</td>\n",
       "      <td>腾晋投资一家由具有全球化视野和资深产业背景的投资管理团队发起，专注宏观背景下智能制造、新一代...</td>\n",
       "      <td>http://www.tjjjvc.com/</td>\n",
       "      <td>-</td>\n",
       "      <td>2016-01-08</td>\n",
       "      <td>-</td>\n",
       "      <td>电子信息产业、光电、电子元件、元器件、芯片、电子设备</td>\n",
       "      <td>1</td>\n",
       "      <td>7支</td>\n",
       "      <td>8</td>\n",
       "      <td>-</td>\n",
       "    </tr>\n",
       "    <tr>\n",
       "      <th>9997</th>\n",
       "      <td>Nextgen Ventures</td>\n",
       "      <td>Nextgen Ventures</td>\n",
       "      <td>NaN</td>\n",
       "      <td>NaN</td>\n",
       "      <td>-</td>\n",
       "      <td>Nextgen Ventures是一家股权投资机构。</td>\n",
       "      <td>https://nextgenventures.nl/</td>\n",
       "      <td>-</td>\n",
       "      <td>2013-10-01</td>\n",
       "      <td>-</td>\n",
       "      <td>医疗健康、医疗技术、医疗服务、新一代信息技术、云计算、大数据、软件和信息技术、软件产业、软件工具</td>\n",
       "      <td>-</td>\n",
       "      <td>-</td>\n",
       "      <td>8</td>\n",
       "      <td>-</td>\n",
       "    </tr>\n",
       "    <tr>\n",
       "      <th>9998</th>\n",
       "      <td>Decheng Capital</td>\n",
       "      <td>-</td>\n",
       "      <td>NaN</td>\n",
       "      <td>NaN</td>\n",
       "      <td>-</td>\n",
       "      <td>德成资本是一家领先的投资公司，为拥有革命性技术和成长阶段医疗保健公司的早期生命科学公司提供资...</td>\n",
       "      <td>https://www.decheng.com/</td>\n",
       "      <td>-</td>\n",
       "      <td>2000-01-01</td>\n",
       "      <td>-</td>\n",
       "      <td>医药服务、化工、化工制品、生化试剂、医疗健康、医疗器械、医疗技术、医疗服务、诊断试剂、医药</td>\n",
       "      <td>-</td>\n",
       "      <td>-</td>\n",
       "      <td>8</td>\n",
       "      <td>-</td>\n",
       "    </tr>\n",
       "    <tr>\n",
       "      <th>9999</th>\n",
       "      <td>Apollo Projects</td>\n",
       "      <td>-</td>\n",
       "      <td>NaN</td>\n",
       "      <td>NaN</td>\n",
       "      <td>-</td>\n",
       "      <td>Apollo Projects是由奥特曼兄弟管理的早期投资基金。</td>\n",
       "      <td>-</td>\n",
       "      <td>-</td>\n",
       "      <td>2021-07-11</td>\n",
       "      <td>-</td>\n",
       "      <td>数字货币、基因工程技术、细胞基因工程、办公自动化、医疗健康、医疗技术、新一代信息技术、人工智能</td>\n",
       "      <td>-</td>\n",
       "      <td>-</td>\n",
       "      <td>8</td>\n",
       "      <td>1</td>\n",
       "    </tr>\n",
       "  </tbody>\n",
       "</table>\n",
       "<p>10000 rows × 15 columns</p>\n",
       "</div>"
      ],
      "text/plain": [
       "              INVESTOR                  英文名称 管理规模(记录币种)    管理规模(记录金额)  \\\n",
       "0                  深创投                  SZVC        CNY  4.314000e+11   \n",
       "1                 红杉中国              HongShan        CNY  5.000000e+10   \n",
       "2                   YC                    YC        NaN           NaN   \n",
       "3                 腾讯投资    Tencent Investment        NaN           NaN   \n",
       "4                IDG资本  IDG Capital Partners        USD  2.000000e+10   \n",
       "...                ...                   ...        ...           ...   \n",
       "9995            Friále                     -        NaN           NaN   \n",
       "9996            腾晋投资基金                     -        NaN           NaN   \n",
       "9997  Nextgen Ventures      Nextgen Ventures        NaN           NaN   \n",
       "9998   Decheng Capital                     -        NaN           NaN   \n",
       "9999   Apollo Projects                     -        NaN           NaN   \n",
       "\n",
       "     管理规模区间(已换算汇率)                                               品牌介绍  \\\n",
       "0      ￥1000亿~￥1万亿  深创投1999年由深圳市政府出资并引导社会资本出资设立，公司以发现并成就伟大企业为使命，致力...   \n",
       "1      ￥100亿~￥500亿  红杉中国专注于科技/传媒、医疗健康、消费品/服务、工业科技四个方向的投资机遇。十二年来，红杉...   \n",
       "2                -  YC成立于2005年4月，是一家位于美国全球领先的孵化机构，扶持初创企业并为其提供创业指南。...   \n",
       "3                -  腾讯投资成立于2008年，是腾讯集团的投资部门与核心战略部门之一，主导集团投资相关业务。长期...   \n",
       "4      ￥1000亿~￥1万亿  IDG资本于1992年开始在中国进行风险投资。IDG资本重点关注互联网、移动互联网、文化娱乐...   \n",
       "...            ...                                                ...   \n",
       "9995             -                           Friále投资于世界各地正在做大事的初创企业。   \n",
       "9996             -  腾晋投资一家由具有全球化视野和资深产业背景的投资管理团队发起，专注宏观背景下智能制造、新一代...   \n",
       "9997             -                         Nextgen Ventures是一家股权投资机构。   \n",
       "9998             -  德成资本是一家领先的投资公司，为拥有革命性技术和成长阶段医疗保健公司的早期生命科学公司提供资...   \n",
       "9999             -                   Apollo Projects是由奥特曼兄弟管理的早期投资基金。   \n",
       "\n",
       "                                               机构官网 资金币种        成立时间  机构人数  \\\n",
       "0     http://www.szvc.com.cn/main/index/index.shtml  人民币  1999-08-25  349人   \n",
       "1                          http://www.sequoiacap.cn  人民币  2005-09-01     -   \n",
       "2                        http://www.ycombinator.com    -  2005-03-01     -   \n",
       "3                     https://da.qq.com/index.shtml    -  2008-01-01    6人   \n",
       "4                              http://www.idgvc.com   美元  1992-01-01  110人   \n",
       "...                                             ...  ...         ...   ...   \n",
       "9995                                              -    -  2000-01-01     -   \n",
       "9996                         http://www.tjjjvc.com/    -  2016-01-08     -   \n",
       "9997                    https://nextgenventures.nl/    -  2013-10-01     -   \n",
       "9998                       https://www.decheng.com/    -  2000-01-01     -   \n",
       "9999                                              -    -  2021-07-11     -   \n",
       "\n",
       "                                                 主要投资领域 基金管理人数 管理基金数  累计投资企业数  \\\n",
       "0                                     企业服务、通用类企业服务、生产制造     60  174支     1811   \n",
       "1                        企业服务、通用类企业服务、医疗健康、新一代信息技术、人工智能      3  155支     1784   \n",
       "2        金融、企业服务、通用类企业服务、IT服务、新一代信息技术、人工智能、软件和信息技术、软件产业      -     -     1738   \n",
       "3                          企业服务、通用类企业服务、文体行业、游戏、新一代信息技术      1    3支     1652   \n",
       "4                        电子商务、企业服务、通用类企业服务、新一代信息技术、消费生活     12  144支     1583   \n",
       "...                                                 ...    ...   ...      ...   \n",
       "9995  金融、企业服务、通用类企业服务、农业技术、农业相关服务、生物肥料、新一代信息技术、SaaS、...      -     -        8   \n",
       "9996                         电子信息产业、光电、电子元件、元器件、芯片、电子设备      1    7支        8   \n",
       "9997   医疗健康、医疗技术、医疗服务、新一代信息技术、云计算、大数据、软件和信息技术、软件产业、软件工具      -     -        8   \n",
       "9998      医药服务、化工、化工制品、生化试剂、医疗健康、医疗器械、医疗技术、医疗服务、诊断试剂、医药      -     -        8   \n",
       "9999    数字货币、基因工程技术、细胞基因工程、办公自动化、医疗健康、医疗技术、新一代信息技术、人工智能      -     -        8   \n",
       "\n",
       "     近三个月投资总数  \n",
       "0          11  \n",
       "1          11  \n",
       "2          31  \n",
       "3          17  \n",
       "4           5  \n",
       "...       ...  \n",
       "9995        -  \n",
       "9996        -  \n",
       "9997        -  \n",
       "9998        -  \n",
       "9999        1  \n",
       "\n",
       "[10000 rows x 15 columns]"
      ]
     },
     "execution_count": 121,
     "metadata": {},
     "output_type": "execute_result"
    }
   ],
   "source": [
    "df2"
   ]
  },
  {
   "cell_type": "code",
   "execution_count": 85,
   "id": "6d9fb061",
   "metadata": {},
   "outputs": [],
   "source": [
    "df2 = pd.read_csv(\"VC_PE_20231027_093710.csv\")"
   ]
  },
  {
   "cell_type": "code",
   "execution_count": 86,
   "id": "d97b820a",
   "metadata": {},
   "outputs": [],
   "source": [
    "df2.to_csv(\"investor.csv\")"
   ]
  },
  {
   "cell_type": "code",
   "execution_count": 87,
   "id": "1a3dcda5",
   "metadata": {},
   "outputs": [],
   "source": [
    "loader = CSVLoader(file_path='investor.csv', source_column='INVESTOR')\n",
    "data2 = loader.load()"
   ]
  },
  {
   "cell_type": "code",
   "execution_count": 88,
   "id": "e0dd7d1b",
   "metadata": {},
   "outputs": [],
   "source": [
    "from langchain.text_splitter import RecursiveCharacterTextSplitter\n",
    "text_splitter = RecursiveCharacterTextSplitter(chunk_size = 20000, chunk_overlap = 0)\n",
    "all_splits2 = text_splitter.split_documents(data2)"
   ]
  },
  {
   "cell_type": "code",
   "execution_count": 92,
   "id": "cf8cfa06",
   "metadata": {},
   "outputs": [],
   "source": [
    "db_investor = FAISS.from_documents(all_splits2, OpenAIEmbeddings())"
   ]
  },
  {
   "cell_type": "code",
   "execution_count": 94,
   "id": "c095bc30",
   "metadata": {},
   "outputs": [],
   "source": [
    "db_investor.save_local(\"index_funds\")"
   ]
  },
  {
   "cell_type": "code",
   "execution_count": null,
   "id": "bfb26d48",
   "metadata": {},
   "outputs": [],
   "source": []
  },
  {
   "cell_type": "code",
   "execution_count": 95,
   "id": "16cf4bc1",
   "metadata": {},
   "outputs": [],
   "source": [
    "df3 = pd.read_csv(\"hkstp_company_directory_FINAL_2.csv\")"
   ]
  },
  {
   "cell_type": "code",
   "execution_count": 99,
   "id": "88bfe0fa",
   "metadata": {},
   "outputs": [],
   "source": [
    "df3.to_csv(\"hkstp_company_directory_FINAL_3.csv\")"
   ]
  },
  {
   "cell_type": "code",
   "execution_count": 109,
   "id": "e40725b2",
   "metadata": {},
   "outputs": [],
   "source": [
    "loader = CSVLoader(file_path='hkstp_company_directory_FINAL_3.csv', source_column='name_EN')"
   ]
  },
  {
   "cell_type": "code",
   "execution_count": 110,
   "id": "60bc0b76",
   "metadata": {},
   "outputs": [
    {
     "data": {
      "text/plain": [
       "<langchain.document_loaders.csv_loader.CSVLoader at 0x7fca21c1be20>"
      ]
     },
     "execution_count": 110,
     "metadata": {},
     "output_type": "execute_result"
    }
   ],
   "source": [
    "loader"
   ]
  },
  {
   "cell_type": "code",
   "execution_count": 111,
   "id": "5ef42c24",
   "metadata": {},
   "outputs": [],
   "source": [
    "data3 = loader.load()"
   ]
  },
  {
   "cell_type": "code",
   "execution_count": 112,
   "id": "b2e3d30b",
   "metadata": {},
   "outputs": [],
   "source": [
    "from langchain.text_splitter import RecursiveCharacterTextSplitter\n",
    "text_splitter = RecursiveCharacterTextSplitter(chunk_size = 20000, chunk_overlap = 0)\n",
    "all_splits3 = text_splitter.split_documents(data3)"
   ]
  },
  {
   "cell_type": "code",
   "execution_count": 113,
   "id": "453a02c8",
   "metadata": {},
   "outputs": [
    {
     "data": {
      "text/plain": [
       "1329"
      ]
     },
     "execution_count": 113,
     "metadata": {},
     "output_type": "execute_result"
    }
   ],
   "source": [
    "len(all_splits3)"
   ]
  },
  {
   "cell_type": "code",
   "execution_count": 114,
   "id": "63b2c85d",
   "metadata": {},
   "outputs": [],
   "source": [
    "db_company = FAISS.from_documents(all_splits3, OpenAIEmbeddings())"
   ]
  },
  {
   "cell_type": "code",
   "execution_count": 115,
   "id": "3c9279a5",
   "metadata": {},
   "outputs": [],
   "source": [
    "db_company.save_local(\"index_company\")"
   ]
  },
  {
   "cell_type": "code",
   "execution_count": null,
   "id": "da1e7ec1",
   "metadata": {},
   "outputs": [],
   "source": []
  },
  {
   "cell_type": "code",
   "execution_count": null,
   "id": "fea52177",
   "metadata": {},
   "outputs": [],
   "source": []
  },
  {
   "cell_type": "code",
   "execution_count": 226,
   "id": "57758fa6",
   "metadata": {},
   "outputs": [],
   "source": [
    "from langchain.text_splitter import RecursiveCharacterTextSplitter\n",
    "\n",
    "text_splitter = RecursiveCharacterTextSplitter(chunk_size = 15000, chunk_overlap = 0)\n",
    "all_splits = text_splitter.split_documents(data)"
   ]
  },
  {
   "cell_type": "code",
   "execution_count": 227,
   "id": "341e3459",
   "metadata": {},
   "outputs": [],
   "source": [
    "all_splits = data"
   ]
  },
  {
   "cell_type": "code",
   "execution_count": 13,
   "id": "c58027ec",
   "metadata": {},
   "outputs": [
    {
     "data": {
      "text/plain": [
       "476"
      ]
     },
     "execution_count": 13,
     "metadata": {},
     "output_type": "execute_result"
    }
   ],
   "source": [
    "len(all_splits)"
   ]
  },
  {
   "cell_type": "code",
   "execution_count": 14,
   "id": "76766ba0",
   "metadata": {},
   "outputs": [],
   "source": [
    "from langchain.document_loaders import TextLoader\n",
    "from langchain.embeddings.openai import OpenAIEmbeddings\n",
    "from langchain.text_splitter import CharacterTextSplitter\n",
    "from langchain.vectorstores import FAISS"
   ]
  },
  {
   "cell_type": "code",
   "execution_count": null,
   "id": "4fc467cc",
   "metadata": {},
   "outputs": [],
   "source": []
  },
  {
   "cell_type": "code",
   "execution_count": 230,
   "id": "2728c05e",
   "metadata": {},
   "outputs": [
    {
     "data": {
      "text/plain": [
       "4"
      ]
     },
     "execution_count": 230,
     "metadata": {},
     "output_type": "execute_result"
    }
   ],
   "source": [
    "question = \"金融相关的公司\"\n",
    "docs = vectorstore.similarity_search(question)\n",
    "len(docs)"
   ]
  },
  {
   "cell_type": "code",
   "execution_count": null,
   "id": "ec670fde",
   "metadata": {},
   "outputs": [],
   "source": []
  },
  {
   "cell_type": "code",
   "execution_count": null,
   "id": "c510a9c0",
   "metadata": {},
   "outputs": [],
   "source": []
  },
  {
   "cell_type": "code",
   "execution_count": null,
   "id": "b726b2e3",
   "metadata": {},
   "outputs": [],
   "source": []
  },
  {
   "cell_type": "code",
   "execution_count": null,
   "id": "57fde4aa",
   "metadata": {},
   "outputs": [],
   "source": []
  },
  {
   "cell_type": "code",
   "execution_count": null,
   "id": "8223aad4",
   "metadata": {},
   "outputs": [],
   "source": []
  },
  {
   "cell_type": "code",
   "execution_count": 233,
   "id": "32166e4b",
   "metadata": {},
   "outputs": [],
   "source": [
    "from langchain.vectorstores import FAISS"
   ]
  },
  {
   "cell_type": "code",
   "execution_count": 234,
   "id": "3f921891",
   "metadata": {},
   "outputs": [],
   "source": [
    "embedding = OpenAIEmbeddings()"
   ]
  },
  {
   "cell_type": "code",
   "execution_count": 235,
   "id": "bf15f82a",
   "metadata": {},
   "outputs": [
    {
     "data": {
      "text/plain": [
       "1297"
      ]
     },
     "execution_count": 235,
     "metadata": {},
     "output_type": "execute_result"
    }
   ],
   "source": [
    "len(all_splits)"
   ]
  },
  {
   "cell_type": "code",
   "execution_count": 236,
   "id": "302d3e60",
   "metadata": {},
   "outputs": [],
   "source": [
    "from langchain.document_loaders import TextLoader\n",
    "from langchain.embeddings.openai import OpenAIEmbeddings\n",
    "from langchain.text_splitter import CharacterTextSplitter\n",
    "from langchain.vectorstores import FAISS"
   ]
  },
  {
   "cell_type": "code",
   "execution_count": 237,
   "id": "4766224e",
   "metadata": {},
   "outputs": [
    {
     "name": "stderr",
     "output_type": "stream",
     "text": [
      "Retrying langchain.embeddings.openai.embed_with_retry.<locals>._embed_with_retry in 4.0 seconds as it raised RateLimitError: Rate limit reached for default-text-embedding-ada-002 in organization org-gQjObb0VMvJA0HYqcM5kOi8S on tokens per min. Limit: 1000000 / min. Current: 262635 / min. Contact us through our help center at help.openai.com if you continue to have issues..\n"
     ]
    }
   ],
   "source": [
    "db = FAISS.from_documents(all_splits, OpenAIEmbeddings())"
   ]
  },
  {
   "cell_type": "code",
   "execution_count": 58,
   "id": "0c30e4ae",
   "metadata": {},
   "outputs": [],
   "source": [
    "db.save_local(\"fais_index_solutions\")"
   ]
  },
  {
   "cell_type": "code",
   "execution_count": 59,
   "id": "43512117",
   "metadata": {},
   "outputs": [],
   "source": [
    "new_db = FAISS.load_local(\"faiss_index_solutions\", OpenAIEmbeddings())"
   ]
  },
  {
   "cell_type": "code",
   "execution_count": 60,
   "id": "04bd131d",
   "metadata": {},
   "outputs": [],
   "source": [
    "query = \"锂电池相关的公司\""
   ]
  },
  {
   "cell_type": "code",
   "execution_count": 61,
   "id": "aecdc926",
   "metadata": {},
   "outputs": [],
   "source": [
    "docs = new_db.similarity_search(query)"
   ]
  },
  {
   "cell_type": "code",
   "execution_count": 62,
   "id": "b87c95e4",
   "metadata": {},
   "outputs": [
    {
     "data": {
      "text/plain": [
       "[Document(page_content=': 202\\nIndex: 7\\nInstitute: cityu\\nTitle: 水系电池长续航电解质\\nLink: https://www.innovationhub.hk/zh-cn/article/solid-state-rechargeable-znnico-and-zn-air-batteries-with-ultra-long-lifetime-and-high-capacity\\nweb_content: ****\\n\\n:::\\n\\n  * 关于我们\\n  * 科研机构\\n  * 香港科技\\n  * 联络我们\\n\\n  * A A A\\n\\n  * 繁 EN 简\\n\\n  * :::主页\\n  * 香港科技\\n  * 水系电池长续航电解质\\n\\n# 水系电池长续航电解质\\n\\nlogo-coloured-2019\\n\\n简介\\n\\n香港城市大学开发了一种聚电解质，使水性锌电池具有超长的使用寿命。开发的电池可用于各种储能系统，提供一种低成本的选择和卓越的安全性能。\\n\\n  * \\n\\n完成研究日期\\n\\n2018\\n\\n商品化机会\\n\\n投资\\n\\n解决方案\\n\\n水性电解质电池为储能系统提供了终极安全性，但它们的循环稳定性较差。我们的聚电解质提供比最先进的同类产品高一个数量级的循环稳定性，以及半固态 Zn//NiCo\\n和 Zn-空气电池的高容量。\\n\\n创新技术\\n\\n  * 聚电解质固有的高离子电导率和保水能力\\n  * 丙烯酸酯离子促进准固体电解质界面的形成以消除锌枝晶\\n\\n主要成效\\n\\n  * 高度安全，无毒无害且无燃烧、爆炸风险。\\n  * 具有非凡循环稳定性的水系电池\\n  * 低成本器件\\n\\n应用范畴\\n\\n  * 高安全储能场景\\n\\n### 专利申请\\n\\n  * 美国专利：US 11,177,504 B2\\n\\n__\\n\\n网站\\n\\n__\\n\\n下载\\n\\n香港城市大学\\n\\n香港城市大学（城大）在过去十年是全球发展最迅速的大学之一，被誉为研究及专业教育的创新枢纽。城大在现有研究范畴的内与外，致力扩阔知识领域，为全球的重大挑战寻找解决方案。\\n\\n城大拥有来自全球各地的世界级研究团队，不但为教学课程带来丰富的专业经验，亦推动了知识和科技的发展。城大的世界级教学设施、国家重点实验室、国家工程技术研究中心以及多个大学级别的研究中心，让研究人员可持续进行高水平的研究工作。最近城大与全球知名学者及研究机构合作，设立了三间研究实力达世界级水平的InnoHK研究中心，促进健康工程、数据分析及人工智能发展。此外，城大以创新方法融合科学与艺术，创造新颖的展示方式。\\n\\n__\\n\\n查询\\n\\n相关 创新技术\\n\\n  * 无电制冷技术\\n\\n  * 柔性织物锂电池\\n\\n  * 建筑全生命周期智能优化诊断技术\\n\\n  * 超强超柔的可穿戴储能设备\\n\\n  * 大型原子系统的卓越人工智能建模\\n\\n  * 无定形钯基纳米催化剂的合成与应用\\n\\n  * 设有纳米多孔锌电极的可充电电池\\n\\n  * 柔性透明电极\\n\\n  * 高功率雾水发电机\\n\\n  * 全方位多频海浪能量转换器\\n\\n  * 电池健康和寿命诊断医生\\n\\n  * 安全、可规模化及低成本的储能系统\\n\\n  * 全液体摩擦纳米发电机\\n\\n  * 智能V2H 电力供应系统\\n\\n  * AI+量子化学计算的新材料发现平台\\n\\n  * 用于制氢的太阳能驱动电催化系统\\n\\n  * 自动关断防爆锂离子储能装置\\n\\n  * 固态电池\\n\\n  * 零能耗光伏冷却器及水收集器\\n\\n  * 超高安全水系电池\\n\\n  * 电转水电池\\n\\n  * 用于建筑物外墙的节能制冷陶瓷\\n\\n  * 提升海洋生物多样性的生态砖块\\n\\n  * 氢燃料电池催化剂\\n\\n  * 高耐蚀性高锰奥氏体不锈钢及其在电解水制氢中的应用\\n\\n  * 高衰减宽频带有源共模电磁干扰滤波器\\n\\n  * 锂电池设计和模拟工具\\n\\n  * HarvSolar：环保钙钛矿光伏\\n\\n  * 液滴动力发电机\\n\\n  * 智能汽车引擎启动电源\\n\\n  * 用于电动车和固定式储能的智能电池管理系统\\n\\n::: ** **\\n\\n关于我们\\n\\n联络我们\\n\\n香港科技\\n\\n科研机构\\n\\n研发机构\\n\\n大学\\n\\nInnoHK创新香港研发平台\\n\\n  * Health@InnoHK\\n  * AIR@InnoHK\\n\\n© 2023 Innovation Hub@HK\\n\\n  * 重要告示\\n  * 网页指南\\nurl: https://www.innovationhub.hk/article/solid-state-rechargeable-znnico-and-zn-air-batteries-with-ultra-long-lifetime-and-high-capacity\\nweb_content_en: ****\\n\\n:::\\n\\n  * About Us\\n  * Research Institutes\\n  * HK Technologies\\n  * Contact Us\\n\\n  * A A A\\n\\n  * 繁 EN 简\\n\\n  * :::Home\\n  * HK Technologies\\n  * Solid-State Rechargeable Zn//NiCo and Zn-air Batteries with Ultra-Long Lifetime and High Capacity\\n\\n# Solid-State Rechargeable Zn//NiCo and Zn-air Batteries with Ultra-Long\\nLifetime and High Capacity\\n\\nlogo-coloured-2019\\n\\nOverview\\n\\nCity University of Hong Kong has developed a polyelectrolyte, which enables\\naqueous zinc batteries with super long lifetime. The developed batteries may\\nbe used for a variety of energy storage systems to provide a low-cost choice\\nand superior safety performance.\\n\\n  * \\n\\nResearch completion\\n\\n2018\\n\\nCommercialisation opportunities\\n\\nInvestment\\n\\nProblem addressed\\n\\nAqueous electrolyte batteries provide ultimate safety for energy storage\\nsystems but they suffer from cycling stability. Our polyelectrolyte ensured an\\norder of magnitude higher cycling stability than those of their state-of-the-\\nart counterparts and high capacities for the quasi-solid-state Zn//NiCo and\\nZn-air batteries.\\n\\nInnovation\\n\\n  * An intrinsic high ionic conductivity and water-retaining capability of the polyelectrolyte\\n  * The acrylate-ion-facilitated formation of quasi-solid electrolyte interface to eliminate zinc dendrites\\n\\nKey impact\\n\\n  * Highly safe, zero toxicity without the risks of fire and explosion.\\n  * Aqueous batteries with extraordinary cycling stabilty\\n  * Low-cost devices\\n\\nApplication\\n\\n  * Energy storage systems with high requirement on safety\\n\\n### Patent\\n\\n  * US Patent: US 11,177,504 B2\\n\\n__\\n\\nWebsite\\n\\n__\\n\\nDownload\\n\\nCity University of Hong Kong (CityU)\\n\\nAs one of the fastest growing universities in the world over the past decade,\\nCity University of Hong Kong (CityU) is recognised as a hub for innovation in\\nresearch and professional education. CityU identifies solutions to critical\\nglobal challenges by extending the frontiers of knowledge both within and\\nbeyond existing research paradigms.\\n\\nThe University’s highly qualified academics are drawn from all over the world,\\nnot only bringing a wealth of research and professional experience to the\\nteaching programmes, but also contributing to the knowledge and technology\\nadvancement.\\n\\n__\\n\\nEnquiry\\n\\nRelated Innovations\\n\\n  * Eco-Tiles for Enhancing Marine Biodiversity\\n\\n  * All-Liquid Triboelectric Nanogenerator for Energy Harvesting and Self-Powered Device\\n\\n  * Solar-Electrocatalytic System for Hydrogen Generation\\n\\n  * HarvSolar: Eco-friendly Perovskite Photovoltaics\\n\\n  * Solid State Battery\\n\\n  * Highly Rechargeable Battery with Nanoporous Zn Electrode\\n\\n  * Super Robust and Flexible Wearable Energy Storage Devices\\n\\n  * High manganese austentic stainless steel with superior corrosion resistance\\n\\n  * Intelligent Vehicle Engine Starter\\n\\n  * Textile Lithium Battery\\n\\n  * AI + Quantum Chemistry Simulation Platform for New Material Discovery\\n\\n  * High-Attenuation Wideband Active Common-Mode EMI Filter Section\\n\\n  * Self-Shutdown Li-ion Energy Storage Device for Explosion Prevention\\n\\n  * Safe, Scalable and Low-cost Energy Storage System\\n\\n  * Power-to-Water Battery\\n\\n  * Smart technologies for building life-cycle optimization and diagnosis\\n\\n  * Aqueous Batteries with Ultimate Safety\\n\\n  * Liquid Droplet Powered Electricity Generator\\n\\n  * Intelligent battery management system for electric vehicles and stationary energy storage\\n\\n  * Electricity-free Cooling Technology\\n\\n  * Battery Doctor for Health and Life-time Diagnosis\\n\\n  * Flexible transparent electrode\\n\\n  * Omni-direction Omni-frequency Wave Energy Converter\\n\\n  * Hydrogen Fuel Cell Catalyst\\n\\n  * Lithium-ion Battery Design and Simulation Tool\\n\\n  * Amorphous Pd-based Nanomaterials and their catalytic applications\\n\\n  * Superior AI Modeling of Large Atomic Systems\\n\\n  * Energy-saving Cooling Ceramic for Building Exteriors\\n\\n  * Energy-free PV Cooler and Water Harvester\\n\\n  * Smart Vehicle-to-Home (V2H) System for Electric Vehicles\\n\\n  * Fog-to-electricity Generator with Ultra-high Power Density\\n\\n::: ** **\\n\\nAbout Us\\n\\nContact Us\\n\\nHK Technologies\\n\\nResearch Institutes\\n\\nResearch Organisations\\n\\nUniversities\\n\\nInnoHK\\n\\n  * Health@InnoHK\\n  * AIR@InnoHK\\n\\n© 2023 Innovation Hub@HK\\n\\n  * Important Notices\\n  * Sitemap', metadata={'source': '水系电池长续航电解质', 'row': 202}),\n",
       " Document(page_content=': 204\\nIndex: 7\\nInstitute: cityu\\nTitle: 液滴动力发电机\\nLink: https://www.innovationhub.hk/zh-cn/article/liquid-droplet-powered-electricity-generator\\nweb_content: ****\\n\\n:::\\n\\n  * 关于我们\\n  * 科研机构\\n  * 香港科技\\n  * 联络我们\\n\\n  * A A A\\n\\n  * 繁 EN 简\\n\\n  * :::主页\\n  * 香港科技\\n  * 液滴动力发电机\\n\\n# 液滴动力发电机\\n\\nlogo-coloured-2019\\n\\n简介\\n\\n一种类三极管式体效应液滴发电机，成功突破过往液滴发电机发电功率密度不高的研究瓶颈，其每平方米产生的最高功率密度可达50.1瓦，将原有的固/液发电技术的功率密度和转化效率提高上千倍。\\n\\n  *   * \\n\\n商品化机会\\n\\n技术授权协议\\n\\n解决方案\\n\\n传统低频水动能发电技术受限于界面效应，其功率密度和能量转换效率低。\\n\\n创新技术\\n\\n  * 利用特氟龙材料的强驻极特性，实现超高的电荷存储。\\n  * 利用类晶体管架构设计，实现电荷的高效转移。\\n  * 疏水的特氟龙介电材料可以实现即使的液体脱离，有助于持续发电。\\n\\n主要成效\\n\\n  * 该设计实现了高效的水动能到电能的转换。\\n  * 本设计制备简单，成本低廉，仅需利用常见的驻极材料和金属电极。\\n  * 液滴发电机利用的是绿色环保的水能，例如自然环境的雨水或者日常生活中的喷泉等。\\n\\n奖项\\n\\n  * 日内瓦国际发明展2022评审团特别嘉许金奖\\n  * 2020年春和创新学生奖最佳工程解决方案奖\\n\\n### 专利申请\\n\\n  * 美国专利：US 11239786B2\\n\\n__\\n\\n影片\\n\\n__\\n\\n下载\\n\\n香港城市大学\\n\\n香港城市大学（城大）在过去十年是全球发展最迅速的大学之一，被誉为研究及专业教育的创新枢纽。城大在现有研究范畴的内与外，致力扩阔知识领域，为全球的重大挑战寻找解决方案。\\n\\n城大拥有来自全球各地的世界级研究团队，不但为教学课程带来丰富的专业经验，亦推动了知识和科技的发展。城大的世界级教学设施、国家重点实验室、国家工程技术研究中心以及多个大学级别的研究中心，让研究人员可持续进行高水平的研究工作。最近城大与全球知名学者及研究机构合作，设立了三间研究实力达世界级水平的InnoHK研究中心，促进健康工程、数据分析及人工智能发展。此外，城大以创新方法融合科学与艺术，创造新颖的展示方式。\\n\\n__\\n\\n查询\\n\\n相关 创新技术\\n\\n  * 柔性透明电极\\n\\n  * 用于建筑物外墙的节能制冷陶瓷\\n\\n  * 建筑全生命周期智能优化诊断技术\\n\\n  * 大型原子系统的卓越人工智能建模\\n\\n  * 高功率雾水发电机\\n\\n  * AI+量子化学计算的新材料发现平台\\n\\n  * 用于制氢的太阳能驱动电催化系统\\n\\n  * 安全、可规模化及低成本的储能系统\\n\\n  * 柔性织物锂电池\\n\\n  * 锂电池设计和模拟工具\\n\\n  * 高衰减宽频带有源共模电磁干扰滤波器\\n\\n  * 无电制冷技术\\n\\n  * 全液体摩擦纳米发电机\\n\\n  * 设有纳米多孔锌电极的可充电电池\\n\\n  * 氢燃料电池催化剂\\n\\n  * 盐辅助实现过渡金属二硫化物的相变\\n\\n  * 零能耗光伏冷却器及水收集器\\n\\n  * 全方位多频海浪能量转换器\\n\\n  * 提升海洋生物多样性的生态砖块\\n\\n  * 智能汽车引擎启动电源\\n\\n  * 环保智能日间辐射致冷涂层\\n\\n  * 高耐蚀性高锰奥氏体不锈钢及其在电解水制氢中的应用\\n\\n  * 智能V2H 电力供应系统\\n\\n  * 用于电动车和固定式储能的智能电池管理系统\\n\\n  * 自动关断防爆锂离子储能装置\\n\\n  * 一种纳米晶-非晶双相复合涂层及其制备方法\\n\\n  * 可揉式及可打印的纸基铝离子电池\\n\\n  * 超强超柔的可穿戴储能设备\\n\\n  * 水系电池长续航电解质\\n\\n  * 电转水电池\\n\\n  * 固态电池\\n\\n  * 无定形钯基纳米催化剂的合成与应用\\n\\n  * 超高安全水系电池\\n\\n  * HarvSolar：环保钙钛矿光伏\\n\\n  * 超轻超保暖的气凝胶纤维\\n\\n  * 电池健康和寿命诊断医生\\n\\n::: ** **\\n\\n关于我们\\n\\n联络我们\\n\\n香港科技\\n\\n科研机构\\n\\n研发机构\\n\\n大学\\n\\nInnoHK创新香港研发平台\\n\\n  * Health@InnoHK\\n  * AIR@InnoHK\\n\\n© 2023 Innovation Hub@HK\\n\\n  * 重要告示\\n  * 网页指南\\nurl: https://www.innovationhub.hk/article/liquid-droplet-powered-electricity-generator\\nweb_content_en: ****\\n\\n:::\\n\\n  * About Us\\n  * Research Institutes\\n  * HK Technologies\\n  * Contact Us\\n\\n  * A A A\\n\\n  * 繁 EN 简\\n\\n  * :::Home\\n  * HK Technologies\\n  * Liquid Droplet Powered Electricity Generator\\n\\n# Liquid Droplet Powered Electricity Generator\\n\\nlogo-coloured-2019\\n\\nOverview\\n\\na transistor-like liquid droplet powered electricity generator successfully\\nbreaks through the research bottleneck of low power density in traditional\\ndroplet generators. The proposed generators can produce a maximum power\\ndensity up to 50.1 watts,increasing the power density and conversion\\nefficiency of the original solid/liquid power generation technology by\\nthousands of times.\\n\\n  *   * \\n\\nCommercialisation opportunities\\n\\ntechnology licensing agreement\\n\\nProblem addressed\\n\\nThe traditional low-frequency hydrokinetic power generation technology is\\nlimited by the interface effect, and its power density and energy conversion\\nefficiency are low.\\n\\nInnovation\\n\\n  * High-density surface can be stored in the Teflon materials owing to its strong electret characteristics.\\n  * Leveraging on the transistor-like architecture, the surface charges on the Teflon can be efficiently transferes between the electrodes.\\n  * The hydrophobic Teflon dielectric material enables instant liquid detachment, contributing to continuous power generation.\\n\\nKey impact\\n\\n  * The design enables efficient conversion from hydrokinetic energy to electrical energy.\\n  * The design is simple in preparation and low in cost, and only needs to use common electret materials and metal electrodes.\\n  * The droplet generator uses green water energy, such as rainwater in the natural environment or fountains in daily life, etc.\\n\\nAward\\n\\n  * Gold Medal with Congratulations of Jury at the “2021 Geneva International Exhibition of Inventions”\\n  * The Best Engineering Solution Award in Chun Wo Innovation Student Awards 2020 (CWISA).\\n\\n### Patent\\n\\n  * US Patent: US 11239786B2\\n\\n__\\n\\nVideo\\n\\n__\\n\\nDownload\\n\\nCity University of Hong Kong (CityU)\\n\\nAs one of the fastest growing universities in the world over the past decade,\\nCity University of Hong Kong (CityU) is recognised as a hub for innovation in\\nresearch and professional education. CityU identifies solutions to critical\\nglobal challenges by extending the frontiers of knowledge both within and\\nbeyond existing research paradigms.\\n\\nThe University’s highly qualified academics are drawn from all over the world,\\nnot only bringing a wealth of research and professional experience to the\\nteaching programmes, but also contributing to the knowledge and technology\\nadvancement.\\n\\n__\\n\\nEnquiry\\n\\nRelated Innovations\\n\\n  * Smart technologies for building life-cycle optimization and diagnosis\\n\\n  * Power-to-Water Battery\\n\\n  * Ultra-Light and Ultra-Warm Aerogel Fiber\\n\\n  * Flexible transparent electrode\\n\\n  * Solid State Battery\\n\\n  * Highly Rechargeable Battery with Nanoporous Zn Electrode\\n\\n  * Solid-State Rechargeable Zn//NiCo and Zn-air Batteries with Ultra-Long Lifetime and High Capacity\\n\\n  * Eco-friendly smart daytime radiative cooling coating\\n\\n  * Hydrogen Fuel Cell Catalyst\\n\\n  * Safe, Scalable and Low-cost Energy Storage System\\n\\n  * Battery Doctor for Health and Life-time Diagnosis\\n\\n  * Smart Vehicle-to-Home (V2H) System for Electric Vehicles\\n\\n  * High manganese austentic stainless steel with superior corrosion resistance\\n\\n  * High-Attenuation Wideband Active Common-Mode EMI Filter Section\\n\\n  * Aqueous Batteries with Ultimate Safety\\n\\n  * Lithium-ion Battery Design and Simulation Tool\\n\\n  * Intelligent Vehicle Engine Starter\\n\\n  * Omni-direction Omni-frequency Wave Energy Converter\\n\\n  * Salt-assisted Phase Transformation of Transition Metal Dichalcogenides\\n\\n  * Super Robust and Flexible Wearable Energy Storage Devices\\n\\n  * AI + Quantum Chemistry Simulation Platform for New Material Discovery\\n\\n  * A Nano-dual-phase Glass-crystal with Theoretical Strength and its Fabrication Method\\n\\n  * Superior AI Modeling of Large Atomic Systems\\n\\n  * Amorphous Pd-based Nanomaterials and their catalytic applications\\n\\n  * All-Liquid Triboelectric Nanogenerator for Energy Harvesting and Self-Powered Device\\n\\n  * Fog-to-electricity Generator with Ultra-high Power Density\\n\\n  * HarvSolar: Eco-friendly Perovskite Photovoltaics\\n\\n  * Electricity-free Cooling Technology\\n\\n  * Solar-Electrocatalytic System for Hydrogen Generation\\n\\n  * Flexible and Printable Paper-Based Al Ion Batteries\\n\\n  * Intelligent battery management system for electric vehicles and stationary energy storage\\n\\n  * Eco-Tiles for Enhancing Marine Biodiversity\\n\\n  * Energy-saving Cooling Ceramic for Building Exteriors\\n\\n  * Energy-free PV Cooler and Water Harvester\\n\\n  * Textile Lithium Battery\\n\\n  * Self-Shutdown Li-ion Energy Storage Device for Explosion Prevention\\n\\n::: ** **\\n\\nAbout Us\\n\\nContact Us\\n\\nHK Technologies\\n\\nResearch Institutes\\n\\nResearch Organisations\\n\\nUniversities\\n\\nInnoHK\\n\\n  * Health@InnoHK\\n  * AIR@InnoHK\\n\\n© 2023 Innovation Hub@HK\\n\\n  * Important Notices\\n  * Sitemap', metadata={'source': '液滴动力发电机', 'row': 204}),\n",
       " Document(page_content=': 214\\nIndex: 7\\nInstitute: cityu\\nTitle: 高效稳定绿色太阳能电池\\nLink: https://www.innovationhub.hk/zh-cn/article/efficient-stable-and-greensolar-cell\\nweb_content: \\nurl: https://www.innovationhub.hk/article/efficient-stable-and-greensolar-cell\\nweb_content_en: ****\\n\\n:::\\n\\n  * About Us\\n  * Research Institutes\\n  * HK Technologies\\n  * Contact Us\\n\\n  * A A A\\n\\n  * 繁 EN 简\\n\\n  * :::Home\\n  * HK Technologies\\n  * Efficient, Stable, and ‘Green’ Solar Cell\\n\\n# Efficient, Stable, and ‘Green’ Solar Cell\\n\\nlogo-coloured-2019\\n\\nOverview\\n\\nThe breakthrough concerns the use of a new metal-organic framework that not\\nonly improves operational stability but also contains the lead that can\\npotentially leak from perovskite solar cells.\\n\\n  *   *   * \\n\\nResearch completion\\n\\n2020\\n\\nCommercialisation opportunities\\n\\ntechnology licensing agreement\\n\\nProblem addressed\\n\\nWhile it is well known that solar power has registered significant growth as a\\nreliable source of renewable energy in recent years, and that the power\\nconversion efficiency registered for organic-inorganic lead halide perovskite\\nsolar cells (PVSCs) is growing higher than that of silicon solar cells, the\\nincreased production and use of PVSCs can be harmful to the environment due to\\nlead leakage.\\n\\nInnovation\\n\\n  * The CityU research team has come up with a possible long-term solution. A ground-breaking 2D conjugated metal-organic framework (2D MOF), which involved a year-long experiment, could be applied to modern PVSCs, making way for a commercially viable, large-scale deployment of the technology.\\n  * The square shape of the current-voltage curve ensures the best possible known fill factor to feature an elevated PCE compared to existing systems\\n\\nKey impact\\n\\n  * improved sustainability, good operational stability and enhanced power conversion efficiency (PCE)\\n  * excellent thermal stability and good performance\\n\\nApplication\\n\\n  * solar panels\\n  * buidling integrated PV\\n  * indoor PV\\n\\n__\\n\\nWebsite\\n\\n__\\n\\nDownload\\n\\nCity University of Hong Kong (CityU)\\n\\nAs one of the fastest growing universities in the world over the past decade,\\nCity University of Hong Kong (CityU) is recognised as a hub for innovation in\\nresearch and professional education. CityU identifies solutions to critical\\nglobal challenges by extending the frontiers of knowledge both within and\\nbeyond existing research paradigms.\\n\\nThe University’s highly qualified academics are drawn from all over the world,\\nnot only bringing a wealth of research and professional experience to the\\nteaching programmes, but also contributing to the knowledge and technology\\nadvancement.\\n\\n__\\n\\nEnquiry\\n\\nRelated Innovations\\n\\n  * Embedded generators for self-powered smart watches and wristbands\\n\\n  * Smart Indoor and Outdoor Geographic Information System\\n\\n  * Surface Defect Detection and Removal\\n\\n  * Cleaner Temple Air System\\n\\n  * Automated Non-Destructive Inspection (NDI) and Scarfing of Composite Components\\n\\n::: ** **\\n\\nAbout Us\\n\\nContact Us\\n\\nHK Technologies\\n\\nResearch Institutes\\n\\nResearch Organisations\\n\\nUniversities\\n\\nInnoHK\\n\\n  * Health@InnoHK\\n  * AIR@InnoHK\\n\\n© 2023 Innovation Hub@HK\\n\\n  * Important Notices\\n  * Sitemap', metadata={'source': '高效稳定绿色太阳能电池', 'row': 214}),\n",
       " Document(page_content=\": 200\\nIndex: 7\\nInstitute: cityu\\nTitle: 一种纳米晶-非晶双相复合涂层及其制备方法\\nLink: https://www.innovationhub.hk/zh-cn/article/a-nano-dual-phase-glass-crystal-with-theoretical-strength-and-its-fabrication-method\\nweb_content: ****\\n\\n:::\\n\\n  * 关于我们\\n  * 科研机构\\n  * 香港科技\\n  * 联络我们\\n\\n  * A A A\\n\\n  * 繁 EN 简\\n\\n  * :::主页\\n  * 香港科技\\n  * 一种纳米晶-非晶双相复合涂层及其制备方法\\n\\n# 一种纳米晶-非晶双相复合涂层及其制备方法\\n\\nlogo-coloured-2019\\n\\n简介\\n\\n本创新涉及一种金属材料及其制备方法，通过磁控溅射过程一次性沉积金属涂层。涂层厚度可在0.5～50微米范围调节，20厘米×30厘米大面积的镀膜均匀区拓宽了该涂层的工业应用。\\n\\n  *   *   * \\n\\n商品化机会\\n\\n可展示完整的试验系统\\n\\n解决方案\\n\\n由于反霍尔-佩奇效应以及形变过程中剪切带的软化效应，单相纳米晶合金和单相金属玻璃通常在小于2\\n%的应变下发生软化，能承受的最大应力约为E/85~E/50。因此，这些材料的强度很难达到E/20的理论强度值。\\n\\n创新技术\\n\\n  * 本创新为一种原位形成的具有非晶-纳米晶双相结构的镁基合金，其3.3 GPa的超高强度是至今报道的最强镁合金的3倍，达到理论强度值，并打破常温下材料的尺寸效应。\\n  * 这种纳米双相-玻璃纳米晶材料可以制备成100毫米x 100 毫米x 10 微米以上的尺寸，这要大于传统的近乎理想强度的材料。 因此，有利于该材料在大面积上作为涂层的应用。\\n  * 通过调节磁控溅射的工艺参数，这种创新的制备方法容易控制纳米晶-非晶双相（NDP-GC）结构的成分和涂层厚度，从而拓宽这种具有理论强度的材料在金属薄膜领域的应用。\\n\\n主要成效\\n\\n  * 纳米材料的大面积应用\\n  * 容易控制纳米晶-非晶双相（NDP-GC）结构材料的成分和涂层厚度\\n  * 拓宽了具有理论强度的材料在金属薄膜领域的应用\\n  * 性能优异的可生物降解材料，可用于生物植入体；具有优异的力学性能，可用作其它轻质材料\\n\\n奖项\\n\\n  * 该研究成果作为封面文章在《自然》杂志上发表（2017年）\\n\\n应用范畴\\n\\n  * 用于笔记本电脑、智能手机、柔性电子产品的耐磨表面涂层\\n  * 高强度的微机电系统器件\\n  * 3D打印结构\\n  * 用于骨科手术的镁基植入体\\n\\n### 专利申请\\n\\n  * 美国专利：US 10,895,006\\n  * 美国专利：US10,428,418\\n  * 美国专利：US 11,168,401\\n\\n__\\n\\n网站\\n\\n__\\n\\n下载\\n\\n香港城市大学\\n\\n香港城市大学（城大）在过去十年是全球发展最迅速的大学之一，被誉为研究及专业教育的创新枢纽。城大在现有研究范畴的内与外，致力扩阔知识领域，为全球的重大挑战寻找解决方案。\\n\\n城大拥有来自全球各地的世界级研究团队，不但为教学课程带来丰富的专业经验，亦推动了知识和科技的发展。城大的世界级教学设施、国家重点实验室、国家工程技术研究中心以及多个大学级别的研究中心，让研究人员可持续进行高水平的研究工作。最近城大与全球知名学者及研究机构合作，设立了三间研究实力达世界级水平的InnoHK研究中心，促进健康工程、数据分析及人工智能发展。此外，城大以创新方法融合科学与艺术，创造新颖的展示方式。\\n\\n__\\n\\n查询\\n\\n相关 创新技术\\n\\n  * 金属万能「合」累积叠轧技术\\n\\n  * 可揉式及可打印的纸基铝离子电池\\n\\n  * 用于制氢的太阳能驱动电催化系统\\n\\n  * 多样基材超硬涂层技术\\n\\n  * 先进叶片动力学\\n\\n  * 便携式光学精准轮廓仪及其芯片测量应用\\n\\n  * 有机电子的大面积高柔性超材料\\n\\n  * 液滴动力发电机\\n\\n  * 基于增材制造技术设计和制造高性能金属结构\\n\\n  * 隔音超材料\\n\\n  * 两段式真空高压压铸技术\\n\\n  * 用於薄膜晶体管液晶显示器制造的图像分割和分类中的自动标记系统\\n\\n  * 电流辅助订制板金自由成形技术\\n\\n  * 表面缺陷检测和去除\\n\\n  * 高压萃取技术\\n\\n  * 基于激光烧蚀技术的自动化表面处理和检测\\n\\n  * ASRIS——自动表面重构和检测系统\\n\\n  * 异种材料回填式搅拌摩擦焊接技术\\n\\n  * 高耐蚀性高锰奥氏体不锈钢及其在电解水制氢中的应用\\n\\n  * 蓝宝石防刮镀膜技术\\n\\n  * 用于玻璃和塑料的增透及防刮镀层\\n\\n  * 柔性织物锂电池\\n\\n  * 改进的自冷却外墙涂料\\n\\n  * 氢燃料电池催化剂\\n\\n  * 镀膜技术:化学改造法用以生产亲油防水的功能材料\\n\\n  * 数控机床刀具损耗智能预测技术\\n\\n  * 激光辅助渐进成型工艺\\n\\n  * 高强度轻质混凝土\\n\\n  * AI+量子化学计算的新材料发现平台\\n\\n  * 以材料增强制备高吸能效率吸能盒\\n\\n  * 基于飞秒光片的多材料超快3D微纳加工\\n\\n  * 创新3D大型金属打印\\n\\n  * 纳米泡沫路面无塌陷回填材料\\n\\n  * Argus——用於异常图像识别的通用系统\\n\\n  * IMU+ 长效三维打印抗病毒产品\\n\\n  * 应用于制造业的人工智能\\n\\n  * 电转水电池\\n\\n  * 全方位多频海浪能量转换器\\n\\n  * 冷电浆灭菌系统\\n\\n  * 注塑制品缺陷检测\\n\\n  * 盐辅助实现过渡金属二硫化物的相变\\n\\n  * 可隔热及调控透光度的智慧玻璃\\n\\n  * 「猫头鹰」智能生产线\\n\\n  * 超轻超保暖的气凝胶纤维\\n\\n  * 无溶剂干正极\\n\\n  * 全自动中药油智能包装系统\\n\\n  * 金属和复合材料飞机部件的快速制造\\n\\n  * 自适应智能材料及电子技术\\n\\n  * 机械加工变形最小化\\n\\n  * 3D+AI智能机器视觉\\n\\n  * 用于配送中心的自动调度优化解决方案\\n\\n  * 飞机油箱紧固件的无损检测 (NDT)\\n\\n  * 设有纳米多孔锌电极的可充电电池\\n\\n  * 用于反光自由曲面物体表面缺陷检测\\n\\n  * 无定形钯基纳米催化剂的合成与应用\\n\\n  * 多功能多孔聚合物纳米薄膜\\n\\n  * 固态电池\\n\\n  * 创新组装合成建筑（MiC）\\n\\n  * 高功率雾水发电机\\n\\n  * 用于单锂全色显示器和无磷白光 LED 的红移 LED\\n\\n  * 电池健康和寿命诊断医生\\n\\n  * 无电制冷技术\\n\\n  * 「D&P;」超级钢：一种超强超韧多相钢材\\n\\n  * 低烟冥镪\\n\\n  * 基于3D打印实现高熵点阵结构\\n\\n  * 用于高精度测量的可调节放大自发辐射激光\\n\\n  * 超声波焊缝光学检测装置\\n\\n  * 高性能梯度纳米钢表面加工平台\\n\\n  * 将废机油进行升级制成混凝土\\n\\n  * 环保智能日间辐射致冷涂层\\n\\n  * 嵌件及材料粘结混合成型技术\\n\\n  * 高速机械抓钳技术\\n\\n  * 复合材料部件的自动无损检测 (NDI) 和修复\\n\\n  * 具超强抗腐蚀性和优良机械性能的奥氏体不锈钢材\\n\\n  * 注塑成型过程中基於人工智能的质量预测和问题根源分析系统\\n\\n  * 应用于电子产品上的防污涂层\\n\\n  * 防火、防烟、防水模块拼接系统\\n\\n  * 多模式感测光学软性皮肤系统\\n\\n  * 智能装配顺序规划技术\\n\\n  * 3D 随形冷却技术\\n\\n  * 锂电池设计和模拟工具\\n\\n  * 应用于未来无线的紧凑薄型高增益宽带太赫兹天线\\n\\n  * 残余应力测定\\n\\n  * 用于锂电池的固态电解质\\n\\n  * 飞秒投影纳米打印机\\n\\n  * 大型原子系统的卓越人工智能建模\\n\\n::: ** **\\n\\n关于我们\\n\\n联络我们\\n\\n香港科技\\n\\n科研机构\\n\\n研发机构\\n\\n大学\\n\\nInnoHK创新香港研发平台\\n\\n  * Health@InnoHK\\n  * AIR@InnoHK\\n\\n© 2023 Innovation Hub@HK\\n\\n  * 重要告示\\n  * 网页指南\\nurl: https://www.innovationhub.hk/article/a-nano-dual-phase-glass-crystal-with-theoretical-strength-and-its-fabrication-method\\nweb_content_en: ****\\n\\n:::\\n\\n  * About Us\\n  * Research Institutes\\n  * HK Technologies\\n  * Contact Us\\n\\n  * A A A\\n\\n  * 繁 EN 简\\n\\n  * :::Home\\n  * HK Technologies\\n  * A Nano-dual-phase Glass-crystal with Theoretical Strength and its Fabrication Method\\n\\n# A Nano-dual-phase Glass-crystal with Theoretical Strength and its\\nFabrication Method\\n\\nlogo-coloured-2019\\n\\nOverview\\n\\nThe innovation relates to a metal material and a method for use in fabricating\\nthereof by depositing a metal layer in a magnetron in just one sputtering\\nprocess. The 0.5 to 50-µm-thick homogeneous film with a large area of 20 cm x\\n30 cm widens its industrial application.\\n\\n  *   *   * \\n\\nCommercialisation opportunities\\n\\nIntegrated pilot system demonstrated\\n\\nProblem addressed\\n\\nThe single phase nanocrystalline alloys and single-phase metallic glasses have\\nvery high strength. However, they are usually softened at <2 % strain with an\\nultimate stress around E/85~E/50 because of the reverse Hall- Petch effect and\\nthe softening effect of shear band, respectively. Therefore, they are very\\ndifficult to reach the theoretical strength of E/20.\\n\\nInnovation\\n\\n  * The innovation presents an in-situ formed amorphous\\xad nanocrystalline cores-shells nanostructure for Mg-based nano-dual-phase glass-crystal, which exhibits theoretical strength of 3.3 GPa without sample size effect at room temperature. This strength is 3 times higher than that of the ever-reported strongest Mg alloy.\\n  * The material in this innovation has a larger size of 100 mm x 100 mm x 10 µm than traditional near-ideal-strength material with nanosized scale, which is benefit for large area application.\\n  * The fabrication method of this innovation is easy to control the composition and thickness of the NDP-GC structure by adjusting the sputtering parameter, which widens this theoretical strength material’s application in metallic film area.\\n\\nKey impact\\n\\n  * Large area application for nanosized material\\n  * Easy control the composition and thickness of the NDP-GC structure\\n  * Widens strength material's application in metallic film area\\n  * Excellent biodegradable materials for bioimplants ; Excellent mechanical properties for other light weights materials\\n\\nAward\\n\\n  * This work was published by Nature (2017) as a cover story.\\n\\nApplication\\n\\n  * High wear resistance surface coating for laptop, smart phone, flexible electronics\\n  * High strength MEMS devices\\n  * 3D printing structures\\n  * Mg based implants for orthopedic operation\\n\\n### Patent\\n\\n  * US Patent Application Granted: US 10,895,006\\n  * US Patent Application Granted: US10,428,418\\n  * US Patent Application Granted: US 11,168,401\\n\\n__\\n\\nWebsite\\n\\n__\\n\\nDownload\\n\\nCity University of Hong Kong (CityU)\\n\\nAs one of the fastest growing universities in the world over the past decade,\\nCity University of Hong Kong (CityU) is recognised as a hub for innovation in\\nresearch and professional education. CityU identifies solutions to critical\\nglobal challenges by extending the frontiers of knowledge both within and\\nbeyond existing research paradigms.\\n\\nThe University’s highly qualified academics are drawn from all over the world,\\nnot only bringing a wealth of research and professional experience to the\\nteaching programmes, but also contributing to the knowledge and technology\\nadvancement.\\n\\n__\\n\\nEnquiry\\n\\nRelated Innovations\\n\\n  * Solid-state Electrolyte for Lithium Batteries \\n\\n  * High manganese austentic stainless steel with superior corrosion resistance\\n\\n  * Highly Rechargeable Battery with Nanoporous Zn Electrode\\n\\n  * Solar-Electrocatalytic System for Hydrogen Generation\\n\\n  * Innovative Large-scale 3D Metal Printing \\n\\n  * Ultrafast 3-D Nano-structuring of Functional Materials based on Femtosecond Light Sheets\\n\\n  * Coating Technology: Surface Chemical Functionalization for Developing Functional Hydrophobic Materials\\n\\n  * Accumulative Roll Bonding (ARB) for Multi-Metal Sheets Fabrication\\n\\n  * Residual Stress Determination\\n\\n  * Defect detection of plastic injection molding product\\n\\n  * 3D Conformal Cooling Mould\\n\\n  * Hybrid Moulding Technologies with Effective Adhesion/Bonding Mechanism \\n\\n  * AI + Quantum Chemistry Simulation Platform for New Material Discovery\\n\\n  * Automatic Intelligent System for Packaging Chinese Medicinal Oil\\n\\n  * Method And System for Manufacturing A Structure\\n\\n  * Automated Non-Destructive Inspection (NDI) and Scarfing of Composite Components\\n\\n  * Surface Defect Detection and Removal\\n\\n  * Modular Integrated Construction (MiC) Innovations\\n\\n  * Laser-assisted Progressive Forming (LAPF)\\n\\n  * Advanced Blade Dynamics\\n\\n  * Refill Friction Stir Welding of Dissimilar Materials\\n\\n  * High Strength Lightweight Concrete\\n\\n  * AI-Based Quality Prediction and Root Cause Analysis System in Injection Molding Processes\\n\\n  * High-entropy Lattice achieved by 3D printing\\n\\n  * High Speed Scooping Manipulation Method\\u200b\\n\\n  * Smokeless Joss Paper\\n\\n  * Computer-Aided Assembly Sequence Planning\\n\\n  * Salt-assisted Phase Transformation of Transition Metal Dichalcogenides\\n\\n  * IMU+ Long Lasting 3D Printing Antiviral Products \\n\\n  * “D&P;” Super Steel: a Super-Strong and Ductile Multi-phase Steel\\n\\n  * Anti-reflective, scratch-resistant coating for glasses and plastics\\n\\n  * Omni-direction Omni-frequency Wave Energy Converter\\n\\n  * Portable Optical Precision Profilometer for Chip-level Metrology Applications\\n\\n  * AI for manufacturing\\n\\n  * Solid State Battery\\n\\n  * Acoustic Metamaterials\\n\\n  * Tunable Amplified Spontaneous Emission (ASE) Laser for High Accuracy Measurement\\n\\n  * Liquid Droplet Powered Electricity Generator\\n\\n  * Machining Distortion Minimisation\\n\\n  * Amorphous Pd-based Nanomaterials and their catalytic applications\\n\\n  * Improved Self-cooling Exterior Coatings\\n\\n  * Electrically-Assisted Free Forming (EAFF) Technology for Customisation of Sheet Metal Parts\\n\\n  * Collapse-Free Backfill Material for Pavement by Nano-Foam Technology\\n\\n  * Non-Destructive Testing (NDT) of Fuel Tank Fasteners\\n\\n  * “OWL” Intelligent Production Line\\n\\n  * Defect Inspection on Surfaces of Reflective Freeform Objects\\n\\n  * High Pressure Extraction System \\n\\n  * Flexible and Printable Paper-Based Al Ion Batteries\\n\\n  * Fireproof, Smokeproof and Waterproof Module Stitching System\\n\\n  * Automatic Labeling in Image Segmentation and Classification for TFT-LCD Manufacturing\\n\\n  * Ultra-Light and Ultra-Warm Aerogel Fiber\\n\\n  * Lithium-ion Battery Design and Simulation Tool\\n\\n  * Hydrogen Fuel Cell Catalyst\\n\\n  * Super Hard nCoating for Multiple Substrates\\n\\n  * Automated Surface Preparation and Inspection\\n\\n  * Eco-friendly smart daytime radiative cooling coating\\n\\n  * Auto-Fitting Smart Materials and Electronics Platform Technologies\\n\\n  * Tool Wear Prediction in Computerized Numerical Control (CNC) Milling Machine by Artificial Intelligence\\n\\n  * 3D+AI Smart Machine Vision\\n\\n  * ASRIS – Automatic Surface Reconstruction and Inspection System\\n\\n  * Multifunctional Porous Polymer Nanofilms\\n\\n  * Optical Soft Skin System for Multimodal Sensing\\n\\n  * Device for the optical inspection of ultrasonic welds\\n\\n  * Red-Shifting LED for Monolithium Full-Colour Display and Phosphor Free White LED\\n\\n  * Fog-to-electricity Generator with Ultra-high Power Density\\n\\n  * Femtosecond Projection NanoPrinter\\n\\n  * Ultra-hard, Anti-scratch Sapphire Thin Film Technology\\n\\n  * Low-profile High-gain Terahertz Antenna for Future Wireless Applications\\n\\n  * Electricity-free Cooling Technology\\n\\n  * Austenitic Stainless Steel with Superior Corrosion Resistance and Excellent Mechanical Properties\\n\\n  * Power-to-Water Battery\\n\\n  * Superior AI Modeling of Large Atomic Systems\\n\\n  * Automatic Scheduling Optimization Solution in Distribution Centre\\n\\n  * Argus – Anomaly Recognition Graphical Universal System\\n\\n  * Large Area, Highly-Flexible Metamaterials for Potential Application in Organic Electronics\\n\\n  * Advanced Surface Treatment Platforms for Superior-performance Gradient Nanostructured Steels\\n\\n  * Crash Box with High Energy-Absorption Capacity Induced by Material Enhancement\\n\\n  * Battery Doctor for Health and Life-time Diagnosis\\n\\n  * Textile Lithium Battery\\n\\n  * Two-stage Vacuum High Pressure Die Casting Technology\\n\\n  * Upcycling Engine Oil into Concrete\\n\\n  * Cold Plasma Disinfection System \\n\\n  * Anti-fouling Coating for Electronics\\n\\n  * Rapid Manufacture of Metallic and Composite Aircraft Components\\n\\n  * Smart Electrochromic Glass with Light Transmission Control and Heat Block\\n\\n  * Solvent-Free Dry Cathode\\n\\n::: ** **\\n\\nAbout Us\\n\\nContact Us\\n\\nHK Technologies\\n\\nResearch Institutes\\n\\nResearch Organisations\\n\\nUniversities\\n\\nInnoHK\\n\\n  * Health@InnoHK\\n  * AIR@InnoHK\\n\\n© 2023 Innovation Hub@HK\\n\\n  * Important Notices\\n  * Sitemap\", metadata={'source': '一种纳米晶-非晶双相复合涂层及其制备方法', 'row': 200})]"
      ]
     },
     "execution_count": 62,
     "metadata": {},
     "output_type": "execute_result"
    }
   ],
   "source": [
    "docs"
   ]
  },
  {
   "cell_type": "code",
   "execution_count": 54,
   "id": "137c015a",
   "metadata": {},
   "outputs": [],
   "source": [
    "retriever = db.as_retriever(search_kwargs={\"k\": 20})"
   ]
  },
  {
   "cell_type": "code",
   "execution_count": 205,
   "id": "43d4f4e5",
   "metadata": {},
   "outputs": [],
   "source": [
    "docs = retriever.get_relevant_documents(\"空间构造, 建模\")"
   ]
  },
  {
   "cell_type": "code",
   "execution_count": 206,
   "id": "49ed4ef1",
   "metadata": {},
   "outputs": [
    {
     "name": "stdout",
     "output_type": "stream",
     "text": [
      "page_content=\"\\ufeffcluster: Electronics\\ncluster_TC: 電子\\ncluster_SC: 电子\\ntelephone: 93702353\\nfax: \\nemail: shujuan.w@smartspacetech.com.hk\\nname_EN: Smart Space Technologies Limited\\nwebsite: http://www.smartspacetech.com.hk\\nINFO: **Smart Space Technologies Limited**\\n\\nSmart Space Technologies Limited, backed by the Hong Kong Polytechnic University (PolyU), is a high-tech startup that stands at the forefront of the Electronics sector. Located in the Hong Kong Science Park, this company is dedicated to revolutionizing the smart city landscape.\\n\\n**Company Vision:**\\nSmart Space Technologies Limited aims to enhance the smart city domain by offering advanced products, solutions, and services rooted in cutting-edge geospatial technologies. Their primary focus revolves around 3D Lidar systems, smart city platforms, and urban spatiotemporal big data analysis solutions. Their groundbreaking technologies have garnered significant recognition, including the prestigious Gold Medal at the 2021 International Inventions Geneva, Switzerland. Through their innovations, they strive to provide users with a professional, convenient, and comprehensive service experience.\\n\\n**Technological Offerings:**\\n1. **3D Lidar Systems:** These systems use light detection and ranging technology to capture detailed and accurate spatial data.\\n  \\n2. **Smart City Platforms:** Platforms designed to integrate various city services and utilities for enhanced efficiency and user experience.\\n\\n3. **Urban Spatiotemporal Big Data Analysis Solutions:** Leveraging big data to analyze and interpret patterns and trends in urban spaces over time.\\n\\n4. **Mobile Mapping System:** An integration of laser scanning hardware with 3D data processing software. The system's key technologies encompass SLAM, integrated hardware made up of lidar, a 360-degree camera, GPS, and IMU, and the associated data processing software. This allows for the creation of a 3D digital model of a city, showcasing buildings, roads, infrastructure, trees, and more in formats like point clouds, colored point clouds, street views, and photo-realistic 3D models.\\n\\n5. **User-friendly Data Processing:** Their product is a multi-sensor-integrated, high-precision, continuous, and seamless 3D indoor and outdoor mapping system. It's designed to be portable and easy to operate, ensuring users can capture and process data with minimal hassle.\\n\\n**Contact Information:**\\n- **Website:** [Smart Space Technologies Limited](http://www.smartspacetech.com.hk)\\n- **Phone:** +852 93702353\\n- **Email:** shujuan.w@smartspacetech.com.hk\\n- **Address:** Unit 670, 6/F, Building 19W, No. 19 Science Park West Avenue, Hong Kong Science Park, Pak Shek Kok, N.T.\\n- **Contact Person:** Ms. Shujuan Wang\\n\\n**Reflection:**\\nSmart Space Technologies Limited is a beacon of innovation in the realm of smart cities. By harnessing the power of geospatial technologies, they are crafting a future where cities are not just smart but also efficient, sustainable, and user-centric. Their commitment to excellence and innovation is evident in the awards they've received and the cutting-edge products they offer. As urban spaces continue to evolve, companies like Smart Space Technologies Limited will undoubtedly play a pivotal role in shaping the cities of tomorrow. How do you envision the future of smart cities with such advancements?\\nSUMMAR: \\nPRIMARY: \\nSUB: \\naddress_EN: Unit 670, 6/F, Building 19W,\\nNo. 19 Science Park West Avenue,\\nHong Kong Science Park, Pak Shek Kok, N.T.\\ncontact_EN: Ms. Shujuan Wang\\nintroduction_EN: Smart Space Technologies Limited is a high-tech start-up, supported by the Hong Kong Polytechnic University (PolyU), that provides the field of smart cities with advanced products, solutions, and services based on cutting-edge geospatial technologies. The company's main business includes 3D Lidar systems, smart city platforms, and urban spatiotemporal big data analysis solutions. The key technologies of our company have been awarded many awards, including the Gold Medal in 2021 International Inventions Geneva (Switzerland). Our technology and products enable users to enjoy professional, convenient and comprehensive services.\\nproduct_EN: Our product is a mobile mapping system that integrates laser scanning hardware with 3D data processing software. The key technologies include SLAM, integrated hardware composed of lidar, 360-degree camera, GPS and IMU, and associated data processing software. A 3D digital model of a city, including buildings, roads, infrastructure and trees, can be scanned, generated, and presented as point clouds, colored point clouds, street views, photo-realistic 3D models etc.\\nOur product is a multi-sensor-integrated, high-precision, continuous and seamless 3D indoor and outdoor mapping system combined with user-friendly data processing, with a light design that is portable and easy to operate.\\nname_TC: 卓宇智能科技有限公司\\naddress_TC: Unit 670, 6/F, Building 19W,\\nNo. 19 Science Park West Avenue,\\nHong Kong Science Park, Pak Shek Kok, N.T.\\ncontact_TC: Ms. Shujuan Wang\\nintroduction_TC: Smart Space Technologies Limited是一家獲香港理工大學（PolyU）支持的高科技初創公司，為智慧都市領域提供以尖端地理太空科技為基礎的先進產品、解決方案和服務。 公司主營業務包括3D雷射雷達系統、智慧都市平台、及都市時空大數據分析解決方案等。 公司的關鍵技術獲得多項殊榮，包括2021年日內瓦國際發明金獎（瑞士）。 我們的科技和產品讓用戶能夠享受專業、方便和全面的服務.\\nproduct_TC: 我們的產品是一個結合激光掃描硬件和3D數據處理軟件的移動地圖系統。關鍵技術包括SLAM、激光雷達、360度相機、GPS和IMU組成的集成硬件以及相關的數據處理軟件，可以掃描並生成城市3D數碼模型，包括建築物、道路、基礎設施和樹木，並以點雲、彩色點雲、街景及照片仿真度極高的3D立體模型等形式呈現。\\n我們的產品是一個多傳感器集成的高精度、連續無縫3D室內外地圖系統，結合方便用戶的數據處理，而且設計輕巧，便於攜帶和易於操作。\\nname_SC: 卓宇智能科技有限公司\\naddress_SC: Unit 670, 6/F, Building 19W,\\nNo. 19 Science Park West Avenue,\\nHong Kong Science Park, Pak Shek Kok, N.T.\\ncontact_SC: Ms. Shujuan Wang\\nintroduction_SC: Smart Space Technologies Limited是一家获香港理工大学（PolyU）支持的高科技初创公司，为智慧都市领域提供以尖端地理太空科技为基础的先进产品、解决方案和服务。公司主营业务包括3D雷射雷达系统、智慧都市平台、及都市时空大数据分析解决方案等。公司的关键技术获得多项殊荣，包括2021年日内瓦国际发明金奖（瑞士）。我们的科技和产品让用户能够享受专业、方便和全面的服务.\\nproduct_SC: 我们的产品是一个结合激光扫描硬件和3D数据处理软件的移动地图系统。关键技术包括SLAM、激光雷达、360度相机、GPS和IMU组成的集成硬件以及相关的数据处理软件，可以扫描并生成城市3D数码模型，包括建筑物、道路、基础设施和树木，并以点云、彩色点云、街景及照片仿真度极高的3D立体模型等形式呈现。\\n我们的产品是一个多传感器集成的高精度、连续无缝3D室内外地图系统，结合方便用户的数据处理，而且设计轻巧，便于携带和易于操作。\" metadata={'source': 'Smart Space Technologies Limited', 'row': 63}\n",
      "\n",
      "\n",
      "\n",
      "\n",
      "page_content=\"\\ufeffcluster: Information Communications Technology\\ncluster_TC: 資訊及通訊科技\\ncluster_SC: 资讯及通讯科技\\ntelephone: '+852 96048455\\nfax: \\nemail: microdimensionltd@gmail.com\\nname_EN: MICRO DIMENSION TECHNOLOGY LIMITED\\nwebsite: \\nINFO: \\nSUMMAR: \\nPRIMARY: \\nSUB: \\naddress_EN: Unit 628, 6/F, Building 19W,\\nNo. 19 Science Park West Avenue, Hong Kong Science Park,\\nPak Shek Kok, N.T., Hong Kong.\\ncontact_EN: Dr. Yaxin Li\\nintroduction_EN: We make 3D models look good and even work better. With minimal cost, you can provide your users with a better experience and create more value for your business. Whatever problems you come across in 3D space modelling, you can find the right solution from our company . We have proven solutions for both 3D model generation and customisation, from data collection, data processing to platform establishment. \\nWith a team of experts boasting extensive experience in the field, we are well placed to help our clients grow and thrive, even in challenging times. By really getting to know our customers, our talented team can offer unique and customised solutions backed by data-driven analysis and broad research.\\nproduct_EN: ---Our services:\\n1. Scan to 3D: Whether for an indoor or outdoor space, we provide 3D models accurately and efficiently.\\n2. VR/AR + BIM: By integrating textured BIM and VR/AR equipment, we give you and your customers an immersive tour experience for a target area.\\n3. BIM+: Based on generated BIM models, we provide customised services such as navigation and positioning, engineering monitoring and property management.\\nname_TC: 微度科技有限公司\\naddress_TC: Unit 628, 6/F, Building 19W,\\nNo. 19 Science Park West Avenue, Hong Kong Science Park,\\nPak Shek Kok, N.T., Hong Kong.\\ncontact_TC: Dr. Yaxin Li\\nintroduction_TC: 我們不僅提供美觀的空間三維模型，並為模型賦予更高的實用價值，客戶只需以最低的成本，即可為用戶提供更優質的體驗，為業務創造更高的價值。\\n我們提供成熟的解決方案生成及訂製3D模型，從數據收集、數據處理到平台建立，貫穿整個工作流程，可應對3D空間模型領域的任何疑難。\\n我們的專家團隊在3D模型領域擁有豐富經驗，真正了解我們的客戶，在數據驅動的分析和廣泛研究的支持下，為客戶提供獨特和定製化的解決方案，即使在充滿挑戰的時代，也能幫助客戶成長和蓬勃發展。\\nproduct_TC: 我們的服務：\\n1. 空間3D模型生成：無論是室內還是室外空間，我們都能有效率地為你提供準確的3D模型。\\n2. VR/AR+BIM：通過利用VR/AR設備整合具有紋理信息的BIM模型，我們帶給你和你的客戶一個身臨其境的目標區域參觀體驗。\\n3. BIM+：基於生成的BIM模型，我們提供定製服務，如導航與定位、工程監測以及物業管理等。\\nname_SC: 微度科技有限公司\\naddress_SC: Unit 628, 6/F, Building 19W,\\nNo. 19 Science Park West Avenue, Hong Kong Science Park,\\nPak Shek Kok, N.T., Hong Kong.\\ncontact_SC: Dr. Yaxin Li\\nintroduction_SC: ---我们不仅提供美观的空间三维模型，并为模型赋予更高的实用价值。客户只需以最低的成本，即可以为用户提供更优质的体验，为业务创造更高的价值。\\n我们提供成熟的解决方案生成以及定制3D模型，从数据收集、数据处理到平台建立，贯穿整个工作流程，可应对3D空间模型领域的任何疑难。\\n我们的专家团队在3D模型领域拥有丰富经验，真正了解我们的客户，在数据驱动的分析和广泛研究的支持下，为客户提供独特和定制化的解决方案，即便在充满挑战的时代，也能帮助客户成长和蓬勃发展。\\nproduct_SC: 我们的服务。\\n1. 空间3D模型生成：无论是室内还是室外空间，我们都能有效率地为你提供准确的3D模型。\\n2. VR/AR+BIM：通过利用VR/AR设备整合具有纹理信息的BIM模型，我们带给你和你的客户一个身临其境的目标区域参观体验。\\n3. BIM+：基于生成的BIM模型，我们提供定制服务，如导航与定位、工程监测以及物业管理等。\" metadata={'source': 'MICRO DIMENSION TECHNOLOGY LIMITED', 'row': 308}\n",
      "\n",
      "\n",
      "\n",
      "\n",
      "page_content='\\ufeffcluster: Information Communications Technology\\ncluster_TC: 資訊及通訊科技\\ncluster_SC: 资讯及通讯科技\\ntelephone: 3705 3123\\nfax: \\nemail: \\nname_EN: Spaceship (HK) Limited\\nwebsite: https://spaceship.hk\\nINFO: \\nSUMMAR: \\nPRIMARY: \\nSUB: \\naddress_EN: Unit 1111-1116, 11/F,\\nData Technology Hub, 5 Chun Cheong St.,\\nTseung Kwan O Industrial Estate,\\nTseung Kwan O, N.T.\\nHong Kong\\ncontact_EN: lam wun chi\\nintroduction_EN: As a leading all-in-one logistics solutions platform provider, Spaceship has the ambition to be a game changer in the traditional logistic industry. Spaceship is on a mission to revolutionise how people see international courier services. With our courier service partners, our users can enjoy exclusive discounts for international shipping. We offer door-to-door pick-up services in over 300 countries and regions. Through technology advancement and big data analysis, Spaceship aims to make logistics easy for everyone. With Spaceship, go borderless, stay connected.\\nproduct_EN: As a leading all-in-one logistics solutions platform, Spaceship partners with various global courier service providers and leverage technology advancement, personalised design and big data analysis, to make logistics easy for everyone.\\nname_TC: Spaceship (HK) Limited\\naddress_TC: Unit 1111-1116, 11/F,\\nData Technology Hub, 5 Chun Cheong St.,\\nTseung Kwan O Industrial Estate,\\nTseung Kwan O, N.T.\\nHong Kong\\ncontact_TC: lam wun chi\\nintroduction_TC: 作為領先市場的一站式物流解決方案平台，Spaceship 銳意顛覆傳統物流行業，我們的使命是要徹底改變人們對國際快遞服務的概念。\\n通過Spaceship的各大快遞服務合作夥伴，我們的用戶可以享受獨家折扣，我們並在300多個國家和地區提供點對點運送服務。通過技術進步和大數據分析，Spaceship旨在讓每個人享受方便的物流服務。\\n與Spaceship一起，不再受地域限制，隨時保持聯繫。\\nproduct_TC: 作為領先市場的一站式物流解決方案平台，Spaceship 通過與各大快遞服務合作夥伴，配以科技應用、人性化設計和大數據分析，使物流變得前所未有的簡便。\\nname_SC: Spaceship (HK) Limited\\naddress_SC: Unit 1111-1116, 11/F,\\nData Technology Hub, 5 Chun Cheong St.,\\nTseung Kwan O Industrial Estate,\\nTseung Kwan O, N.T.\\nHong Kong\\ncontact_SC: lam wun chi\\nintroduction_SC: 作为领先市场的一站式物流解决方案平台，Spaceship 锐意颠覆传统物流行业，我们的使命是要彻底改变人们对国际快递服务的概念。\\n通过Spaceship的各大快递服务合作伙伴，我们的用户可以享受到独家折扣，我们在300多个国家和地区提供点对点运送服务。通过技术进步和大数据分析，Spaceship旨在让每个人享受方便的物流服务。\\n与Spaceship一起，不再收地域限制，随时保持联系。\\nproduct_SC: 作为领先市场的一站式物流解决方案平台，Spaceship 通过与各大快递服务合作伙伴，配以科技应用、人性化设计和大数据分析，使物流变得前所未有的简便。' metadata={'source': 'Spaceship (HK) Limited', 'row': 1191}\n",
      "\n",
      "\n",
      "\n",
      "\n",
      "page_content='\\ufeffcluster: Green Technology\\ncluster_TC: 綠色科技\\ncluster_SC: 绿色科技\\ntelephone: 21173965\\nfax: \\nemail: admin@mconstudio.com\\nname_EN: M Concept Studio Limited\\nwebsite: https://mconstudio.com\\nINFO: \\nSUMMAR: \\nPRIMARY: \\nSUB: \\naddress_EN: Unit 1013 10/F, Building 19W,\\nNo. 19 Science Park West Avenue,\\nHong Kong Science Park,Pak Shek Kok,NT.\\ncontact_EN: Ms. Alice Cheung\\nintroduction_EN: M Concept Studio Ltd.’ is a company engaged in design, supply, install, R&D, testing/commissioning and operation &\\nmaintenance of an innovative green technology - “Wellness Environmental Control System (ECS)” for building that\\nadopts a system of radiant cooling panels working in combination of special fresh air supply units. This green\\nWellness ECS technology can completely replace traditional air-conditioning (AC) design and has many advantages\\nover traditional AC system.\\nproduct_EN: Radiant panel System is more energy efficient compared with conventional VAV System due to the superior energy performance of radiant panel System. The overall cooling load is around 40% less compared to central chiller system using AHUs\\nname_TC: 萬有概念工作室有限公司\\naddress_TC: Unit 1013 10/F, Building 19W,\\nNo. 19 Science Park West Avenue,\\nHong Kong Science Park,Pak Shek Kok,NT.\\ncontact_TC: Ms. Alice Cheung\\nintroduction_TC: \\nproduct_TC: \\nname_SC: 萬有概念工作室有限公司\\naddress_SC: Unit 1013 10/F, Building 19W,\\nNo. 19 Science Park West Avenue,\\nHong Kong Science Park,Pak Shek Kok,NT.\\ncontact_SC: Ms. Alice Cheung\\nintroduction_SC: \\nproduct_SC: ' metadata={'source': 'M Concept Studio Limited', 'row': 372}\n",
      "\n",
      "\n",
      "\n",
      "\n",
      "page_content='\\ufeffcluster: Information Communications Technology\\ncluster_TC: 資訊及通訊科技\\ncluster_SC: 资讯及通讯科技\\ntelephone: +852 94188066\\nfax: \\nemail: i@in3dme.com\\nname_EN: IN 3D Limited\\nwebsite: http://www.in3d-ltd.com\\nINFO: \\nSUMMAR: \\nPRIMARY: \\nSUB: \\naddress_EN: Rm A, 20/F, Kwai Bo Industrial Building,\\n40 Wong Chuk Hang Road,\\nAberdeen, Hong Kong\\ncontact_EN: Ms. Tina Vu\\nintroduction_EN: Introduced in 2016, our core solution IN3D HUB provides instant 3D human model / motion visualization for ARVR. Comprising a self-developed IoT scanner, an automation system and an ARVR App, IN3D HUB supports many applications including digital twin, virtual training, virtual museum, 3D/360 VR Interior, 3D/4D living and different types of entertainment in the Metaverse.\\nproduct_EN: \\nname_TC: 立體驗有限公司\\naddress_TC: Rm A, 20/F, Kwai Bo Industrial Building,\\n40 Wong Chuk Hang Road,\\nAberdeen, Hong Kong\\ncontact_TC: Ms. Tina Vu\\nintroduction_TC: 立體驗有限公司成立於2016年，我們的核心解決方案IN3D HUB系統適用於ARVR，能提供即時3D人體模型/運動可視化。系統由自家開發的物聯網掃描儀、自動化系統和ARVR應用程序組成，能應用於數字形象、虛擬培訓和虛擬博物館、3D/360 VR室內設計，以及元界中的3D/4D生活和娛樂，用途廣泛。\\nproduct_TC: \\nname_SC: 立體驗有限公司\\naddress_SC: Rm A, 20/F, Kwai Bo Industrial Building,\\n40 Wong Chuk Hang Road,\\nAberdeen, Hong Kong\\ncontact_SC: Ms. Tina Vu\\nintroduction_SC: “立体验”有限公司成立于2016年，我们的核心解决方案IN3D HUB系统适用于ARVR，能提供实时3D人体模型/运动可视化。系统由自家开发的物联网扫描仪、自动化系统和ARVR应用程序组成，能应用于数字孪生、虚拟培训和虚拟博物馆、3D/360 VR室内设计，以及元宇宙中的3D/4D生活和娱乐，用途相当广泛。\\nproduct_SC: ' metadata={'source': 'IN 3D Limited', 'row': 611}\n",
      "\n",
      "\n",
      "\n",
      "\n",
      "page_content='\\ufeffcluster: Material and Precision Engineering\\ncluster_TC: 新物料及精密工程\\ncluster_SC: 新物料及精密工程\\ntelephone: \\nfax: \\nemail: info@o-spheres.com\\nname_EN: O-Spheres Limited\\nwebsite: https://o-spheres.com/\\nINFO: \\nSUMMAR: \\nPRIMARY: \\nSUB: \\naddress_EN: Unit 1017, 10/F, Building 19W,\\nNo. 19 Science Park West Avenue,\\nHong Kong Science Park, Pak Shek Kok, N.T.\\ncontact_EN: Professor To Ngai\\nintroduction_EN: We are: \\n• “O” – Pursuing infinite innovations to build a greener globe as our vision\\n• “Spheres” – Embracing our core technology, “hollow microspheres” as a solution to tackle the world’s environmental challenges\\n• With the innovative hollow microsphere technology as the core technology, O-Spheres is committed to providing customized R&D and production services that help customers of different industries achieve different product goals. In addition to overcoming the current market pain points with the core technology, the company also upholds the value of the United Nations’ \"Sustainable Development Goals (SDGs)\", aiming to alleviate environmental challenges through innovations.\\n\\nWe offer: \\n• Eco-physical UV filters to eradicate the microplastics associated with personal care products\\n• Market-leading anti-sedimentation white ink to revolutionize the ink production without VOC emission\\n• Customised hollow microsphere manufacturing service\\nproduct_EN: \\nname_TC: 奧圓科技有限公司\\naddress_TC: Unit 1017, 10/F, Building 19W,\\nNo. 19 Science Park West Avenue,\\nHong Kong Science Park, Pak Shek Kok, N.T.\\ncontact_TC: Professor To Ngai\\nintroduction_TC: 繁體中文 - 公司簡介 * \\t我們是: \\n• “O” – 追求無限創新，建設更綠色的地球是我們的願景\\n• “Spheres” – 採用我們的核心技術「空心微球」作為應對世界環境挑戰的解決方案\\n• 「O-Spheres奧圓科技」致力以創新的中空微球技術，為不同行業的客戶提供定製化研發及生產服務，助其達至不同的產品目標。除了克服目前一般市場的痛點之外，公司亦秉承聯合國「可持續發展目標」的價值，透過創新科技去解決各種環保問題。\\n\\n我們提供: \\n• 環保物理防曬因子以應對個人護理產品中的微塑料問題\\n• 革新的白色油墨，具備領先市場的防沉降效果，免排放揮發性有機物\\n• 定制中空微球製造服務\\nproduct_TC: \\nname_SC: 奧圓科技有限公司\\naddress_SC: Unit 1017, 10/F, Building 19W,\\nNo. 19 Science Park West Avenue,\\nHong Kong Science Park, Pak Shek Kok, N.T.\\ncontact_SC: Professor To Ngai\\nintroduction_SC: 我们是: \\n• “O” – 追求无限创新，建设更绿色的地球是我们的愿景\\n• “Spheres” – 采用我们的核心技术「空心微球」作为应对世界环境挑战的解决方案\\n• 「O-Spheres奥圆科技」致力以创新的中空微球技术，为不同行业的客户提供定制化研发及生产服务，助其达至不同的产品目标。除了克服目前一般市场的痛点之外，公司亦秉承联合国「可持续发展目标」的价值，透过创新科技去解决各种环保问题。\\n\\n我们提供: \\n• 环保的物理防晒因子以应对与个人护理产品中的微塑料问题\\n• 革新的白色油墨，具备领先市场的防沉降效果，免排放挥发性有机物\\n• 定制中空微球制造服务\\nproduct_SC: ' metadata={'source': 'O-Spheres Limited', 'row': 527}\n",
      "\n",
      "\n",
      "\n",
      "\n",
      "page_content='\\ufeffcluster: Design\\ncluster_TC: 設計領域\\ncluster_SC: 设计领域\\ntelephone: \\nfax: \\nemail: \\nname_EN: Toppan Printing Co., (H.K.) Limited\\nwebsite: http://www.toppan.com.hk\\nINFO: \\nSUMMAR: \\nPRIMARY: \\nSUB: \\naddress_EN: \\ncontact_EN: \\nintroduction_EN: \\nproduct_EN: \\nname_TC: Toppan Printing Co., (H.K.) Limited\\naddress_TC: \\ncontact_TC: \\nintroduction_TC: \\nproduct_TC: \\nname_SC: Toppan Printing Co., (H.K.) Limited\\naddress_SC: \\ncontact_SC: \\nintroduction_SC: \\nproduct_SC: ' metadata={'source': 'Toppan Printing Co., (H.K.) Limited', 'row': 661}\n",
      "\n",
      "\n",
      "\n",
      "\n",
      "page_content='\\ufeffcluster: Electronics\\ncluster_TC: 電子\\ncluster_SC: 电子\\ntelephone: \\nfax: \\nemail: \\nname_EN: Boxland Hong Kong Limited\\nwebsite: http://www.boxland-hk.com\\nINFO: \\nSUMMAR: \\nPRIMARY: \\nSUB: \\naddress_EN: \\ncontact_EN: \\nintroduction_EN: Boxland Hong Kong Limited is dedicated to provide a wide variety of cloud computing iR-Furniture (Intelligent Retail Furniture) for data-collecting purpose. Jointly invented by the experienced IT experts and furniture manufacturers, Boxland has developed a wide range of smart furniture, including showcases, cabinets, Fitting room etc.\\nproduct_EN: iR-Furniture is a Hong Kong Brand and all planning, researching, designing and manufacturing processes are carried out by our Research and Development team.  Incorporated with the latest RFID and cloud computing technologies, iR-Furniture equips with powerful features for inventory control and management. With software applications, users can gain immediate access to the database to stock-take and monitor the iR-Furniture status. Most importantly, integration of the online and offline systems facilitates users to collect, manage and analyze the data more conveniently.\\nname_TC: 電子盒香港有限公司\\naddress_TC: \\ncontact_TC: \\nintroduction_TC: 電子盒香港有限公司致力研發一系列雲端傢俬。以科技結合傳統傢俬製作工藝，生產一系列集RFID於一體的智能傢俬，針對鐘錶、珠寶、眼鏡等行業而設，用於收集零售業活動數據、監察運作等功能，產品包括：陳列櫃、背櫃、試身室等\\nproduct_TC: \\nname_SC: 電子盒香港有限公司\\naddress_SC: \\ncontact_SC: \\nintroduction_SC: 电子盒香港有限公司致力研发一系列云端家俬。以科技结合传统家俬制作工艺，生产一系列集RFID于一体的智能家俬，针对钟表、珠宝、眼镜等行业而设，用于收集零售业活动数据、监察运作等功能，产品包括：陈列柜、背柜、试身室等\\nproduct_SC: ' metadata={'source': 'Boxland Hong Kong Limited', 'row': 761}\n",
      "\n",
      "\n",
      "\n",
      "\n",
      "page_content='\\ufeffcluster: Design\\ncluster_TC: 設計領域\\ncluster_SC: 设计领域\\ntelephone: \\nfax: \\nemail: \\nname_EN: Entrepreneur Times Limited\\nwebsite: http://www.entrepreneur-times.com\\nINFO: \\nSUMMAR: \\nPRIMARY: \\nSUB: \\naddress_EN: \\ncontact_EN: \\nintroduction_EN: \\nproduct_EN: \\nname_TC: Entrepreneur Times Limited\\naddress_TC: \\ncontact_TC: \\nintroduction_TC: \\nproduct_TC: \\nname_SC: Entrepreneur Times Limited\\naddress_SC: \\ncontact_SC: \\nintroduction_SC: \\nproduct_SC: ' metadata={'source': 'Entrepreneur Times Limited', 'row': 678}\n",
      "\n",
      "\n",
      "\n",
      "\n",
      "page_content='\\ufeffcluster: Material and Precision Engineering\\ncluster_TC: 新物料及精密工程\\ncluster_SC: 新物料及精密工程\\ntelephone: \\nfax: \\nemail: \\nname_EN: 3D-X (Hong Kong) Limited\\nwebsite: 无\\nINFO: \\nSUMMAR: \\nPRIMARY: \\nSUB: \\naddress_EN: \\ncontact_EN: \\nintroduction_EN: \\nproduct_EN: \\nname_TC: 3D-X (Hong Kong) Limited\\naddress_TC: \\ncontact_TC: \\nintroduction_TC: \\nproduct_TC: \\nname_SC: 3D-X (Hong Kong) Limited\\naddress_SC: \\ncontact_SC: \\nintroduction_SC: \\nproduct_SC: ' metadata={'source': '3D-X (Hong Kong) Limited', 'row': 384}\n",
      "\n",
      "\n",
      "\n",
      "\n",
      "page_content='\\ufeffcluster: Material and Precision Engineering\\ncluster_TC: 新物料及精密工程\\ncluster_SC: 新物料及精密工程\\ntelephone: +852 61315024\\nfax: \\nemail: syncord3D_3dps@outlook.com\\nname_EN: Syncord 3D Technology Limited\\nwebsite: N/A\\nINFO: \\nSUMMAR: \\nPRIMARY: \\nSUB: \\naddress_EN: Unit 918, 9/F, Building 19W,\\nNo. 19 Science Park West Avenue\\nHong Kong Science Park,Pak Shek Kok,N.T.\\ncontact_EN: Mr. Man Fai Chung\\nintroduction_EN: SyNCord’s mission is to be a pioneering 3D printing technology company which revolutionize 3D printing industry. SyNCord’s technology enables 3D printers to produce products from the concept to its completion. We aim to bring the next Generation of 3D printers in the near future that improves the quality of production while minimizing human factors, thus bridging the gaps in current Industry 4.0 paradigm with our proprietary innovative solution.\\nproduct_EN: Syncord 3D Technology Limited has invented an innovative and robust way of 3D printing (Additive Manufacturing). Our technology is about Multi-Axis 3D printing. \\n\\nOur technology includes a proprietary software system of robotics additive manufacturing and a set of hardware configuration which cooperates tilting/rotation printing platform and XY-table to perform stable multi-axis 3D printing. \\n\\nThe hardware configuration is able to perform curve layer printing and multi-directional printing which makes support-free printing core and surface finishing become available. \\nThe proprietary software controls every motion precisely according to sensors’ feedback. It synchronizes the 3D object orientation and printing head motion to print out high quality 3D object smoothly. \\n\\nSyncord’s technology is making 3D printing to be more comprehensive and influencing the way to do rapid prototyping and manufacturing to make higher industrial automation.\\nname_TC: Syncord 3D Technology Limited\\naddress_TC: Unit 918, 9/F, Building 19W,\\nNo. 19 Science Park West Avenue\\nHong Kong Science Park,Pak Shek Kok,N.T.\\ncontact_TC: Mr. Man Fai Chung\\nintroduction_TC: SyNCord的使命是成為一家開創性的3D打印技術公司去促進3D打印行業的成長。 SyNCord的技術使3D打印機能夠生產出高質量的打印模型，從而使產品的初期概念到量產無縫銜接。我們的目標是在不久的將來推出下一代3D打印機，提高生產質量，同時最大限度地減少人為因素，從而逐漸融入工業4.0時代。\\n\\n在現今3D打印行業中，存在兩個不完善的方面，包括生產質量和生產自動化。 SyNCord的誕生是為了解決這兩個問題，我們的產品用自家研發的先進3D打印技術去解決以上問題。\\n\\n我們的產品五軸3D打印機，配備著傾斜和旋轉平台。和傳統的3D打印機不一樣的地方是，我們利用額外的自由度，允許在任意方向上進行打印。它通過同步五個自由度，打印3D模型。這使得“Syncker”能夠打印出無支撐結構以及超光滑表面處理的3D模型，這有助於減少時間和成本並提高產品質量。\\nproduct_TC: 新弦聯動有限公司研發了一種具有創新性的3D打印方式（增材製造）- 多軸3D 打印。\\n\\n我們的技術包括獨家研發的機器人增材製造軟件系統以及一套硬件設備，可與傾斜/旋轉打印平台和XY工作台配合使用以執行穩定的多軸3D打印。\\n硬件配置能夠執行曲面打印以及多方向打印，這使得無支撐打印核心和表面精加工成為可能。\\n\\n專有軟件根據傳感器的反饋精確控制每一個動作，使3D模型的朝向和打印噴頭運動同步，以平滑地打印出高質量的3D模型。\\n我們公司的技術使3D打印變得更加全面，並希望能改善快速成型的製造方式達致生產自動化。\\nname_SC: Syncord 3D Technology Limited\\naddress_SC: Unit 918, 9/F, Building 19W,\\nNo. 19 Science Park West Avenue\\nHong Kong Science Park,Pak Shek Kok,N.T.\\ncontact_SC: Mr. Man Fai Chung\\nintroduction_SC: SyNCord的使命是成为一家开创性的3D打印技术公司去促进3D打印行业的成长。 SyNCord的技术使3D打印机能够生产出高质量的打印模型，从而使产品的初期概念到量产无缝衔接。我们的目标是在不久的将来推出下一代3D打印机，提高生产质量，同时最大限度地减少人为因素，从而逐渐融入工业4.0时代。\\n\\n在现今3D打印行业中，存在两个不完善的方面，包括生产质量和生产自动化。 SyNCord的诞生是为了解决这两个问题，我们的产品用自家研发的先进3D打印技术去解决以上问题。\\n\\n我们的产品五轴3D打印机，配备著倾斜和旋转平台。和传统的3D打印机不一样的地方是，我们利用额外的自由度，允许在任意方向上进行打印。它通过同步五个自由度，打印3D模型。这使得“Syncker”能够打印出无支撑结构以及超光滑表面处理的3D模型，这有助于减少时间和成本并提高产品质量。\\nproduct_SC: 新弦联动有限公司研发了一种具有创新性的3D打印方式（增材製造）- 多轴3D 打印。\\n\\n我们的技术包括独家研发的机器人增材製造软件系统以及一套硬件设备，可与倾斜/旋转打印平台和XY工作台配合使用以执行稳定的多轴3D打印。\\n硬件配置能够执行曲面打印以及多方向打印，这使得无支撑打印核心和表面精加工成为可能。\\n\\n专有软件根据传感器的反馈精确控制每一个动作，使3D模型的朝向和打印喷头运动同步，以平滑地打印出高质量的3D模型。\\n我们公司的技术使3D打印变得更加全面，并希望能改善快速成型的製造方式达致生产自动化。进行转换。' metadata={'source': 'Syncord 3D Technology Limited', 'row': 1252}\n",
      "\n",
      "\n",
      "\n",
      "\n",
      "page_content=\"\\ufeffcluster: Information Communications Technology\\ncluster_TC: 資訊及通訊科技\\ncluster_SC: 资讯及通讯科技\\ntelephone: '+852 63327551\\nfax: \\nemail: INTUVISION2021@GMAIL.COM\\nname_EN: IntuVision Limited\\nwebsite: \\nINFO: \\nSUMMAR: \\nPRIMARY: \\nSUB: \\naddress_EN: Lion Rock 72, 1/F, InnoCentre\\n72 Tat Chee Avenue\\nKowloon Tong, Kowloon\\ncontact_EN: Mr. Joseph TSANG\\nintroduction_EN: IntuVision is a construction innovation startup dedicated to improving communication efficiency between construction parties. In construction projects, office and site teams are often separated by great physical distances, making it challenging for one to communicate or provide continuous in-person guidance to the other – an issue that has already incurred over billions USD per year in remedial costs. \\n\\nWe understand that our industry has a desperate need for truly user-friendly, practical and safe innovations that leverage the power of recent advancements in Building Information Modelling (BIM) and AI for intuitive remote communication. Our flagship product, VisionBuilder, is a seamless and BIM-centric remote communication platform between sites and offices anytime and anywhere. This empowers contractors, consultants and project owners with the ability to effectively collaborate with each other even remotely and thereby increase construction productivity.\\nproduct_EN: To pioneer the first seamless remote collaboration platform for construction, we provide three unique offerings: \\n\\nCollaboVision for allowing office and site teams to collaborate in real-time using video chat and live annotations; \\n\\nSuperVision for automatically projecting BIMs onto site structures without needing to scan QR codes or perform manual adjustments; \\n\\nReVision for automatically saving design changes to a live BIM database to ensure an agile construction process. \\n\\nThese are the three distinct solutions integrated into the VisionBuilder mobile and web platform.\\nname_TC: IntuVision Limited\\naddress_TC: Lion Rock 72, 1/F, InnoCentre\\n72 Tat Chee Avenue\\nKowloon Tong, Kowloon\\ncontact_TC: Mr. Joseph TSANG\\nintroduction_TC: IntuVision 是一家致力於提升工程項目溝通效率的初創公司。 我們首創的 ”夢建” 是業界第一個可用於施工的遠程協作平台，協助團隊進行即時決策、更密切的監督以及連接國際施工專家。本公司的宏觀目標是推動有效的遠程工程合作、施工溝通的實時化和信息管理的自動化，並體現於我們推出的三個功能：「共建」、「想建」和「築建」。\\nproduct_TC: 為開創首個遠程施工解決平台，我們提供了包含三個功能的桌面和流動應用程式： \\n\\nCollaboVision允許辦公室和地盤團隊使用視頻聊天和實時注釋進行遠程合作；\\n\\nSuperVision 能將BIM自動投影到地盤上，並無需掃描二維碼或進行手動調整；\\n\\nReVision 自動將設計中的任何變更保存到BIM資料庫中，以確保施工過程的敏捷性。 \\n\\n這三個不同方案均結合於 VisionBuilder 的手機和網頁平台中。\\nname_SC: IntuVision Limited\\naddress_SC: Lion Rock 72, 1/F, InnoCentre\\n72 Tat Chee Avenue\\nKowloon Tong, Kowloon\\ncontact_SC: Mr. Joseph TSANG\\nintroduction_SC: IntuVision 是一家致力於提升工程项目沟通效率的初创公司。 我们首创的 ”梦建” 是业界第一个可用於施工的远程协作平台，协助团队进行即时决策丶更密切的监督以及连接国际施工专家。本公司的宏观目标是推动有效的远程工程合作丶施工沟通的实时化和信息管理的自动化，并体现於我们推出的三个功能：「共建」丶「想建」和「筑建」。\\nproduct_SC: 为开创首个远程施工解决平台，我们提供了包含三个功能的桌面和流动应用程式： \\n\\nCollaboVision允许办公室和地盘团队使用视频聊天和实时注释进行远程合作；\\n\\nSuperVision 能将BIM自动投影到地盘上，并无需扫描二维码或进行手动调整；\\n\\nReVision 自动将设计中的任何变更保存到BIM资料库中，以确保施工过程的敏捷性。 \\n\\n这三个不同方案均结合於 VisionBuilder 的手机和网页平台中。\" metadata={'source': 'IntuVision Limited', 'row': 420}\n",
      "\n",
      "\n",
      "\n",
      "\n",
      "page_content='\\ufeffcluster: Material and Precision Engineering\\ncluster_TC: 新物料及精密工程\\ncluster_SC: 新物料及精密工程\\ntelephone: \\nfax: \\nemail: \\nname_EN: INNOPLAY LIMITED\\nwebsite: http://www.innoplay.com.hk\\nINFO: \\nSUMMAR: \\nPRIMARY: \\nSUB: \\naddress_EN: \\ncontact_EN: \\nintroduction_EN: Successful innovation demands more than a good strategic plan; it requires creative improvisation. Much of the \"serious play\" that leads to breakthrough innovations is increasingly linked to experiments with models, prototypes, and simulations. Unlimited innovation execution for different users to capture their moment , anytime anywhere and any situation, Capture and share their moment. with over 10-year experience in the innovative product development, now closely collaborates with engineers and doctoral to work out professional and innovation projects.\\nproduct_EN: INNOPLAY mainly Focus on Research And Development on New System and Technology. \\nDesign service / Mechanical and Electric Engineering / Apps and Algorithm development for photo and video technology \\n1. Photographer and video robotic system\\n2. Precision electronic photograph Automation\\n3. Innovation tripod and photo and video new accessory\\nname_TC: 真善美創新科技有限公司\\naddress_TC: \\ncontact_TC: \\nintroduction_TC: 成功的創新要求不僅僅是一個好的戰略計劃; 它需要創造性。 導致突破性創新的“認真地投入`”大部分與大膽假設,勇於實驗悉悉相關。\\n\\n無限創新, 為不同的用戶捕捉他們的時刻，隨時隨地和任何情況，捕捉和分享他們的時刻。 擁有超過10年的創新產品開發經驗，現在與工程師和博士緊密合作，制定專業和創新項目。\\nproduct_TC: INNOPLAY豐富開發經驗，強大博士及工程,設計團隊，廣泛客源，成功開發例子得到全球最大攝影商(Manfrotto)採購，及是香港理工大學初創計劃成員及香港科學園初創計劃成員，有三個潛力重點開發項目，\\n1. 攝影機械人\\n2. 精準電子雲台\\n3. 創新腳架及攝影設備\\nname_SC: 真善美創新科技有限公司\\naddress_SC: \\ncontact_SC: \\nintroduction_SC: 成功的创新要求不仅仅是一个好的战略计划; 它需要创造性。 导致突破性创新的“认真地投入`”大部分与大胆假设,勇於实验悉悉相关。\\n\\n无限创新, 为不同的用户捕捉他们的时刻，随时随地和任何情况，捕捉和分享他们的时刻。 拥有超过10年的创新产品开发经验，现在与工程师和博士紧密合作，制定专业和创新项目。\\nproduct_SC: INNOPLAY丰富开发经验，强大博士及工程,设计团队，广泛客源，成功开发例子得到全球最大摄影商(Manfrotto)采购，及是香港理工大学初创计划成员及香港科学园初创计划成员，有三个潜力重点开发项目，\\n1. 摄影机械人\\n2. 精准电子云台\\n3. 创新脚架及摄影设备' metadata={'source': 'INNOPLAY LIMITED', 'row': 703}\n",
      "\n",
      "\n",
      "\n",
      "\n",
      "page_content='\\ufeffcluster: Material and Precision Engineering\\ncluster_TC: 新物料及精密工程\\ncluster_SC: 新物料及精密工程\\ntelephone: \\nfax: \\nemail: \\nname_EN: INTELLIGENT CAD/CAM TECHNOLOGY LIMITED\\nwebsite: http://www.ict.com.hk\\nINFO: \\nSUMMAR: \\nPRIMARY: \\nSUB: \\naddress_EN: \\ncontact_EN: \\nintroduction_EN: Intelligent CAD/CAM Technology Ltd. (ICT) is a leading CAD/CAM solution provider based in HK.  We offers advanced 3D technologies and innovative applications in CAD/CAM market.   We focus software R&D, implement and technical services for CAD/CAM solutions. We developed our own product 3DQuickMold which is 3D parametric plastic mold design software.\\nICT has 7 total offices for sales and customer support center in south and east China. The branches located in Shenzhen, Dongguan, Guangzhou, Zhuhai, Suzhou and Shanghai. We have been serving over 6,500 customers across industries, education and governmental organization.\\nproduct_EN: \\nname_TC: 智誠科技有限公司\\naddress_TC: \\ncontact_TC: \\nintroduction_TC: 智誠科技有限公司 (Intelligent CAD/CAM Technology Ltd., ICT) 是一家集3D軟、硬件銷售、技術培訓和技術支持的公司。我們的宗旨是運用完善的工程系統、以專業的服務為香港及中國的制造商提供一流的3D解決方案；為制造業的工程從業人員提供優質的3D軟、硬件技術培訓和技術支持；力求我們的客戶在最短的時間內設計最佳的產品。\\n\\n自信，誠信，團隊協作是ICT人員一貫的精神。正是秉承這種精神，經過廿十年的持續發展，ICT已在香港、深圳、廣州、東莞、珠海、上海及蘇州等地成立了分支機構。 \\n\\nICT服務過的客戶超過6500家，遍及了香港、華南及華東區等工業領域、教育行業及政府機構。\\nproduct_TC: \\nname_SC: 智誠科技有限公司\\naddress_SC: \\ncontact_SC: \\nintroduction_SC: 智诚科技有限公司 (Intelligent CAD/CAM Technology Ltd., ICT) 是一家集3D软、硬件销售、技术培训和技术支持的公司。我们的宗旨是运用完善的工程系统、以专业的服务为香港及中国的制造商提供一流的3D解决方案；为制造业的工程从业人员提供优质的3D软、硬件技术培训和技术支持；力求我们的客户在最短的时间内设计最佳的产品。\\n\\n自信，诚信，团队协作是ICT人员一贯的精神。正是秉承这种精神，经过廿十年的持续发展，ICT已在香港、深圳、广州、东莞、珠海、上海及苏州等地成立了分支机构。 \\n\\nICT服务过的客户超过6500家，遍及了香港、华南及华东区等工业领域、教育行业及政府机构。\\nproduct_SC: ' metadata={'source': 'INTELLIGENT CAD/CAM TECHNOLOGY LIMITED', 'row': 839}\n",
      "\n",
      "\n",
      "\n",
      "\n",
      "page_content='\\ufeffcluster: Material and Precision Engineering\\ncluster_TC: 新物料及精密工程\\ncluster_SC: 新物料及精密工程\\ntelephone: \\nfax: \\nemail: \\nname_EN: Universal Aerospace Solutions Company Limited\\nwebsite: www.uasgrp.com\\nINFO: \\nSUMMAR: \\nPRIMARY: \\nSUB: \\naddress_EN: \\ncontact_EN: \\nintroduction_EN: \\nproduct_EN: \\nname_TC: Universal Aerospace Solutions Company Limited\\naddress_TC: \\ncontact_TC: \\nintroduction_TC: \\nproduct_TC: \\nname_SC: Universal Aerospace Solutions Company Limited\\naddress_SC: \\ncontact_SC: \\nintroduction_SC: \\nproduct_SC: ' metadata={'source': 'Universal Aerospace Solutions Company Limited', 'row': 451}\n",
      "\n",
      "\n",
      "\n",
      "\n",
      "page_content='\\ufeffcluster: Material and Precision Engineering\\ncluster_TC: 新物料及精密工程\\ncluster_SC: 新物料及精密工程\\ntelephone: N/A\\nfax: \\nemail: info@i2cool.com\\nname_EN: I2Cool Limited\\nwebsite: http://i2cool.com/\\nINFO: \\nSUMMAR: \\nPRIMARY: \\nSUB: \\naddress_EN: Unit 527, 5/F, Building 19W\\nNo. 19 Science Park West Avenue\\nHong Kong Science Park, Pak Shek Kok, N.T.\\ncontact_EN: Dr. Martin Zhu\\nintroduction_EN: i2Cool, a technology-based startup incubated by the CityU HK Tech 300 programme, aims to promote a novel energy-free and environment-friendly passive radiative cooling paint (patented in Hong Kong) for energy-saving and decarbonisation, achieving net-zero buildings. The self-developed and high-performance paint has an edge in solar reflection and thermal emission, resulting in significant sub-ambient cooling effect without consuming electricity and ozone-depleting refrigerants. We will collaborate with different parties and organisations in building, energy and paint industries to effectively demonstrate and promote our paint products. Continuous product and business upgrade will also be conducted to maintain our technical competence and business sustainability. The ultimate goal of i2Cool is to achieve remarkable environmental and social impacts, mitigating energy shortage and climate change, while facilitating overall sustainable development and economic growth in China towards carbon neutrality.\\nproduct_EN: To catch up with global energy transition trends, i2Cool, co-founded by a group of young professionals and scientists from City University of Hong Kong (CityU) who are keen to protect our environment and improve quality of life of human beings through the research outcome in June 2021, is dedicated to advancing the passive radiative cooling technology for energy saving. Unlike traditional air-conditioning systems, the passive radiative cooling is an energy-free and refrigerant-free cooling technology that reflects incoming solar irradiance, while emitting thermal radiation to the cold universe, thereby achieving sub-ambient cooling. \\nSupported by the CityU HK tech 300 programme, i2Cool has substantially extended the application scenarios of our technology – Passive Radiative Cooling Paint, iPaint, in the past few months, which contributes to enormous amount of energy saved and carbon emissions reduced. Energy crisis is an international problem. It is crucial to facilitate sustainable energy use and electricity-saving technology around the world for possible solutions. To propel global energy transformation, i2Cool has established two strategic directions: (1) expanding into global market, and (2) developing novel, diversified energy-saving products.\\nname_TC: 創冷科技有限公司\\naddress_TC: Unit 527, 5/F, Building 19W\\nNo. 19 Science Park West Avenue\\nHong Kong Science Park, Pak Shek Kok, N.T.\\ncontact_TC: Dr. Martin Zhu\\nintroduction_TC: i2Cool (創冷科技) 是一家由香港城市大學HK Tech 300項目孵化的科技初創。團隊旨在推廣一種自行研發的零耗能、無需製冷劑的被動式輻射製冷塗料（已獲香港專利），實現節能減碳。該塗料利用寒冷的外太空作為製冷源頭，可通過高效的太陽反射和中紅外熱輻射，實現低於環境溫度的製冷效果，有效節省空調耗能。我們將積極與建築、能源和油漆行業合作，在各種應用情境下展示推廣我們的產品。我們還將持續地進行產品研發升級，以保持技術優勢和商業可持續性。i2Cool預期能帶來可觀的環境和社會影響，緩解能源短缺和氣候變化，推動國家的整體可持續發展和經濟增長，邁向碳中和。\\nproduct_TC: 為了滿足社會對能源轉型的需求，i2Cool於2021年成立，致力於推廣其自行研發的被動輻射製冷技術及更多創新節能科技。有別於傳統的空調系統，被動輻射製冷技術能反射絕大多數太陽光，同時有效地將熱量以中紅外方式往外輻射，毋須能源或製冷劑便可達至降溫效果。\\n過去幾個月，在香港城市大學「HK Tech 300」創業計劃的培育下，i2Cool的技術 – 無電製冷塗層iPaint已成功在香港廣泛地落地應用，有助大量減少能源消耗及碳排放。能源危機是國際議題，世界各地都需要參與可持續能源發展和節能技術的研發，才能化解危機。為達至推動全球能源轉型的目標，i2Cool訂立了兩大發展方向：(1) 拓展國際業務，以及(2) 研發更多創新、多元化的節能產品。\\nname_SC: 創冷科技有限公司\\naddress_SC: Unit 527, 5/F, Building 19W\\nNo. 19 Science Park West Avenue\\nHong Kong Science Park, Pak Shek Kok, N.T.\\ncontact_SC: Dr. Martin Zhu\\nintroduction_SC: i2Cool (创冷科技) 是一家由香港城市大学HK Tech 300项目孵化的科技初创。团队旨在推广一种自行研发的零耗能、无需製冷剂的被动式辐射製冷涂料（已获香港专利），实现节能减碳。该涂料利用寒冷的外太空作为製冷源头，可通过高效的太阳反射和中红外热辐射实现低于环境温度的製冷效果，有效节省空调耗能。我们将积极与建筑、能源和油漆行业合作，在各种应用情境下展示推广我们的产品。我们还将持续地进行产品研发升级，以保持技术优势和商业可持续性。i2Cool预期能带来可观的环境和社会影响，缓解能源短缺和气候变化，推动国家的整体可持续发展和经济增长，迈向碳中和。\\nproduct_SC: 为了满足社会对能源转型的需求，i2Cool于2021年成立，致力于推广其自行研发的被动辐射製冷技术及更多创新节能科技。有别于传统的空调系统，被动辐射製冷技术能反射绝大多数太阳光，同时有效地将热量以中红外方式往外辐射，毋须能源或製冷剂便可达至降温效果。\\n过去几个月，在香港城市大学「HK Tech 300」创业计划的培育下，i2Cool的技术 - 无电製冷涂层iPaint已成功在香港广泛地落地应用，有助大量减少能源消耗及碳排放。能源危机是国际议题，世界各地都需要参与可持续能源发展和节能技术的研发，才能化解危机。为达至推动全球能源转型的目标，i2Cool订立了两大发展方向：(1) 拓展国际业务，以及(2) 研发更多创新、多元化的节能产品。' metadata={'source': 'I2Cool Limited', 'row': 452}\n",
      "\n",
      "\n",
      "\n",
      "\n",
      "page_content='\\ufeffcluster: Information Communications Technology\\ncluster_TC: 資訊及通訊科技\\ncluster_SC: 资讯及通讯科技\\ntelephone: \\nfax: \\nemail: info@buildit.com.hk\\nname_EN: Build.IT Limited\\nwebsite: http://www.buildit.com.hk\\nINFO: \\nSUMMAR: \\nPRIMARY: \\nSUB: \\naddress_EN: \\ncontact_EN: Build.IT Info\\nintroduction_EN: Build.IT is a young and energetic company positioned in the industry as a BIM-centred construction IT service provider. We help our clients benefit form the BIM process, especially during construction, up to the delivery of an as-built model for operation and maintenance by the end user. BIM skill is our prime asset. On top of that, we also provide professional service and advice from our strong team of Building (Arch/Struct/Civil/MEP/QS) and ICT(System and Database) professionals. Customization or web-based database application development services are provided to link BIM components to valuable records for operation or maintenance. Custom programming to achieve 5D Estimation or 6D Facility Management during the BIM process. We work with clients to create BIM-Centred workflow applications as well as to formulate quantity enabled BIM models to save the time on estimating quantities for contract preparation and payments. Build.IT believes that to provide the best quality BIM services, building professionals equipped with BIM skills can best serve our clients.\\nproduct_EN: Build.IT provides the platform for you to keep up with worldwide building technology standards, and help you achieve business goals with 3D BIM.\\n\\n1. BIM Project Collaboration – Autodesk BIM 360 Glue\\nA cloud-based BIM construction collaboration software for Professionals, Project Managers, Suppliers and Owners in construction projects that provides anywhere, anytime access to the latest project models for all stakeholders. Key functions include clash analysis, markup, notifications, immersive view, dimensions and information query and navigation tools.\\n\\n2. Construction Field Management Tool – Autodesk BIM 360 Field\\nA cloud-based mobile application that maintains construction site data and documents in a centralized database. Construction professionals can perform facility management, manage quality and safety checklists, access document & drawing libraries, and maintain site diaries all on a tablet device. With BIM 360 Field they would have all essential information at their fingertips and would no longer have to carry pads of paper and tubes of drawings on the job site.\\n\\n3. 5D Estimating – CostX\\nA useful tool for quantity surveying using BIM models.\\n\\n4. In-house Web/Mobile Systems Development\\nBuild.IT has a team of programmers specializing in web and mobile applications development for the construction industry. Our applications include: Management systems for documents, drawings and site photos in construction projects, Workers Management Systems, Safety Inspections Systems and Add-in tools for Autodesk Revit.\\nOur mobile applications are platform independent and they can be used in both iOS and Android devices.\\nname_TC: 建築資訊顧問有限公司\\naddress_TC: \\ncontact_TC: Build.IT Info\\nintroduction_TC: \\nproduct_TC: \\nname_SC: 建築資訊顧問有限公司\\naddress_SC: \\ncontact_SC: Build.IT Info\\nintroduction_SC: \\nproduct_SC: ' metadata={'source': 'Build.IT Limited', 'row': 767}\n",
      "\n",
      "\n",
      "\n",
      "\n",
      "page_content='\\ufeffcluster: Electronics\\ncluster_TC: 電子\\ncluster_SC: 电子\\ntelephone: +852 59848989\\nfax: \\nemail: adam.plusd@gmail.com\\nname_EN: PLUSD Technology Limited\\nwebsite: https://www.plusd.group/\\nINFO: \\nSUMMAR: \\nPRIMARY: \\nSUB: \\naddress_EN: Unit 223, 2/F, Building 16W, Hong Kong Science Park, Pak Shek Kok, Hong Kong\\ncontact_EN: Mr. Li Da\\nintroduction_EN: Founded in 2014, PlusD is one of the leading optical 3D metrology start-up in HKSTP, providing a comprehensive range of optical inspection services for public organizations and private corporates.\\n\\nOur optical solution services include optical design and installation works for manufacturing quality and monitoring, not only a standard one-off solution with know-how but also provide customized solutions to satisfy manufacturing diversity. We are also engaged in the provision of developing our optical products as well as technical consultation service in the 3D metrology design aspect.\\nproduct_EN: Our core product is a 3D intelligent sensor with high precision, frame rate, and dynamic range. It is a highly integrated micro-small machine vision system that integrates image acquisition, processing and communication functions in a single camera, providing a versatile, modular, exceedingly reliable and accessible machine vision solution that can meet the technical needs of measurement, detection, positioning, identification and control in different industries such as intelligent manufacturing and smart automation.\\nname_TC: 益维科技有限公司\\naddress_TC: Unit 223, 2/F, Building 16W, Hong Kong Science Park, Pak Shek Kok, Hong Kong\\ncontact_TC: 黎达\\nintroduction_TC: PlusD成立於2014年，是香港科技園領先的光場3D測量企業之一，為公共機構和私營企業提供全方位的光學檢測服務。\\n\\n我們致力於3D工業視覺系統的光學設計、開發、製造及維護，幷在工業測量領域，提供多元、標準、客制化的解決方案。此外，我們還提供光學產品的開發和3D測量設計方面的技術諮詢服務。\\nproduct_TC: 我們的核心産品是一款高精度、高幀率、高動態範圍的3D智慧感測器。它一種高度集成化的微小型機器視覺系統，將圖像采集、處理與通信功能集成于單一相機內，提供具有多功能、模組化、高可靠性、易于實現的機器視覺解决方案，能够應對智慧製造等不同行業上的量度、檢測、定位、識別和控制等技術需求。\\nname_SC: 益维科技有限公司\\naddress_SC: Unit 223, 2/F, Building 16W, Hong Kong Science Park, Pak Shek Kok, Hong Kong\\ncontact_SC: 黎达\\nintroduction_SC: PlusD成立于2014年，是香港科技园领先的光场3D测量企业之一，为公共机构和私营企业提供全方位的光学检测服务。\\n\\n我们致力于3D工业视觉系统的光学设计、开发、制造及维护，幷在工业测量领域，提供多元、标准、客制化的解决方案。此外，我们还提供光学产品的开发和3D测量设计方面的技术咨询服务。\\nproduct_SC: 我们的核心产品是一款高精度、高帧率、高动态范围的3D智慧感测器。它一种高度集成化的微小型机器视觉系统，将图像采集、处理与通信功能集成于单一相机内，提供具有多功能、模组化、高可靠性、易于实现的机器视觉解决方案，能够应对智慧制造等不同行业上的量度、检测、定位、识别和控制等技术需求。' metadata={'source': 'PLUSD Technology Limited', 'row': 988}\n",
      "\n",
      "\n",
      "\n",
      "\n",
      "page_content='\\ufeffcluster: Electronics\\ncluster_TC: 電子\\ncluster_SC: 电子\\ntelephone: +852 9790 4597\\nfax: \\nemail: planettrontech@protonmail.com\\nname_EN: Planet Tron Technology Co. Limited\\nwebsite: http://www.planet-tron.com\\nINFO: \\nSUMMAR: \\nPRIMARY: \\nSUB: \\naddress_EN: \\ncontact_EN: Mr. Ka Ho Ng\\nintroduction_EN: Founded in Hong Kong in 2016. Planet Tron Tech is a hi-tech company currently focusing on development of industrial scale 3D printers. Our mission is to enable wide spread use of enterprise large scale 3D printers and bring revolutionary changes to manufactoring sectors.\\nproduct_EN: Planet Tron Tech developed one of the largest FDM 3D printer – The GLIESE series. It is also the 3D printers that is extendable with multi material extrusion system. We are currently developing a robotic arm to perform 3D printings and unlock the size limitation in the printing industry.\\nname_TC: Planet Tron Technology Co. Limited\\naddress_TC: \\ncontact_TC: Mr. Ka Ho Ng\\nintroduction_TC: 創星球科技有限公司成立於2016年，專注於高科技產業。目前我們正在研發及推廣工業規模的大型3D打印機。我們希望推動大型3D打印機的普及化從而為製造業以及其他相關行業帶來突破性的發展。\\nproduct_TC: 創星球科技有限公司已經成功研發及製造了世上最大之一的FDM 3D打印機 - 格利澤系列。它亦同時是一部可以延伸而擴大打印面積的3D打印機。經過我們的特殊設計及改良，格利澤可以完美的進行多物料同時打印。 \\n\\n現在，我們正著手研究下一代的打印科技-以機械臂控制噴頭進行3D打印，從此打印再沒有體積的限制。\\nname_SC: Planet Tron Technology Co. Limited\\naddress_SC: \\ncontact_SC: Mr. Ka Ho Ng\\nintroduction_SC: 创星球科技有限公司成立於2016年，专注於高科技产业。目前我们正在研发及推广工业规模的大型3D打印机。我们希望推动大型3D打印机的普及化从而为制造业以及其他相关行业带来突破性的发展。\\nproduct_SC: 创星球科技有限公司已经成功研发及制造了世上最大之一的FDM 3D打印机 - 格利泽系列。它亦同时是一部可以延伸而扩大打印面积的3D打印机。经过我们的特殊设计及改良，格利泽可以完美的进行多物料同时打印。 \\n\\n现在，我们正着手研究下一代的打印科技-以机械臂控制喷头进行3D打印，从此打印再没有体积的限制。' metadata={'source': 'Planet Tron Technology Co. Limited', 'row': 705}\n",
      "\n",
      "\n",
      "\n",
      "\n",
      "page_content='\\ufeffcluster: Design\\ncluster_TC: 設計領域\\ncluster_SC: 设计领域\\ntelephone: \\nfax: \\nemail: \\nname_EN: CG Global Entertainment Limited\\nwebsite: \\nINFO: \\nSUMMAR: \\nPRIMARY: \\nSUB: \\naddress_EN: \\ncontact_EN: \\nintroduction_EN: \\nproduct_EN: \\nname_TC: CG Global Entertainment Limited\\naddress_TC: \\ncontact_TC: \\nintroduction_TC: \\nproduct_TC: \\nname_SC: CG Global Entertainment Limited\\naddress_SC: \\ncontact_SC: \\nintroduction_SC: \\nproduct_SC: ' metadata={'source': 'CG Global Entertainment Limited', 'row': 648}\n",
      "\n",
      "\n",
      "\n",
      "\n"
     ]
    }
   ],
   "source": [
    "for i in range(0,20):\n",
    "    \n",
    " print(docs[i])\n",
    " print(\"\\n\")\n",
    " print(\"\\n\")"
   ]
  },
  {
   "cell_type": "code",
   "execution_count": 244,
   "id": "b8c11466",
   "metadata": {},
   "outputs": [
    {
     "data": {
      "text/plain": [
       "Document(page_content=\"\\ufeffcluster: Green Technology\\ncluster_TC: 綠色科技\\ncluster_SC: 绿色科技\\ntelephone: +852 60101089\\nfax: \\nemail: lo.j@duracell.com\\nname_EN: Duracell Hong Kong Limited\\nwebsite: www.duracell.com\\nINFO: Duracell is a renowned battery brand that offers a wide range of products, including AA, AAA, rechargeable, and coin button batteries. The website highlights their Coppertop and Optimum AA and AAA batteries, which are formulated with patented POWER BOOST™ Ingredients. Duracell Lithium Coin batteries are designed for various devices, ensuring reliable and long-lasting power. These batteries come with innovative safety features, including a non-toxic, bitter coating to prevent accidental ingestion. Duracell is also committed to community service, with programs like PowerForward that assist families affected by natural disasters.\\nSUMMAR: Based on the information provided, I would categorize Duracell under the following:\\n\\nPrimary Category: Electronic Technology  \\nThe company manufactures batteries for electronic devices.\\n\\nSubcategory: Consumer Electronics  \\nDuracell's batteries power a wide range of consumer electronics products.   \\n\\nPrimary Category: Materials & Precision Engineering  \\nProduction of Duracell's batteries requires expertise in materials science and precision manufacturing.   \\n\\nSubcategory: Advanced Material Research     \\nThe patented ingredients and coating technology show innovation in materials research.    \\n\\nIn summary, the key aspects of Duracell's business are:\\n\\n- Manufacture and sale of various types of batteries    \\n- Products include AA, AAA, rechargeable and coin button batteries\\n- Batteries specifically formulated and designed for consumer and electronic devices  \\n- Utilize innovations in materials research and precision manufacturing processes\\n\\nDuracell aims to provide reliable and long-lasting battery power for consumers through patented technologies and safety features.\\n\\nDoes this categorization and summary accurately reflect your understanding of Duracell based on the information provided? Let me know if you would classify the company differently or require clarification.\\nPRIMARY: \\nSUB: \\naddress_EN: Unit 705, 722 and 723, Enterprise Place,\\nNo. 5 Science Park West Avenue,\\nHong Kong Science Park, Pak Shek Kok,\\nHong Kong\\ncontact_EN: Ms. Jane Lo\\nintroduction_EN: \\nproduct_EN: \\nname_TC: 金霸王香港有限公司\\naddress_TC: Unit 705, 722 and 723, Enterprise Place,\\nNo. 5 Science Park West Avenue,\\nHong Kong Science Park, Pak Shek Kok,\\nHong Kong\\ncontact_TC: Ms. Jane Lo\\nintroduction_TC: \\nproduct_TC: \\nname_SC: 金霸王香港有限公司\\naddress_SC: Unit 705, 722 and 723, Enterprise Place,\\nNo. 5 Science Park West Avenue,\\nHong Kong Science Park, Pak Shek Kok,\\nHong Kong\\ncontact_SC: Ms. Jane Lo\\nintroduction_SC: \\nproduct_SC: \", metadata={'source': 'Duracell Hong Kong Limited', 'row': 332})"
      ]
     },
     "execution_count": 244,
     "metadata": {},
     "output_type": "execute_result"
    }
   ],
   "source": [
    "docs[1]."
   ]
  },
  {
   "cell_type": "code",
   "execution_count": 254,
   "id": "2f916672",
   "metadata": {},
   "outputs": [
    {
     "data": {
      "text/plain": [
       "Document(page_content=\"\\ufeffcluster: Green Technology\\ncluster_TC: 綠色科技\\ncluster_SC: 绿色科技\\ntelephone: +852 60101089\\nfax: \\nemail: lo.j@duracell.com\\nname_EN: Duracell Hong Kong Limited\\nwebsite: www.duracell.com\\nINFO: Duracell is a renowned battery brand that offers a wide range of products, including AA, AAA, rechargeable, and coin button batteries. The website highlights their Coppertop and Optimum AA and AAA batteries, which are formulated with patented POWER BOOST™ Ingredients. Duracell Lithium Coin batteries are designed for various devices, ensuring reliable and long-lasting power. These batteries come with innovative safety features, including a non-toxic, bitter coating to prevent accidental ingestion. Duracell is also committed to community service, with programs like PowerForward that assist families affected by natural disasters.\\nSUMMAR: Based on the information provided, I would categorize Duracell under the following:\\n\\nPrimary Category: Electronic Technology  \\nThe company manufactures batteries for electronic devices.\\n\\nSubcategory: Consumer Electronics  \\nDuracell's batteries power a wide range of consumer electronics products.   \\n\\nPrimary Category: Materials & Precision Engineering  \\nProduction of Duracell's batteries requires expertise in materials science and precision manufacturing.   \\n\\nSubcategory: Advanced Material Research     \\nThe patented ingredients and coating technology show innovation in materials research.    \\n\\nIn summary, the key aspects of Duracell's business are:\\n\\n- Manufacture and sale of various types of batteries    \\n- Products include AA, AAA, rechargeable and coin button batteries\\n- Batteries specifically formulated and designed for consumer and electronic devices  \\n- Utilize innovations in materials research and precision manufacturing processes\\n\\nDuracell aims to provide reliable and long-lasting battery power for consumers through patented technologies and safety features.\\n\\nDoes this categorization and summary accurately reflect your understanding of Duracell based on the information provided? Let me know if you would classify the company differently or require clarification.\\nPRIMARY: \\nSUB: \\naddress_EN: Unit 705, 722 and 723, Enterprise Place,\\nNo. 5 Science Park West Avenue,\\nHong Kong Science Park, Pak Shek Kok,\\nHong Kong\\ncontact_EN: Ms. Jane Lo\\nintroduction_EN: \\nproduct_EN: \\nname_TC: 金霸王香港有限公司\\naddress_TC: Unit 705, 722 and 723, Enterprise Place,\\nNo. 5 Science Park West Avenue,\\nHong Kong Science Park, Pak Shek Kok,\\nHong Kong\\ncontact_TC: Ms. Jane Lo\\nintroduction_TC: \\nproduct_TC: \\nname_SC: 金霸王香港有限公司\\naddress_SC: Unit 705, 722 and 723, Enterprise Place,\\nNo. 5 Science Park West Avenue,\\nHong Kong Science Park, Pak Shek Kok,\\nHong Kong\\ncontact_SC: Ms. Jane Lo\\nintroduction_SC: \\nproduct_SC: \", metadata={'source': 'Duracell Hong Kong Limited', 'row': 332})"
      ]
     },
     "execution_count": 254,
     "metadata": {},
     "output_type": "execute_result"
    }
   ],
   "source": [
    "docs[1]"
   ]
  },
  {
   "cell_type": "code",
   "execution_count": null,
   "id": "5b92faa8",
   "metadata": {},
   "outputs": [],
   "source": [
    "columns = ['cluster', 'cluster_TC', 'cluster_SC', 'telephone', 'fax', 'email',\n",
    "       'name_EN', 'website', 'INFO', 'SUMMAR', 'PRIMARY', 'SUB', 'address_EN',\n",
    "       'contact_EN', 'introduction_EN', 'product_EN', 'name_TC', 'address_TC',\n",
    "       'contact_TC', 'introduction_TC', 'product_TC', 'name_SC', 'address_SC',\n",
    "       'contact_SC', 'introduction_SC', 'product_SC']"
   ]
  },
  {
   "cell_type": "code",
   "execution_count": 258,
   "id": "18de6121",
   "metadata": {},
   "outputs": [
    {
     "data": {
      "text/plain": [
       "Index(['cluster', 'cluster_TC', 'cluster_SC', 'telephone', 'fax', 'email',\n",
       "       'name_EN', 'website', 'INFO', 'SUMMAR', 'PRIMARY', 'SUB', 'address_EN',\n",
       "       'contact_EN', 'introduction_EN', 'product_EN', 'name_TC', 'address_TC',\n",
       "       'contact_TC', 'introduction_TC', 'product_TC', 'name_SC', 'address_SC',\n",
       "       'contact_SC', 'introduction_SC', 'product_SC'],\n",
       "      dtype='object')"
      ]
     },
     "execution_count": 258,
     "metadata": {},
     "output_type": "execute_result"
    }
   ],
   "source": [
    "df.columns"
   ]
  },
  {
   "cell_type": "code",
   "execution_count": 252,
   "id": "be7fdaee",
   "metadata": {},
   "outputs": [
    {
     "data": {
      "text/plain": [
       "332"
      ]
     },
     "execution_count": 252,
     "metadata": {},
     "output_type": "execute_result"
    }
   ],
   "source": [
    "docs[1].metadata['row']"
   ]
  },
  {
   "cell_type": "code",
   "execution_count": 256,
   "id": "5847671b",
   "metadata": {},
   "outputs": [
    {
     "data": {
      "text/plain": [
       "cluster                                             Green Technology\n",
       "cluster_TC                                                      綠色科技\n",
       "cluster_SC                                                      绿色科技\n",
       "telephone                                              +852 60101089\n",
       "fax                                                              NaN\n",
       "email                                              lo.j@duracell.com\n",
       "name_EN                                   Duracell Hong Kong Limited\n",
       "website                                             www.duracell.com\n",
       "INFO               Duracell is a renowned battery brand that offe...\n",
       "SUMMAR             Based on the information provided, I would cat...\n",
       "PRIMARY                                                          NaN\n",
       "SUB                                                              NaN\n",
       "address_EN         Unit 705, 722 and 723, Enterprise Place,\\nNo. ...\n",
       "contact_EN                                               Ms. Jane Lo\n",
       "introduction_EN                                                  NaN\n",
       "product_EN                                                       NaN\n",
       "name_TC                                                    金霸王香港有限公司\n",
       "address_TC         Unit 705, 722 and 723, Enterprise Place,\\nNo. ...\n",
       "contact_TC                                               Ms. Jane Lo\n",
       "introduction_TC                                                  NaN\n",
       "product_TC                                                       NaN\n",
       "name_SC                                                    金霸王香港有限公司\n",
       "address_SC         Unit 705, 722 and 723, Enterprise Place,\\nNo. ...\n",
       "contact_SC                                               Ms. Jane Lo\n",
       "introduction_SC                                                  NaN\n",
       "product_SC                                                       NaN\n",
       "Name: 332, dtype: object"
      ]
     },
     "execution_count": 256,
     "metadata": {},
     "output_type": "execute_result"
    }
   ],
   "source": [
    "df.loc[332]"
   ]
  },
  {
   "cell_type": "code",
   "execution_count": 58,
   "id": "72492922",
   "metadata": {},
   "outputs": [],
   "source": [
    "from langchain.chains import RetrievalQA\n",
    "from langchain.document_loaders import TextLoader\n",
    "from langchain.embeddings.openai import OpenAIEmbeddings\n",
    "from langchain.llms import OpenAI\n",
    "from langchain.text_splitter import CharacterTextSplitter\n",
    "from langchain.vectorstores import Chroma"
   ]
  },
  {
   "cell_type": "code",
   "execution_count": 59,
   "id": "db6deb7f",
   "metadata": {},
   "outputs": [
    {
     "name": "stdout",
     "output_type": "stream",
     "text": [
      "\u001b[33mDEPRECATION: textract 1.6.5 has a non-standard dependency specifier extract-msg<=0.29.*. pip 23.3 will enforce this behaviour change. A possible replacement is to upgrade to a newer version of textract or contact the author to suggest that they release a version with a conforming dependency specifiers. Discussion can be found at https://github.com/pypa/pip/issues/12063\u001b[0m\u001b[33m\n",
      "\u001b[0mNote: you may need to restart the kernel to use updated packages.\n"
     ]
    }
   ],
   "source": [
    "pip install -q openai langchain playwright beautifulsoup4"
   ]
  },
  {
   "cell_type": "code",
   "execution_count": 58,
   "id": "1cee2385",
   "metadata": {},
   "outputs": [],
   "source": [
    "from langchain.document_loaders import UnstructuredHTMLLoader"
   ]
  },
  {
   "cell_type": "code",
   "execution_count": 22,
   "id": "b0a2c6d2",
   "metadata": {},
   "outputs": [],
   "source": [
    "from langchain.document_loaders import AsyncChromiumLoader\n",
    "from langchain.document_transformers import BeautifulSoupTransformer"
   ]
  },
  {
   "cell_type": "code",
   "execution_count": 23,
   "id": "f3ac7f2f",
   "metadata": {},
   "outputs": [],
   "source": [
    "from langchain.document_loaders import AsyncHtmlLoader\n",
    "urls = [\"https://www.espn.com\", \"https://lilianweng.github.io/posts/2023-06-23-agent/\"]\n",
    "loader = AsyncHtmlLoader(urls)"
   ]
  },
  {
   "cell_type": "code",
   "execution_count": 69,
   "id": "c31cd381",
   "metadata": {},
   "outputs": [],
   "source": [
    "subcategories = {\n",
    "    \"Biotechnology\": [\"Biopharmaceuticals\", \"Bioinformatics\", \"Medical Devices\", \"Clinical Research\", \"Pharmaceutical Technology\"],\n",
    "    \"Electronic Technology\": [\"Electronic Design Automation\", \"Integrated Circuit Design\", \"Consumer Electronics\", \"Advanced Manufacturing\", \"Automotive Electronics\"],\n",
    "    \"ICT (Information and Communication Technology)\": [\"Software Development\", \"Big Data & Data Analysis\", \"Artificial Intelligence & Machine Learning\", \"Blockchain Technology\", \"Cloud Computing\", \"Web3 Technology\", \"Mobile Internet\"],\n",
    "    \"Green Technology\": [\"Environmental Protection Technology\", \"Energy Efficiency Solutions\", \"Renewable Energy Technology\", \"Water Resource Management Technology\", \"Waste Treatment Technology\"],\n",
    "    \"Materials & Precision Engineering\": [\"Advanced Material Research\", \"Nanotechnology\", \"Optoelectronics\", \"Mechanical Automation\", \"3D Printing Technology\"],\n",
    "    \"Digital Entertainment & Design\": [\"Game Development\", \"Animation & Film Production\", \"Virtual Reality & Augmented Reality\", \"Product & Industrial Design\", \"Metaverse Virtual Socialization\", \"Metaverse Economy & Currency\"],\n",
    "    \"Fintech\": [\"Payment Solutions\", \"Blockchain in Financial Services\", \"Risk Management Tools\", \"Assets & Investment Management Technology\", \"Cryptocurrency & DeFi Solutions\", \"Insurtech\"],\n",
    "    \"Health Technology\": [\"Medical Health Applications\", \"Medical Devices & Technology\", \"Health Management Platform\", \"Elderly Health Care\"],\n",
    "    \"PropTech (Property Technology)\": [\"Real Estate Market Analysis Tools\", \"Virtual Reality Real Estate Showcasing\", \"Property Management & Automation\", \"Real Estate Investment Platform\", \"Leasing & Sharing Economy Solutions\"],\n",
    "    \"Intelligent Robot Technology\": [\"Service Robots\", \"Industrial Robots\", \"Medical Robots\", \"Detection & Search and Rescue Robots\", \"Companion & Educational Robots\", \"Drone Technology\"],\n",
    "    \"Transportation Technology\": [\"Intelligent Transportation\", \"Autonomous Driving\", \"New Energy Vehicles\"],\n",
    "    \"EdTech (Educational Technology)\": [\"Online Education\", \"Smart Learning\"]\n",
    "}"
   ]
  },
  {
   "cell_type": "code",
   "execution_count": 105,
   "id": "47ba0ccc",
   "metadata": {},
   "outputs": [],
   "source": [
    "subcategories_str = str(subcategories).replace(\"'\",\" \").replace(\"{ \",\" \").replace(\"}\",\" \")"
   ]
  },
  {
   "cell_type": "code",
   "execution_count": 120,
   "id": "f89897f9",
   "metadata": {},
   "outputs": [],
   "source": [
    "question = \"According to categories system:\"+subcategories_str +\\\n",
    "\"tell the Primary Category and Subcategory of this company, \\\n",
    "one company can only have one Primary Category and Subcategory, so find the most related one\"+data[100].page_content"
   ]
  },
  {
   "cell_type": "code",
   "execution_count": 121,
   "id": "e788373a",
   "metadata": {},
   "outputs": [],
   "source": [
    "from langchain.output_parsers import StructuredOutputParser, ResponseSchema\n",
    "from langchain.prompts import PromptTemplate, ChatPromptTemplate, HumanMessagePromptTemplate\n",
    "from langchain.llms import OpenAI\n",
    "from langchain.chat_models import ChatOpenAI"
   ]
  },
  {
   "cell_type": "code",
   "execution_count": 122,
   "id": "d84b9edc",
   "metadata": {},
   "outputs": [],
   "source": [
    "response_schemas = [\n",
    "    ResponseSchema(name=\"answer\", description=\"answer to the user's question\"),\n",
    "    ResponseSchema(name=\"Primary Category\",description=\"tell the primary category according to the answer\"),\n",
    "    ResponseSchema(name=\"Subcategory\",description=\"tell the Subcategory according to the answer\"),\n",
    "    ResponseSchema(name=\"Reason\", description=\"reason why you get this answer\")\n",
    "]\n",
    "output_parser = StructuredOutputParser.from_response_schemas(response_schemas)"
   ]
  },
  {
   "cell_type": "code",
   "execution_count": 123,
   "id": "2c9e8337",
   "metadata": {},
   "outputs": [],
   "source": [
    "format_instructions = output_parser.get_format_instructions()\n",
    "prompt = PromptTemplate(\n",
    "    template=\"answer the users question as best as possible.\\n{format_instructions}\\n{question}\",\n",
    "    input_variables=[\"question\"],\n",
    "    partial_variables={\"format_instructions\": format_instructions}\n",
    ")"
   ]
  },
  {
   "cell_type": "code",
   "execution_count": 124,
   "id": "77ec6044",
   "metadata": {},
   "outputs": [],
   "source": [
    "model = OpenAI(temperature=0)"
   ]
  },
  {
   "cell_type": "code",
   "execution_count": 125,
   "id": "9ce2d676",
   "metadata": {},
   "outputs": [],
   "source": [
    "_input = prompt.format_prompt(question=question)\n",
    "output = model(_input.to_string())"
   ]
  },
  {
   "cell_type": "code",
   "execution_count": 126,
   "id": "a040a6f1",
   "metadata": {},
   "outputs": [
    {
     "data": {
      "text/plain": [
       "'\\n\\n```json\\n{\\n\\t\"answer\": \"Microbiota I-Center (MagIC) Limited is a company that focuses on advancing science in the gut microbiome and promoting entrepreneurship.\",\\n\\t\"Primary Category\": \"Biotechnology, Health Technology\",\\n\\t\"Subcategory\": \"Bioinformatics, Medical Health Applications\",\\n\\t\"Reason\": \"The company focuses on advancing science in the gut microbiome and promoting entrepreneurship, which falls under the categories of Biotechnology and Health Technology, and the subcategories of Bioinformatics and Medical Health Applications.\"\\n}\\n```'"
      ]
     },
     "execution_count": 126,
     "metadata": {},
     "output_type": "execute_result"
    }
   ],
   "source": [
    "output"
   ]
  },
  {
   "cell_type": "code",
   "execution_count": 127,
   "id": "0bae3f15",
   "metadata": {},
   "outputs": [
    {
     "data": {
      "text/plain": [
       "'According to categories system Biotechnology : [ Biopharmaceuticals ,  Bioinformatics ,  Medical Devices ,  Clinical Research ,  Pharmaceutical Technology ],  Electronic Technology : [ Electronic Design Automation ,  Integrated Circuit Design ,  Consumer Electronics ,  Advanced Manufacturing ,  Automotive Electronics ],  ICT (Information and Communication Technology) : [ Software Development ,  Big Data & Data Analysis ,  Artificial Intelligence & Machine Learning ,  Blockchain Technology ,  Cloud Computing ,  Web3 Technology ,  Mobile Internet ],  Green Technology : [ Environmental Protection Technology ,  Energy Efficiency Solutions ,  Renewable Energy Technology ,  Water Resource Management Technology ,  Waste Treatment Technology ],  Materials & Precision Engineering : [ Advanced Material Research ,  Nanotechnology ,  Optoelectronics ,  Mechanical Automation ,  3D Printing Technology ],  Digital Entertainment & Design : [ Game Development ,  Animation & Film Production ,  Virtual Reality & Augmented Reality ,  Product & Industrial Design ,  Metaverse Virtual Socialization ,  Metaverse Economy & Currency ],  Fintech : [ Payment Solutions ,  Blockchain in Financial Services ,  Risk Management Tools ,  Assets & Investment Management Technology ,  Cryptocurrency & DeFi Solutions ,  Insurtech ],  Health Technology : [ Medical Health Applications ,  Medical Devices & Technology ,  Health Management Platform ,  Elderly Health Care ],  PropTech (Property Technology) : [ Real Estate Market Analysis Tools ,  Virtual Reality Real Estate Showcasing ,  Property Management & Automation ,  Real Estate Investment Platform ,  Leasing & Sharing Economy Solutions ],  Intelligent Robot Technology : [ Service Robots ,  Industrial Robots ,  Medical Robots ,  Detection & Search and Rescue Robots ,  Companion & Educational Robots ,  Drone Technology ],  Transportation Technology : [ Intelligent Transportation ,  Autonomous Driving ,  New Energy Vehicles ],  EdTech (Educational Technology) : [ Online Education ,  Smart Learning ] tell the Primary Category and Subcategory of this company, it can have multyple Primary Category and Subcategory \\ufeffcluster: InnoHK\\ncluster_TC: 創新香港研發平台\\ncluster_SC: 创新香港研发平台\\ntelephone: +852 3979 8610\\nfax: \\nemail: contact@magic-inno.hk\\nname_EN: MICROBIOTA I-CENTER (MAGIC) LIMITED\\nwebsite: https://www.magic-inno.com\\nINFO: \\nSUMMAR: \\nPRIMARY: \\nSUB: \\naddress_EN: \\ncontact_EN: Ms. Cherrie Keung\\nintroduction_EN: Just as Magic is science yet to be discovered, the Microbiota I-Center (MagIC) harnesses and translates the human microbiome into cutting-edge innovations for early disease detection and prevention. MagIC focuses on advancing science in the gut microbiome and promoting entrepreneurship. It is committed to developing a novel class of microbiome diagnostics and live biotherapeutics for common diseases including obesity, cancer, autism, inflammatory disorders, and COVID-19, that will not only transform the lives of patients and their families but also accelerate Hong Kong into a world-class microbiome biotechnology hub.\\nproduct_EN: \\nname_TC: 香港微生物菌群創新中心有限公司\\naddress_TC: \\ncontact_TC: Ms. Cherrie Keung\\nintroduction_TC: \\nproduct_TC: \\nname_SC: 香港微生物菌群創新中心有限公司\\naddress_SC: \\ncontact_SC: Ms. Cherrie Keung\\nintroduction_SC: \\nproduct_SC: '"
      ]
     },
     "execution_count": 127,
     "metadata": {},
     "output_type": "execute_result"
    }
   ],
   "source": [
    "question"
   ]
  },
  {
   "cell_type": "code",
   "execution_count": 139,
   "id": "596b08ba",
   "metadata": {},
   "outputs": [],
   "source": [
    "chat_model = ChatOpenAI(temperature=0,model_name='gpt-4')"
   ]
  },
  {
   "cell_type": "code",
   "execution_count": 129,
   "id": "ccab7c16",
   "metadata": {},
   "outputs": [],
   "source": [
    "prompt = ChatPromptTemplate(\n",
    "    messages=[\n",
    "        HumanMessagePromptTemplate.from_template(\"answer the users question as best as possible.\\n{format_instructions}\\n{question}\")  \n",
    "    ],\n",
    "    input_variables=[\"question\"],\n",
    "    partial_variables={\"format_instructions\": format_instructions}\n",
    ")"
   ]
  },
  {
   "cell_type": "code",
   "execution_count": 130,
   "id": "4a836499",
   "metadata": {},
   "outputs": [],
   "source": [
    "_input = prompt.format_prompt(question=question)\n",
    "output = chat_model(_input.to_messages())"
   ]
  },
  {
   "cell_type": "code",
   "execution_count": 149,
   "id": "905ff7c6",
   "metadata": {},
   "outputs": [
    {
     "data": {
      "text/plain": [
       "{'answer': 'Aifin Technology Co., Limited',\n",
       " 'Primary Category': 'ICT (Information and Communication Technology)',\n",
       " 'Subcategory': 'Artificial Intelligence & Machine Learning, Software Development, Big Data & Data Analysis',\n",
       " 'Reason': 'Aifin Technology Co., Limited specializes in artificial intelligence and machine learning solutions for the banking and financial sectors. They have developed various AI applications and systems for banking services and use big data analytics to analyze customer behaviors and make targeted product recommendations.'}"
      ]
     },
     "execution_count": 149,
     "metadata": {},
     "output_type": "execute_result"
    }
   ],
   "source": [
    "output_parser.parse(output.content)"
   ]
  },
  {
   "cell_type": "code",
   "execution_count": 176,
   "id": "d653025e",
   "metadata": {},
   "outputs": [
    {
     "data": {
      "text/plain": [
       "Document(page_content=\"\\ufeffcluster: Information Communications Technology\\ncluster_TC: 資訊及通訊科技\\ncluster_SC: 资讯及通讯科技\\ntelephone: \\nfax: \\nemail: \\nname_EN: Carbon Exchange (Hong Kong) Limited\\nwebsite: http://www.carbonexchange.net\\nINFO: \\nSUMMAR: \\nPRIMARY: \\nSUB: \\naddress_EN: \\ncontact_EN: \\nintroduction_EN: Carbon Exchange is a carbon management company. We aim at developing a green future through innovation for green finance and pathfinding for green investment.\\nWe meet our customers' demand to:\\n1. Increase transparency of ESG reporting\\n2. Enhance investment quality for carbon reduction projects\\nWe promote measurable, verifiable and reportable approaches with our expertise and innovation, such as SaaS and AI, to improve the transparency of financial and green returns and project investability. We have been involved in more than 1,000 projects to prove our approach workable, and we are serving more for a greener future.\\nproduct_EN: One of our flagship products, SMART 610, is a smart energy audit tool. It supports various clients  to\\n•cut their energy cost, and \\n•be compliant with government regulations and ESG requirements.\\nIt is a PropTech SaaS that conducts energy audits in a more cost-effective manner than conventional energy audits. It supports property owners, banks, investors and consultants to find energy cost-cutting investment opportunities in buildings, helping them to save energy more efficiently and to be on track to carbon neutrality.\\nname_TC: 香港碳交易有限公司\\naddress_TC: \\ncontact_TC: \\nintroduction_TC: 香港碳交易有限公司為一家碳管理公司，旨在通過開發各種綠色金融創新科技及方案，配對資金和綠色項目，促進綠色金融的市場發展。\\n我們相信通過以下的方式，能夠增加綠色金融客戶參與市場的信心：\\n1. 提高 ESG 報告的透明度\\n2. 提升低碳專案的質素與減碳量\\n為了使綠色項目更具投資價值，本公司以可量度、可驗證和可報告的方式，為客戶有效減少碳排放，實現碳中和。我們曾參與1,000多個節能環保專案，顯示這個方式的可行性。\\nproduct_TC: 我們其中一個研發的產品SMART 610，是一種智慧能源審計工具，可為客户\\n• 減少能耗費用\\n• 符合能源效益法例及ESG要求\\nSMART 610是一個房地產科技的服務化軟件，以更快速、節省人力的方式進行能源審計。服務對象包括業主、銀行、投資者、環保工程顧問等，為他們找出節能投資機會，支持各行各業透過節能，達到碳中和的目標。\\nname_SC: 香港碳交易有限公司\\naddress_SC: \\ncontact_SC: \\nintroduction_SC: 香港碳交易有限公司为一家碳管理公司。本公司旨在通过开发各种绿色金融创新科技及方案，配对资金和绿色项目，促进绿色金融的市场发展。\\n我们相信通过以下的方式，能够增加绿色金融客户参与的市场信心：\\n1. 提高 ESG 报告的透明度\\n2. 提升低碳项目的质量与减碳量\\n为了使绿色项目更具投资价值，本公司以可量度、可验证和可报告的方式，为客户有效减少碳排放，实现碳中和。我们曾参与1,000多个节能环保项目，显示这个方式的可行性。\\nproduct_SC: 我们其中一个研发的产品，SMART 610，是一种智慧能源审计工具。可为客户\\n• 减少能耗费用\\n• 符合能源效益法例及ESG要求\\nSMART 610是一个房地产科技的服务化软件，以更快速、节省人力的方式进行能源审计。服务对象包括业主、银行、投资者、环保工程顾问等，为他们找出节能投资机会，支持各产业节能，达到碳中和的目标。\", metadata={'source': 'Carbon Exchange (Hong Kong) Limited', 'row': 923})"
      ]
     },
     "execution_count": 176,
     "metadata": {},
     "output_type": "execute_result"
    }
   ],
   "source": [
    "data[i]"
   ]
  },
  {
   "cell_type": "code",
   "execution_count": 190,
   "id": "49d2f51a",
   "metadata": {},
   "outputs": [
    {
     "name": "stdout",
     "output_type": "stream",
     "text": [
      "1023\n",
      "{'answer': 'Next Drive Limited', 'Primary Category': 'ICT (Information and Communication Technology), Transportation Technology, EdTech (Educational Technology)', 'Subcategory': 'Cloud Computing, Artificial Intelligence & Machine Learning, Virtual Reality & Augmented Reality, Intelligent Transportation, Online Education', 'Reason': 'Next Drive Limited is engaged in motoring training using advanced technology. They have an innovative platform for learning driving skills that uses cloud computing to match users and employs artificial intelligence and virtual reality for motor driving training. This places them in the ICT category under Cloud Computing, AI & Machine Learning, and VR & AR. They also fall under the Transportation Technology category due to their focus on driving training, specifically under Intelligent Transportation. Lastly, their educational aspect places them in the EdTech category under Online Education.'}\n",
      "\n",
      "\n",
      "1024\n",
      "{'answer': 'Based on the information provided, LEVEL Limited can be classified into the following categories: 1. Primary Category: Health Technology 2. Subcategory: Medical Devices & Technology, Health Management Platform, Elderly Health Care', 'Primary Category': 'Health Technology', 'Subcategory': 'Medical Devices & Technology, Health Management Platform, Elderly Health Care', 'Reason': 'LEVEL Limited is a medical startup that specializes in providing accessible hearing aids and hearing tests. Their key offerings include a subtle, high-end hearing aid and a free hearing test that can be taken anywhere, anytime, within 10 minutes. They also provide opportunities for businesses to host innovative and disruptive hearing tests in Hong Kong. By becoming a LEVELUP test point and distribution partner, businesses can diversify their offerings and enhance their visibility.'}\n",
      "\n",
      "\n",
      "1025\n",
      "{'answer': 'BRAVOLINEAR TECH LIMITED', 'Primary Category': 'Green Technology', 'Subcategory': 'Environmental Protection Technology', 'Reason': 'The company Bravolinear Tech is an expert of smart IoT solutions and apparatus. Their technologies have been applied in green tech, data integration, remote monitoring and EV charging. They are the developer and owner of the IAG (IoT Active Greenwall), Aqua (IoT leakage monitoring system) and EV Linear (smart IoT EV charging network). The IoT Active Greenwall (IAG) purifying solution is an innovative biological air filter based on patented design, NASA and on-going university research. It effectively removes pollutants in an indoor environment in a natural manner. IAG is suitable for offices, government departments and public areas.'}\n",
      "\n",
      "\n",
      "1026\n",
      "{'answer': 'Si-Edge Technology Limited', 'Primary Category': 'Electronic Technology', 'Subcategory': 'Consumer Electronics', 'Reason': \"The company is listed under the cluster 'Electronics', which falls under the 'Electronic Technology' primary category. The specific subcategory is not provided, but 'Consumer Electronics' could be a possible subcategory considering the general nature of the company.\"}\n",
      "\n",
      "\n",
      "1027\n",
      "{'answer': 'Follow Trade Technology Limited', 'Primary Category': 'ICT (Information and Communication Technology), Fintech', 'Subcategory': 'Big Data & Data Analysis, Blockchain in Financial Services, Assets & Investment Management Technology', 'Reason': 'The company focuses on developing systems that assist financial institutions in collecting, analyzing and applying transaction data. This falls under the ICT category, specifically Big Data & Data Analysis. Additionally, their work with financial institutions and trading systems places them in the Fintech category, specifically Blockchain in Financial Services and Assets & Investment Management Technology.'}\n",
      "\n",
      "\n",
      "1028\n",
      "{'answer': 'Innodee Limited', 'Primary Category': 'PropTech (Property Technology), Fintech, ICT (Information and Communication Technology)', 'Subcategory': 'Real Estate Investment Platform, Blockchain in Financial Services, Artificial Intelligence & Machine Learning', 'Reason': 'Innodee is a company that combines property technology (PropTech) and financial technology (FinTech) into an intelligent platform to maximize returns on investment (ROI) for real estate development. They provide a digital platform that leverages artificial intelligent technology.'}\n",
      "\n",
      "\n",
      "1029\n",
      "{'answer': 'Based on the information provided, PHASE Scientific can be classified into the following categories: 1. Primary Category: Health Technology 2. Subcategory: Medical Devices & Technology, Health Management Platform, Elderly Health Care', 'Primary Category': 'Health Technology', 'Subcategory': 'Medical Devices & Technology, Health Management Platform, Elderly Health Care', 'Reason': \"PHASE Scientific is a health technology company that offers a range of products and services focused on empowering people and medical professionals with better diagnostic tools and information to make more informed healthcare choices. Their products and services include: INDICAID: At-home rapid tests for COVID-19 and other infectious diseases that can be used anytime, anywhere. PHASE lab: A medical lab powered by PHASiFY technology for detecting cancer and infectious diseases (likely through PCR tests and other diagnostic methods). PHASiFY: DNA/RNA extraction kits powered by PHASiFY technology. PHASE Scientific has a cfDNA extraction kit called PHASiFY MAX that has received certification from China's NMPA.\"}\n",
      "\n",
      "\n",
      "1030\n",
      "{'answer': 'Alta Sicuro Technology Limited falls under multiple categories. The primary categories are Electronic Technology and ICT (Information and Communication Technology). The subcategories are Integrated Circuit Design, Cloud Computing, and Software Development.', 'Primary Category': 'Electronic Technology, ICT (Information and Communication Technology)', 'Subcategory': 'Integrated Circuit Design, Cloud Computing, Software Development', 'Reason': \"The company's co-founder is an expert in IC (Integrated Circuit) design, which is a critical aspect of the company's hardware encryption solutions. They also provide high-performance hardware proxy reencryption technology designed to protect cloud data storage, which falls under cloud computing. While they primarily focus on hardware solutions, it's reasonable to believe they also develop proprietary software as part of their security controllers and cryptographic algorithms.\"}\n",
      "\n",
      "\n",
      "1031\n",
      "{'answer': 'GRN Consultant (Hong Kong) Limited', 'Primary Category': 'Green Technology', 'Subcategory': 'Environmental Protection Technology, Waste Treatment Technology', 'Reason': 'The company focuses on advanced green technology applications and consultancy services in the areas of Food, Hygiene, and Environment. They have developed a technology called Atomized Ozonated Water (AOW®), which is used for air-purification, disinfection, and deodorization. They are also preparing for trials in Public Toilets and Refuse Collection Points (RCP) under the Food and Environmental Hygiene Department (FEHD) to enhance the hygiene level in these utilities. This indicates that they fall under the Environmental Protection Technology and Waste Treatment Technology subcategories of Green Technology.'}\n",
      "\n",
      "\n",
      "1032\n",
      "{'answer': 'Wing & Kwong Company Limited', 'Primary Category': 'Materials & Precision Engineering', 'Subcategory': 'Advanced Material Research', 'Reason': \"The company Wing & Kwong Company Limited is involved in the rebar industry, providing one-stop service including the use of automated equipment and smart management. This falls under the primary category of 'Materials & Precision Engineering' and the subcategory of 'Advanced Material Research'.\"}\n",
      "\n",
      "\n",
      "1033\n",
      "{'answer': 'Tech Hill Limited', 'Primary Category': 'Electronic Technology, ICT (Information and Communication Technology), Intelligent Robot Technology', 'Subcategory': 'Integrated Circuit Design, Artificial Intelligence & Machine Learning, Service Robots', 'Reason': \"Based on the company's description, they are involved in the design and development of artificial intelligence machine learning systems, robotics, and video & image processing. This aligns with the subcategories of Integrated Circuit Design under Electronic Technology, Artificial Intelligence & Machine Learning under ICT, and Service Robots under Intelligent Robot Technology.\"}\n",
      "\n",
      "\n"
     ]
    },
    {
     "name": "stdout",
     "output_type": "stream",
     "text": [
      "1034\n",
      "{'answer': 'Based on the provided information, Jedies Advance can be categorized as follows:\\n\\nPrimary Category: ICT (Information and Communication Technology)\\nSubcategory: Artificial Intelligence & Machine Learning, Big Data & Data Analysis', 'Primary Category': 'ICT (Information and Communication Technology)', 'Subcategory': 'Artificial Intelligence & Machine Learning, Big Data & Data Analysis', 'Reason': 'Jedies Advance is an AI solutions company that develops AI-powered solutions using natural language processing, data analytics, and AI engines. They offer AI customer service chatbots, sales promotion bots, market trend bots, data analytics services, and AI consulting. These products and services align with the subcategories of Artificial Intelligence & Machine Learning and Big Data & Data Analysis under the ICT (Information and Communication Technology) primary category.'}\n",
      "\n",
      "\n",
      "1035\n",
      "{'answer': 'iRobot (HK) Limited', 'Primary Category': 'Electronic Technology', 'Subcategory': 'Consumer Electronics, Advanced Manufacturing', 'Reason': \"iRobot is a company that specializes in robotic solutions, particularly in the home cleaning sector. Their key offerings include robotic vacuum cleaners, robot mops, handheld vacuum cleaners, and air purifiers. These products fall under the subcategories of Consumer Electronics and Advanced Manufacturing within the Electronic Technology primary category. iRobot's focus on developing innovative robotic devices for consumer use aligns with these classifications.\"}\n",
      "\n",
      "\n",
      "1036\n",
      "{'answer': 'J&K Brassiere Co., Limited', 'Primary Category': 'ICT (Information and Communication Technology), Health Technology', 'Subcategory': 'Artificial Intelligence & Machine Learning, Medical Devices & Technology', 'Reason': 'The company uses artificial intelligence for a unique body-to-bra matching system, which falls under the ICT category and the subcategory of Artificial Intelligence & Machine Learning. Also, the system involves body scanning, which can be considered a medical device, thus falling under the Health Technology category and the subcategory of Medical Devices & Technology.'}\n",
      "\n",
      "\n",
      "1037\n",
      "{'answer': 'Caviar Technology Limited', 'Primary Category': 'ICT (Information and Communication Technology)', 'Subcategory': 'Software Development', 'Reason': 'Caviar Technology Limited is a start-up company that specializes in IT solutions, particularly in the development of an Electronic Voucher Solution (EVS). This falls under the category of Information and Communication Technology, specifically Software Development.'}\n",
      "\n",
      "\n",
      "1038\n",
      "{'answer': 'Datago Technology Limited', 'Primary Category': 'ICT (Information and Communication Technology), Fintech', 'Subcategory': 'Big Data & Data Analysis, Artificial Intelligence & Machine Learning, Blockchain in Financial Services, Risk Management Tools', 'Reason': 'Datago Technology Limited is a financial technology company primarily focused on providing Chinese text data analytics. They leverage big data and artificial intelligence technologies to process large-scale text data from comprehensive sources like news, reports, and social media. They provide quantitative and easy-to-use structured data analytics for the capital market in mainland China and Hong Kong. They also provide risk management solutions and due diligence investigation.'}\n",
      "\n",
      "\n",
      "1039\n",
      "{'answer': 'Andesfit System Limited', 'Primary Category': 'Health Technology', 'Subcategory': 'Health Management Platform', 'Reason': 'The company Andesfit System Limited is primarily involved in Health Technology, specifically in the Health Management Platform subcategory. This is because they provide vital sign measurement, smart health cloud management, and health data analysis for aging health management. They also offer a healthcare management platform that integrates health Internet of Things (IoT), health cloud platforms, and medical resources.'}\n",
      "\n",
      "\n",
      "1040\n",
      "{'answer': 'Jita Biotechnology Limited', 'Primary Category': 'Biotechnology', 'Subcategory': 'Not specified', 'Reason': \"The company name 'Jita Biotechnology Limited' suggests that it falls under the 'Biotechnology' primary category. However, without additional information, the specific subcategory cannot be determined.\"}\n",
      "\n",
      "\n",
      "1041\n",
      "{'answer': 'ECOINNO (H.K.) LIMITED', 'Primary Category': 'Materials & Precision Engineering', 'Subcategory': 'Advanced Material Research', 'Reason': 'The company Ecoinno (H.K.) Limited is based in Hong Kong Science Park and focuses on developing multiple categories of products using a naturally occurring biopolymer. This falls under the category of Materials & Precision Engineering, specifically Advanced Material Research.'}\n",
      "\n",
      "\n",
      "1042\n",
      "{'answer': 'Aerosim (HK) Limited', 'Primary Category': 'Electronic Technology', 'Subcategory': 'Advanced Manufacturing', 'Reason': 'Aerosim (HK) Limited is a company that specializes in the production of Synthetic Flight Training Devices (FTD). This falls under the Electronic Technology category as it involves the use of electronic systems and devices. The subcategory is Advanced Manufacturing as the company is involved in the design, construction, calibration, maintenance, and development of these devices.'}\n",
      "\n",
      "\n",
      "1043\n",
      "{'answer': 'Auto Repair and Service Group (Holding) Limited', 'Primary Category': 'ICT (Information and Communication Technology)', 'Subcategory': 'Software Development', 'Reason': 'The company is developing a mobile app and a network of automotive products and services, which falls under the category of software development in ICT.'}\n",
      "\n",
      "\n",
      "1044\n",
      "{'answer': 'Perfect Planning International Limited', 'Primary Category': 'EdTech (Educational Technology), Electronic Technology', 'Subcategory': 'Online Education, Electronic Design Automation', 'Reason': 'The company provides educational project management services and supports the development of any teaching-related products and services. They employ the latest technology professionals to support the development of any e-learning platform or smart products. This indicates that they operate in the field of Educational Technology, specifically Online Education. Additionally, the use of technology professionals for product development suggests a connection to Electronic Technology, specifically Electronic Design Automation.'}\n",
      "\n",
      "\n",
      "1045\n",
      "{'answer': 'Future Techs International Limited', 'Primary Category': 'ICT (Information and Communication Technology)', 'Subcategory': 'Software Development', 'Reason': 'The company Future Techs International Limited mainly develops hardware-related applications such as controlling hardware with wireless technology, analyzing photos taken by cameras via face recognition technology, etc. This falls under the category of Information and Communication Technology, specifically in the subcategory of Software Development.'}\n",
      "\n",
      "\n",
      "1046\n",
      "{'answer': 'Clustar Technology Limited', 'Primary Category': 'ICT (Information and Communication Technology)', 'Subcategory': 'Artificial Intelligence & Machine Learning', 'Reason': 'The company provides a high-performance and scalable technology stack to enable datacenter-scale deep learning, which falls under the category of Artificial Intelligence & Machine Learning in the ICT sector.'}\n",
      "\n",
      "\n",
      "1047\n",
      "{'answer': 'Watson Medical Data Technologies Limited', 'Primary Category': 'ICT (Information and Communication Technology)', 'Subcategory': 'Big Data & Data Analysis', 'Reason': 'The company name suggests that it is involved in medical data technologies, which falls under the ICT category and specifically the Big Data & Data Analysis subcategory.'}\n",
      "\n",
      "\n",
      "1048\n",
      "{'answer': 'Cypress Bio-Tech Company Limited', 'Primary Category': 'Green Technology', 'Subcategory': 'Environmental Protection Technology', 'Reason': \"The company's product, Anti-MOS Protecting Solution, is a unique textile impregnation treatment that repels biting insects. This can be categorized under Environmental Protection Technology as it contributes to the protection of the environment by reducing the need for harmful insecticides.\"}\n",
      "\n",
      "\n",
      "1049\n",
      "{'answer': 'Wesocial Limited', 'Primary Category': 'ICT (Information and Communication Technology), Digital Entertainment & Design', 'Subcategory': 'Software Development, Web3 Technology, Game Development', 'Reason': 'The company provides services such as WeChat official account management and payment service, social media fan page creation and account management, WeChat mini-app and web development, eShop, web and mobile site and mobile apps development, blogger services, product shooting, video production service, gifts redemption services, and digital media planning. These services fall under the categories of ICT (Information and Communication Technology) and Digital Entertainment & Design, specifically in the subcategories of Software Development, Web3 Technology, and Game Development.'}\n",
      "\n",
      "\n"
     ]
    },
    {
     "name": "stdout",
     "output_type": "stream",
     "text": [
      "1050\n",
      "{'answer': 'Blue Innowater Company Limited', 'Primary Category': 'Green Technology', 'Subcategory': 'Waste Treatment Technology', 'Reason': 'The company is a waste water treatment company with its main product being the SANI® process, a novel wastewater treatment technology. This places it in the Green Technology primary category and the Waste Treatment Technology subcategory.'}\n",
      "\n",
      "\n",
      "1051\n",
      "{'answer': 'SkyHorse Innovation Limited', 'Primary Category': 'ICT (Information and Communication Technology)', 'Subcategory': 'Software Development', 'Reason': 'The company SkyHorse Innovation Limited is primarily involved in the digitisation of basic services through innovative tech solutions. This falls under the Information and Communication Technology category, specifically in the Software Development subcategory as they develop software for shared charging stations, self-service laundry payment systems, smart laundry cabinets system, and smart lockers.'}\n",
      "\n",
      "\n",
      "1052\n",
      "{'answer': 'Tyrehood is primarily categorized under Information and Communication Technology and Electronic Technology. The subcategories are Big Data & Data Analysis and Consumer Electronics respectively.', 'Primary Category': 'Information and Communication Technology, Electronic Technology', 'Subcategory': 'Big Data & Data Analysis, Consumer Electronics', 'Reason': 'Tyrehood is a company that leverages technology to provide better services to drivers. They have developed an online platform for tire shopping and a mobile platform for drivers to seek help in case of tire burstout. They also collect and analyze driving data from their customers. This places them in the Information and Communication Technology category, specifically under Big Data & Data Analysis. Additionally, their development of consumer platforms for tire shopping and assistance in case of tire issues places them in the Electronic Technology category, specifically under Consumer Electronics.'}\n",
      "\n",
      "\n",
      "1053\n",
      "{'answer': 'Creaxon Technologies Inc. Limited', 'Primary Category': 'ICT (Information and Communication Technology), Electronic Technology', 'Subcategory': 'Artificial Intelligence & Machine Learning, Advanced Manufacturing', 'Reason': 'Creaxon Technologies is a Hong Kong-based company that provides advanced computer vision and AI technologies monitoring solutions. They also involve in low power electronics, and system design which falls under Electronic Technology and Advanced Manufacturing subcategory.'}\n",
      "\n",
      "\n",
      "1054\n",
      "{'answer': 'Prevision Technology Limited', 'Primary Category': 'Materials & Precision Engineering', 'Subcategory': 'Advanced Material Research', 'Reason': 'Prevision Technology Limited is a Hong Kong based startup company which focus on developing novel Machine Vision technologies and related products for industrial applications. This falls under the category of Materials & Precision Engineering and the subcategory of Advanced Material Research.'}\n",
      "\n",
      "\n",
      "1055\n",
      "{'answer': 'Hex Technology Limited', 'Primary Category': 'Electronic Technology', 'Subcategory': 'Consumer Electronics', 'Reason': 'Hex Technology Limited is a leading drone hardware manufacturer and solution provider. Their product line includes The Cube series modular flight controller, navigation modules, Herelink long range all-in-one transmission system, and CAN BUS drone accessories. This falls under the category of Electronic Technology and the subcategory of Consumer Electronics.'}\n",
      "\n",
      "\n",
      "1056\n",
      "{'answer': 'APPLIED TECHNOLOGY GROUP LIMITED', 'Primary Category': 'ICT (Information and Communication Technology)', 'Subcategory': 'Not specified', 'Reason': 'The company is listed under the cluster of Information Communications Technology, which corresponds to the ICT (Information and Communication Technology) primary category. However, the specific subcategory within ICT is not provided in the information.'}\n",
      "\n",
      "\n",
      "1057\n",
      "{'answer': 'InnoLab Limited', 'Primary Category': 'ICT (Information and Communication Technology)', 'Subcategory': 'Artificial Intelligence & Machine Learning', 'Reason': 'The company InnoLab Limited is an artificial intelligence company that offers application development services. This places it in the Information and Communication Technology category, specifically under Artificial Intelligence & Machine Learning.'}\n",
      "\n",
      "\n",
      "1058\n",
      "{'answer': 'Appsture Technology Limited', 'Primary Category': 'ICT (Information and Communication Technology)', 'Subcategory': 'Software Development', 'Reason': 'Appsture Technology Limited is a Hong Kong-based startup that has developed a product called Easychat. Easychat is a tool that automates the pre-sale and post-sale process of online stores by developing a continuously learning Chatbot. This falls under the category of Software Development in the ICT (Information and Communication Technology) sector.'}\n",
      "\n",
      "\n",
      "1059\n",
      "{'answer': 'bconduit Limited', 'Primary Category': 'ICT (Information and Communication Technology)', 'Subcategory': 'Big Data & Data Analysis, Artificial Intelligence & Machine Learning', 'Reason': 'The company bconduit Limited uses Big Data technology to implement agile solutions and offers expertise in AI, which falls under the ICT category and specifically the subcategories of Big Data & Data Analysis and Artificial Intelligence & Machine Learning.'}\n",
      "\n",
      "\n",
      "1060\n",
      "{'answer': 'Youguo Technologies Limited', 'Primary Category': 'Electronic Technology, ICT (Information and Communication Technology)', 'Subcategory': 'Consumer Electronics, Software Development', 'Reason': 'The company Youguo Technologies Limited is primarily involved in the development of automated juicing solutions, which falls under the category of Consumer Electronics in Electronic Technology. They also incorporate IoT concepts in their fruit processing, storage, and transportation, which is a part of Software Development in ICT (Information and Communication Technology).'}\n",
      "\n",
      "\n",
      "1061\n",
      "{'answer': 'FreightAmigo Services Limited', 'Primary Category': 'ICT (Information and Communication Technology), Fintech', 'Subcategory': 'Big Data & Data Analysis, Blockchain in Financial Services', 'Reason': 'FreightAmigo is a one-stop supply chain finance eMarketPlace pioneer in Asia, connecting global traders, shippers, financial institutions, insurers and logistics service providers on one platform. The platform integrates sophisticated logistics industry data in real-time through the application of AI, big data analysis, OpenAPI, etc. thereby standardising and streamlining complicated operation processes. On a single platform, clients can also arrange customs clearance, FinTech solution and cargo insurance easily by one click.'}\n",
      "\n",
      "\n",
      "1062\n",
      "{'answer': 'HM Environmental Technologies Limited', 'Primary Category': 'Green Technology', 'Subcategory': 'Waste Treatment Technology', 'Reason': 'The company is involved in the upcycling of wood, which falls under the category of waste treatment. They collect, polish, and reuse unwanted wooden boards, which is a form of environmental protection and waste management. They also plan to incorporate more technological elements to promote wood reuse and recycling in the future.'}\n",
      "\n",
      "\n",
      "1063\n",
      "{'answer': 'August Robotics Limited', 'Primary Category': 'Materials & Precision Engineering', 'Subcategory': 'Advanced Material Research', 'Reason': 'The company is a global robotics and artificial intelligence company, which falls under the category of Materials & Precision Engineering. The subcategory is Advanced Material Research because they are involved in the development of new materials and technologies for robotics.'}\n",
      "\n",
      "\n",
      "1064\n",
      "{'answer': 'Brain Investing Limited', 'Primary Category': 'ICT (Information and Communication Technology), Fintech', 'Subcategory': 'Artificial Intelligence & Machine Learning, Assets & Investment Management Technology', 'Reason': 'The company applies artificial intelligence technologies in building the all-in-one AI-trading Fintech solution for signal mining, strategy building, back testing and optimization. This falls under the ICT category and the subcategory of Artificial Intelligence & Machine Learning. Also, as they are involved in financial trading signals and strategies, they fall under the Fintech category and the subcategory of Assets & Investment Management Technology.'}\n",
      "\n",
      "\n"
     ]
    },
    {
     "name": "stdout",
     "output_type": "stream",
     "text": [
      "1065\n",
      "{'answer': 'Based on the provided information about Manson Webtech and their Doctor Q app, the company can be categorized as follows:\\n\\n1. **Primary Category: ICT (Information and Communication Technology)**\\n   - **Subcategory: Mobile Internet**\\n     **Explanation**: Manson Webtech has developed a healthcare mobile application, Doctor Q, for iOS and Android platforms, placing it firmly within the domain of mobile internet technologies.\\n\\n   - **Subcategory: Software Development**\\n     **Explanation**: They\\'ve designed and developed an application, which involves the process of software development.\\n\\n   - **Subcategory: Big Data & Data Analysis**\\n     **Explanation**: The company maintains a doctor database and content management system, suggesting they handle and analyze a significant amount of data.\\n\\n2. **Primary Category: Health Technology**\\n   - **Subcategory: Medical Health Applications**\\n     **Explanation**: The core product, Doctor Q, is an app designed to facilitate medical appointments and improve the overall healthcare experience for users. This squarely places it in the category of medical health applications.\\n\\n   - **Subcategory: Health Management Platform**\\n     **Explanation**: The Doctor Q app serves as a platform where users can manage their medical appointments, access doctor information, and even get notifications about waiting times. This comprehensive suite of features qualifies it as a health management platform.\\n\\n3. **Primary Category: Fintech**\\n   - **Subcategory: Payment Solutions**\\n     **Explanation**: The mention of \"Payment gateway integration\" indicates that Doctor Q has the capability to handle financial transactions, categorizing it under payment solutions within the Fintech category.\\n\\nIn summary, Manson Webtech\\'s Doctor Q app primarily fits within the \"ICT\" and \"Health Technology\" categories due to its core functions as a mobile application dedicated to improving the medical appointment experience. Additionally, its payment integration capability places it under the \"Fintech\" domain.', 'Primary Category': 'ICT (Information and Communication Technology), Health Technology, Fintech', 'Subcategory': 'Mobile Internet, Software Development, Big Data & Data Analysis, Medical Health Applications, Health Management Platform, Payment Solutions', 'Reason': 'Manson Webtech has developed a healthcare mobile application, Doctor Q, for iOS and Android platforms, which involves software development and data analysis. The app is designed to facilitate medical appointments and improve the overall healthcare experience for users, qualifying it as a medical health application and a health management platform. The app also has payment gateway integration, categorizing it under payment solutions within the Fintech category.'}\n",
      "\n",
      "\n",
      "1066\n",
      "{'answer': \"Based on the provided information about 'Hong Kong Gowin Semiconductor Co., Limited', the company can be classified under the following categories:\\n\\n1. Primary Category: Electronic Technology\\n   - Subcategory: Integrated Circuit Design\\n   - Subcategory: Advanced Manufacturing\\n\\n2. Primary Category: ICT (Information and Communication Technology)\\n   - Subcategory: Artificial Intelligence & Machine Learning\\n   - Subcategory: Software Development\\n\\n3. Primary Category: Health Technology\\n   - Subcategory: Medical Devices & Technology\\n\\n4. Primary Category: Digital Entertainment & Design\\n   - Subcategory: Product & Industrial Design\\n\\n5. Primary Category: Transportation Technology\\n   - Subcategory: Automotive Electronics\", 'Primary Category': 'Electronic Technology, ICT (Information and Communication Technology), Health Technology, Digital Entertainment & Design, Transportation Technology', 'Subcategory': 'Integrated Circuit Design, Advanced Manufacturing, Artificial Intelligence & Machine Learning, Software Development, Medical Devices & Technology, Product & Industrial Design, Automotive Electronics', 'Reason': \"The company's primary focus is on the design and development of Field-Programmable Gate Arrays (FPGAs), which falls under the Electronic Technology category and specifically the Integrated Circuit Design and Advanced Manufacturing subcategories. Their products support AI operations, indicating a role in the ICT category, specifically the Artificial Intelligence & Machine Learning and Software Development subcategories. They serve the medical market, suggesting a role in the Health Technology category and the Medical Devices & Technology subcategory. Their involvement in sectors like LED Display and their broad portfolio including design software, intellectual property (IP) cores, reference designs, and development kits suggest a role in the Digital Entertainment & Design category and the Product & Industrial Design subcategory. Finally, their service to the automotive sector suggests a role in the Transportation Technology category and the Automotive Electronics subcategory.\"}\n",
      "\n",
      "\n",
      "1067\n",
      "{'answer': 'PerformVe Limited', 'Primary Category': 'ICT (Information and Communication Technology)', 'Subcategory': 'Big Data & Data Analysis', 'Reason': 'The company PerformVe Limited provides data analytics solutions, which falls under the category of Information and Communication Technology, specifically in the subcategory of Big Data & Data Analysis.'}\n",
      "\n",
      "\n",
      "1068\n",
      "{'answer': 'AgaMatrix Medical Devices Limited', 'Primary Category': 'Biotechnology', 'Subcategory': 'Medical Devices', 'Reason': 'The company AgaMatrix Medical Devices Limited is primarily involved in the development and manufacturing of medical diagnostics products, specifically in the glucose/diabetes monitoring space. This places it in the Biotechnology primary category, under the Medical Devices subcategory.'}\n",
      "\n",
      "\n",
      "1069\n",
      "{'answer': 'Lambda Sense Limited', 'Primary Category': 'ICT (Information and Communication Technology), Health Technology', 'Subcategory': 'Artificial Intelligence & Machine Learning, Medical Health Applications', 'Reason': \"The company Lambda Sense Limited is an IT startup that focuses on the development of products and services based on Machine Learning technology, which falls under the subcategory of 'Artificial Intelligence & Machine Learning' in the primary category of 'ICT (Information and Communication Technology)'. They are also developing a product for fall detection and prevention for the elderly, which falls under the subcategory of 'Medical Health Applications' in the primary category of 'Health Technology'.\"}\n",
      "\n",
      "\n",
      "1070\n",
      "{'answer': 'Silk Pacific Holdings Limited', 'Primary Category': 'ICT (Information and Communication Technology)', 'Subcategory': 'Software Development', 'Reason': 'Silk Pacific is an intelligent things developer who focus on minimizing operational risks and mistakes for our clients. They build things like smart devices such as labels and buttons to ease their operations, and develop intelligent, scalable and adoptable platforms to enable flexible corporate management for their clients.'}\n",
      "\n",
      "\n",
      "1071\n",
      "{'answer': 'AnApp Technologies Limited', 'Primary Category': 'Electronic Technology', 'Subcategory': 'Consumer Electronics', 'Reason': \"The company is listed under the cluster 'Electronics', which falls under the 'Electronic Technology' primary category. The specific subcategory is not provided, but 'Consumer Electronics' could be a possible subcategory considering the company's website (https://www.iotw.io) which indicates they are involved in IoT, a field often associated with consumer electronics.\"}\n",
      "\n",
      "\n",
      "1072\n",
      "{'answer': 'Learn23 Limited', 'Primary Category': 'ICT (Information and Communication Technology), EdTech (Educational Technology)', 'Subcategory': 'Software Development, Online Education', 'Reason': 'Learn23 Limited is a digital teaching and learning solutions provider, which falls under the category of ICT and EdTech. They develop software solutions for education, hence the subcategories of Software Development and Online Education.'}\n",
      "\n",
      "\n",
      "1073\n",
      "{'answer': 'iScholar Education Technology Limited', 'Primary Category': 'ICT (Information and Communication Technology), EdTech (Educational Technology)', 'Subcategory': 'Big Data & Data Analysis, Online Education', 'Reason': 'iScholar is a company that designs and develops learning tools and platforms for teachers, students, schools, and learning centres. They also use Big Data Analysis to improve the teaching and learning experience. Therefore, it falls under the primary categories of ICT and EdTech, and the subcategories of Big Data & Data Analysis and Online Education.'}\n",
      "\n",
      "\n"
     ]
    },
    {
     "name": "stdout",
     "output_type": "stream",
     "text": [
      "1074\n",
      "{'answer': 'Lexuma Limited', 'Primary Category': 'Electronic Technology', 'Subcategory': 'Consumer Electronics', 'Reason': \"Based on the company's description, they design and develop a range of unique and stylish electronics products, which falls under the Consumer Electronics subcategory of the Electronic Technology primary category.\"}\n",
      "\n",
      "\n",
      "1075\n",
      "{'answer': 'Coraleus Limited', 'Primary Category': 'ICT (Information and Communication Technology), Fintech', 'Subcategory': 'Artificial Intelligence & Machine Learning, Risk Management Tools', 'Reason': 'Coraleus Limited is a company that specializes in Anti-Money Laundering (AML) solutions and regulations. They are developing a new solution with Artificial Intelligence and Machine Learning to provide a comprehensive health check across multiple industries that AML plays an important role in their operations. This falls under the ICT category, specifically the Artificial Intelligence & Machine Learning subcategory. Additionally, since their product is a tool to measure the health of operating Anti-Money Laundering/Counter-Financing of Terrorism systems at Financial Institutions, this also falls under the Fintech category, specifically the Risk Management Tools subcategory.'}\n",
      "\n",
      "\n",
      "1076\n",
      "{'answer': 'Lionrock Batteries Limited', 'Primary Category': 'Electronic Technology, Green Technology, Materials & Precision Engineering', 'Subcategory': 'Consumer Electronics, Energy Efficiency Solutions, Renewable Energy Technology, Nanotechnology, Advanced Material Research', 'Reason': \"Lionrock Batteries Limited specializes in the development of flexible batteries for wearables and IoT devices, which falls under the Consumer Electronics subcategory of Electronic Technology. Their focus on creating efficient batteries aligns with the Energy Efficiency Solutions and Renewable Energy Technology subcategories of Green Technology. The company's work on a patented nanomaterial structure and fabrication process places them in the Nanotechnology and Advanced Material Research subcategories of Materials & Precision Engineering.\"}\n",
      "\n",
      "\n",
      "1077\n",
      "{'answer': 'Pecutus Technologies Limited', 'Primary Category': 'Fintech, ICT (Information and Communication Technology), Electronic Technology', 'Subcategory': 'Payment Solutions, Blockchain in Financial Services, Artificial Intelligence & Machine Learning, Mobile Internet, Consumer Electronics', 'Reason': \"Pecutus Technologies, through its ReadyTravel platform, offers a peer-to-peer currency exchange service, which falls under the 'Payment Solutions' subcategory of Fintech. The mention of supporting digital currencies suggests a potential use of blockchain, aligning with the 'Blockchain in Financial Services' subcategory. The company's use of an AI engine for optimizing transactions and a mobile app for facilitating exchanges places it in the 'Artificial Intelligence & Machine Learning' and 'Mobile Internet' subcategories of ICT. Lastly, the use of smart kiosks for currency exchange can be classified under the 'Consumer Electronics' subcategory of Electronic Technology.\"}\n",
      "\n",
      "\n",
      "1078\n",
      "{'answer': 'SCALE InnoTech Limited', 'Primary Category': 'EdTech (Educational Technology)', 'Subcategory': 'Online Education, Smart Learning', 'Reason': 'SCALE InnoTech Limited is a Hong Kong based education technology company. They offer a wide range of services and products including Smart Campus modules, tools and systems for STEM (Science, Technology, Engineering, and Mathematics) education, curriculum design, as well as training workshops and seminars for primary and secondary schools teachers and students. Their product, Smart Campus Active Learning Environment, or SCALE, is an innovative approach to STEM education.'}\n",
      "\n",
      "\n",
      "1079\n",
      "{'answer': 'Add Care Limited', 'Primary Category': 'Biotechnology', 'Subcategory': 'Biopharmaceuticals', 'Reason': \"The company is listed under the cluster 'Biomedical Technology', which falls under the 'Biotechnology' primary category. The specific subcategory is not provided, but 'Biopharmaceuticals' is a reasonable assumption given the company's name and cluster.\"}\n",
      "\n",
      "\n",
      "1080\n",
      "{'answer': 'WEXTECH HK LIMITED (GripBeats)', 'Primary Category': 'Electronic Technology, Digital Entertainment & Design, ICT (Information and Communication Technology)', 'Subcategory': 'Consumer Electronics, Product & Industrial Design, Animation & Film Production, Software Development, Mobile Internet', 'Reason': \"The company's product, GripBeats, is a consumer electronic device that allows users to create music through movement. The design of the product falls under Product & Industrial Design. The company also produces digital content to showcase their product, which falls under Animation & Film Production. The GripBeats App, which is essential for the function and adaptability of the GripBeats bracelet, falls under Software Development. The availability of the GripBeats App on mobile platforms means the company is leveraging mobile technology, which falls under Mobile Internet.\"}\n",
      "\n",
      "\n",
      "1081\n",
      "{'answer': 'Speechless Financial Technology Company Limited', 'Primary Category': 'Fintech', 'Subcategory': 'Assets & Investment Management Technology', 'Reason': 'The company provides AI-empowered solutions for financial institutions to enhance productivity in various functions. They have developed AI solutions for over a dozen of financial institutions, including commercial banks, investment banks, asset managers and securities brokerages in Hong Kong and Singapore.'}\n",
      "\n",
      "\n",
      "1082\n",
      "{'answer': 'Una Technologies Limited (formerly known as MagiCube Limited)', 'Primary Category': 'ICT (Information and Communication Technology), EdTech (Educational Technology)', 'Subcategory': 'Artificial Intelligence & Machine Learning, Online Education', 'Reason': 'The company is a Microsoft Global Training Partner providing artificial intelligence (AI) related training to children, school teachers, and interested learners around the globe. They also have an award-winning education platform that supports all-rounded and effective pedagogies. This indicates that they operate in the ICT sector, specifically in the AI & Machine Learning subcategory. Additionally, their focus on education suggests they also fall under the EdTech category, specifically Online Education.'}\n",
      "\n",
      "\n",
      "1083\n",
      "{'answer': \"Based on the provided information about 'AssetOnChain Technology and their Evercarat platform', the company can be classified under the following categories:\\n\\n1. Primary Category: Fintech\\n   - Subcategory: Blockchain in Financial Services\\n     Reason: AssetOnChain Technology utilizes blockchain to provide traceability for supply chains and to build trust. Their Evercarat platform leverages blockchain for tracing diamond origins and tokenizing physical diamonds into digital certificates, aligning directly with the concept of applying blockchain technology in financial services.\\n   - Subcategory: Assets & Investment Management Technology\\n     Reason: The company's aim to unlock illiquid assets by connecting commodity owners with customers using advanced financial trading technologies falls within this subcategory. The Evercarat platform allows for fractional ownership of high-value diamonds, indicating an investment facet.\\n\\n2. Primary Category: ICT (Information and Communication Technology)\\n   - Subcategory: Blockchain Technology\\n     Reason: One of the core technologies used by AssetOnChain is blockchain, which provides traceability and trust-building measures for supply chains, especially evident in the Evercarat platform's focus on transparency and tracing diamond origins.\\n   - Subcategory: Big Data & Data Analysis\\n     Reason: AssetOnChain uses advanced analytics for price discovery and transparency, which aligns with the 'Big Data & Data Analysis' subcategory due to the emphasis on drawing actionable insights from data.\\n\\n3. Primary Category: PropTech (Property Technology)\\n   - Subcategory: Real Estate Investment Platform\\n     Reason: While diamonds and jewelry aren't traditional 'real estate', the concept of tokenizing physical assets into digital certificates and allowing fractional ownership is reminiscent of the innovative models seen in modern real estate investment platforms. The overarching concept of converting tangible assets into digital, tradable forms aligns with this subcategory.\\n\\nIn summary, 'AssetOnChain Technology' is primarily categorized under 'Fintech', 'ICT', and 'PropTech'. Their innovative approach to using blockchain and analytics to make illiquid assets (like diamonds) more accessible and tradable places them within these categories.\", 'Primary Category': 'Fintech, ICT (Information and Communication Technology), PropTech (Property Technology)', 'Subcategory': 'Blockchain in Financial Services, Assets & Investment Management Technology, Blockchain Technology, Big Data & Data Analysis, Real Estate Investment Platform', 'Reason': 'The company utilizes blockchain technology for traceability and trust-building in supply chains, applies advanced analytics for price discovery and transparency, and tokenizes physical assets into digital certificates for trading, which aligns with the mentioned subcategories under the primary categories of Fintech, ICT, and PropTech.'}\n",
      "\n",
      "\n"
     ]
    },
    {
     "name": "stdout",
     "output_type": "stream",
     "text": [
      "1084\n",
      "{'answer': 'MIoT Limited', 'Primary Category': 'Electronic Technology', 'Subcategory': 'Consumer Electronics', 'Reason': 'MIoT Limited is a company that focuses on low power consumption IoT solutions and energy-saving smart products. They have developed a new generation AC-to-DC power supply specifically designed for IoT applications. This places them in the Electronic Technology primary category, specifically under the Consumer Electronics subcategory.'}\n",
      "\n",
      "\n",
      "1085\n",
      "{'answer': 'eFunLearning Limited', 'Primary Category': 'EdTech (Educational Technology)', 'Subcategory': 'Smart Learning', 'Reason': 'The company eFunLearning Limited is primarily involved in the development of an educational application that uses gamification to motivate learners. This falls under the category of Educational Technology, specifically Smart Learning.'}\n",
      "\n",
      "\n",
      "1086\n",
      "{'answer': 'Mixon Technologies Limited (formerly known as Kami Intelligence Limited)', 'Primary Category': 'ICT (Information and Communication Technology)', 'Subcategory': 'Artificial Intelligence & Machine Learning', 'Reason': 'The company was formerly known as Kami Intelligence Limited, which suggests it operates in the field of Artificial Intelligence. Also, the cluster provided is Information Communications Technology, which falls under the ICT category.'}\n",
      "\n",
      "\n",
      "1087\n",
      "{'answer': 'Freecar Technology (HK) Limited', 'Primary Category': 'ICT (Information and Communication Technology)', 'Subcategory': 'Mobile Internet', 'Reason': 'The company is a rental car sharing platform, which falls under the category of Mobile Internet in the ICT (Information and Communication Technology) sector.'}\n",
      "\n",
      "\n",
      "1088\n",
      "{'answer': 'Neoma Limited', 'Primary Category': 'ICT (Information and Communication Technology), PropTech (Property Technology)', 'Subcategory': 'Artificial Intelligence & Machine Learning, Property Management & Automation', 'Reason': 'Neoma Limited is a property technology company that uses AI for hospitality industry. They have developed Gaia, an AI staff assistant. This places them in the ICT category under AI & Machine Learning and in the PropTech category under Property Management & Automation.'}\n",
      "\n",
      "\n",
      "1089\n",
      "{'answer': 'EN Technology Limited', 'Primary Category': 'Biotechnology, Green Technology, Materials & Precision Engineering, Health Technology', 'Subcategory': 'Bioinformatics, Environmental Protection Technology, Advanced Material Research, Nanotechnology, Medical Devices & Technology', 'Reason': \"EN Technology Limited focuses on the encapsulation of enzymes and other active ingredients, which potentially involves using computational methods for managing and analyzing biological data related to enzymes. The techniques they use for encapsulation, immobilization, and characterization align with the principles of bioinformatics. The company emphasizes environmental respect, indicating a commitment to eco-friendly practices. Their mission revolves around innovative encapsulation techniques with a sustainable approach. The encapsulation, preservation, and prevention of cross-contamination techniques are in line with environmental protection technology. The company specializes in particle formation, encapsulation, immobilization, and formulation of diverse compounds. Their expertise in these areas and the focus on emulsion-based formulations, fluid processing, and soft matter physics positions them within the realm of advanced material research. Given that EN Technology focuses on encapsulation and advanced formulation technologies, it's plausible that they work with materials at the nanoscale, which is a hallmark of nanotechnology. EN Technology has developed an advanced Automated Encapsulation Machine, which could potentially have applications in medical and health sectors. The encapsulation of bioactive ingredients might also have therapeutic applications, thereby aligning with this subcategory.\"}\n",
      "\n",
      "\n",
      "1090\n",
      "{'answer': 'Wetaxi Technology Company Limited', 'Primary Category': 'ICT (Information and Communication Technology), Transportation Technology', 'Subcategory': 'Mobile Internet, Intelligent Transportation', 'Reason': 'The company provides on-demand taxi services through a mobile platform, which falls under the Mobile Internet subcategory of ICT. Additionally, their service disrupts the traditional operation of the taxi industry, which can be considered as part of the Intelligent Transportation subcategory under Transportation Technology.'}\n",
      "\n",
      "\n",
      "1091\n",
      "{'answer': 'CYC Motor Limited', 'Primary Category': 'Electronic Technology', 'Subcategory': 'Consumer Electronics', 'Reason': 'The company CYC Motor Limited is primarily involved in the development of electric bike motor drive systems, precision gearboxes, controller systems, sensor systems, electric bike frames and other mobility devices. This falls under the category of Electronic Technology, specifically Consumer Electronics.'}\n",
      "\n",
      "\n",
      "1092\n",
      "{'answer': 'GNETWORK LIMITED', 'Primary Category': 'ICT (Information and Communication Technology)', 'Subcategory': 'Software Development', 'Reason': \"Based on the company's description, it provides a social platform for young people to create highly interactive games and events. This falls under the ICT category, specifically in Software Development.\"}\n",
      "\n",
      "\n",
      "1093\n",
      "{'answer': 'Music Circle Company Limited', 'Primary Category': 'ICT (Information and Communication Technology)', 'Subcategory': 'Software Development', 'Reason': 'The company, Music Circle, was founded in 2016 with the aim to improve the learning efficiency of students during their music learning process. They have developed an App called MusicPro which provides an online platform for music tutors to guide the students’ practice in between classes to improve their learning efficiency. This falls under the category of Software Development in ICT (Information and Communication Technology).'}\n",
      "\n",
      "\n",
      "1094\n",
      "{'answer': 'Care Health Information Technology Co., Limited', 'Primary Category': 'Biotechnology', 'Subcategory': 'Biopharmaceuticals', 'Reason': \"The company is listed under the cluster of Biomedical Technology, which falls under the primary category of Biotechnology. The specific subcategory is not provided in the information, but considering the company's name, it can be inferred that it might be related to Biopharmaceuticals.\"}\n",
      "\n",
      "\n",
      "1095\n",
      "{'answer': 'Unicorn Oracle Limited', 'Primary Category': 'ICT (Information and Communication Technology)', 'Subcategory': 'Software Development', 'Reason': 'The company is described as a startup based in Hong Kong, specialising in mobile app development. Their product, SOUVENEAR, is a peer-to-peer platform for local shoppers to get travellers to bring back their favourite brands and unique products from all over the world. This indicates that they are primarily involved in the field of Information and Communication Technology, specifically in Software Development.'}\n",
      "\n",
      "\n",
      "1096\n",
      "{'answer': 'Lumi Lab Technology Limited', 'Primary Category': 'ICT (Information and Communication Technology), Green Technology', 'Subcategory': 'Big Data & Data Analysis, Artificial Intelligence & Machine Learning, Cloud Computing', 'Reason': 'The company Lumi Lab Technology Limited was found in 2018 to provide AI and Big Data solutions to enhance user experiences through their mobile application. They use technologies like MYSQL relational database, Cloud Computing and Amazon Web Service (AWS). Therefore, the primary categories are ICT and Green Technology, and the subcategories are Big Data & Data Analysis, Artificial Intelligence & Machine Learning, and Cloud Computing.'}\n",
      "\n",
      "\n",
      "1097\n",
      "{'answer': \"Based on the provided information about 'BeeFintech Company Limited', the company can be classified under the following categories:\\n\\n1. Primary Category: Fintech\\n   - Subcategory: Insurtech\\n     Explanation: BeeFintech Company Limited specifically focuses on offering solutions for the insurance distribution sector. Their Beeplatform Management System is tailor-made for Hong Kong insurance agencies and insurance companies, aiming to streamline the insurance distribution chain. The platform includes features for commission management, performance analysis, and pre-underwriting, all of which are key elements of the insurtech domain.\\n\\n2. Primary Category: ICT (Information and Communication Technology)\\n   - Subcategory: Software Development\\n     Explanation: BeeFintech's Beeplatform Management System is a SaaS (Software as a Service) platform. As a SaaS solution, it represents the development of software that can be accessed over the internet, which places the company within this subcategory.\\n\\n   - Subcategory: Big Data & Data Analysis\\n     Explanation: The platform provides detailed data analysis to aid managers in obtaining a clear view of team members' activities. By analyzing this data, companies can optimize their insurance distribution strategies, demonstrating BeeFintech's involvement in data analysis.\\n\\n3. Primary Category: ICT (Information and Communication Technology)\\n   - Subcategory: Cloud Computing\\n     Explanation: As a SaaS platform, the Beeplatform Management System is likely hosted on the cloud, allowing users to access the software over the internet without needing to install it on their local devices. This aligns with the principles of cloud computing.\\n\\nIn summary, 'BeeFintech Company Limited' can be categorized under 'Fintech' and 'ICT (Information and Communication Technology)'. Their specialization in insurance technology and the development of a SaaS platform for insurance distribution supports these classifications.\", 'Primary Category': 'Fintech, ICT (Information and Communication Technology)', 'Subcategory': 'Insurtech, Software Development, Big Data & Data Analysis, Cloud Computing', 'Reason': \"BeeFintech Company Limited offers a comprehensive SaaS platform tailored for the insurance distribution sector, which places it in the 'Fintech' and 'Insurtech' categories. The company's use of software development, data analysis, and cloud computing technologies also places it in the 'ICT (Information and Communication Technology)' category, specifically under the 'Software Development', 'Big Data & Data Analysis', and 'Cloud Computing' subcategories.\"}\n",
      "\n",
      "\n"
     ]
    },
    {
     "name": "stdout",
     "output_type": "stream",
     "text": [
      "1098\n",
      "{'answer': 'Karta-X Technologies Limited', 'Primary Category': 'Electronic Technology, ICT (Information and Communication Technology)', 'Subcategory': 'Consumer Electronics, Big Data & Data Analysis', 'Reason': 'Karta-X Technologies is a company that focuses on IoT and video-based analytics, which falls under the Consumer Electronics subcategory of Electronic Technology and the Big Data & Data Analysis subcategory of ICT (Information and Communication Technology). They provide solutions for the retail, construction, and lighting industries.'}\n",
      "\n",
      "\n",
      "1099\n",
      "{'answer': \"Based on the provided description of GoByBus.hk operated by Goba Solutions Limited, the company can be categorized under the following classifications:\\n\\n1. Transportation Technology\\n   - Subcategory: Intelligent Transportation\\n   - Explanation: GoByBus.hk is a platform that provides direct bus services between China and Hong Kong, promoting hassle-free travel with its user-friendly booking system. It falls under the domain of transportation technology, specifically in the area of intelligent transportation, as it offers a convenient and efficient way for users to book and travel on cross-border bus services.\\n\\n2. ICT (Information and Communication Technology)\\n   - Subcategory: Mobile Internet\\n   - Explanation: GoByBus.hk operates as an online platform that allows users to quickly find and book cross-border bus services using their computers, mobile phones, or tablets. By offering mobile internet-based services for ticket booking and ticket delivery through QR codes, the company aligns with the field of ICT and mobile internet technologies.\\n\\n3. Fintech\\n   - Subcategory: Payment Solutions\\n   - Explanation: Although the primary description does not explicitly mention payment solutions, the instant booking and ticketing system on GoByBus.hk suggests that the platform facilitates payment processing for bus tickets. As such, it can be considered as a company that provides payment solutions within the realm of fintech.\\n\\n4. PropTech (Property Technology)\\n   - Subcategory: Real Estate Investment Platform\\n   - Explanation: The description indicates that GoByBus.hk provides comprehensive route information for various operators traveling between mainland China and Hong Kong. While it is not directly related to real estate, the platform serves as a digital platform that facilitates travel and transportation services between two locations (Hong Kong and mainland China), which can be likened to a virtual real estate investment platform connecting these regions.\\n\\n5. EdTech (Educational Technology)\\n   - Subcategory: N/A (Not applicable)\\n   - Explanation: The company's core operations and services do not directly relate to educational technology, so it does not fit into the EdTech category.\\n\\nPlease note that some of the categories listed in the original classification criteria might not be directly applicable to every company, and a company can fall into multiple classifications based on its various activities and offerings. In the case of GoByBus.hk, the classifications mentioned above align with its primary business focus and services.\", 'Primary Category': 'Transportation Technology, ICT (Information and Communication Technology), Fintech, PropTech (Property Technology)', 'Subcategory': 'Intelligent Transportation, Mobile Internet, Payment Solutions, Real Estate Investment Platform', 'Reason': 'The company operates a platform that provides direct bus services between China and Hong Kong, offers mobile internet-based services for ticket booking and ticket delivery, facilitates payment processing for bus tickets, and serves as a digital platform that facilitates travel and transportation services between two locations.'}\n",
      "\n",
      "\n",
      "1100\n",
      "{'answer': 'Eunit Company Limited', 'Primary Category': 'ICT (Information and Communication Technology)', 'Subcategory': 'Software Development', 'Reason': 'The company Eunit Company Limited provides a logistics management system and a logistics sales platform, which are software solutions. These solutions help in order management, warehouse management, and cargo tracking management. Therefore, the primary category is ICT (Information and Communication Technology) and the subcategory is Software Development.'}\n",
      "\n",
      "\n",
      "1101\n",
      "{'answer': 'Foresight Language and Learning Solutions Limited', 'Primary Category': 'ICT (Information and Communication Technology)', 'Subcategory': 'Software Development', 'Reason': 'The company develops software solutions for diagnosing and treating language and learning disorders. They are also involved in research for predicting language development and learning success, which falls under the category of software development in the ICT sector.'}\n",
      "\n",
      "\n",
      "1102\n",
      "{'answer': 'BinoViz Limited', 'Primary Category': 'ICT (Information and Communication Technology), Biotechnology, Electronic Technology', 'Subcategory': 'Software Development, Bioinformatics, Electronic Design Automation', 'Reason': 'BinoViz Limited is recognized for its R&D power in computer vision and has developed software solutions to enhance visual experiences and optical capabilities for the TV, medical and national defense industries. This indicates that the company operates in the fields of ICT (specifically Software Development), Biotechnology (specifically Bioinformatics due to the application in the medical field), and Electronic Technology (specifically Electronic Design Automation due to the application in TV and national defense industries).'}\n",
      "\n",
      "\n",
      "1103\n",
      "{'answer': 'Datax Limited', 'Primary Category': 'ICT (Information and Communication Technology)', 'Subcategory': 'Artificial Intelligence & Machine Learning, Blockchain Technology', 'Reason': 'The company Datax Limited is an AI and blockchain company, which falls under the primary category of ICT (Information and Communication Technology) and the subcategories of Artificial Intelligence & Machine Learning and Blockchain Technology.'}\n",
      "\n",
      "\n",
      "1104\n",
      "{'answer': 'YAU MEA GAU LIMITED', 'Primary Category': 'ICT (Information and Communication Technology)', 'Subcategory': 'Mobile Internet', 'Reason': 'The company operates an online platform for travelers to meet a big group of language learners in a social networking event, which falls under the Mobile Internet subcategory of the ICT (Information and Communication Technology) primary category.'}\n",
      "\n",
      "\n",
      "1105\n",
      "{'answer': 'Titanology Limited', 'Primary Category': 'Health Technology, Materials & Precision Engineering', 'Subcategory': 'Medical Devices & Technology, Nanotechnology', 'Reason': 'Titanology has developed self-sanitizing door handles using photocatalytic coating and UV backlight technology. Their products are targeted for hospitals, malls, schools etc. to reduce disease transmission. Given their antimicrobial door handles are medical/healthcare devices, I have categorized them under Health Technology - Medical Devices & Technology. Additionally, since the photocatalytic coating utilizes nanotechnology, I have also categorized them under Materials & Precision Engineering - Nanotechnology.'}\n",
      "\n",
      "\n",
      "1106\n",
      "{'answer': 'Hygeatec Company Limited', 'Primary Category': 'Materials & Precision Engineering', 'Subcategory': 'Advanced Material Research', 'Reason': 'Hygeatec Company Limited is a R&D company that focuses on innovating new solutions with technology to create clean and sanitised environments. They have developed a patented Plascide technology which uses plasma theory for air and material surface sterilisation. This falls under the category of Materials & Precision Engineering and the subcategory of Advanced Material Research.'}\n",
      "\n",
      "\n",
      "1107\n",
      "{'answer': 'Dolphy AI Limited', 'Primary Category': 'ICT (Information and Communication Technology)', 'Subcategory': 'Artificial Intelligence & Machine Learning', 'Reason': 'Dolphy AI Limited is a company that uses artificial intelligence to optimize marketing campaigns. This falls under the ICT category, specifically the Artificial Intelligence & Machine Learning subcategory.'}\n",
      "\n",
      "\n",
      "1108\n",
      "{'answer': 'Advenlink Technology Company Limited', 'Primary Category': 'ICT (Information and Communication Technology)', 'Subcategory': 'Big Data & Data Analysis, Artificial Intelligence & Machine Learning, Cloud Computing', 'Reason': 'The company specializes in IoT devices connectivity, providing solutions for devices to upload, store and analyze data in their cloud server. They also have an AI platform in the cloud server for smart data analysis.'}\n",
      "\n",
      "\n"
     ]
    },
    {
     "name": "stdout",
     "output_type": "stream",
     "text": [
      "1109\n",
      "{'answer': 'WanaStay Limited', 'Primary Category': 'ICT (Information and Communication Technology)', 'Subcategory': 'Artificial Intelligence & Machine Learning', 'Reason': 'The company WanaStay Limited operates in the Information and Communication Technology sector. Specifically, it uses Artificial Intelligence & Machine Learning in its peer to peer dynamic hotel booking system.'}\n",
      "\n",
      "\n",
      "1110\n",
      "{'answer': 'OnAwake Software Limited', 'Primary Category': 'ICT (Information and Communication Technology)', 'Subcategory': 'Software Development, Game Development', 'Reason': 'The company OnAwake Software Limited is specialized in software development and game production, specifically in mobile app development. This places it in the Information and Communication Technology category, with a focus on Software Development. Additionally, as they are also involved in game production, they fall under the Game Development subcategory of Digital Entertainment & Design.'}\n",
      "\n",
      "\n",
      "1111\n",
      "{'answer': 'Dayta AI Limited', 'Primary Category': 'ICT (Information and Communication Technology)', 'Subcategory': 'Artificial Intelligence & Machine Learning, Big Data & Data Analysis', 'Reason': 'The company Dayta AI Limited offers AI and Big Data solutions to grow businesses. They provide services in Computer Vision, Natural Language Processing and Data Science. They also help businesses build the infrastructure needed for data science and empower them with data-backed and statistically tested decisions to stay competitive. Therefore, the primary category is ICT (Information and Communication Technology) and the subcategories are Artificial Intelligence & Machine Learning and Big Data & Data Analysis.'}\n",
      "\n",
      "\n",
      "1112\n",
      "{'answer': 'Labwork Technology Limited', 'Primary Category': 'ICT (Information and Communication Technology)', 'Subcategory': 'Software Development', 'Reason': 'Labwork Technology Limited focuses on remote sensing and automation with cloud technology. They have developed a remote laboratory platform which allows students to remotely control laboratory equipment outside school via Internet. This falls under the category of Information and Communication Technology, specifically Software Development, as they have developed a software platform for remote laboratory experiments.'}\n",
      "\n",
      "\n",
      "1113\n",
      "{'answer': \"High Performance Solution Limited (HPS Energy) falls under the Primary Category of 'Green Technology' with the Subcategory of 'Renewable Energy Technology'. Additionally, it also falls under the Primary Category of 'Materials & Precision Engineering' with the Subcategory of 'Nanotechnology'.\", 'Primary Category': 'Green Technology, Materials & Precision Engineering', 'Subcategory': 'Renewable Energy Technology, Nanotechnology', 'Reason': 'HPS Energy specializes in thermal energy harvesting and thermoelectric energy conversion technology. Their key offerings are waste heat recovery solutions and the DTCC direct thermal charging cell using graphene and conductive polymer materials. Given their focus on renewable energy technology, they are categorized under Green Technology - Renewable Energy Technology. Additionally, since their technology utilizes nanomaterials like graphene, they are also categorized under Materials & Precision Engineering - Nanotechnology.'}\n",
      "\n",
      "\n",
      "1114\n",
      "{'answer': 'GaGala Limited', 'Primary Category': 'ICT (Information and Communication Technology)', 'Subcategory': 'Big Data & Data Analysis', 'Reason': 'GaGala Limited is a price comparing platform that provides valuable and unbiased information to the public. It accurately shows the price, promotion, and product information, and also provides more information like nutrition, recipe, and trivia in the supermarket. This falls under the category of Information and Communication Technology, specifically Big Data & Data Analysis, as it involves the collection, analysis, and presentation of large amounts of data.'}\n",
      "\n",
      "\n",
      "1115\n",
      "{'answer': 'Aham Solutions HK Limited', 'Primary Category': 'ICT (Information and Communication Technology)', 'Subcategory': 'Software Development', 'Reason': 'The company is specialized in mobile app development, website design and corporate training for top and middle management executive on business plan, strategic planning and project management.'}\n",
      "\n",
      "\n",
      "1116\n",
      "{'answer': 'HK Biotech Limited', 'Primary Category': 'Biotechnology, Green Technology', 'Subcategory': 'Bioinformatics, Environmental Protection Technology', 'Reason': 'The company focuses on the R&D, manufacturing, and marketing the biotechnology solutions. They develop new environmental materials (Biomass Regenerated Fibers) and use biotechnology to turn wheat straw into sustainable material. This falls under the primary categories of Biotechnology and Green Technology, and the subcategories of Bioinformatics and Environmental Protection Technology.'}\n",
      "\n",
      "\n",
      "1117\n",
      "{'answer': 'Cura Health Limited', 'Primary Category': 'Health Technology', 'Subcategory': 'Health Management Platform', 'Reason': 'Cura Health Limited is a personalized healthcare supplement supply company that uses an intelligence system to tailor make a personalized supplement list for different people. This falls under the Health Technology primary category and the Health Management Platform subcategory as it involves managing and personalizing health supplements for individuals.'}\n",
      "\n",
      "\n",
      "1118\n",
      "{'answer': 'Neufast Limited', 'Primary Category': 'ICT (Information and Communication Technology)', 'Subcategory': 'Software Development, Big Data & Data Analysis, Artificial Intelligence & Machine Learning', 'Reason': 'Neufast Limited is a software development company that uses advanced AI and big data technology. They provide a career development solution for job seekers, which includes a personalized interview training app. This indicates that they operate in the ICT sector, specifically in the areas of Software Development, Big Data & Data Analysis, and Artificial Intelligence & Machine Learning.'}\n",
      "\n",
      "\n",
      "1119\n",
      "{'answer': 'Visuo Technology Pty Limited', 'Primary Category': 'ICT (Information and Communication Technology)', 'Subcategory': 'Artificial Intelligence & Machine Learning', 'Reason': 'The company Visuo Technology Pty Limited is primarily involved in the Information and Communication Technology sector. More specifically, they are engaged in Artificial Intelligence & Machine Learning, as they provide an online video creation platform that uses machine learning and AI techniques.'}\n",
      "\n",
      "\n",
      "1120\n",
      "{'answer': 'Based on the information provided, Sundial Technology Development Limited falls under the following categories: \\n\\nPrimary Category: Green Technology\\n\\nSubcategory: Renewable Energy Technology\\n\\nAdditional Primary Category: Materials & Precision Engineering\\n\\nAdditional Subcategory: Nanotechnology', 'Primary Category': 'Green Technology, Materials & Precision Engineering', 'Subcategory': 'Renewable Energy Technology, Nanotechnology', 'Reason': 'Sundial offers anti-reflection and self-cleaning nanostructured films to reduce costs and improve efficiency for solar cells. They utilize roll-to-roll fabrication for mass production. Given their focus on solar technology, they are categorized under Green Technology - Renewable Energy Technology. Additionally, since their films utilize nanotechnology, they are also categorized under Materials & Precision Engineering - Nanotechnology.'}\n",
      "\n",
      "\n",
      "1121\n",
      "{'answer': 'TalenX Limited', 'Primary Category': 'ICT (Information and Communication Technology)', 'Subcategory': 'Software Development', 'Reason': 'TalenX Limited is a company that provides a human resources solution for small-medium size companies. They use occupational psychology and data analytics for recruitment and to high performing workforces with ease. Their product, the TalenX Talent Acquisitions platform, is a cloud-based web-app designed to help the hiring managers administer, collect and analyze candidate’s psychometrics results efficiently. This falls under the category of Software Development in ICT (Information and Communication Technology).'}\n",
      "\n",
      "\n",
      "1122\n",
      "{'answer': 'Genieland Company Limited', 'Primary Category': 'Health Technology, ICT (Information and Communication Technology)', 'Subcategory': 'Medical Health Applications, Software Development', 'Reason': 'The company Genieland is focused on enhancing health & wellness through smart assisting and tracking tools. This falls under the Health Technology primary category and the Medical Health Applications subcategory. Additionally, since they are using modern technologies to achieve this, it also falls under the ICT (Information and Communication Technology) primary category and the Software Development subcategory.'}\n",
      "\n",
      "\n"
     ]
    },
    {
     "name": "stdout",
     "output_type": "stream",
     "text": [
      "1123\n",
      "{'answer': 'Sisters Pro AI Solutions Limited', 'Primary Category': 'ICT (Information and Communication Technology)', 'Subcategory': 'Artificial Intelligence & Machine Learning', 'Reason': \"The company name 'Sisters Pro AI Solutions Limited' suggests that it operates in the field of Artificial Intelligence, which falls under the Information and Communication Technology category.\"}\n",
      "\n",
      "\n",
      "1124\n",
      "{'answer': 'TriTerra Technology Limited', 'Primary Category': 'Green Technology', 'Subcategory': 'Energy Efficiency Solutions', 'Reason': 'TriTerra Technology Limited is a company that provides innovative mobile power supply devices and systems. They offer a full package of power electronic solutions including inverters, battery management system (BMS), IoT module, mobile App, SaaS Server, charging circuit, DC power supply, bypass circuit, maximum power tracking system (MPPT), thermal dissipation mechanism, EV battery grading system. They also revalue wasted resources and materials into practical products, such as retrieving wasted electric vehicle batteries and remodeling them into multiple kinds of meaningful devices. This falls under the category of Green Technology, specifically Energy Efficiency Solutions.'}\n",
      "\n",
      "\n",
      "1125\n",
      "{'answer': 'Future Mind Education Technology Co. Limited', 'Primary Category': 'ICT (Information and Communication Technology), EdTech (Educational Technology)', 'Subcategory': 'Artificial Intelligence & Machine Learning, Online Education', 'Reason': 'The company is developing a virtual teacher for interactive learning powered by artificial intelligence and computer vision, which falls under the ICT category and the subcategory of Artificial Intelligence & Machine Learning. Also, as the product is related to education technology, it also falls under the EdTech category and the subcategory of Online Education.'}\n",
      "\n",
      "\n",
      "1126\n",
      "{'answer': 'I-Square Technology (Hong Kong) Limited', 'Primary Category': 'ICT (Information and Communication Technology)', 'Subcategory': 'Big Data & Data Analysis, Cloud Computing', 'Reason': 'The company provides an Image Anti-counterfeiting Solution that uses cloud computing and data analysis to provide anti-counterfeiting and verification solutions to brand products. This falls under the ICT category, specifically the subcategories of Big Data & Data Analysis and Cloud Computing.'}\n",
      "\n",
      "\n",
      "1127\n",
      "{'answer': 'Mizar International Consultant Limited', 'Primary Category': 'ICT (Information and Communication Technology), Health Technology', 'Subcategory': 'Big Data & Data Analysis, Artificial Intelligence & Machine Learning, Medical Health Applications', 'Reason': 'The company focuses on leveraging IoT Technology, with Big Data and AI to provide solutions for community, families and individuals for improving quality of life for Elderly, Disabled and Schoolkids. This falls under the ICT category with subcategories of Big Data & Data Analysis, and Artificial Intelligence & Machine Learning. Also, since their solutions are aimed at improving quality of life for Elderly, Disabled and Schoolkids, it also falls under the Health Technology category with the subcategory of Medical Health Applications.'}\n",
      "\n",
      "\n",
      "1128\n",
      "{'answer': 'Medmind Technology Limited', 'Primary Category': 'Health Technology, ICT (Information and Communication Technology)', 'Subcategory': 'Medical Devices & Technology, Artificial Intelligence & Machine Learning', 'Reason': 'Medmind Technology is a medical technology startup that develops innovative products for healthy ageing. They collaborate with universities and healthcare professionals to develop interactive platforms for seniors and patients, particularly regarding dementia and other mental health disorders. They are also developing NeuroGym, an interactive and fun assessment game for dementia patients and seniors, where data of players’ cognition are collected and analysed with machine learning models.'}\n",
      "\n",
      "\n",
      "1129\n",
      "{'answer': 'GitStart Limited', 'Primary Category': 'ICT (Information and Communication Technology)', 'Subcategory': 'Software Development', 'Reason': \"GitStart Limited is a tech company that offers 'Code as a Service.' Their primary mission is to transform backlogs into high-quality production code while simultaneously fostering the growth of the next generation of developers. Given their focus on software development services, they are categorized under ICT with the subcategory of Software Development.\"}\n",
      "\n",
      "\n",
      "1130\n",
      "{'answer': 'Recruit AI Studio Company Limited', 'Primary Category': 'ICT (Information and Communication Technology)', 'Subcategory': 'Artificial Intelligence & Machine Learning', 'Reason': 'The company offers an Artificial Intelligence Interview Solution to help companies transform the way they interview and manage job candidates. This falls under the ICT category and specifically the subcategory of Artificial Intelligence & Machine Learning.'}\n",
      "\n",
      "\n",
      "1131\n",
      "{'answer': \"N1 Limited (N1 Golf) falls under the Primary Category of 'Digital Entertainment & Design' with the Subcategory of 'Game Development'. Additionally, it also falls under the Primary Category of 'EdTech (Educational Technology)' with the Subcategory of 'Smart Learning'.\", 'Primary Category': 'Digital Entertainment & Design, EdTech (Educational Technology)', 'Subcategory': 'Game Development, Smart Learning', 'Reason': \"N1 Limited is focused on golf sports technology R&D and promoting golf through technology-enabled training and education. Their offerings like portable driving range, STEAM x Golf, Golf Everywhere integrate golf training with STEM/STEAM education. Given their focus on golf, which can be considered a game/sport, they are categorized under Digital Entertainment & Design - Game Development. Additionally, since they aim to inspire students' interest in STEAM through golf and emphasize STEM concepts involved in golf, they are also categorized under EdTech - Smart Learning.\"}\n",
      "\n",
      "\n",
      "1132\n",
      "{'answer': 'PINvels (Hong Kong) Limited', 'Primary Category': 'ICT (Information and Communication Technology)', 'Subcategory': 'Mobile Internet', 'Reason': 'The company, PINvels, is a multinational all-rounded travel mobile app. This falls under the Information and Communication Technology category, specifically the Mobile Internet subcategory, as it involves the use of mobile technology to provide services.'}\n",
      "\n",
      "\n",
      "1133\n",
      "{'answer': 'Hong Kong Kaopu Technology Co., Limited', 'Primary Category': 'ICT (Information and Communication Technology)', 'Subcategory': 'Software Development', 'Reason': \"The company is committed to solving communication and privacy issues, providing an app that automatically updates personal and friends' contact information, solves the telephone Internet fees after leaving the country, and provides more convenient and secure functional services. This falls under the category of Software Development in Information and Communication Technology.\"}\n",
      "\n",
      "\n",
      "1134\n",
      "{'answer': 'Squaredog Robotics Limited', 'Primary Category': 'Materials & Precision Engineering', 'Subcategory': 'Mechanical Automation', 'Reason': 'Squaredog Robotics is a technology company that specializes in smart service robots, developed with the latest knowhow in artificial intelligence and robotic automation. They have created the world’s first and only welding robot to be used on-site for construction. This falls under the category of Materials & Precision Engineering and the subcategory of Mechanical Automation.'}\n",
      "\n",
      "\n",
      "1135\n",
      "{'answer': 'Hitchbond Limited', 'Primary Category': 'ICT (Information and Communication Technology)', 'Subcategory': 'Software Development', 'Reason': 'Hitchbond Limited is a company that provides an online platform for social enterprises. This platform includes features like service marketplace, online booking and purchase, in-platform encrypted message tool, centralized incentive scheme, feedback & advice, and crowd-sourcing function. These features indicate that the company is primarily involved in software development within the ICT sector.'}\n",
      "\n",
      "\n",
      "1136\n",
      "{'answer': 'Popared Limited', 'Primary Category': 'ICT (Information and Communication Technology)', 'Subcategory': 'Software Development', 'Reason': 'Popared Limited operates an influencer/KOL marketing platform that connects brands with social media influencers. It offers features like KOL search, performance analysis, campaign management, and payment processing. Given that it is a software platform, it is categorized under ICT with the subcategory of Software Development.'}\n",
      "\n",
      "\n"
     ]
    },
    {
     "name": "stdout",
     "output_type": "stream",
     "text": [
      "1137\n",
      "{'answer': 'Kin Technology Limited', 'Primary Category': 'Health Technology', 'Subcategory': 'Medical Health Applications', 'Reason': 'Kin Technology Limited is a company that focuses on improving drug-safety and management efficiency. They offer both B2B2C and B2C solutions in drug management, which falls under the category of Health Technology, specifically the subcategory of Medical Health Applications.'}\n",
      "\n",
      "\n",
      "1138\n",
      "{'answer': 'Cloud Light Technology Limited', 'Primary Category': 'Electronic Technology', 'Subcategory': 'Optoelectronics', 'Reason': 'The company focuses on design, development, production and supply of cutting-edge fibre optic transceiver modules, active optical cables, optical finger navigation modules and custom optoelectronics solutions for data communications and automotive applications.'}\n",
      "\n",
      "\n",
      "1139\n",
      "{'answer': 'Steifpower Technology Company Limited', 'Primary Category': 'Electronic Technology', 'Subcategory': 'Advanced Manufacturing', 'Reason': 'Steifpower Technology is a company that specializes in the design and manufacturing of advanced power semiconductor products. They have a strong sales channel in the consumer market and collaborate with different design houses and micro-controller suppliers for reference solution design. Their products are sold to major customers in the power industry such as distributors, power device principals, and dedicated research centers for advanced power electronics.'}\n",
      "\n",
      "\n",
      "1140\n",
      "{'answer': 'A-China Semiconductor Limited', 'Primary Category': 'Electronic Technology', 'Subcategory': 'Integrated Circuit Design', 'Reason': 'The company is involved in the development of 32-bit MCUs (Microcontroller Units), which falls under the category of Integrated Circuit Design in Electronic Technology.'}\n",
      "\n",
      "\n",
      "1141\n",
      "{'answer': 'Aurabeat Technology Limited', 'Primary Category': 'Green Technology', 'Subcategory': 'Environmental Protection Technology', 'Reason': 'The company Aurabeat Technology Limited is primarily involved in the development of sustainable clean air solutions. They have invented the Acoustic Air Filtration technology which enhances air filter performance and reduces energy consumption. This aligns with the Green Technology primary category and more specifically, the Environmental Protection Technology subcategory.'}\n",
      "\n",
      "\n",
      "1142\n",
      "{'answer': 'ON-US COMPANY LIMITED', 'Primary Category': 'ICT (Information and Communication Technology)', 'Subcategory': 'Not specified', 'Reason': \"The company is listed under the cluster 'Information Communications Technology', which corresponds to the 'ICT (Information and Communication Technology)' primary category. However, the specific subcategory within ICT is not provided in the information.\"}\n",
      "\n",
      "\n",
      "1143\n",
      "{'answer': 'Diodes Hong Kong Limited', 'Primary Category': 'Electronic Technology', 'Subcategory': 'Consumer Electronics', 'Reason': 'The company is involved in the development of high-speed, high voltage mux and repeater using in serial connectivity protocols applications and timing solution for the consumer electronics, computing, communications, industrial, and automotive markets.'}\n",
      "\n",
      "\n",
      "1144\n",
      "{'answer': 'BioMed Technology Holdings Limited', 'Primary Category': 'Biotechnology', 'Subcategory': 'Biopharmaceuticals', 'Reason': \"The company name 'BioMed Technology Holdings Limited' suggests that it is involved in the field of Biotechnology, specifically in the subcategory of Biopharmaceuticals. However, without more specific information about the company's activities, this is an educated guess.\"}\n",
      "\n",
      "\n",
      "1145\n",
      "{'answer': 'SPH Biotherapeutics (HK) limited', 'Primary Category': 'Biotechnology', 'Subcategory': 'Biopharmaceuticals', 'Reason': \"The company name 'SPH Biotherapeutics (HK) limited' suggests that it is involved in the field of biotechnology, specifically in the subcategory of biopharmaceuticals. This is inferred from the term 'Biotherapeutics' in the company name, which typically refers to the use of biological methods (including genetic engineering) to treat diseases, a common practice in biopharmaceuticals.\"}\n",
      "\n",
      "\n",
      "1146\n",
      "{'answer': 'Avaron Technologies Limited', 'Primary Category': 'Electronic Technology', 'Subcategory': 'Advanced Manufacturing', 'Reason': 'The company Avaron Technologies Limited is involved in the development of optical sensing technologies and smart condition monitoring systems. This falls under the Electronic Technology primary category and the Advanced Manufacturing subcategory.'}\n",
      "\n",
      "\n",
      "1147\n",
      "{'answer': 'Workeroom Technology Company Limited', 'Primary Category': 'ICT (Information and Communication Technology), Fintech', 'Subcategory': 'Software Development, Payment Solutions', 'Reason': 'Workeroom is a professional service marketplace that uses an e-commerce model to facilitate the procurement of professional services. They have developed and integrated core features such as purchase, payment, chatbot, real-time messaging, notification, order management, and delivery systems. They also use AI technologies like approximate matching and recommendation engine to enhance user experience. Therefore, it falls under the primary categories of ICT and Fintech, with subcategories of Software Development and Payment Solutions.'}\n",
      "\n",
      "\n",
      "1148\n",
      "{'answer': 'Medtronic Hong Kong Medical Limited', 'Primary Category': 'Biotechnology', 'Subcategory': 'Biopharmaceuticals', 'Reason': \"Based on the company's name and the cluster provided, it can be inferred that Medtronic Hong Kong Medical Limited falls under the Biotechnology primary category. The exact subcategory is not provided, but given that Medtronic is a renowned medical device company, the closest match would be Biopharmaceuticals.\"}\n",
      "\n",
      "\n",
      "1149\n",
      "{'answer': 'Pure Asia Biotech Limited', 'Primary Category': 'Biotechnology', 'Subcategory': 'Biopharmaceuticals', 'Reason': 'The company is located in a Biotech Centre, which suggests it operates in the Biotechnology field. The exact subcategory is not provided in the information, but Biopharmaceuticals is a common subcategory for Biotech companies.'}\n",
      "\n",
      "\n",
      "1150\n",
      "{'answer': 'DeepTranslate Limited', 'Primary Category': 'ICT (Information and Communication Technology)', 'Subcategory': 'Software Development', 'Reason': \"The company's main product is a platform for the translation of financial documents, which falls under the category of software development in the ICT sector.\"}\n",
      "\n",
      "\n",
      "1151\n",
      "{'answer': 'BOXS Limited', 'Primary Category': 'ICT (Information and Communication Technology)', 'Subcategory': 'Software Development, Big Data & Data Analysis, Artificial Intelligence & Machine Learning', 'Reason': \"Based on the company's description, they provide SMART Business solutions to manage, optimize, and enhance business processes. They have developed an innovative interface that is combined by powerful AI tools to assist with specific business needs. This falls under the ICT category, specifically in the subcategories of Software Development, Big Data & Data Analysis, and Artificial Intelligence & Machine Learning.\"}\n",
      "\n",
      "\n",
      "1152\n",
      "{'answer': 'Wo Lee Green Solutions Limited', 'Primary Category': 'Materials & Precision Engineering', 'Subcategory': 'Advanced Material Research', 'Reason': 'The company is involved in the development of green building materials and products, and improving the traceability of steel and the use of automation in designing and producing steel structures. This falls under the category of Materials & Precision Engineering and the subcategory of Advanced Material Research.'}\n",
      "\n",
      "\n",
      "1153\n",
      "{'answer': 'Arical Limited', 'Primary Category': 'ICT (Information and Communication Technology), PropTech (Property Technology), Fintech', 'Subcategory': 'Artificial Intelligence & Machine Learning, Real Estate Market Analysis Tools, Blockchain in Financial Services', 'Reason': 'Arical Limited is a company that uses GeoAI, a combination of location analytics and artificial intelligence, to serve various sectors including real estate, architectural, financial, and retail. Therefore, it falls under the primary categories of ICT, PropTech, and Fintech. The subcategories are Artificial Intelligence & Machine Learning (as they use AI), Real Estate Market Analysis Tools (as they serve the real estate sector), and Blockchain in Financial Services (as they serve the financial sector).'}\n",
      "\n",
      "\n"
     ]
    },
    {
     "name": "stdout",
     "output_type": "stream",
     "text": [
      "1154\n",
      "{'answer': 'RaSpect Intelligence Inspection Limited', 'Primary Category': 'ICT (Information and Communication Technology), PropTech (Property Technology)', 'Subcategory': 'Artificial Intelligence & Machine Learning, Property Management & Automation', 'Reason': 'The company RaSpect Intelligence Inspection Limited is an AI deep tech company for smart city. They offer AI SaaS solution as well as AI inspection and monitoring services for property owners, property management companies and government. This indicates that they fall under the primary categories of ICT and PropTech, and the subcategories of Artificial Intelligence & Machine Learning and Property Management & Automation.'}\n",
      "\n",
      "\n",
      "1155\n",
      "{'answer': 'Farseer Limited', 'Primary Category': 'ICT (Information and Communication Technology)', 'Subcategory': 'Big Data & Data Analysis, Artificial Intelligence & Machine Learning', 'Reason': 'The company uses proprietary AI and big data to sift through global trusted news sources and social media in real time. They provide unbiased ESG and business analytics that help investors and corporates generate alpha and manage risks. Their proprietary cloud engine combines search, text analytics (Chinese NLP in particular), knowledge graphs & machine learning algorithm, to extract real time financial related alternative data from across millions of unstructured context.'}\n",
      "\n",
      "\n",
      "1156\n",
      "{'answer': 'Sebit Company Limited', 'Primary Category': 'ICT (Information and Communication Technology)', 'Subcategory': 'Artificial Intelligence & Machine Learning', 'Reason': 'The company is involved in AI, Computer Vision, 3D Visualization which falls under the category of ICT and subcategory of Artificial Intelligence & Machine Learning.'}\n",
      "\n",
      "\n",
      "1157\n",
      "{'answer': 'Hazedawn Limited', 'Primary Category': 'ICT (Information and Communication Technology)', 'Subcategory': 'Software Development', 'Reason': 'The company Hazedawn Limited is involved in technical development, technological changes, and industrial systems. They provide solutions for infrastructure-related IT projects, general internal systems, and site revamping. This aligns with the Software Development subcategory under the ICT (Information and Communication Technology) primary category.'}\n",
      "\n",
      "\n",
      "1158\n",
      "{'answer': '3DK Tech Limited', 'Primary Category': 'Materials & Precision Engineering', 'Subcategory': '3D Printing Technology', 'Reason': '3DK Tech is a metal 3D printing start-up based in Hong Kong which is developing a Selective Laser Melting (SLM) type technology utilizing ultrasonics, machine learning, and predictive algorithms. Their first product will be orthodontic parts that are metal printed to utilize the latest research in the field and allow for customization of braces accessories. The second product will be a metal 3D Printing Machine utilizing the patent pending technology developed over the course of 6 years in HKUST.'}\n",
      "\n",
      "\n",
      "1159\n",
      "{'answer': 'Synap Technologies Limited', 'Primary Category': 'Electronic Technology, ICT (Information and Communication Technology)', 'Subcategory': 'Consumer Electronics, Blockchain Technology', 'Reason': 'Synap Technologies is an IoT communication technology company that provides utility companies with the last-mile connectivity to cover meters everywhere. They employ their own state of the art wireless narrow-band networking, and proven security technology combined with blockchain methods. This places them in the Electronic Technology and ICT categories, specifically under Consumer Electronics and Blockchain Technology subcategories.'}\n",
      "\n",
      "\n",
      "1160\n",
      "{'answer': 'Matrix Research Limited', 'Primary Category': 'ICT (Information and Communication Technology)', 'Subcategory': 'Software Development', 'Reason': 'The company, Matrix Research Limited, is involved in the development of access control systems, smart building systems, and multi-tech reader systems. These activities fall under the Information and Communication Technology sector, specifically in the Software Development subcategory.'}\n",
      "\n",
      "\n",
      "1161\n",
      "{'answer': 'Quikec International Limited', 'Primary Category': 'Materials & Precision Engineering', 'Subcategory': 'Advanced Material Research', 'Reason': \"The company is listed under the cluster 'Material and Precision Engineering', which falls under the primary category 'Materials & Precision Engineering'. The specific subcategory is not provided in the question, but based on the company's name and the categories system, a reasonable assumption would be 'Advanced Material Research'.\"}\n",
      "\n",
      "\n",
      "1162\n",
      "{'answer': 'Beyond EdTech Limited', 'Primary Category': 'ICT (Information and Communication Technology), EdTech (Educational Technology)', 'Subcategory': 'Artificial Intelligence & Machine Learning, Online Education', 'Reason': 'The company, Beyond EdTech Limited, also known as Protostar Education, uses online live-streaming technology, a gamification approach, and Artificial Intelligence to provide education. They develop a game-based English learning platform enabled by AI technology. This places them in the ICT category under the subcategory of Artificial Intelligence & Machine Learning. Additionally, as they provide online education, they also fall under the EdTech category with the subcategory of Online Education.'}\n",
      "\n",
      "\n",
      "1163\n",
      "{'answer': 'InSilico Medicine Hong Kong Limited', 'Primary Category': 'Biotechnology', 'Subcategory': 'Bioinformatics', 'Reason': 'The company developed an AI platform for rapid identification of new molecular targets using multi-omics data and rapid generation of novel compounds. This falls under the Bioinformatics subcategory of Biotechnology.'}\n",
      "\n",
      "\n",
      "1164\n",
      "{'answer': 'INVITROCUE (HONG KONG) LIMITED', 'Primary Category': 'Biotechnology', 'Subcategory': 'Biopharmaceuticals', 'Reason': 'The company specializes in developing 3D cell-based models derived from liver and tumour tissues. They have developed a personalised test, Onco-PDO (Patient-Derived-Organoids), that allows physicians to more effectively personalise cancer treatment for their patients. This falls under the Biotechnology primary category and the Biopharmaceuticals subcategory.'}\n",
      "\n",
      "\n",
      "1165\n",
      "{'answer': 'MindAmp Limited', 'Primary Category': 'Electronic Technology, Health Technology, EdTech (Educational Technology)', 'Subcategory': 'Consumer Electronics, Medical Devices & Technology, Online Education', 'Reason': 'The company MindAmp Limited is primarily involved in the development of brain-computer interface and applications, which can be applied in various fields such as health care, medical, education, entertainment, etc. They are developing a smart sleep device based on brainwave, which can monitor and improve users’ sleeping quality and a smart education system based on brain activities to improve learning efficiency. Therefore, it falls under the primary categories of Electronic Technology, Health Technology, and EdTech (Educational Technology), and the subcategories of Consumer Electronics, Medical Devices & Technology, and Online Education.'}\n",
      "\n",
      "\n",
      "1166\n",
      "{'answer': 'Xinics Company Limited', 'Primary Category': 'Electronic Technology, Green Technology, Transportation Technology', 'Subcategory': 'Consumer Electronics, Renewable Energy Technology, New Energy Vehicles', 'Reason': 'The company Xinics Company Limited is primarily involved in the production of EV chargers, which falls under the category of Consumer Electronics in Electronic Technology. Since EV chargers are related to renewable energy and new energy vehicles, the company also falls under the categories of Renewable Energy Technology in Green Technology and New Energy Vehicles in Transportation Technology.'}\n",
      "\n",
      "\n",
      "1167\n",
      "{'answer': 'Hestia Technology Limited', 'Primary Category': 'Materials & Precision Engineering', 'Subcategory': 'Mechanical Automation', 'Reason': 'The company Hestia Technology Limited is primarily involved in the development of fully automatic cooking robots for Chinese cuisine, which falls under the category of Materials & Precision Engineering, specifically the subcategory of Mechanical Automation.'}\n",
      "\n",
      "\n",
      "1168\n",
      "{'answer': 'SOCIF Limited', 'Primary Category': 'Electronic Technology, Transportation Technology', 'Subcategory': 'Consumer Electronics, Intelligent Transportation', 'Reason': 'SOCIF Limited is a technology start-up specialized in smart mobility IoT solutions. They provide services like Estimated Time of Arrival (ETA) system and Seat Vacancy Detection (SVD) service for passenger transit vehicles. This falls under the category of Electronic Technology and Transportation Technology, specifically under the subcategories of Consumer Electronics and Intelligent Transportation.'}\n",
      "\n",
      "\n"
     ]
    },
    {
     "name": "stdout",
     "output_type": "stream",
     "text": [
      "1169\n",
      "{'answer': 'Deltron Intelligence Technology Holdings Limited', 'Primary Category': 'Materials & Precision Engineering', 'Subcategory': 'Advanced Material Research', 'Reason': 'The company Deltron is using multi spectrum sensor to categorize fruits according to their sweetness and ripeness level. This falls under the category of Materials & Precision Engineering and the subcategory of Advanced Material Research.'}\n",
      "\n",
      "\n",
      "1170\n",
      "{'answer': 'ROHTO Advanced Research Hong Kong Limited', 'Primary Category': 'Biotechnology', 'Subcategory': 'Biopharmaceuticals', 'Reason': 'The company is involved in the production of cosmetics, pharmaceutical products and functional foods, which falls under the Biotechnology primary category and Biopharmaceuticals subcategory.'}\n",
      "\n",
      "\n",
      "1171\n",
      "{'answer': 'Superior Autonomation Limited', 'Primary Category': 'Electronic Technology', 'Subcategory': 'Advanced Manufacturing', 'Reason': \"The company name 'Superior Autonomation Limited' suggests that it is involved in automation, which is a subcategory under Electronic Technology. However, without more specific information about the company's operations, this is an educated guess.\"}\n",
      "\n",
      "\n",
      "1172\n",
      "{'answer': 'Nano Dimension (HK) Limited', 'Primary Category': 'Electronic Technology', 'Subcategory': 'Advanced Manufacturing', 'Reason': \"The company Nano Dimension (HK) Limited is primarily involved in the field of electronics, specifically in advanced manufacturing. This is inferred from the company's name and the information provided.\"}\n",
      "\n",
      "\n",
      "1173\n",
      "{'answer': 'Regtics Limited', 'Primary Category': 'ICT (Information and Communication Technology)', 'Subcategory': 'Big Data & Data Analysis, Artificial Intelligence & Machine Learning', 'Reason': 'Regtics Limited is developing a compliance solution to assist financial institutions in complying with international and local anti-money laundering and counter-financing of terrorism regulations using AI and big data technology.'}\n",
      "\n",
      "\n",
      "1174\n",
      "{'answer': 'Up Concept Limited', 'Primary Category': 'ICT (Information and Communication Technology)', 'Subcategory': 'Artificial Intelligence & Machine Learning, Big Data & Data Analysis, Software Development', 'Reason': 'The company provides services in organizing basketball leagues and classes, which includes a basketball league management system, real-time analysis on basketball performance, and strategic training advice by machine learning. Their technology includes statistic recording, match scheduling, real-time image recognition processing, and training suggestions by exclusive algorithm. Therefore, the primary category is ICT and the subcategories are Artificial Intelligence & Machine Learning, Big Data & Data Analysis, and Software Development.'}\n",
      "\n",
      "\n",
      "1175\n",
      "{'answer': 'Isolated Electronics Limited', 'Primary Category': 'ICT (Information and Communication Technology)', 'Subcategory': 'Software Development', 'Reason': 'The company Isolated Electronics Limited develops software solutions for data security and identity protection, which falls under the Information and Communication Technology category, specifically the Software Development subcategory.'}\n",
      "\n",
      "\n",
      "1176\n",
      "{'answer': 'Pivotal Technologies Limited', 'Primary Category': 'ICT (Information and Communication Technology)', 'Subcategory': 'Blockchain Technology, Artificial Intelligence & Machine Learning', 'Reason': 'The company provides Blockchain and Artificial Intelligence solutions for enterprises. These technologies fall under the ICT category and specifically under the Blockchain Technology and Artificial Intelligence & Machine Learning subcategories.'}\n",
      "\n",
      "\n",
      "1177\n",
      "{'answer': 'Neptune Robotics Limited', 'Primary Category': 'Materials & Precision Engineering', 'Subcategory': 'Advanced Material Research', 'Reason': 'The company Neptune Robotics Limited is categorized under Materials & Precision Engineering because it is involved in the development of new materials and precision engineering technologies. The subcategory is Advanced Material Research because the company builds proprietary underwater robots and intelligent data solutions to protect underwater infrastructures and reduce fuel consumption of ships, which involves research and development of advanced materials.'}\n",
      "\n",
      "\n",
      "1178\n",
      "{'answer': 'Deloitte Advisory (Hong Kong) Limited', 'Primary Category': 'Professional Services', 'Subcategory': '專業服務, 专业服务', 'Reason': \"The company is categorized under Professional Services as per the provided information. The subcategories are in different languages (Traditional Chinese and Simplified Chinese) which refer to the same category 'Professional Services'.\"}\n",
      "\n",
      "\n",
      "1179\n",
      "{'answer': 'LABVO TECHNOLOGY LIMITED', 'Primary Category': 'Biotechnology', 'Subcategory': 'Biomedical Technology', 'Reason': 'The company is listed under the cluster of Biomedical Technology, which falls under the primary category of Biotechnology.'}\n",
      "\n",
      "\n",
      "1180\n",
      "{'answer': 'ChatCampaign Limited', 'Primary Category': 'ICT (Information and Communication Technology)', 'Subcategory': 'Artificial Intelligence & Machine Learning', 'Reason': 'The company is dedicated to R&D in artificial intelligence and has developed a customer workflow management platform. They have also received a research grant from the Hong Kong Government in 2021 to further their pioneering R&D efforts in computer vision AI, real-time emotion and attention analysis, and real-time animated virtual facial expressions.'}\n",
      "\n",
      "\n",
      "1181\n",
      "{'answer': 'Caelus Technologies Limited', 'Primary Category': 'Electronic Technology', 'Subcategory': 'Integrated Circuit Design', 'Reason': 'Caelus Technologies Limited is a company that designs and develops solutions based on their patented technologies by offering ultra-high performance analog chips or IP to customers and partners. This falls under the Electronic Technology primary category and the Integrated Circuit Design subcategory.'}\n",
      "\n",
      "\n",
      "1182\n",
      "{'answer': 'UrbanChain Group Limited', 'Primary Category': 'Electronic Technology, ICT (Information and Communication Technology)', 'Subcategory': 'Consumer Electronics, Software Development, Big Data & Data Analysis, Artificial Intelligence & Machine Learning, Blockchain Technology', 'Reason': 'The company UrbanChain Group Limited provides a platform named Parkingbnb that offers automatic solutions for finding parking spaces. This involves the use of consumer electronics. The platform also uses software development, big data & data analysis, artificial intelligence & machine learning, and blockchain technology.'}\n",
      "\n",
      "\n",
      "1183\n",
      "{'answer': \"BONE'S TECHNOLOGY LIMITED\", 'Primary Category': 'Biotechnology', 'Subcategory': 'Biopharmaceuticals', 'Reason': 'The company is listed under the cluster of Biomedical Technology, which falls under the primary category of Biotechnology. The specific subcategory is not provided, but Biopharmaceuticals is a common subcategory within Biotechnology.'}\n",
      "\n",
      "\n",
      "1184\n",
      "{'answer': 'Arovia Hong Kong Limited', 'Primary Category': 'Materials & Precision Engineering', 'Subcategory': 'Advanced Material Research', 'Reason': \"The company Arovia Hong Kong Limited is involved in the development and patenting of material science behind the first projection screen that mitigates wrinkles, the first mechanics for a one-step pop-up collapsible display, and the shortest projection optics currently on the market for a pocket size projector. This falls under the primary category of 'Materials & Precision Engineering' and the subcategory of 'Advanced Material Research'.\"}\n",
      "\n",
      "\n",
      "1185\n",
      "{'answer': 'Architecture & Decoration Technology Group (A & D) Limited', 'Primary Category': 'Green Technology', 'Subcategory': 'Environmental Protection Technology', 'Reason': 'The company specializes in providing architectural and decorative solutions with an emphasis on integrating technology into their designs for functionality and innovation. This aligns with the Green Technology primary category and the Environmental Protection Technology subcategory as they are likely to consider environmental impact in their designs.'}\n",
      "\n",
      "\n",
      "1186\n",
      "{'answer': 'Tarvel Technology Limited', 'Primary Category': 'ICT (Information and Communication Technology)', 'Subcategory': 'Software Development, Big Data & Data Analysis, Artificial Intelligence & Machine Learning', 'Reason': 'Tarvel Technology focuses on developing and growing their flagship mobile application, an anonymous social mobile application. They are applying AI and deep learning to analyze the billions of messages on the platform and will help in improving the matching efficiency. This indicates that they are involved in Software Development, Big Data & Data Analysis, and Artificial Intelligence & Machine Learning.'}\n",
      "\n",
      "\n"
     ]
    },
    {
     "name": "stdout",
     "output_type": "stream",
     "text": [
      "1187\n",
      "{'answer': 'CU Coding Limited', 'Primary Category': 'ICT (Information and Communication Technology)', 'Subcategory': 'Software Development, Big Data & Data Analysis, Cloud Computing', 'Reason': 'CU Coding Limited is an Independent Software Vendor (ISV) for applications by Network Coding technology. They have developed a product called nCloud, a network-coding-based cloud storage system that provides fault tolerance and reduces data repair cost when storing files using multi-cloud storage. This falls under the categories of Software Development, Big Data & Data Analysis, and Cloud Computing within the primary category of ICT (Information and Communication Technology).'}\n",
      "\n",
      "\n",
      "1188\n",
      "{'answer': 'PDL Technology Limited', 'Primary Category': 'Electronic Technology', 'Subcategory': 'Integrated Circuit Design', 'Reason': 'The company is composed of IC chip design professionals and offers IC products in motor applications ranging from E-bike to household appliances, from Drone to AI robotics. This falls under the Electronic Technology primary category and the Integrated Circuit Design subcategory.'}\n",
      "\n",
      "\n",
      "1189\n",
      "{'answer': 'ECTest Company Limited', 'Primary Category': 'ICT (Information and Communication Technology)', 'Subcategory': 'Artificial Intelligence & Machine Learning, Big Data & Data Analysis', 'Reason': 'The company focuses on implementing IoT, AI and data analytic technologies to the Testing, Inspection and Certification (TIC) industry. They use AI and data analysis to gather scattered global market access information and share it among the industry.'}\n",
      "\n",
      "\n",
      "1190\n",
      "{'answer': 'UNRE AI Limited', 'Primary Category': 'Electronic Technology, ICT (Information and Communication Technology)', 'Subcategory': 'Consumer Electronics, Software Development, Artificial Intelligence & Machine Learning, Cloud Computing', 'Reason': 'The company is involved in developing both hardware and software solutions for the building construction industry. They develop proprietary 3D scanning instruments and intelligent software, and provide trusted cloud services. Their technology enables customers to obtain accurate 3D data for various measurements, which is facilitated by their world-leading AI algorithms. This suggests that they fall under the Electronic Technology and ICT categories, specifically in the subcategories of Consumer Electronics, Software Development, Artificial Intelligence & Machine Learning, and Cloud Computing.'}\n",
      "\n",
      "\n",
      "1191\n",
      "{'answer': 'Spaceship (HK) Limited', 'Primary Category': 'ICT (Information and Communication Technology)', 'Subcategory': 'Big Data & Data Analysis', 'Reason': 'Spaceship (HK) Limited is a leading all-in-one logistics solutions platform provider. They leverage technology advancement, personalised design and big data analysis to make logistics easy for everyone. Therefore, the primary category is ICT (Information and Communication Technology) and the subcategory is Big Data & Data Analysis.'}\n",
      "\n",
      "\n",
      "1192\n",
      "{'answer': 'Increasepharm (HK) Limited', 'Primary Category': 'Biotechnology', 'Subcategory': 'Biopharmaceuticals, Clinical Research, Pharmaceutical Technology', 'Reason': 'The company is involved in the research and development of innovative drugs, which falls under the Biotechnology primary category. More specifically, they are involved in Biopharmaceuticals as they are developing new drugs, Clinical Research as they carry out pharmacodynamic toxicology and clinical research, and Pharmaceutical Technology as they provide international drug registration, testing and other services.'}\n",
      "\n",
      "\n",
      "1193\n",
      "{'answer': 'Avant Meats Company Limited', 'Primary Category': 'Biotechnology', 'Subcategory': 'Biopharmaceuticals', 'Reason': 'Avant Meats is a biotechnology company that focuses on producing a new kind of fish using state-of-the-art cultivation processes. Their production process involves extracting small samples of cells from healthy fish, nurturing them in a nourishing environment, allowing them to grow in nutrient-rich conditions, and then producing meat that is ready for consumption, full of nutrition, and free from pollutants. Their product range includes cultivated fish products such as fish fillet, fish maw, and other premium fish products. They also produce active skincare ingredients, including category-defining anti-aging marine peptides.'}\n",
      "\n",
      "\n",
      "1194\n",
      "{'answer': 'Zendanz Limited', 'Primary Category': 'ICT (Information and Communication Technology)', 'Subcategory': 'Artificial Intelligence & Machine Learning', 'Reason': 'The company Zendanz Limited uses an AI algorithm in their product to provide personalized dance training programs. This falls under the category of Information and Communication Technology, specifically the subcategory of Artificial Intelligence & Machine Learning.'}\n",
      "\n",
      "\n",
      "1195\n",
      "{'answer': 'Return Helper Limited', 'Primary Category': 'ICT (Information and Communication Technology)', 'Subcategory': 'Cloud Computing', 'Reason': 'The company Return Helper Limited provides a cloud-based platform that connects global online marketplaces, shipping carriers, and third-party warehouses through API. This falls under the category of Information and Communication Technology, specifically Cloud Computing.'}\n",
      "\n",
      "\n",
      "1196\n",
      "{'answer': 'SwiftPlus Technologies Hong Kong Company Limited', 'Primary Category': 'Fintech', 'Subcategory': 'Payment Solutions', 'Reason': 'The company is described as a leading FinTech company dedicated to providing mobile payment solutions. They serve hundreds of banks and non-banking financial institutions in over 50 counties and regions with advanced mobile payment technology solutions.'}\n",
      "\n",
      "\n",
      "1197\n",
      "{'answer': 'm-Chinese Solution Limited', 'Primary Category': 'ICT (Information and Communication Technology), EdTech (Educational Technology)', 'Subcategory': 'Software Development, Online Education', 'Reason': \"mLang is an edtech company that offers a collaborative learning platform accessible on various devices, including mobile phones, tablets, PCs, and laptops. The platform is specifically designed to enhance students' language proficiency and self-confidence. It allows students and teachers to collaboratively design their unique learning and teaching experiences online. The platform integrates pedagogy with technology and supports multilingual, multimodal, and mobile learning. mLang emphasizes the role of technology as a master of learning and aims to motivate students through its platform.\"}\n",
      "\n",
      "\n",
      "1198\n",
      "{'answer': \"The company's primary category and subcategory cannot be determined based on the provided information.\", 'Primary Category': 'Unknown', 'Subcategory': 'Unknown', 'Reason': \"The provided information does not include specific details about the company's operations or products that would allow for categorization.\"}\n",
      "\n",
      "\n",
      "1199\n",
      "{'answer': 'QLeap Business Solutions Limited', 'Primary Category': 'Health Technology', 'Subcategory': 'Elderly Health Care', 'Reason': \"The company specializes in home safety for seniors, providing a comprehensive safety monitoring home network to the Seniors and assurance to their families. This aligns with the 'Health Technology' primary category and 'Elderly Health Care' subcategory.\"}\n",
      "\n",
      "\n",
      "1200\n",
      "{'answer': 'Portalyze Point of Care Limited', 'Primary Category': 'Biotechnology', 'Subcategory': 'Medical Devices', 'Reason': 'The company is involved in the development of diagnostic tests for various diseases and bacteria strands, which falls under the category of Biotechnology and the subcategory of Medical Devices.'}\n",
      "\n",
      "\n",
      "1201\n",
      "{'answer': 'Tai Fung Securities Limited', 'Primary Category': 'ICT (Information and Communication Technology)', 'Subcategory': 'Not specified', 'Reason': 'The company is listed under the cluster of Information Communications Technology, which falls under the primary category of ICT (Information and Communication Technology). However, the specific subcategory is not provided in the information.'}\n",
      "\n",
      "\n",
      "1202\n",
      "{'answer': 'InnoSpire Technology Limited', 'Primary Category': 'ICT (Information and Communication Technology)', 'Subcategory': 'Software Development', 'Reason': 'InnoSpire Technology Limited is a Hong Kong based social enterprise that works with innovation and technology. They develop and manufacture different products for disadvantaged groups or people in need to help them improve their living standard and create social value. Their product, WeVoice+, is a mobile app that provides visual assistance to visually impaired or elderly users. This aligns with the category of ICT and the subcategory of Software Development.'}\n",
      "\n",
      "\n"
     ]
    },
    {
     "name": "stdout",
     "output_type": "stream",
     "text": [
      "1203\n",
      "{'answer': 'Casa Technologies Limited', 'Primary Category': 'ICT (Information and Communication Technology)', 'Subcategory': 'Software Development', 'Reason': 'The company Casa Technologies Limited is primarily involved in the development of software solutions for 5G transformation, which falls under the category of Information and Communication Technology, specifically Software Development.'}\n",
      "\n",
      "\n",
      "1204\n",
      "{'answer': \"King's Phase Technologies Limited\", 'Primary Category': 'Electronic Technology', 'Subcategory': 'Consumer Electronics', 'Reason': \"King's Phase Technologies is a company that specializes in the development of semiconductor ketone gas sensors. This falls under the category of Electronic Technology, specifically Consumer Electronics, as their product is intended for use by individuals for personal health monitoring.\"}\n",
      "\n",
      "\n",
      "1205\n",
      "{'answer': 'EquityX Limited', 'Primary Category': 'ICT (Information and Communication Technology)', 'Subcategory': 'Artificial Intelligence & Machine Learning', 'Reason': 'EquityX Limited is a company that uses artificial intelligence (AI), deep learning and machine learning technologies to provide stock selection systems. This falls under the ICT category, specifically the Artificial Intelligence & Machine Learning subcategory.'}\n",
      "\n",
      "\n",
      "1206\n",
      "{'answer': 'Nutek Systems (HK) Limited', 'Primary Category': 'Materials & Precision Engineering', 'Subcategory': 'Advanced Material Research', 'Reason': \"The company is listed under the cluster 'Material and Precision Engineering', which falls under the primary category 'Materials & Precision Engineering'. The specific subcategory is not provided, but 'Advanced Material Research' could be a possible subcategory considering the company's name and cluster.\"}\n",
      "\n",
      "\n",
      "1207\n",
      "{'answer': 'Advanced Plasmon Technologies Limited', 'Primary Category': 'Materials & Precision Engineering', 'Subcategory': 'Advanced Material Research', 'Reason': 'The company is involved in the synthesis of high-quality noble metal nanocrystals and downstream devices based on the nanocrystals. This falls under the category of Materials & Precision Engineering, specifically Advanced Material Research.'}\n",
      "\n",
      "\n",
      "1208\n",
      "{'answer': \"The company's primary category and subcategory cannot be determined based on the provided information.\", 'Primary Category': 'Unknown', 'Subcategory': 'Unknown', 'Reason': \"The provided information does not include specific details about the company's operations or services that would allow for categorization.\"}\n",
      "\n",
      "\n",
      "1209\n",
      "{'answer': 'Bulb Inno Limited', 'Primary Category': 'ICT (Information and Communication Technology)', 'Subcategory': 'Software Development', 'Reason': 'The company Bulb Inno Limited is primarily involved in the development of software solutions, specifically a personalized and digital guide for kids aged 0 to 3 and their parents. This falls under the category of Information and Communication Technology, with a subcategory of Software Development.'}\n",
      "\n",
      "\n",
      "1210\n",
      "{'answer': 'n-hop technologies Limited', 'Primary Category': 'ICT (Information and Communication Technology)', 'Subcategory': 'Software Development, Big Data & Data Analysis, Artificial Intelligence & Machine Learning', 'Reason': \"The company n-hop technologies Limited has developed a revolutionary communication technology called BATS, which is based on network coding. This technology is used in IoT devices and has been successful in the Hong Kong Government's pilot smart lamppost system. The technology is applicable in various fields including 5G, IoT, V2X, satellite communication, and underwater acoustic communication. Therefore, the primary category is ICT and the subcategories are Software Development, Big Data & Data Analysis, and Artificial Intelligence & Machine Learning.\"}\n",
      "\n",
      "\n",
      "1211\n",
      "{'answer': 'DeepHealth Limited', 'Primary Category': 'Health Technology', 'Subcategory': 'Health Management Platform', 'Reason': 'DeepHealth Limited is a company that focuses on developing innovative technological solutions to solve health-related problems. They aim at transforming the medical help-seeking behaviour landscape to proactive disease prevention approach. This aligns with the Health Technology primary category and the Health Management Platform subcategory.'}\n",
      "\n",
      "\n",
      "1212\n",
      "{'answer': 'SGS Hong Kong Limited', 'Primary Category': 'Green Technology', 'Subcategory': 'Environmental Protection Technology', 'Reason': 'The company SGS Hong Kong Limited is primarily involved in testing, inspection, and certification services, including Environmental, Social & Governance (ESG) Reporting, sustainability report assurance, and various ISO certifications. This aligns with the Green Technology primary category, specifically the Environmental Protection Technology subcategory.'}\n",
      "\n",
      "\n",
      "1213\n",
      "{'answer': 'VVBI Limited', 'Primary Category': 'Biotechnology', 'Subcategory': 'Biopharmaceuticals', 'Reason': 'The company VVBI Limited is focused on developing and commercialising antibody fragment drugs, antibody/antibody fragment-drug conjugates, structure-based drug design (SBDD), fragment-based drug design (FBDD), affinity selection mass spectrometry (ASMS) screening technology, and membrane protein targeted drug discovery. These activities fall under the Biotechnology primary category and more specifically, the Biopharmaceuticals subcategory.'}\n",
      "\n",
      "\n",
      "1214\n",
      "{'answer': 'MAGPOC DESIGN LIMITED', 'Primary Category': 'Electronic Technology, ICT (Information and Communication Technology)', 'Subcategory': 'Consumer Electronics, Big Data & Data Analysis', 'Reason': 'The company, MAGPOC DESIGN LIMITED, operates in the field of Electronic Technology, specifically in Consumer Electronics, as it produces travel technology accessories like a wireless charging powerbank, Bluetooth speaker, light, fan and more. It also operates in the field of ICT (Information and Communication Technology), specifically in Big Data & Data Analysis, as it aims to utilize Big Data to enhance travel experience.'}\n",
      "\n",
      "\n",
      "1215\n",
      "{'answer': 'INT TECH (HK) Co., Limited', 'Primary Category': 'Electronic Technology', 'Subcategory': 'Consumer Electronics', 'Reason': \"The company is listed under the cluster 'Electronics', which falls under the 'Electronic Technology' primary category. The specific subcategory is not provided, but 'Consumer Electronics' is a reasonable assumption based on the company's name and contact information.\"}\n",
      "\n",
      "\n",
      "1216\n",
      "{'answer': 'EggLogics Limited', 'Primary Category': 'Biotechnology', 'Subcategory': 'Biopharmaceuticals', 'Reason': 'EggLogics is a company focused on the research and development of technologies for human fertility enhancement and restoration. They develop novel solutions to increase the success rate of assisted reproductive technology (ART). Their technology applies a non-invasive method to improve the IVF success rate by increasing the number and quality of usable oocytes. It overcomes the previous requirement of egg donors or stem cells. The clinical trial is ongoing.'}\n",
      "\n",
      "\n",
      "1217\n",
      "{'answer': 'Customindz Limited', 'Primary Category': 'ICT (Information and Communication Technology)', 'Subcategory': 'Artificial Intelligence & Machine Learning', 'Reason': 'The company Customindz Limited is developing a construction-specific computer vision engine, which falls under the category of Artificial Intelligence & Machine Learning. And since this technology is related to information and communication, it falls under the primary category of ICT (Information and Communication Technology).'}\n",
      "\n",
      "\n",
      "1218\n",
      "{'answer': 'EVERWIN PRECISION HONG KONG COMPANY LIMITED', 'Primary Category': 'Materials & Precision Engineering', 'Subcategory': 'Advanced Material Research', 'Reason': \"The company is listed under the cluster 'Material and Precision Engineering', which falls under the primary category 'Materials & Precision Engineering'. The specific subcategory is not provided, but based on the company's name, 'Advanced Material Research' could be a possible subcategory.\"}\n",
      "\n",
      "\n",
      "1219\n",
      "{'answer': 'Enyk Limited', 'Primary Category': 'ICT (Information and Communication Technology)', 'Subcategory': 'Software Development', 'Reason': 'Enyk Limited is a company that focuses on data security with encryption and access management technology. They also develop passwordless systems for secure and effortless login. This falls under the category of Information and Communication Technology, specifically in the subcategory of Software Development.'}\n",
      "\n",
      "\n"
     ]
    },
    {
     "name": "stdout",
     "output_type": "stream",
     "text": [
      "1220\n",
      "{'answer': 'Intepay Company Limited', 'Primary Category': 'ICT (Information and Communication Technology)', 'Subcategory': 'Payment Solutions', 'Reason': 'The company, Intepay Company Limited, is primarily involved in the Information and Communication Technology sector. More specifically, they are engaged in Payment Solutions as they have developed a platform that provides comprehensive comparisons for different e-payment methods.'}\n",
      "\n",
      "\n",
      "1221\n",
      "{'answer': 'Pons Company Limited', 'Primary Category': 'ICT (Information and Communication Technology), Digital Entertainment & Design, Fintech', 'Subcategory': 'Artificial Intelligence & Machine Learning, Metaverse Virtual Socialization, Metaverse Economy & Currency, Cryptocurrency & DeFi Solutions', 'Reason': 'PONS.ai is an AI-powered social marketplace for physical and NFT art and entertainment products. It uses AI and NFT technologies to empower creatives and companies. It also operates on the blockchain, specifically the Flow network, which is related to fintech. Therefore, it falls under the primary categories of ICT, Digital Entertainment & Design, and Fintech, and the subcategories of Artificial Intelligence & Machine Learning, Metaverse Virtual Socialization, Metaverse Economy & Currency, and Cryptocurrency & DeFi Solutions.'}\n",
      "\n",
      "\n",
      "1222\n",
      "{'answer': 'Oceanpayment Co., Limited', 'Primary Category': 'ICT (Information and Communication Technology)', 'Subcategory': 'Payment Solutions', 'Reason': \"Oceanpayment Co., Limited is a company that provides a platform for businesses to accept and process payments. They offer over 500 payment methods and also provide remittance and money exchange services. This aligns with the 'Payment Solutions' subcategory under the 'ICT (Information and Communication Technology)' primary category.\"}\n",
      "\n",
      "\n",
      "1223\n",
      "{'answer': 'Ossfila Technology Limited', 'Primary Category': 'Materials & Precision Engineering', 'Subcategory': '3D Printing Technology', 'Reason': 'OSSFILA Technology Limited is a Hong Kong-based startup company specialized in the R&D and manufacture of novel 3D printing material and 3D printed bone implants. This places it in the Materials & Precision Engineering category, specifically under 3D Printing Technology.'}\n",
      "\n",
      "\n",
      "1224\n",
      "{'answer': 'Centauri Optics Limited', 'Primary Category': 'Materials & Precision Engineering', 'Subcategory': 'Optoelectronics', 'Reason': 'The company is a spin-off from a Physics laboratory in HKUST, specialising in fluorescent technologies. They use their expertise in optical technology to produce disease monitoring devices that are compact, easy to use, and affordable, based upon their fluorescent microscopy system.'}\n",
      "\n",
      "\n",
      "1225\n",
      "{'answer': 'Happyjai Limited', 'Primary Category': 'ICT (Information and Communication Technology)', 'Subcategory': 'Big Data & Data Analysis', 'Reason': 'The company Happyjai Limited uses a self-developed algorithm to analyze the interest preferences of each KOL’s fans, which falls under the category of Big Data & Data Analysis in ICT (Information and Communication Technology).'}\n",
      "\n",
      "\n",
      "1226\n",
      "{'answer': 'QuantumFabless Limited', 'Primary Category': 'Electronic Technology, Materials & Precision Engineering', 'Subcategory': 'Electronic Design Automation, Advanced Material Research', 'Reason': \"The company QuantumFabless Limited integrates quantum physics in electronic design automation (EDA) and offers solutions for the R&D of nanometer materials, devices and applications. This falls under the primary categories of 'Electronic Technology' and 'Materials & Precision Engineering' and the subcategories of 'Electronic Design Automation' and 'Advanced Material Research'.\"}\n",
      "\n",
      "\n",
      "1227\n",
      "{'answer': 'Alternis Medical Limited', 'Primary Category': 'Health Technology, Biotechnology', 'Subcategory': 'Medical Devices & Technology, Biopharmaceuticals', 'Reason': \"Alternis Medical provides healthcare solutions for tendons and muscles disorder in multiple body parts. The health monitoring device is designed as a self-help tool for sports lovers, occupational injury patients, and the aging population to monitor tendon and muscle conditions overtime. This falls under the category of Health Technology and the subcategory of Medical Devices & Technology. Additionally, the company's product is a low-cost, fast, portable solution that allows users to track and prevent musculoskeletal injuries, which falls under the category of Biotechnology and the subcategory of Biopharmaceuticals.\"}\n",
      "\n",
      "\n",
      "1228\n",
      "{'answer': 'SPES Tech Limited is a biotechnology startup that specializes in the development of biomaterials through protein and genetic engineering techniques. They have a proprietary hydrogel technology platform that mimics the in-vivo microenvironment, enabling more physiologically relevant 3D cell models for drug screening.', 'Primary Category': 'Biotechnology', 'Subcategory': 'Bioinformatics', 'Reason': \"The company's focus on developing biomaterials through protein and genetic engineering techniques, as well as their work on creating a more physiologically relevant environment for 3D cell models, places them in the Bioinformatics subcategory of Biotechnology.\"}\n",
      "\n",
      "\n",
      "1229\n",
      "{'answer': 'Coxana Innovation Limited', 'Primary Category': 'Electronic Technology', 'Subcategory': 'Consumer Electronics', 'Reason': 'The company Coxana Innovation Limited focuses on Modular IoT product development, which falls under the category of Electronic Technology and the subcategory of Consumer Electronics.'}\n",
      "\n",
      "\n",
      "1230\n",
      "{'answer': 'Algogene Financial Technology Company Limited', 'Primary Category': 'Fintech', 'Subcategory': 'Assets & Investment Management Technology', 'Reason': \"Algogene Financial Technology Company Limited is a FinTech company that provides one-stop solutions for algorithmic trading. They simplify the complexity of financial research and trading management, and provide various big data streams and analytic tools for users to learn, build, test and execute DIY trading bots. This falls under the 'Fintech' primary category and 'Assets & Investment Management Technology' subcategory.\"}\n",
      "\n",
      "\n",
      "1231\n",
      "{'answer': 'Adtronics Technology Co. Limited', 'Primary Category': 'Materials & Precision Engineering', 'Subcategory': 'Advanced Material Research', 'Reason': 'The company is involved in the development of advanced materials and precision engineering, as indicated by their products which include Robot Navigation and Localisation module, standalone vision AI module and Inspection Robot.'}\n",
      "\n",
      "\n",
      "1232\n",
      "{'answer': 'Nida Technology Company Limited', 'Primary Category': 'Materials & Precision Engineering', 'Subcategory': 'Advanced Material Research', 'Reason': \"The company is listed under the cluster 'Material and Precision Engineering', which falls under the primary category 'Materials & Precision Engineering'. The specific subcategory is not provided in the data, but based on the name 'Nida Technology Company Limited', it can be inferred that they might be involved in 'Advanced Material Research'.\"}\n",
      "\n",
      "\n",
      "1233\n",
      "{'answer': 'D-Engraver Limited', 'Primary Category': 'ICT (Information and Communication Technology)', 'Subcategory': 'Blockchain Technology', 'Reason': 'The company focuses on blockchain data storage and transaction technology. They use the decentralization of the property blockchain and their original encryption strategy to make data authentic, non-destructive, and confidential. They also provide services to the supply chain traceability and finance for its sensitive data storage and encryption.'}\n",
      "\n",
      "\n",
      "1234\n",
      "{'answer': 'HK Bio-Rhythm R&D Company Limited', 'Primary Category': 'Biotechnology', 'Subcategory': 'Biopharmaceuticals', 'Reason': \"The company name 'HK Bio-Rhythm R&D Company Limited' suggests that it is involved in the research and development of biopharmaceuticals, which falls under the primary category of Biotechnology.\"}\n",
      "\n",
      "\n",
      "1235\n",
      "{'answer': 'Impacts Technology Limited', 'Primary Category': 'ICT (Information and Communication Technology)', 'Subcategory': 'Software Development, Big Data & Data Analysis, Artificial Intelligence & Machine Learning, Cloud Computing, Web3 Technology, Mobile Internet', 'Reason': 'Impacts Technology Limited is a company that specializes in e-Learning solutions. They have developed various platforms for interactive learning and corporate training. Their products include a corporate training platform, a real-time interactive platform, an interactive meeting platform, courseware development, and a self-learning platform. These products fall under the categories of software development, big data & data analysis, artificial intelligence & machine learning, cloud computing, web3 technology, and mobile internet within the ICT (Information and Communication Technology) primary category.'}\n",
      "\n",
      "\n"
     ]
    },
    {
     "name": "stdout",
     "output_type": "stream",
     "text": [
      "1236\n",
      "{'answer': 'PATech Limited', 'Primary Category': 'Biotechnology', 'Subcategory': 'Medical Devices', 'Reason': 'The company PATech Limited is primarily involved in the development of biomedical imaging systems, which falls under the category of Biotechnology. More specifically, their work is related to Medical Devices, as they develop systems like photoacoustic microscopy, photoacoustic computed tomography, and high energy focused ultrasonic therapy.'}\n",
      "\n",
      "\n",
      "1237\n",
      "{'answer': 'Deepsite Limited', 'Primary Category': 'ICT (Information and Communication Technology)', 'Subcategory': 'Artificial Intelligence & Machine Learning', 'Reason': 'The company Deepsite Limited is primarily involved in the development of enterprise AI, delivering Computer Vision, trusted AI technology and customizable service to global enterprises. They provide deep learning solutions in video intelligent analyzing and documents processing automation(RPA). This aligns with the ICT (Information and Communication Technology) primary category and the Artificial Intelligence & Machine Learning subcategory.'}\n",
      "\n",
      "\n",
      "1238\n",
      "{'answer': \"The primary category of IPV LIMITED is 'Materials & Precision Engineering'. The subcategory is 'Advanced Material Research'.\", 'Primary Category': 'Materials & Precision Engineering', 'Subcategory': 'Advanced Material Research', 'Reason': \"The company IPV LIMITED is focusing on the development and application of copper nanoparticle conductive pastes, which falls under the category of 'Materials & Precision Engineering' and the subcategory of 'Advanced Material Research'.\"}\n",
      "\n",
      "\n",
      "1239\n",
      "{'answer': 'Boxtalk Media Limited', 'Primary Category': 'Green Technology', 'Subcategory': 'Environmental Protection Technology', 'Reason': 'Boxtalk Media Limited is a company that focuses on the development of green packaging and special packaging technology, with energy-saving and emission-reduction manufacturing technology and digital transformation. They aim to solve social problems and achieve the goal of cooling by 1.5oC. This aligns with the Environmental Protection Technology subcategory under the Green Technology primary category.'}\n",
      "\n",
      "\n",
      "1240\n",
      "{'answer': 'Fusion Bank Limited', 'Primary Category': 'ICT (Information and Communication Technology)', 'Subcategory': 'Not specified', 'Reason': \"The company is listed under the cluster 'Information Communications Technology', which corresponds to the 'ICT (Information and Communication Technology)' primary category. However, the specific subcategory within ICT is not provided in the information.\"}\n",
      "\n",
      "\n",
      "1241\n",
      "{'answer': 'Varadise Limited', 'Primary Category': 'Materials & Precision Engineering', 'Subcategory': 'Advanced Material Research', 'Reason': 'Varadise Limited is a company that builds a data exchange platform handling 4D data (3D geometry with time), which is a part of advanced material research under the primary category of Materials & Precision Engineering.'}\n",
      "\n",
      "\n",
      "1242\n",
      "{'answer': 'Horizon Biochip Limited', 'Primary Category': 'Biotechnology', 'Subcategory': 'Bioinformatics', 'Reason': \"The company name 'Horizon Biochip Limited' suggests that it is involved in the field of biochips, which falls under the category of Bioinformatics in Biotechnology.\"}\n",
      "\n",
      "\n",
      "1243\n",
      "{'answer': 'InterLitho Technology Limited', 'Primary Category': 'Materials & Precision Engineering', 'Subcategory': 'Advanced Material Research', 'Reason': 'The company is involved in the development of large-area interference lithography nanopatterning equipment and image-based plasmonic sensors for environmental and biomedical applications. This falls under the category of Materials & Precision Engineering and the subcategory of Advanced Material Research.'}\n",
      "\n",
      "\n",
      "1244\n",
      "{'answer': 'Msheaf Health Management Technologies Limited', 'Primary Category': 'Health Technology', 'Subcategory': 'Health Management Platform', 'Reason': \"The company's name, Msheaf Health Management Technologies Limited, suggests that it operates in the Health Technology sector, specifically in the Health Management Platform subcategory.\"}\n",
      "\n",
      "\n",
      "1245\n",
      "{'answer': 'Asia Molecular Diagnostics Laboratory Limited', 'Primary Category': 'Biotechnology', 'Subcategory': 'Biopharmaceuticals', 'Reason': 'The company name suggests that it is involved in molecular diagnostics, which falls under the Biopharmaceuticals subcategory of Biotechnology.'}\n",
      "\n",
      "\n",
      "1246\n",
      "{'answer': 'PALMA CEIA SEMIDESIGN (HONG KONG) LIMITED', 'Primary Category': 'Electronic Technology', 'Subcategory': 'Integrated Circuit Design', 'Reason': \"The company is listed under the cluster 'Electronics', which falls under the 'Electronic Technology' primary category. The specific subcategory is not provided in the question, but based on the company's name, which includes 'SEMIDESIGN', it can be inferred that it might be involved in 'Integrated Circuit Design'. However, for a precise categorization, more specific information about the company's operations would be needed.\"}\n",
      "\n",
      "\n",
      "1247\n",
      "{'answer': 'DHW Capital Limited', 'Primary Category': 'ICT (Information and Communication Technology), Digital Entertainment & Design, Fintech', 'Subcategory': 'Artificial Intelligence & Machine Learning, Blockchain Technology, Metaverse Virtual Socialization', 'Reason': 'The company DHW Capital Limited is an original art social e-commerce platform. They use the S2B2C+UGC model, AI, and blockchain technologies, which falls under the ICT category, specifically the Artificial Intelligence & Machine Learning and Blockchain Technology subcategories. They also engage in online and offline deep-linked cross-over art projects, which can be categorized under Digital Entertainment & Design, specifically the Metaverse Virtual Socialization subcategory.'}\n",
      "\n",
      "\n",
      "1248\n",
      "{'answer': 'Carnot Innovations Limited', 'Primary Category': 'ICT (Information and Communication Technology)', 'Subcategory': 'Big Data & Data Analysis, Artificial Intelligence & Machine Learning', 'Reason': 'Carnot Innovations Limited is a company that uses advanced machine learning algorithms and big data analytics to optimize the operational performance of commercial buildings. They predict failures on HVAC mechanical equipment and provide actionable insights for facility managers. Their analytics engine also performs automatic optimal controls on HVAC equipment which ensures best operational performance. This falls under the primary category of ICT (Information and Communication Technology) and the subcategories of Big Data & Data Analysis and Artificial Intelligence & Machine Learning.'}\n",
      "\n",
      "\n",
      "1249\n",
      "{'answer': 'AusMed Global Limited', 'Primary Category': 'Biotechnology', 'Subcategory': 'Bioinformatics, Medical Devices', 'Reason': 'AusMed Global Limited is a biotech company that provides non-invasive medical devices and solutions for diabetes, overweight and obesity. They also have a smart-diet app with a cloud-based AI expert system for diet management, which falls under the subcategory of Bioinformatics.'}\n",
      "\n",
      "\n",
      "1250\n",
      "{'answer': 'Sosoc Limited', 'Primary Category': 'ICT (Information and Communication Technology)', 'Subcategory': 'Software Development', 'Reason': 'SOSOC is a total digital solution for ORG/NGO. They provide a platform where you can create an App+Web management system in few mins for FREE. This falls under the category of Software Development in the ICT (Information and Communication Technology) sector.'}\n",
      "\n",
      "\n",
      "1251\n",
      "{'answer': 'iCreatec Limited', 'Primary Category': 'ICT (Information and Communication Technology)', 'Subcategory': 'Software Development, Big Data & Data Analysis, Artificial Intelligence & Machine Learning, Blockchain Technology, Cloud Computing, Web3 Technology, Mobile Internet', 'Reason': 'iCreatec is a one-stop IOT solutions and devices provider, with solutions for SMART home, SMART office, SMART building and industry-specific applications such as SMART Preventive Maintenance for Hong Kong Airport’s escalators, and SMART lockers for hospitals and clubs. They utilize popular wireless open protocols, such as WiFi, Zigbee 3.0, Apple Homekit, Zwave, LORA, LongTooth and BeiDou Satellite technologies to provide total IOT solutions for all kinds of industries.'}\n",
      "\n",
      "\n",
      "1252\n",
      "{'answer': 'Syncord 3D Technology Limited', 'Primary Category': 'Materials & Precision Engineering', 'Subcategory': '3D Printing Technology', 'Reason': 'The company Syncord 3D Technology Limited is primarily involved in the development of 3D printing technology, which falls under the category of Materials & Precision Engineering. Their innovative approach to 3D printing, including the development of a proprietary software system for robotics additive manufacturing and a hardware configuration for multi-axis 3D printing, places them in the subcategory of 3D Printing Technology.'}\n",
      "\n",
      "\n"
     ]
    },
    {
     "name": "stdout",
     "output_type": "stream",
     "text": [
      "1253\n",
      "{'answer': 'Hoho Living Technology Limited', 'Primary Category': 'Electronic Technology, ICT (Information and Communication Technology), Health Technology', 'Subcategory': 'Consumer Electronics, Big Data & Data Analysis, Artificial Intelligence & Machine Learning, Medical Health Applications', 'Reason': \"The company develops software to detect, collect and use big data in real time with IoT, and uses AI technology to ensure personal safety and enhance the quality of life. Their main product is the 'HoHoCare' system, which is a health application designed to protect the health and safety of users, especially the elderly.\"}\n",
      "\n",
      "\n",
      "1254\n",
      "{'answer': 'EchoX Technology Limited', 'Primary Category': 'Health Technology, ICT (Information and Communication Technology)', 'Subcategory': 'Medical Devices & Technology, Artificial Intelligence & Machine Learning', 'Reason': 'The company EchoX Technology Limited focuses on developing intelligent medical tools in ultrasound imaging, which falls under the primary categories of Health Technology and ICT (Information and Communication Technology). The specific subcategories are Medical Devices & Technology (as they develop medical tools) and Artificial Intelligence & Machine Learning (as they use AI technology in their products).'}\n",
      "\n",
      "\n",
      "1255\n",
      "{'answer': 'Sensestek Solutions Limited', 'Primary Category': 'Electronic Technology', 'Subcategory': 'Integrated Circuit Design', 'Reason': 'Sensestek Solutions Limited specializes in the development of IoT and blockchain sensing devices for smart building and logistics traceability. This falls under the Electronic Technology category and more specifically, the Integrated Circuit Design subcategory.'}\n",
      "\n",
      "\n",
      "1256\n",
      "{'answer': 'Oxidation Sciences Laboratory Limited', 'Primary Category': 'Green Technology', 'Subcategory': 'Environmental Protection Technology', 'Reason': \"The company is listed under the cluster 'Green Technology', which indicates that it operates in the field of green or environmental technologies. The exact subcategory is not provided, but based on the company's name, 'Oxidation Sciences Laboratory Limited', it can be inferred that they might be involved in 'Environmental Protection Technology' as oxidation processes are often used in environmental protection for the treatment of waste and pollutants.\"}\n",
      "\n",
      "\n",
      "1257\n",
      "{'answer': 'eFlexPV Limited', 'Primary Category': 'Materials & Precision Engineering', 'Subcategory': 'Advanced Material Research', 'Reason': 'The company eFlexPV Limited is involved in the research and development of organic photovoltaic technology, which falls under the category of Advanced Material Research. This is a subcategory of Materials & Precision Engineering.'}\n",
      "\n",
      "\n",
      "1258\n",
      "{'answer': 'AmaZinc Energy Limited', 'Primary Category': 'Electronic Technology', 'Subcategory': 'Consumer Electronics', 'Reason': 'The company AmaZinc Energy Limited is focusing on advanced materials and provides a Power Solution for Wearable Electronics, which falls under the category of Consumer Electronics in Electronic Technology.'}\n",
      "\n",
      "\n",
      "1259\n",
      "{'answer': 'ASIABILL COMPANY LIMITED', 'Primary Category': 'ICT (Information and Communication Technology)', 'Subcategory': 'Payment Solutions', 'Reason': 'Asiabill provides fast and secure e-commerce solutions for merchants, including globalised credit card payments, e-wallet and online banking settlements. This falls under the ICT category, specifically the subcategory of Payment Solutions.'}\n",
      "\n",
      "\n",
      "1260\n",
      "{'answer': 'Dragon Coating Limited', 'Primary Category': 'Materials & Precision Engineering', 'Subcategory': 'Advanced Material Research', 'Reason': 'Dragon Coating Limited is a material science company specialised in formulating protection coating layer on metal and other substrates. Their research focus on improving the hardness of the protection layer using Sapphire as a core component of the formulae. This falls under the category of Materials & Precision Engineering and the subcategory of Advanced Material Research.'}\n",
      "\n",
      "\n",
      "1261\n",
      "{'answer': \"NVC International Holdings Limited, also known as 雷士照明 (NVC Lighting), is a leading company in the lighting industry. They specialize in the development and manufacturing of LED lighting products which are used in various consumer and commercial applications. Their LED lights enable more sustainable and energy-efficient lighting solutions. The company's LED lighting products require advanced materials research and precision manufacturing.\", 'Primary Category': 'Electronic Technology, Green Technology, Materials & Precision Engineering', 'Subcategory': 'Consumer Electronics, Energy Efficiency Solutions, Optoelectronics', 'Reason': 'The company falls under the Electronic Technology category because they develop and manufacture LED lighting products. They also fall under the Green Technology category because their LED lights provide more eco-friendly and energy-efficient lighting solutions. Lastly, they fall under the Materials & Precision Engineering category because their LED lighting products require advanced materials research and precision manufacturing.'}\n",
      "\n",
      "\n",
      "1262\n",
      "{'answer': 'Binary Semiconductor Company Limited', 'Primary Category': 'Electronic Technology', 'Subcategory': 'Integrated Circuit Design', 'Reason': \"The company name 'Binary Semiconductor Company Limited' suggests that it operates in the field of electronic technology, specifically in the area of integrated circuit design, as semiconductors are a key component in this field.\"}\n",
      "\n",
      "\n",
      "1263\n",
      "{'answer': 'Vista Innotech Limited', 'Primary Category': 'Materials & Precision Engineering', 'Subcategory': 'Advanced Material Research', 'Reason': 'The company is involved in the development of Micro Gimbal Stabilizer (MGS) Compact Camera Modules (CCMs), which falls under the category of Advanced Material Research in the field of Materials & Precision Engineering.'}\n",
      "\n",
      "\n",
      "1264\n",
      "{'answer': 'Tectonic Technology Innovation Company Limited', 'Primary Category': 'ICT (Information and Communication Technology)', 'Subcategory': 'Blockchain Technology', 'Reason': 'The company is building blockchain-based IP exchange platforms, which falls under the ICT category and specifically the Blockchain Technology subcategory.'}\n",
      "\n",
      "\n",
      "1265\n",
      "{'answer': 'Artemis Education Technology Limited', 'Primary Category': 'ICT (Information and Communication Technology), EdTech (Educational Technology)', 'Subcategory': 'Big Data & Data Analysis, Artificial Intelligence & Machine Learning, Online Education, Smart Learning', 'Reason': 'The company Artemis Education Technology Limited applies insights derived from big data analytics and AI-assisted technologies to develop innovative educational products and multimedia tools to power self-directed online learning. They are focused on creating materials for learning Chinese. This indicates that they operate in the fields of Information and Communication Technology (specifically Big Data & Data Analysis, and Artificial Intelligence & Machine Learning) and Educational Technology (specifically Online Education and Smart Learning).'}\n",
      "\n",
      "\n",
      "1266\n",
      "{'answer': 'AUAU Technology Limited', 'Primary Category': 'ICT (Information and Communication Technology)', 'Subcategory': 'Software Development', 'Reason': 'AUAU Technology Limited is a software-as-a-service company that provides cloud-based business management software for the fitness industry. This falls under the category of Information and Communication Technology, specifically Software Development.'}\n",
      "\n",
      "\n",
      "1267\n",
      "{'answer': 'Biotheus (HongKong) Limited', 'Primary Category': 'Biotechnology', 'Subcategory': 'Biopharmaceuticals', 'Reason': 'The company is listed under the cluster of Biomedical Technology, which falls under the primary category of Biotechnology. The specific subcategory is not provided in the information, but considering the nature of the company, it can be assumed to be Biopharmaceuticals.'}\n",
      "\n",
      "\n",
      "1268\n",
      "{'answer': 'KYLIN HIGH-TECH PRODUCTS COMPANY LIMITED falls under multiple primary categories and subcategories. The primary categories include Materials & Precision Engineering, Electronic Technology, and Green Technology. The subcategories include Advanced Material Research, Consumer Electronics, and Environmental Protection Technology.', 'Primary Category': 'Materials & Precision Engineering, Electronic Technology, Green Technology', 'Subcategory': 'Advanced Material Research, Consumer Electronics, Environmental Protection Technology', 'Reason': 'The company sells and distributes advanced engineering plastics and materials, which falls under Materials & Precision Engineering and the subcategory Advanced Material Research. Some of their materials are used in electronic and electrical applications, which falls under Electronic Technology and the subcategory Consumer Electronics. Some of their plastics and materials enable more eco-friendly products, which falls under Green Technology and the subcategory Environmental Protection Technology.'}\n",
      "\n",
      "\n"
     ]
    },
    {
     "name": "stdout",
     "output_type": "stream",
     "text": [
      "1269\n",
      "{'answer': 'Based on the information provided, Eneuron (HK) Limited can be classified under multiple primary categories and subcategories. The primary categories include Information and Communication Technology (ICT), Green Technology, and Electronic Technology. The subcategories include Cloud Computing under ICT, Energy Efficiency Solutions under Green Technology, and Advanced Manufacturing under Electronic Technology.', 'Primary Category': 'Information and Communication Technology (ICT), Green Technology, Electronic Technology', 'Subcategory': 'Cloud Computing, Energy Efficiency Solutions, Advanced Manufacturing', 'Reason': 'Eneuron (HK) Limited provides IoT solutions and cloud-based platforms for smart facility management, which falls under ICT and specifically Cloud Computing. Their solutions aim to improve energy efficiency and reduce operating costs, which is a part of Green Technology and specifically Energy Efficiency Solutions. The company also develops various electronic devices and sensors for their IoT solutions, which falls under Electronic Technology and specifically Advanced Manufacturing.'}\n",
      "\n",
      "\n",
      "1270\n",
      "{'answer': 'Eureka FinTech Limited', 'Primary Category': 'ICT (Information and Communication Technology)', 'Subcategory': 'Software Development', 'Reason': 'Eureka FinTech Limited is a company that provides innovative AML/KYC and Compliance solutions to financial institutions across Asia via comprehensive financial services platform and bespoke consulting services. This falls under the category of Information and Communication Technology, specifically in the subcategory of Software Development.'}\n",
      "\n",
      "\n",
      "1271\n",
      "{'answer': 'Bride Union Company Limited', 'Primary Category': 'ICT (Information and Communication Technology), Digital Entertainment & Design', 'Subcategory': 'Artificial Intelligence & Machine Learning, Virtual Reality & Augmented Reality', 'Reason': \"The company uses AI and Deep Learning for wedding planning tools and recommendation engine of products. They also use AR Face Filter simulation for simulating wedding products on users' faces and bodies. These technologies fall under the ICT and Digital Entertainment & Design categories, specifically the Artificial Intelligence & Machine Learning and Virtual Reality & Augmented Reality subcategories.\"}\n",
      "\n",
      "\n",
      "1272\n",
      "{'answer': 'Uni Dream Limited', 'Primary Category': 'ICT (Information and Communication Technology), EdTech (Educational Technology)', 'Subcategory': 'Big Data & Data Analysis, Online Education', 'Reason': 'The company Uni Dream Limited is an ed-tech platform that uses big data and machine learning to help students get into their dream universities. Therefore, it falls under the primary categories of ICT (Information and Communication Technology) and EdTech (Educational Technology), and the subcategories of Big Data & Data Analysis and Online Education.'}\n",
      "\n",
      "\n",
      "1273\n",
      "{'answer': 'Bubstal Limited', 'Primary Category': 'Digital Entertainment & Design', 'Subcategory': 'Metaverse Virtual Socialization', 'Reason': 'Bubstal Limited offers two innovative metaverse platforms, Workspace and Elevator, designed to address the challenges of remote collaboration and communication in a rapidly evolving digital world. This falls under the Digital Entertainment & Design primary category and the Metaverse Virtual Socialization subcategory.'}\n",
      "\n",
      "\n",
      "1274\n",
      "{'answer': 'Avalon SteriTech Limited', 'Primary Category': 'Biotechnology, Health Technology, Intelligent Robot Technology', 'Subcategory': 'Medical Devices, Medical Devices & Technology, Service Robots', 'Reason': 'Avalon SteriTech is a biotechnology and healthcare startup that develops disinfection solutions and medical devices. They also create intelligent service robots for automated disinfection. Their products and technologies aim to protect health and wellbeing, making them relevant in the Health Technology category as well.'}\n",
      "\n",
      "\n",
      "1275\n",
      "{'answer': 'Univisual Technology Limited', 'Primary Category': 'Electronic Technology', 'Subcategory': 'Consumer Electronics', 'Reason': 'The company Univisual Technology Limited is dedicated to offering novel visual 3D display devices to consumer and commercial markets. This falls under the category of Electronic Technology and the subcategory of Consumer Electronics.'}\n",
      "\n",
      "\n",
      "1276\n",
      "{'answer': 'OLab hk Limited', 'Primary Category': 'Materials & Precision Engineering', 'Subcategory': 'Advanced Material Research', 'Reason': \"The company is listed under the cluster of Material and Precision Engineering, which falls under the primary category of Materials & Precision Engineering. The specific subcategory is not provided in the data, but based on the company's name and the available subcategories, Advanced Material Research is a possible fit.\"}\n",
      "\n",
      "\n",
      "1277\n",
      "{'answer': 'Seafruit Depuration Limited', 'Primary Category': 'Green Technology', 'Subcategory': 'Environmental Protection Technology', 'Reason': 'The company is a local bivalve depuration technology company in Hong Kong. They combine biochemistry, microbiology, AI, and automation to produce seafood that is safe, delicious, and beneficial to human health. Their purifying system uses closed-loop recirculation technology with UV disinfection to minimize water usage during the depuration process. They also enhance the innate immunity of their bivalves to fight off any pathogenic microbes that may have accumulated throughout their lives, and remove biotoxins and heavy metals through their proprietary bioreactors. This falls under the Environmental Protection Technology subcategory of Green Technology.'}\n",
      "\n",
      "\n",
      "1278\n",
      "{'answer': 'Pie Group Limited', 'Primary Category': 'ICT (Information and Communication Technology)', 'Subcategory': 'Blockchain Technology, Web3 Technology', 'Reason': 'Pie Group Limited is a Web3 and blockchain technology and solution company. They are experts in smart contracts and tokenomics, and blockchain solutions provider. They also provide a ZERO-code solution allowing users to create Web3 decentralized applications (dApps) using drag & drop editor.'}\n",
      "\n",
      "\n",
      "1279\n",
      "{'answer': 'Cedar Technology (International) Limited', 'Primary Category': 'ICT (Information and Communication Technology)', 'Subcategory': 'Blockchain Technology, Web3 Technology', 'Reason': 'The company is building technology to drive the mass adoption of smart tickets and memberships using NFT digital assets, which falls under the ICT category. Specifically, the use of NFTs and Web3 concepts in their product offerings aligns with the Blockchain Technology and Web3 Technology subcategories.'}\n",
      "\n",
      "\n",
      "1280\n",
      "{'answer': \"Great O'Bay Limited\", 'Primary Category': 'Green Technology', 'Subcategory': 'Waste Treatment Technology', 'Reason': \"Great O'Bay is a company that specializes in electric vehicles and is engaged in the research and development of electric vehicle battery material extraction and recycling technology. This falls under the Green Technology primary category and the Waste Treatment Technology subcategory.\"}\n",
      "\n",
      "\n",
      "1281\n",
      "{'answer': 'Fab2care Limited', 'Primary Category': 'Materials & Precision Engineering', 'Subcategory': 'Advanced Material Research', 'Reason': 'Fab2care Limited is a company that has developed a patented heat-conductive smart textile. This falls under the category of Materials & Precision Engineering, specifically Advanced Material Research, as it involves the development of new materials with unique properties.'}\n",
      "\n",
      "\n",
      "1282\n",
      "{'answer': 'BCNetcom Limited', 'Primary Category': 'ICT (Information and Communication Technology)', 'Subcategory': 'Not specified', 'Reason': \"The company BCNetcom Limited is categorized under the cluster 'Information Communications Technology', which corresponds to the 'ICT (Information and Communication Technology)' primary category. However, the specific subcategory within ICT is not provided in the given information.\"}\n",
      "\n",
      "\n",
      "1283\n",
      "{'answer': 'Hong Kong Red Circle Technology Co., Ltd.', 'Primary Category': 'Materials & Precision Engineering', 'Subcategory': 'Advanced Material Research', 'Reason': 'The company is dedicated to the development of UAV-based bridge inspection technology. They are focusing on research and development in areas such as low-light enhancement, infrared image application, UAV navigation system in GPS-denied environment, and 3D bridge reconstruction system. This falls under the category of Materials & Precision Engineering, specifically Advanced Material Research.'}\n",
      "\n",
      "\n"
     ]
    },
    {
     "name": "stdout",
     "output_type": "stream",
     "text": [
      "1284\n",
      "{'answer': 'ZeeqClean Technology Limited', 'Primary Category': 'Materials & Precision Engineering', 'Subcategory': 'Mechanical Automation', 'Reason': 'ZeeqClean Technology Limited is a robotic technology company that provides washroom cleaning services via automation and AI technology. Their product, the automatic commercial washroom cleaning robot ZC-01™, provides intelligent and automatic cleaning solutions for large-volume public washrooms. This falls under the category of Materials & Precision Engineering and the subcategory of Mechanical Automation.'}\n",
      "\n",
      "\n",
      "1285\n",
      "{'answer': \"The primary category of CharCOOL Limited is 'Materials & Precision Engineering'. However, the subcategory is not explicitly mentioned in the provided information.\", 'Primary Category': 'Materials & Precision Engineering', 'Subcategory': 'Not specified', 'Reason': \"The company is focused on producing climate-friendly construction materials by converting waste biomass into high-value, carbon-negative biochar plaster and render, which falls under the 'Materials & Precision Engineering' category. The specific subcategory is not mentioned in the provided information.\"}\n",
      "\n",
      "\n",
      "1286\n",
      "{'answer': 'Ecolar Technology Limited', 'Primary Category': 'Materials & Precision Engineering', 'Subcategory': 'Advanced Material Research', 'Reason': 'Ecolar Technology Ltd. is a hi-tech company focusing on developing green functional materials and products that protect people’s health and the environment. The company has developed a series of eco-friendly biodegradable antiviral/antimicrobial products. The main products and services include: high-efficiency antiviral/antimicrobial finishing agents, disinfectants, antiviral/antimicrobial chips, antiviral/antimicrobial finishing processes for textiles and related technical services, which are widely used in medical supplies, apparel, home textiles, hygiene products, personal protective equipment and other fields.'}\n",
      "\n",
      "\n",
      "1287\n",
      "{'answer': 'InsightRT Limited', 'Primary Category': 'Health Technology, ICT (Information and Communication Technology)', 'Subcategory': 'Medical Devices & Technology, Artificial Intelligence & Machine Learning', 'Reason': 'InsightRT Limited is a company that offers automatic image processing and diagnosis technology to improve the quality and efficiency of diagnostics in radiotherapy. Their product RD-Vision uses deep learning to extract features of dermatitis areas in images for diagnosis. This indicates that they operate in the Health Technology and ICT (Information and Communication Technology) sectors, specifically in the subcategories of Medical Devices & Technology and Artificial Intelligence & Machine Learning.'}\n",
      "\n",
      "\n",
      "1288\n",
      "{'answer': 'Nefertiti Limited', 'Primary Category': 'ICT (Information and Communication Technology), Digital Entertainment & Design, Fintech', 'Subcategory': 'Artificial Intelligence & Machine Learning, Metaverse Economy & Currency, Cryptocurrency & DeFi Solutions', 'Reason': 'The company Nefertiti Limited provides real-time insights to help NFT investors identify market opportunities and optimise their portfolios. They work with real-time data to make sure investors have the most updated and freshest NFT information. Their analytics and appraisal solutions are automated and rely on Artificial Intelligence and Machine Learning. Their solutions are among the most complete in the market, integrating a combination of leading blockchains – including Ethereum, Tezos, Binance Smart Chain and more. They work equally well with Web3 startups and traditional companies that are looking to get into NFTs and need help with the transition.'}\n",
      "\n",
      "\n",
      "1289\n",
      "{'answer': 'Innocorn Technology Limited', 'Primary Category': 'ICT (Information and Communication Technology), Digital Entertainment & Design, Intelligent Robot Technology', 'Subcategory': 'Artificial Intelligence & Machine Learning, Metaverse Virtual Socialization, Service Robots', 'Reason': 'Innocorn Technology is a company that specializes in AI, NLP, and Robotic solutions. They have developed a product that provides a human-like virtual assistance service to users, which can be used in both the physical world and the Metaverse. This indicates that they operate in the fields of ICT (specifically AI & Machine Learning), Digital Entertainment & Design (specifically Metaverse Virtual Socialization), and Intelligent Robot Technology (specifically Service Robots).'}\n",
      "\n",
      "\n",
      "1290\n",
      "{'answer': 'DBT Technology Limited', 'Primary Category': 'ICT (Information and Communication Technology), Health Technology', 'Subcategory': 'Artificial Intelligence & Machine Learning, Medical Devices & Technology', 'Reason': \"The company DBT Technology Limited is a team of computer vision and AI medical imaging experts, which falls under the 'Artificial Intelligence & Machine Learning' subcategory of 'ICT (Information and Communication Technology)'. They also develop an AI application that suggests treatment plans to dental surgeons, which falls under the 'Medical Devices & Technology' subcategory of 'Health Technology'.\"}\n",
      "\n",
      "\n",
      "1291\n",
      "{'answer': 'DanausGT Biotechnology Limited', 'Primary Category': 'Biotechnology', 'Subcategory': 'Biopharmaceuticals', 'Reason': 'The company is focused on the use of gene editing technology and cell therapy to treat a wide range of diseases. They have a CRISPR/AAV technology platform, which can achieve precise gene replacement to completely cure patients. They are involved in several projects from preclinical to clinical phase I. This indicates that they are primarily involved in the Biotechnology sector, specifically in the Biopharmaceuticals subcategory.'}\n",
      "\n",
      "\n",
      "1292\n",
      "{'answer': 'Perksbar Limited', 'Primary Category': 'ICT (Information and Communication Technology)', 'Subcategory': 'Software Development', 'Reason': 'PerksBar is an all-round employee engagement platform that offers digital rewards, recognitions and gamified campaigns such as ESG, health & wellness to help companies engage with employees and deliver corporate values effectively through its mobile application. This falls under the category of Information and Communication Technology, specifically Software Development, as it involves the creation and maintenance of a software platform.'}\n",
      "\n",
      "\n",
      "1293\n",
      "{'answer': 'DepthVision Limited', 'Primary Category': 'Electronic Technology', 'Subcategory': 'Advanced Manufacturing', 'Reason': 'DepthVision Limited is a company that focuses on developing high-end 3D vision technology. They have a strong technical R&D team and have accumulated many years of technical experience in core imaging chips, optical components, imaging algorithms, visual inspection algorithms, etc. Their 3D cameras have been applied to the real-world product lines of the construction, lithium battery, and logistics industries in Hong Kong and mainland China. This aligns with the category of Electronic Technology and the subcategory of Advanced Manufacturing.'}\n",
      "\n",
      "\n",
      "1294\n",
      "{'answer': 'Emius international education consulting limited', 'Primary Category': 'ICT (Information and Communication Technology)', 'Subcategory': 'Big Data & Data Analysis, Artificial Intelligence & Machine Learning', 'Reason': 'The company offers a human-machine integrated intelligence based advisor platform for further study students. This platform integrates deep learning and data mining to provide students with the most explainable consulting report. Therefore, it falls under the ICT category with a focus on Big Data & Data Analysis and Artificial Intelligence & Machine Learning.'}\n",
      "\n",
      "\n",
      "1295\n",
      "{'answer': 'BSF Innovation Limited', 'Primary Category': 'Green Technology', 'Subcategory': 'Environmental Protection Technology', 'Reason': 'The company BSF Innovation Limited is primarily involved in Green Technology, specifically in Environmental Protection Technology. This is evident from their work in enhancing CO2 equivalent & GHG reduction and providing the most effective green construction materials, which is a part of Environmental Protection Technology.'}\n",
      "\n",
      "\n",
      "1296\n",
      "{'answer': 'Biocharttery Limited', 'Primary Category': 'Green Technology', 'Subcategory': 'Environmental Protection Technology', 'Reason': 'Biocharttery Limited has developed a patented thermochemical technology and machine learning process that turns food waste into a carbon-negative biochar soil conditioner. This falls under the Green Technology primary category and more specifically, the Environmental Protection Technology subcategory.'}\n",
      "\n",
      "\n"
     ]
    },
    {
     "ename": "IndexError",
     "evalue": "list index out of range",
     "output_type": "error",
     "traceback": [
      "\u001b[0;31m---------------------------------------------------------------------------\u001b[0m",
      "\u001b[0;31mIndexError\u001b[0m                                Traceback (most recent call last)",
      "\u001b[0;32m/var/folders/ts/fzll15gj6txc3rmxkwy4d7j40000gn/T/ipykernel_3708/4178722227.py\u001b[0m in \u001b[0;36m<module>\u001b[0;34m\u001b[0m\n\u001b[1;32m      2\u001b[0m     \u001b[0mquestion\u001b[0m \u001b[0;34m=\u001b[0m \u001b[0;34m\"According to categories system\"\u001b[0m\u001b[0;34m+\u001b[0m\u001b[0msubcategories_str\u001b[0m \u001b[0;34m+\u001b[0m\u001b[0;31m\\\u001b[0m\u001b[0;34m\u001b[0m\u001b[0;34m\u001b[0m\u001b[0m\n\u001b[1;32m      3\u001b[0m     \u001b[0;31m\"\u001b[0m\u001b[0mtell\u001b[0m \u001b[0mthe\u001b[0m \u001b[0mPrimary\u001b[0m \u001b[0mCategory\u001b[0m \u001b[0;32mand\u001b[0m \u001b[0mSubcategory\u001b[0m \u001b[0mof\u001b[0m \u001b[0mthis\u001b[0m \u001b[0mcompany\u001b[0m\u001b[0;34m,\u001b[0m\u001b[0;31m \u001b[0m\u001b[0;31m\\\u001b[0m\u001b[0;34m\u001b[0m\u001b[0;34m\u001b[0m\u001b[0m\n\u001b[0;32m----> 4\u001b[0;31m     \u001b[0mit\u001b[0m \u001b[0mcan\u001b[0m \u001b[0mhave\u001b[0m \u001b[0mmultyple\u001b[0m \u001b[0mPrimary\u001b[0m \u001b[0mCategory\u001b[0m \u001b[0;32mand\u001b[0m \u001b[0mSubcategory\u001b[0m\u001b[0;31m \u001b[0m\u001b[0;31m\"\u001b[0m\u001b[0;34m+\u001b[0m\u001b[0mdata\u001b[0m\u001b[0;34m[\u001b[0m\u001b[0mi\u001b[0m\u001b[0;34m]\u001b[0m\u001b[0;34m.\u001b[0m\u001b[0mpage_content\u001b[0m\u001b[0;34m\u001b[0m\u001b[0;34m\u001b[0m\u001b[0m\n\u001b[0m\u001b[1;32m      5\u001b[0m \u001b[0;34m\u001b[0m\u001b[0m\n\u001b[1;32m      6\u001b[0m     prompt = ChatPromptTemplate(\n",
      "\u001b[0;31mIndexError\u001b[0m: list index out of range"
     ]
    }
   ],
   "source": [
    "for i in range(1023,1300):\n",
    "    question = \"According to categories system\"+subcategories_str +\\\n",
    "    \"tell the Primary Category and Subcategory of this company, \\\n",
    "    it can have multyple Primary Category and Subcategory \"+data[i].page_content\n",
    "    \n",
    "    prompt = ChatPromptTemplate(\n",
    "    messages=[\n",
    "        HumanMessagePromptTemplate.from_template(\"answer the users question as best as possible.\\n{format_instructions}\\n{question}\")  \n",
    "    ],\n",
    "    input_variables=[\"question\"],\n",
    "    partial_variables={\"format_instructions\": format_instructions}\n",
    "    )\n",
    "    \n",
    "    _input = prompt.format_prompt(question=question)\n",
    "    output = chat_model(_input.to_messages())\n",
    "    \n",
    "    df.loc[i,\"Primary Category\"] = output_parser.parse(output.content)['Primary Category']\n",
    "    df.loc[i,\"Subcategory\"] = output_parser.parse(output.content)['Subcategory']\n",
    "    df.loc[i,\"remarks\"]  = output_parser.parse(output.content)['Reason']\n",
    "    df.loc[i,\"raw\"] = str(output_parser.parse(output.content))\n",
    "    print(i)\n",
    "    print(output_parser.parse(output.content))\n",
    "    print(\"\\n\")"
   ]
  },
  {
   "cell_type": "code",
   "execution_count": null,
   "id": "e2b9758c",
   "metadata": {},
   "outputs": [],
   "source": []
  },
  {
   "cell_type": "code",
   "execution_count": 157,
   "id": "e493bc3a",
   "metadata": {},
   "outputs": [
    {
     "data": {
      "text/plain": [
       "cluster                       Venues\n",
       "cluster_TC                       NaN\n",
       "cluster_SC                       NaN\n",
       "telephone                        NaN\n",
       "fax                              NaN\n",
       "email                            NaN\n",
       "name_EN             Cheung Wai Leung\n",
       "website                          NaN\n",
       "INFO                             NaN\n",
       "SUMMAR                           NaN\n",
       "PRIMARY                          NaN\n",
       "SUB                              NaN\n",
       "address_EN                       NaN\n",
       "contact_EN                       NaN\n",
       "introduction_EN                  NaN\n",
       "product_EN                       NaN\n",
       "name_TC             Cheung Wai Leung\n",
       "address_TC                       NaN\n",
       "contact_TC                       NaN\n",
       "introduction_TC                  NaN\n",
       "product_TC                       NaN\n",
       "name_SC             Cheung Wai Leung\n",
       "address_SC                       NaN\n",
       "contact_SC                       NaN\n",
       "introduction_SC                  NaN\n",
       "product_SC                       NaN\n",
       "Primary Category                 NaN\n",
       "Subcategory                      NaN\n",
       "remarks                          NaN\n",
       "raw                              NaN\n",
       "Name: 599, dtype: object"
      ]
     },
     "execution_count": 157,
     "metadata": {},
     "output_type": "execute_result"
    }
   ],
   "source": [
    "df.loc[599]"
   ]
  },
  {
   "cell_type": "code",
   "execution_count": 146,
   "id": "c845ab56",
   "metadata": {},
   "outputs": [
    {
     "data": {
      "text/plain": [
       "{'answer': 'Aifin Technology Co., Limited',\n",
       " 'Primary Category': 'ICT (Information and Communication Technology)',\n",
       " 'Subcategory': 'Artificial Intelligence & Machine Learning, Software Development, Big Data & Data Analysis',\n",
       " 'Reason': 'Aifin Technology Co., Limited specializes in providing artificial intelligence and machine learning solutions tailored for the banking and financial sectors. They have developed various AI applications and systems for banking services. They also integrate AI and machine learning models with big data analytics to analyze customer behaviors and make targeted product recommendations.'}"
      ]
     },
     "execution_count": 146,
     "metadata": {},
     "output_type": "execute_result"
    }
   ],
   "source": [
    "output_parser.parse(output.content)"
   ]
  },
  {
   "cell_type": "code",
   "execution_count": 192,
   "id": "543115bb",
   "metadata": {},
   "outputs": [],
   "source": [
    "df.to_csv(\"1234.csv\")"
   ]
  },
  {
   "cell_type": "code",
   "execution_count": 193,
   "id": "b85cfc5d",
   "metadata": {},
   "outputs": [
    {
     "data": {
      "text/html": [
       "<div>\n",
       "<style scoped>\n",
       "    .dataframe tbody tr th:only-of-type {\n",
       "        vertical-align: middle;\n",
       "    }\n",
       "\n",
       "    .dataframe tbody tr th {\n",
       "        vertical-align: top;\n",
       "    }\n",
       "\n",
       "    .dataframe thead th {\n",
       "        text-align: right;\n",
       "    }\n",
       "</style>\n",
       "<table border=\"1\" class=\"dataframe\">\n",
       "  <thead>\n",
       "    <tr style=\"text-align: right;\">\n",
       "      <th></th>\n",
       "      <th>cluster</th>\n",
       "      <th>cluster_TC</th>\n",
       "      <th>cluster_SC</th>\n",
       "      <th>telephone</th>\n",
       "      <th>fax</th>\n",
       "      <th>email</th>\n",
       "      <th>name_EN</th>\n",
       "      <th>website</th>\n",
       "      <th>INFO</th>\n",
       "      <th>SUMMAR</th>\n",
       "      <th>...</th>\n",
       "      <th>product_TC</th>\n",
       "      <th>name_SC</th>\n",
       "      <th>address_SC</th>\n",
       "      <th>contact_SC</th>\n",
       "      <th>introduction_SC</th>\n",
       "      <th>product_SC</th>\n",
       "      <th>Primary Category</th>\n",
       "      <th>Subcategory</th>\n",
       "      <th>remarks</th>\n",
       "      <th>raw</th>\n",
       "    </tr>\n",
       "  </thead>\n",
       "  <tbody>\n",
       "    <tr>\n",
       "      <th>0</th>\n",
       "      <td>Electronics</td>\n",
       "      <td>電子</td>\n",
       "      <td>电子</td>\n",
       "      <td>NaN</td>\n",
       "      <td>NaN</td>\n",
       "      <td>NaN</td>\n",
       "      <td>XTX Technology Limited</td>\n",
       "      <td>http://www.xtxtech.com</td>\n",
       "      <td>Here is a summary of the key information about...</td>\n",
       "      <td>Based on the provided information, XTX Technol...</td>\n",
       "      <td>...</td>\n",
       "      <td></td>\n",
       "      <td>XTX Technology Limited</td>\n",
       "      <td>NaN</td>\n",
       "      <td>NaN</td>\n",
       "      <td></td>\n",
       "      <td></td>\n",
       "      <td>Electronic Technology, ICT (Information and Co...</td>\n",
       "      <td>Integrated Circuit Design, Big Data &amp; Data Ana...</td>\n",
       "      <td>XTX Technology specializes in the design of ge...</td>\n",
       "      <td>NaN</td>\n",
       "    </tr>\n",
       "    <tr>\n",
       "      <th>1</th>\n",
       "      <td>Electronics</td>\n",
       "      <td>電子</td>\n",
       "      <td>电子</td>\n",
       "      <td>+852 97998076</td>\n",
       "      <td>NaN</td>\n",
       "      <td>info@treelyair.com</td>\n",
       "      <td>Treely Air Technology Limited</td>\n",
       "      <td>treelyair.com</td>\n",
       "      <td>Treely Air Technology Limited specializes in t...</td>\n",
       "      <td>Certainly, based on the information provided:\\...</td>\n",
       "      <td>...</td>\n",
       "      <td>森為科技專注研發可持續及綠色的空氣清新方案。我們的產品採用壽命長的紫外光空氣清新燈而非HEP...</td>\n",
       "      <td>森為科技有限公司</td>\n",
       "      <td>Unit 621 , 6/F, Building 19W,\\nNo. 19 Science ...</td>\n",
       "      <td>Mr. Oswis Wong</td>\n",
       "      <td>森为科技于2021年成立，2022年初推出第一项产品，即获得超过300宗订单，客户群广泛，包...</td>\n",
       "      <td>森为科技专注研发可持续及绿色的空气清新方案。我们的产品採用长寿命的紫外光空气清新灯而非HEP...</td>\n",
       "      <td>Green Technology</td>\n",
       "      <td>Environmental Protection Technology, Energy Ef...</td>\n",
       "      <td>The company's focus on developing green and su...</td>\n",
       "      <td>NaN</td>\n",
       "    </tr>\n",
       "    <tr>\n",
       "      <th>2</th>\n",
       "      <td>Material and Precision Engineering</td>\n",
       "      <td>新物料及精密工程</td>\n",
       "      <td>新物料及精密工程</td>\n",
       "      <td>+852 2409 3963</td>\n",
       "      <td>NaN</td>\n",
       "      <td>nicholaslai@protechnic.com.hk</td>\n",
       "      <td>Data Digitalisation Limited</td>\n",
       "      <td>https://www.datadigitalisation.com/</td>\n",
       "      <td>Given the categories and subcategories provide...</td>\n",
       "      <td>Based on the information provided about Data D...</td>\n",
       "      <td>...</td>\n",
       "      <td>Data Digitalisation Limited 的PTApp會直接從客戶工廠生產設備...</td>\n",
       "      <td>Data Digitalisation Limited</td>\n",
       "      <td>Lion Rock 72, 1/F, InnoCentre\\n72 Tat Chee Ave...</td>\n",
       "      <td>Mr. Nicholas Yui Man Lai</td>\n",
       "      <td>Data Digitalisation Limited研发的PTApp，通过工业物联网系统协...</td>\n",
       "      <td>Data Digitalisation Limited 的PTApp会直接从客户工厂生产设备...</td>\n",
       "      <td>Materials &amp; Precision Engineering</td>\n",
       "      <td>Mechanical Automation, Big Data &amp; Data Analysi...</td>\n",
       "      <td>Data Digitalisation Limited focuses on digital...</td>\n",
       "      <td>NaN</td>\n",
       "    </tr>\n",
       "    <tr>\n",
       "      <th>3</th>\n",
       "      <td>Information Communications Technology</td>\n",
       "      <td>資訊及通訊科技</td>\n",
       "      <td>资讯及通讯科技</td>\n",
       "      <td>+852 97774967</td>\n",
       "      <td>NaN</td>\n",
       "      <td>yan.or@firefilm.io</td>\n",
       "      <td>Firefilm Group Limited</td>\n",
       "      <td>www.firefilm.io</td>\n",
       "      <td>Firefilm Group Limited, founded in 2022, is a ...</td>\n",
       "      <td>Given the information provided for \"Firefilm G...</td>\n",
       "      <td>...</td>\n",
       "      <td>我們致力提升日常內容製作的創作和審批效率，借助人工智能和大數據分析以加速和提升內容創作從業員...</td>\n",
       "      <td>Firefilm Group Limited</td>\n",
       "      <td>Unit 941, 9/F, Building 19W,\\nNo. 19 Science P...</td>\n",
       "      <td>Ms. Yan Or</td>\n",
       "      <td>firefilm.io 成立于 2022 年，是一个用于视频内容创作、协作和提升生产力的软件...</td>\n",
       "      <td>我们致力提升日常内容制作的创作和审批效率，借助人工智能和大数据分析以加速和提升内容创作从业员...</td>\n",
       "      <td>ICT (Information and Communication Technology)</td>\n",
       "      <td>Software Development, Big Data &amp; Data Analysis...</td>\n",
       "      <td>Firefilm Group Limited is a software-as-a-serv...</td>\n",
       "      <td>NaN</td>\n",
       "    </tr>\n",
       "    <tr>\n",
       "      <th>4</th>\n",
       "      <td>Material and Precision Engineering</td>\n",
       "      <td>新物料及精密工程</td>\n",
       "      <td>新物料及精密工程</td>\n",
       "      <td>+852 59317389</td>\n",
       "      <td>NaN</td>\n",
       "      <td>info@libpet.com</td>\n",
       "      <td>Libpet Tech Limited</td>\n",
       "      <td>https://www.libpet.com/</td>\n",
       "      <td>Libpet Tech Limited, also known as 途齡科技有限公司 in...</td>\n",
       "      <td>Based on the detailed categories provided, I w...</td>\n",
       "      <td>...</td>\n",
       "      <td>Libpet 開發的人工智能載具搭配人工智慧和創新科技，為用戶帶來前所未有的動力。載具的防撞...</td>\n",
       "      <td>途齡科技有限公司</td>\n",
       "      <td>Unit 659, 6/F, Building 19W,\\nNo. 19 Science P...</td>\n",
       "      <td>Mr. Huafeng Xu</td>\n",
       "      <td>Libpet是一家在2022年6月成立的创新科技公司，专注于开发具备移动能力的创新产品及提供...</td>\n",
       "      <td>Libpet 开发的人工智能载具搭配人工智慧和创新科技，为用户带来前所未有的动力。载具的防撞...</td>\n",
       "      <td>Materials &amp; Precision Engineering, ICT (Inform...</td>\n",
       "      <td>Mechanical Automation, Optoelectronics, Advanc...</td>\n",
       "      <td>Libpet Tech Limited focuses on developing inno...</td>\n",
       "      <td>NaN</td>\n",
       "    </tr>\n",
       "    <tr>\n",
       "      <th>...</th>\n",
       "      <td>...</td>\n",
       "      <td>...</td>\n",
       "      <td>...</td>\n",
       "      <td>...</td>\n",
       "      <td>...</td>\n",
       "      <td>...</td>\n",
       "      <td>...</td>\n",
       "      <td>...</td>\n",
       "      <td>...</td>\n",
       "      <td>...</td>\n",
       "      <td>...</td>\n",
       "      <td>...</td>\n",
       "      <td>...</td>\n",
       "      <td>...</td>\n",
       "      <td>...</td>\n",
       "      <td>...</td>\n",
       "      <td>...</td>\n",
       "      <td>...</td>\n",
       "      <td>...</td>\n",
       "      <td>...</td>\n",
       "      <td>...</td>\n",
       "    </tr>\n",
       "    <tr>\n",
       "      <th>1292</th>\n",
       "      <td>Information Communications Technology</td>\n",
       "      <td>資訊及通訊科技</td>\n",
       "      <td>资讯及通讯科技</td>\n",
       "      <td>61032979</td>\n",
       "      <td>NaN</td>\n",
       "      <td>jack@perksbar.com</td>\n",
       "      <td>Perksbar Limited</td>\n",
       "      <td>https://www.perksbar.com/</td>\n",
       "      <td>NaN</td>\n",
       "      <td>NaN</td>\n",
       "      <td>...</td>\n",
       "      <td>借助PerksBar應用程式，公司管理層可以表揚和獎勵員工的表現，創建一個積極的工作環境， ...</td>\n",
       "      <td>Perksbar Limited</td>\n",
       "      <td>Unit 1058, 10/F, Building 19W,\\nNo. 19 Science...</td>\n",
       "      <td>Mr. Jack Cheung</td>\n",
       "      <td>PerksBar 是一个全面的员工参与平台，提供数字奖励、工作表扬，以及以 ESG、健康和福...</td>\n",
       "      <td>借助PerksBar应用程序，公司管理层可以表扬和奖励员工的表现，创建一个积极的工作环境， ...</td>\n",
       "      <td>ICT (Information and Communication Technology)</td>\n",
       "      <td>Software Development</td>\n",
       "      <td>PerksBar is an all-round employee engagement p...</td>\n",
       "      <td>{'answer': 'Perksbar Limited', 'Primary Catego...</td>\n",
       "    </tr>\n",
       "    <tr>\n",
       "      <th>1293</th>\n",
       "      <td>Electronics</td>\n",
       "      <td>電子</td>\n",
       "      <td>电子</td>\n",
       "      <td>54415292</td>\n",
       "      <td>NaN</td>\n",
       "      <td>suicy1992@gmail.com</td>\n",
       "      <td>DepthVision Limited</td>\n",
       "      <td>NaN</td>\n",
       "      <td>NaN</td>\n",
       "      <td>NaN</td>\n",
       "      <td>...</td>\n",
       "      <td>雲芯慧視研發並銷售高端三維傳感器，用来可靠準確地獲取真實物體和場景的三維信息。公司的三維傳感...</td>\n",
       "      <td>雲芯慧視科技有限公司</td>\n",
       "      <td>Unit 701, 7/F, Building 19W,\\nNo. 19 Science P...</td>\n",
       "      <td>Dr. Congying Sui</td>\n",
       "      <td>云芯慧视科技有限公司是专业从事高端三维传感器和视觉解决方案的高新技术企业。公司成立于2021...</td>\n",
       "      <td>云芯慧视研发并销售高端三维传感器，用来可靠准确地获取真实物体和场景的三维信息。公司的三维传感...</td>\n",
       "      <td>Electronic Technology</td>\n",
       "      <td>Advanced Manufacturing</td>\n",
       "      <td>DepthVision Limited is a company that focuses ...</td>\n",
       "      <td>{'answer': 'DepthVision Limited', 'Primary Cat...</td>\n",
       "    </tr>\n",
       "    <tr>\n",
       "      <th>1294</th>\n",
       "      <td>Information Communications Technology</td>\n",
       "      <td>資訊及通訊科技</td>\n",
       "      <td>资讯及通讯科技</td>\n",
       "      <td>+852 92968836</td>\n",
       "      <td>NaN</td>\n",
       "      <td>enquiry@ututes.com</td>\n",
       "      <td>Emius international education consulting limited</td>\n",
       "      <td>NaN</td>\n",
       "      <td>NaN</td>\n",
       "      <td>NaN</td>\n",
       "      <td>...</td>\n",
       "      <td>平台結合深度學習和數據挖掘技術，為學生提供最可解釋的升學咨詢報告。</td>\n",
       "      <td>寰宇智庫國際教育諮詢有限公司</td>\n",
       "      <td>Lion Rock 72, 1/F, InnoCentre\\n72 Tat Chee Ave...</td>\n",
       "      <td>Ms. Janet Zhang</td>\n",
       "      <td>本公司致力为升学生提供人机一体化的智能顾问平台，透过结合数据挖掘丶深度学习和知识图谱，为每一...</td>\n",
       "      <td>平台结合深度学习和数据挖掘技术，为学生提供最可解释的升学咨询报告。</td>\n",
       "      <td>ICT (Information and Communication Technology)</td>\n",
       "      <td>Big Data &amp; Data Analysis, Artificial Intellige...</td>\n",
       "      <td>The company offers a human-machine integrated ...</td>\n",
       "      <td>{'answer': 'Emius international education cons...</td>\n",
       "    </tr>\n",
       "    <tr>\n",
       "      <th>1295</th>\n",
       "      <td>Green Technology</td>\n",
       "      <td>綠色科技</td>\n",
       "      <td>绿色科技</td>\n",
       "      <td>+852 68824663</td>\n",
       "      <td>NaN</td>\n",
       "      <td>sylvine@bsfi.ltd</td>\n",
       "      <td>BSF Innovation Limited</td>\n",
       "      <td>http://www.bsfi.ltd</td>\n",
       "      <td>NaN</td>\n",
       "      <td>NaN</td>\n",
       "      <td>...</td>\n",
       "      <td>我們提供最有效的綠色建築材料，即能與傳統建築材料結合的“waste2build”粉末，以保持...</td>\n",
       "      <td>BSF Innovation Limited</td>\n",
       "      <td>Unit 706, 7/F, Building 19W,\\nNo. 19 Science P...</td>\n",
       "      <td>Ms. Wing Sin Wong</td>\n",
       "      <td>凭借我们的洞察力和创新技术，我们努力提高二氧化碳当量和温室气体减排量。本公司成立于 2022...</td>\n",
       "      <td>我们提供最有效的绿色建筑材料，即能与传统建筑材料结合的“waste2build”粉末，以保持...</td>\n",
       "      <td>Green Technology</td>\n",
       "      <td>Environmental Protection Technology</td>\n",
       "      <td>The company BSF Innovation Limited is primaril...</td>\n",
       "      <td>{'answer': 'BSF Innovation Limited', 'Primary ...</td>\n",
       "    </tr>\n",
       "    <tr>\n",
       "      <th>1296</th>\n",
       "      <td>Green Technology</td>\n",
       "      <td>綠色科技</td>\n",
       "      <td>绿色科技</td>\n",
       "      <td>+852 63610344</td>\n",
       "      <td>NaN</td>\n",
       "      <td>mingjing0627@gmail.com</td>\n",
       "      <td>Biocharttery Limited</td>\n",
       "      <td>https://www.biocharttery.com/</td>\n",
       "      <td>NaN</td>\n",
       "      <td>NaN</td>\n",
       "      <td>...</td>\n",
       "      <td>BioCharttery研發的土壤調節劑含有多孔隙結構及大型表面面積，除了可為土壤微生物和營...</td>\n",
       "      <td>炭土綠創有限公司</td>\n",
       "      <td>Lion Rock 72, 1/F, InnoCentre\\n72 Tat Chee Ave...</td>\n",
       "      <td>Dr. MINGJING HE</td>\n",
       "      <td>健康且有韧性的土壤环境对提升城市绿化率非常重要，不但是粮食和生态安全的载体，更是乡村振兴的基...</td>\n",
       "      <td>BioCharttery研发的土壤调节剂含有多孔隙结构及大型表面面积，除了可为土壤微生物和营...</td>\n",
       "      <td>Green Technology</td>\n",
       "      <td>Environmental Protection Technology</td>\n",
       "      <td>Biocharttery Limited has developed a patented ...</td>\n",
       "      <td>{'answer': 'Biocharttery Limited', 'Primary Ca...</td>\n",
       "    </tr>\n",
       "  </tbody>\n",
       "</table>\n",
       "<p>1297 rows × 30 columns</p>\n",
       "</div>"
      ],
      "text/plain": [
       "                                    cluster cluster_TC cluster_SC  \\\n",
       "0                               Electronics         電子         电子   \n",
       "1                               Electronics         電子         电子   \n",
       "2        Material and Precision Engineering   新物料及精密工程   新物料及精密工程   \n",
       "3     Information Communications Technology    資訊及通訊科技    资讯及通讯科技   \n",
       "4        Material and Precision Engineering   新物料及精密工程   新物料及精密工程   \n",
       "...                                     ...        ...        ...   \n",
       "1292  Information Communications Technology    資訊及通訊科技    资讯及通讯科技   \n",
       "1293                            Electronics         電子         电子   \n",
       "1294  Information Communications Technology    資訊及通訊科技    资讯及通讯科技   \n",
       "1295                       Green Technology       綠色科技       绿色科技   \n",
       "1296                       Green Technology       綠色科技       绿色科技   \n",
       "\n",
       "           telephone  fax                          email  \\\n",
       "0                NaN  NaN                            NaN   \n",
       "1      +852 97998076  NaN             info@treelyair.com   \n",
       "2     +852 2409 3963  NaN  nicholaslai@protechnic.com.hk   \n",
       "3      +852 97774967  NaN             yan.or@firefilm.io   \n",
       "4      +852 59317389  NaN                info@libpet.com   \n",
       "...              ...  ...                            ...   \n",
       "1292        61032979  NaN              jack@perksbar.com   \n",
       "1293        54415292  NaN            suicy1992@gmail.com   \n",
       "1294   +852 92968836  NaN             enquiry@ututes.com   \n",
       "1295   +852 68824663  NaN               sylvine@bsfi.ltd   \n",
       "1296   +852 63610344  NaN         mingjing0627@gmail.com   \n",
       "\n",
       "                                               name_EN  \\\n",
       "0                               XTX Technology Limited   \n",
       "1                        Treely Air Technology Limited   \n",
       "2                          Data Digitalisation Limited   \n",
       "3                               Firefilm Group Limited   \n",
       "4                                  Libpet Tech Limited   \n",
       "...                                                ...   \n",
       "1292                                  Perksbar Limited   \n",
       "1293                               DepthVision Limited   \n",
       "1294  Emius international education consulting limited   \n",
       "1295                            BSF Innovation Limited   \n",
       "1296                              Biocharttery Limited   \n",
       "\n",
       "                                  website  \\\n",
       "0                  http://www.xtxtech.com   \n",
       "1                           treelyair.com   \n",
       "2     https://www.datadigitalisation.com/   \n",
       "3                         www.firefilm.io   \n",
       "4                 https://www.libpet.com/   \n",
       "...                                   ...   \n",
       "1292            https://www.perksbar.com/   \n",
       "1293                                  NaN   \n",
       "1294                                  NaN   \n",
       "1295                  http://www.bsfi.ltd   \n",
       "1296        https://www.biocharttery.com/   \n",
       "\n",
       "                                                   INFO  \\\n",
       "0     Here is a summary of the key information about...   \n",
       "1     Treely Air Technology Limited specializes in t...   \n",
       "2     Given the categories and subcategories provide...   \n",
       "3     Firefilm Group Limited, founded in 2022, is a ...   \n",
       "4     Libpet Tech Limited, also known as 途齡科技有限公司 in...   \n",
       "...                                                 ...   \n",
       "1292                                                NaN   \n",
       "1293                                                NaN   \n",
       "1294                                                NaN   \n",
       "1295                                                NaN   \n",
       "1296                                                NaN   \n",
       "\n",
       "                                                 SUMMAR  ...  \\\n",
       "0     Based on the provided information, XTX Technol...  ...   \n",
       "1     Certainly, based on the information provided:\\...  ...   \n",
       "2     Based on the information provided about Data D...  ...   \n",
       "3     Given the information provided for \"Firefilm G...  ...   \n",
       "4     Based on the detailed categories provided, I w...  ...   \n",
       "...                                                 ...  ...   \n",
       "1292                                                NaN  ...   \n",
       "1293                                                NaN  ...   \n",
       "1294                                                NaN  ...   \n",
       "1295                                                NaN  ...   \n",
       "1296                                                NaN  ...   \n",
       "\n",
       "                                             product_TC  \\\n",
       "0                                                         \n",
       "1     森為科技專注研發可持續及綠色的空氣清新方案。我們的產品採用壽命長的紫外光空氣清新燈而非HEP...   \n",
       "2     Data Digitalisation Limited 的PTApp會直接從客戶工廠生產設備...   \n",
       "3     我們致力提升日常內容製作的創作和審批效率，借助人工智能和大數據分析以加速和提升內容創作從業員...   \n",
       "4     Libpet 開發的人工智能載具搭配人工智慧和創新科技，為用戶帶來前所未有的動力。載具的防撞...   \n",
       "...                                                 ...   \n",
       "1292  借助PerksBar應用程式，公司管理層可以表揚和獎勵員工的表現，創建一個積極的工作環境， ...   \n",
       "1293  雲芯慧視研發並銷售高端三維傳感器，用来可靠準確地獲取真實物體和場景的三維信息。公司的三維傳感...   \n",
       "1294                  平台結合深度學習和數據挖掘技術，為學生提供最可解釋的升學咨詢報告。   \n",
       "1295  我們提供最有效的綠色建築材料，即能與傳統建築材料結合的“waste2build”粉末，以保持...   \n",
       "1296  BioCharttery研發的土壤調節劑含有多孔隙結構及大型表面面積，除了可為土壤微生物和營...   \n",
       "\n",
       "                          name_SC  \\\n",
       "0          XTX Technology Limited   \n",
       "1                        森為科技有限公司   \n",
       "2     Data Digitalisation Limited   \n",
       "3          Firefilm Group Limited   \n",
       "4                        途齡科技有限公司   \n",
       "...                           ...   \n",
       "1292             Perksbar Limited   \n",
       "1293                   雲芯慧視科技有限公司   \n",
       "1294               寰宇智庫國際教育諮詢有限公司   \n",
       "1295       BSF Innovation Limited   \n",
       "1296                     炭土綠創有限公司   \n",
       "\n",
       "                                             address_SC  \\\n",
       "0                                                   NaN   \n",
       "1     Unit 621 , 6/F, Building 19W,\\nNo. 19 Science ...   \n",
       "2     Lion Rock 72, 1/F, InnoCentre\\n72 Tat Chee Ave...   \n",
       "3     Unit 941, 9/F, Building 19W,\\nNo. 19 Science P...   \n",
       "4     Unit 659, 6/F, Building 19W,\\nNo. 19 Science P...   \n",
       "...                                                 ...   \n",
       "1292  Unit 1058, 10/F, Building 19W,\\nNo. 19 Science...   \n",
       "1293  Unit 701, 7/F, Building 19W,\\nNo. 19 Science P...   \n",
       "1294  Lion Rock 72, 1/F, InnoCentre\\n72 Tat Chee Ave...   \n",
       "1295  Unit 706, 7/F, Building 19W,\\nNo. 19 Science P...   \n",
       "1296  Lion Rock 72, 1/F, InnoCentre\\n72 Tat Chee Ave...   \n",
       "\n",
       "                    contact_SC  \\\n",
       "0                          NaN   \n",
       "1               Mr. Oswis Wong   \n",
       "2     Mr. Nicholas Yui Man Lai   \n",
       "3                   Ms. Yan Or   \n",
       "4               Mr. Huafeng Xu   \n",
       "...                        ...   \n",
       "1292           Mr. Jack Cheung   \n",
       "1293          Dr. Congying Sui   \n",
       "1294           Ms. Janet Zhang   \n",
       "1295         Ms. Wing Sin Wong   \n",
       "1296           Dr. MINGJING HE   \n",
       "\n",
       "                                        introduction_SC  \\\n",
       "0                                                         \n",
       "1     森为科技于2021年成立，2022年初推出第一项产品，即获得超过300宗订单，客户群广泛，包...   \n",
       "2     Data Digitalisation Limited研发的PTApp，通过工业物联网系统协...   \n",
       "3     firefilm.io 成立于 2022 年，是一个用于视频内容创作、协作和提升生产力的软件...   \n",
       "4     Libpet是一家在2022年6月成立的创新科技公司，专注于开发具备移动能力的创新产品及提供...   \n",
       "...                                                 ...   \n",
       "1292  PerksBar 是一个全面的员工参与平台，提供数字奖励、工作表扬，以及以 ESG、健康和福...   \n",
       "1293  云芯慧视科技有限公司是专业从事高端三维传感器和视觉解决方案的高新技术企业。公司成立于2021...   \n",
       "1294  本公司致力为升学生提供人机一体化的智能顾问平台，透过结合数据挖掘丶深度学习和知识图谱，为每一...   \n",
       "1295  凭借我们的洞察力和创新技术，我们努力提高二氧化碳当量和温室气体减排量。本公司成立于 2022...   \n",
       "1296  健康且有韧性的土壤环境对提升城市绿化率非常重要，不但是粮食和生态安全的载体，更是乡村振兴的基...   \n",
       "\n",
       "                                             product_SC  \\\n",
       "0                                                         \n",
       "1     森为科技专注研发可持续及绿色的空气清新方案。我们的产品採用长寿命的紫外光空气清新灯而非HEP...   \n",
       "2     Data Digitalisation Limited 的PTApp会直接从客户工厂生产设备...   \n",
       "3     我们致力提升日常内容制作的创作和审批效率，借助人工智能和大数据分析以加速和提升内容创作从业员...   \n",
       "4     Libpet 开发的人工智能载具搭配人工智慧和创新科技，为用户带来前所未有的动力。载具的防撞...   \n",
       "...                                                 ...   \n",
       "1292  借助PerksBar应用程序，公司管理层可以表扬和奖励员工的表现，创建一个积极的工作环境， ...   \n",
       "1293  云芯慧视研发并销售高端三维传感器，用来可靠准确地获取真实物体和场景的三维信息。公司的三维传感...   \n",
       "1294                  平台结合深度学习和数据挖掘技术，为学生提供最可解释的升学咨询报告。   \n",
       "1295  我们提供最有效的绿色建筑材料，即能与传统建筑材料结合的“waste2build”粉末，以保持...   \n",
       "1296  BioCharttery研发的土壤调节剂含有多孔隙结构及大型表面面积，除了可为土壤微生物和营...   \n",
       "\n",
       "                                       Primary Category  \\\n",
       "0     Electronic Technology, ICT (Information and Co...   \n",
       "1                                      Green Technology   \n",
       "2                     Materials & Precision Engineering   \n",
       "3        ICT (Information and Communication Technology)   \n",
       "4     Materials & Precision Engineering, ICT (Inform...   \n",
       "...                                                 ...   \n",
       "1292     ICT (Information and Communication Technology)   \n",
       "1293                              Electronic Technology   \n",
       "1294     ICT (Information and Communication Technology)   \n",
       "1295                                   Green Technology   \n",
       "1296                                   Green Technology   \n",
       "\n",
       "                                            Subcategory  \\\n",
       "0     Integrated Circuit Design, Big Data & Data Ana...   \n",
       "1     Environmental Protection Technology, Energy Ef...   \n",
       "2     Mechanical Automation, Big Data & Data Analysi...   \n",
       "3     Software Development, Big Data & Data Analysis...   \n",
       "4     Mechanical Automation, Optoelectronics, Advanc...   \n",
       "...                                                 ...   \n",
       "1292                               Software Development   \n",
       "1293                             Advanced Manufacturing   \n",
       "1294  Big Data & Data Analysis, Artificial Intellige...   \n",
       "1295                Environmental Protection Technology   \n",
       "1296                Environmental Protection Technology   \n",
       "\n",
       "                                                remarks  \\\n",
       "0     XTX Technology specializes in the design of ge...   \n",
       "1     The company's focus on developing green and su...   \n",
       "2     Data Digitalisation Limited focuses on digital...   \n",
       "3     Firefilm Group Limited is a software-as-a-serv...   \n",
       "4     Libpet Tech Limited focuses on developing inno...   \n",
       "...                                                 ...   \n",
       "1292  PerksBar is an all-round employee engagement p...   \n",
       "1293  DepthVision Limited is a company that focuses ...   \n",
       "1294  The company offers a human-machine integrated ...   \n",
       "1295  The company BSF Innovation Limited is primaril...   \n",
       "1296  Biocharttery Limited has developed a patented ...   \n",
       "\n",
       "                                                    raw  \n",
       "0                                                   NaN  \n",
       "1                                                   NaN  \n",
       "2                                                   NaN  \n",
       "3                                                   NaN  \n",
       "4                                                   NaN  \n",
       "...                                                 ...  \n",
       "1292  {'answer': 'Perksbar Limited', 'Primary Catego...  \n",
       "1293  {'answer': 'DepthVision Limited', 'Primary Cat...  \n",
       "1294  {'answer': 'Emius international education cons...  \n",
       "1295  {'answer': 'BSF Innovation Limited', 'Primary ...  \n",
       "1296  {'answer': 'Biocharttery Limited', 'Primary Ca...  \n",
       "\n",
       "[1297 rows x 30 columns]"
      ]
     },
     "execution_count": 193,
     "metadata": {},
     "output_type": "execute_result"
    }
   ],
   "source": [
    "df"
   ]
  },
  {
   "cell_type": "code",
   "execution_count": 194,
   "id": "53f957e3",
   "metadata": {},
   "outputs": [
    {
     "data": {
      "text/plain": [
       "{'Biotechnology': {'Biopharmaceuticals': 141,\n",
       "  'Bioinformatics': 44,\n",
       "  'Medical Devices': 53,\n",
       "  'Clinical Research': 17,\n",
       "  'Pharmaceutical Technology': 11},\n",
       " 'Electronic Technology': {'Electronic Design Automation': 14,\n",
       "  'Integrated Circuit Design': 53,\n",
       "  'Consumer Electronics': 126,\n",
       "  'Advanced Manufacturing': 49,\n",
       "  'Automotive Electronics': 3},\n",
       " 'ICT (Information and Communication Technology)': {'Software Development': 231,\n",
       "  'Big Data & Data Analysis': 135,\n",
       "  'Artificial Intelligence & Machine Learning': 221,\n",
       "  'Blockchain Technology': 38,\n",
       "  'Cloud Computing': 48,\n",
       "  'Web3 Technology': 14,\n",
       "  'Mobile Internet': 45},\n",
       " 'Green Technology': {'Environmental Protection Technology': 67,\n",
       "  'Energy Efficiency Solutions': 36,\n",
       "  'Renewable Energy Technology': 23,\n",
       "  'Water Resource Management Technology': 3,\n",
       "  'Waste Treatment Technology': 14},\n",
       " 'Materials & Precision Engineering': {'Advanced Material Research': 117,\n",
       "  'Nanotechnology': 13,\n",
       "  'Optoelectronics': 8,\n",
       "  'Mechanical Automation': 24,\n",
       "  '3D Printing Technology': 9},\n",
       " 'Digital Entertainment & Design': {'Game Development': 13,\n",
       "  'Animation & Film Production': 6,\n",
       "  'Virtual Reality & Augmented Reality': 15,\n",
       "  'Product & Industrial Design': 12,\n",
       "  'Metaverse Virtual Socialization': 13,\n",
       "  'Metaverse Economy & Currency': 6},\n",
       " 'Fintech': {'Payment Solutions': 13,\n",
       "  'Blockchain in Financial Services': 18,\n",
       "  'Risk Management Tools': 5,\n",
       "  'Assets & Investment Management Technology': 16,\n",
       "  'Cryptocurrency & DeFi Solutions': 10,\n",
       "  'Insurtech': 4},\n",
       " 'Health Technology': {'Medical Health Applications': 28,\n",
       "  'Medical Devices & Technology': 54,\n",
       "  'Health Management Platform': 10,\n",
       "  'Elderly Health Care': 10},\n",
       " 'PropTech (Property Technology)': {'Real Estate Market Analysis Tools': 5,\n",
       "  'Virtual Reality Real Estate Showcasing': 1,\n",
       "  'Property Management & Automation': 7,\n",
       "  'Real Estate Investment Platform': 5,\n",
       "  'Leasing & Sharing Economy Solutions': 0},\n",
       " 'Intelligent Robot Technology': {'Service Robots': 9,\n",
       "  'Industrial Robots': 9,\n",
       "  'Medical Robots': 3,\n",
       "  'Detection & Search and Rescue Robots': 0,\n",
       "  'Companion & Educational Robots': 1,\n",
       "  'Drone Technology': 3},\n",
       " 'Transportation Technology': {'Intelligent Transportation': 12,\n",
       "  'Autonomous Driving': 2,\n",
       "  'New Energy Vehicles': 8},\n",
       " 'EdTech (Educational Technology)': {'Online Education': 31,\n",
       "  'Smart Learning': 6}}"
      ]
     },
     "execution_count": 194,
     "metadata": {},
     "output_type": "execute_result"
    }
   ],
   "source": [
    "# Define the category system as a dictionary where each primary category maps to a list of its subcategories\n",
    "category_system = {\n",
    "    \"Biotechnology\": [\"Biopharmaceuticals\", \"Bioinformatics\", \"Medical Devices\", \"Clinical Research\", \"Pharmaceutical Technology\"],\n",
    "    \"Electronic Technology\": [\"Electronic Design Automation\", \"Integrated Circuit Design\", \"Consumer Electronics\", \"Advanced Manufacturing\", \"Automotive Electronics\"],\n",
    "    \"ICT (Information and Communication Technology)\": [\"Software Development\", \"Big Data & Data Analysis\", \"Artificial Intelligence & Machine Learning\", \"Blockchain Technology\", \"Cloud Computing\", \"Web3 Technology\", \"Mobile Internet\"],\n",
    "    \"Green Technology\": [\"Environmental Protection Technology\", \"Energy Efficiency Solutions\", \"Renewable Energy Technology\", \"Water Resource Management Technology\", \"Waste Treatment Technology\"],\n",
    "    \"Materials & Precision Engineering\": [\"Advanced Material Research\", \"Nanotechnology\", \"Optoelectronics\", \"Mechanical Automation\", \"3D Printing Technology\"],\n",
    "    \"Digital Entertainment & Design\": [\"Game Development\", \"Animation & Film Production\", \"Virtual Reality & Augmented Reality\", \"Product & Industrial Design\", \"Metaverse Virtual Socialization\", \"Metaverse Economy & Currency\"],\n",
    "    \"Fintech\": [\"Payment Solutions\", \"Blockchain in Financial Services\", \"Risk Management Tools\", \"Assets & Investment Management Technology\", \"Cryptocurrency & DeFi Solutions\", \"Insurtech\"],\n",
    "    \"Health Technology\": [\"Medical Health Applications\", \"Medical Devices & Technology\", \"Health Management Platform\", \"Elderly Health Care\"],\n",
    "    \"PropTech (Property Technology)\": [\"Real Estate Market Analysis Tools\", \"Virtual Reality Real Estate Showcasing\", \"Property Management & Automation\", \"Real Estate Investment Platform\", \"Leasing & Sharing Economy Solutions\"],\n",
    "    \"Intelligent Robot Technology\": [\"Service Robots\", \"Industrial Robots\", \"Medical Robots\", \"Detection & Search and Rescue Robots\", \"Companion & Educational Robots\", \"Drone Technology\"],\n",
    "    \"Transportation Technology\": [\"Intelligent Transportation\", \"Autonomous Driving\", \"New Energy Vehicles\"],\n",
    "    \"EdTech (Educational Technology)\": [\"Online Education\", \"Smart Learning\"]\n",
    "}\n",
    "\n",
    "# Initialize a dictionary to store the counts for each category and subcategory\n",
    "category_counts = {primary: {sub: 0 for sub in subs} for primary, subs in category_system.items()}\n",
    "\n",
    "# Loop through each row in the DataFrame to count the occurrences of each category and subcategory\n",
    "for idx, row in df.iterrows():\n",
    "    primary_categories = str(row['Primary Category']).split(',')\n",
    "    subcategories = str(row['Subcategory']).split(',')\n",
    "    \n",
    "    for primary in primary_categories:\n",
    "        primary = primary.strip()  # Remove any leading or trailing whitespaces\n",
    "        if primary in category_system:  # Check if the primary category exists in the predefined system\n",
    "            for sub in subcategories:\n",
    "                sub = sub.strip()  # Remove any leading or trailing whitespaces\n",
    "                if sub in category_system[primary]:  # Check if the subcategory exists under the primary category\n",
    "                    category_counts[primary][sub] += 1  # Increment the count\n",
    "\n",
    "category_counts\n"
   ]
  },
  {
   "cell_type": "code",
   "execution_count": 196,
   "id": "ebb0adcd",
   "metadata": {},
   "outputs": [
    {
     "data": {
      "image/png": "[encoded data removed]",
      "text/plain": [
       "<Figure size 2000x1200 with 1 Axes>"
      ]
     },
     "metadata": {},
     "output_type": "display_data"
    }
   ],
   "source": [
    "import matplotlib.pyplot as plt\n",
    "import seaborn as sns\n",
    "\n",
    "# Create a DataFrame from the category_counts dictionary for easier plotting\n",
    "category_df_list = []\n",
    "for primary, subs in category_counts.items():\n",
    "    for sub, count in subs.items():\n",
    "        category_df_list.append({'Primary Category': primary, 'Subcategory': sub, 'Count': count})\n",
    "        \n",
    "category_df = pd.DataFrame(category_df_list)\n",
    "\n",
    "# Create the plot\n",
    "plt.figure(figsize=(20, 12))\n",
    "sns.barplot(x='Count', y='Subcategory', hue='Primary Category', data=category_df, dodge=False)\n",
    "plt.title('Ecosystem Under Each Category and Subcategory')\n",
    "plt.xlabel('Number of Entries')\n",
    "plt.ylabel('Subcategories')\n",
    "plt.legend(title='Primary Categories', bbox_to_anchor=(1.05, 1), loc='upper left')\n",
    "\n",
    "plt.tight_layout()\n",
    "plt.show()\n"
   ]
  },
  {
   "cell_type": "code",
   "execution_count": 1,
   "id": "5b9f613d",
   "metadata": {},
   "outputs": [
    {
     "name": "stdout",
     "output_type": "stream",
     "text": [
      "Requirement already satisfied: textract in /Users/zhangning/opt/anaconda3/lib/python3.9/site-packages (1.6.5)\n",
      "Requirement already satisfied: argcomplete~=1.10.0 in /Users/zhangning/opt/anaconda3/lib/python3.9/site-packages (from textract) (1.10.3)\n",
      "Requirement already satisfied: beautifulsoup4~=4.8.0 in /Users/zhangning/opt/anaconda3/lib/python3.9/site-packages (from textract) (4.8.2)\n",
      "Requirement already satisfied: chardet==3.* in /Users/zhangning/opt/anaconda3/lib/python3.9/site-packages (from textract) (3.0.4)\n",
      "Requirement already satisfied: docx2txt~=0.8 in /Users/zhangning/opt/anaconda3/lib/python3.9/site-packages (from textract) (0.8)\n",
      "Requirement already satisfied: extract-msg<=0.29.* in /Users/zhangning/opt/anaconda3/lib/python3.9/site-packages (from textract) (0.28.7)\n",
      "Requirement already satisfied: pdfminer.six==20191110 in /Users/zhangning/opt/anaconda3/lib/python3.9/site-packages (from textract) (20191110)\n",
      "Requirement already satisfied: python-pptx~=0.6.18 in /Users/zhangning/opt/anaconda3/lib/python3.9/site-packages (from textract) (0.6.21)\n",
      "Requirement already satisfied: six~=1.12.0 in /Users/zhangning/opt/anaconda3/lib/python3.9/site-packages (from textract) (1.12.0)\n",
      "Requirement already satisfied: SpeechRecognition~=3.8.1 in /Users/zhangning/opt/anaconda3/lib/python3.9/site-packages (from textract) (3.8.1)\n",
      "Requirement already satisfied: xlrd~=1.2.0 in /Users/zhangning/opt/anaconda3/lib/python3.9/site-packages (from textract) (1.2.0)\n",
      "Requirement already satisfied: pycryptodome in /Users/zhangning/opt/anaconda3/lib/python3.9/site-packages (from pdfminer.six==20191110->textract) (3.18.0)\n",
      "Requirement already satisfied: sortedcontainers in /Users/zhangning/opt/anaconda3/lib/python3.9/site-packages (from pdfminer.six==20191110->textract) (2.4.0)\n",
      "Requirement already satisfied: soupsieve>=1.2 in /Users/zhangning/opt/anaconda3/lib/python3.9/site-packages (from beautifulsoup4~=4.8.0->textract) (2.3.1)\n",
      "Requirement already satisfied: imapclient==2.1.0 in /Users/zhangning/opt/anaconda3/lib/python3.9/site-packages (from extract-msg<=0.29.*->textract) (2.1.0)\n",
      "Requirement already satisfied: olefile>=0.46 in /Users/zhangning/opt/anaconda3/lib/python3.9/site-packages (from extract-msg<=0.29.*->textract) (0.46)\n",
      "Requirement already satisfied: tzlocal>=2.1 in /Users/zhangning/opt/anaconda3/lib/python3.9/site-packages (from extract-msg<=0.29.*->textract) (4.3.1)\n",
      "Requirement already satisfied: compressed-rtf>=1.0.6 in /Users/zhangning/opt/anaconda3/lib/python3.9/site-packages (from extract-msg<=0.29.*->textract) (1.0.6)\n",
      "Requirement already satisfied: ebcdic>=1.1.1 in /Users/zhangning/opt/anaconda3/lib/python3.9/site-packages (from extract-msg<=0.29.*->textract) (1.1.1)\n",
      "Requirement already satisfied: lxml>=3.1.0 in /Users/zhangning/opt/anaconda3/lib/python3.9/site-packages (from python-pptx~=0.6.18->textract) (4.9.1)\n",
      "Requirement already satisfied: Pillow>=3.3.2 in /Users/zhangning/opt/anaconda3/lib/python3.9/site-packages (from python-pptx~=0.6.18->textract) (9.2.0)\n",
      "Requirement already satisfied: XlsxWriter>=0.5.7 in /Users/zhangning/opt/anaconda3/lib/python3.9/site-packages (from python-pptx~=0.6.18->textract) (3.0.3)\n",
      "Requirement already satisfied: pytz-deprecation-shim in /Users/zhangning/opt/anaconda3/lib/python3.9/site-packages (from tzlocal>=2.1->extract-msg<=0.29.*->textract) (0.1.0.post0)\n",
      "Requirement already satisfied: tzdata in /Users/zhangning/opt/anaconda3/lib/python3.9/site-packages (from pytz-deprecation-shim->tzlocal>=2.1->extract-msg<=0.29.*->textract) (2023.3)\n",
      "\u001b[33mDEPRECATION: textract 1.6.5 has a non-standard dependency specifier extract-msg<=0.29.*. pip 23.3 will enforce this behaviour change. A possible replacement is to upgrade to a newer version of textract or contact the author to suggest that they release a version with a conforming dependency specifiers. Discussion can be found at https://github.com/pypa/pip/issues/12063\u001b[0m\u001b[33m\n",
      "\u001b[0mNote: you may need to restart the kernel to use updated packages.\n"
     ]
    }
   ],
   "source": [
    "pip install --upgrade textract"
   ]
  },
  {
   "cell_type": "code",
   "execution_count": 11,
   "id": "90db5230",
   "metadata": {},
   "outputs": [
    {
     "ename": "SyntaxError",
     "evalue": "invalid syntax (2577314323.py, line 1)",
     "output_type": "error",
     "traceback": [
      "\u001b[0;36m  File \u001b[0;32m\"/var/folders/ts/fzll15gj6txc3rmxkwy4d7j40000gn/T/ipykernel_50472/2577314323.py\"\u001b[0;36m, line \u001b[0;32m1\u001b[0m\n\u001b[0;31m    pip install -q playwright beautifulsoup4\u001b[0m\n\u001b[0m        ^\u001b[0m\n\u001b[0;31mSyntaxError\u001b[0m\u001b[0;31m:\u001b[0m invalid syntax\n"
     ]
    }
   ],
   "source": [
    "pip install -q playwright beautifulsoup4 \n",
    " playwright install"
   ]
  },
  {
   "cell_type": "code",
   "execution_count": 5,
   "id": "021b793f",
   "metadata": {},
   "outputs": [
    {
     "name": "stdout",
     "output_type": "stream",
     "text": [
      "Requirement already satisfied: nest-asyncio in /Users/zhangning/opt/anaconda3/lib/python3.9/site-packages (1.5.5)\n",
      "\u001b[33mDEPRECATION: textract 1.6.5 has a non-standard dependency specifier extract-msg<=0.29.*. pip 23.3 will enforce this behaviour change. A possible replacement is to upgrade to a newer version of textract or contact the author to suggest that they release a version with a conforming dependency specifiers. Discussion can be found at https://github.com/pypa/pip/issues/12063\u001b[0m\u001b[33m\n",
      "\u001b[0mNote: you may need to restart the kernel to use updated packages.\n"
     ]
    }
   ],
   "source": [
    "pip install nest-asyncio"
   ]
  },
  {
   "cell_type": "code",
   "execution_count": 16,
   "id": "dfa4875b",
   "metadata": {},
   "outputs": [],
   "source": [
    "import nest_asyncio\n",
    "nest_asyncio.apply()"
   ]
  },
  {
   "cell_type": "code",
   "execution_count": 18,
   "id": "5362cb9b",
   "metadata": {},
   "outputs": [
    {
     "data": {
      "text/plain": [
       "'<!DOCTYPE html><html lang=\"en\"><head><script type=\"text/javascript\" async=\"\" src=\"https://collector.'"
      ]
     },
     "execution_count": 18,
     "metadata": {},
     "output_type": "execute_result"
    }
   ],
   "source": [
    "from langchain.document_loaders import AsyncChromiumLoader\n",
    "urls = [\"https://www.wsj.com\"]\n",
    "loader = AsyncChromiumLoader(urls)\n",
    "docs = loader.load()\n",
    "docs[0].page_content[0:100]"
   ]
  },
  {
   "cell_type": "code",
   "execution_count": 19,
   "id": "8ee78edc",
   "metadata": {},
   "outputs": [
    {
     "data": {
      "text/plain": [
       "'Skip to Main ContentSkip to SearchSkip to...\\n\\nSelect\\n\\n  * Top News\\n  * Listen to The Journal.\\n  * Featured Stories\\n  * Tech Tips & Tricks\\n  * U.S.\\n  * Life & Style\\n  * WSJ/College Pulse Rankings\\n  * Video\\n  * Economy\\n  * Real Estate\\n  * Sports\\n  * CMO\\n  * CIO\\n  * CFO\\n  * Risk & Compliance\\n  * Logistics Report\\n  * Sustainable Business\\n  * Heard on the Street\\n  * Barron’s\\n  * MarketWatch\\n  * Mansion Global\\n  * Penta\\n  * Opinion\\n  * Journal Reports\\n  * Sponsored Offers\\n\\nExplore Our Brands\\n\\n  * WSJ\\n'"
      ]
     },
     "execution_count": 19,
     "metadata": {},
     "output_type": "execute_result"
    }
   ],
   "source": [
    "from langchain.document_transformers import Html2TextTransformer\n",
    "html2text = Html2TextTransformer()\n",
    "docs_transformed = html2text.transform_documents(docs)\n",
    "docs_transformed[0].page_content[0:500]"
   ]
  },
  {
   "cell_type": "code",
   "execution_count": 23,
   "id": "0d0043c6",
   "metadata": {},
   "outputs": [],
   "source": [
    "from langchain.document_loaders import AsyncChromiumLoader\n",
    "from langchain.document_transformers import BeautifulSoupTransformer\n",
    "\n",
    "# Load HTML\n",
    "loader = AsyncChromiumLoader([\"https://www.wsj.com\"])\n",
    "html = loader.load()"
   ]
  },
  {
   "cell_type": "code",
   "execution_count": 31,
   "id": "e2309efd",
   "metadata": {},
   "outputs": [],
   "source": [
    "# Transform\n",
    "bs_transformer = BeautifulSoupTransformer()\n",
    "docs_transformed = bs_transformer.transform_documents(html,tags_to_extract=[\"span\"])"
   ]
  },
  {
   "cell_type": "code",
   "execution_count": 152,
   "id": "36a085c4",
   "metadata": {},
   "outputs": [
    {
     "name": "stderr",
     "output_type": "stream",
     "text": [
      "Fetching pages: 100%|#############################| 1/1 [00:00<00:00,  2.01it/s]\n"
     ]
    }
   ],
   "source": [
    "from langchain.document_loaders import AsyncHtmlLoader\n",
    "urls = [\"https://hkstp.org\"]\n",
    "loader = AsyncHtmlLoader(urls)\n",
    "docs = loader.load()"
   ]
  },
  {
   "cell_type": "code",
   "execution_count": null,
   "id": "3b19050f",
   "metadata": {},
   "outputs": [],
   "source": []
  },
  {
   "cell_type": "code",
   "execution_count": 169,
   "id": "4b3adc0e",
   "metadata": {},
   "outputs": [],
   "source": [
    "from langchain.chat_models import ChatOpenAI\n",
    "llm = ChatOpenAI(temperature=0, model=\"gpt-3.5-turbo-0613\")"
   ]
  },
  {
   "cell_type": "code",
   "execution_count": 171,
   "id": "0d0f229c",
   "metadata": {},
   "outputs": [],
   "source": [
    "from langchain.chains import create_extraction_chain\n",
    "\n",
    "schema = {\n",
    "    \"properties\": {\n",
    "        \"url_or_path_of_company_logo\": {\"type\": \"string\"},\n",
    "\n",
    "    },\n",
    "    \"required\": [\"url_or_path_of_company_logo\"],\n",
    "}\n",
    "\n",
    "def extract(content: str, schema: dict):\n",
    "    return create_extraction_chain(schema=schema, llm=llm).run(content)"
   ]
  },
  {
   "cell_type": "code",
   "execution_count": 172,
   "id": "397e7375",
   "metadata": {},
   "outputs": [
    {
     "name": "stdout",
     "output_type": "stream",
     "text": [
      "Extracting content with LLM\n",
      "[{'url_or_path_of_company_logo': 'https://www.hkstp.org/media/1003/220707-hkstp-logo.png'}]\n"
     ]
    }
   ],
   "source": [
    "import pprint\n",
    "from langchain.text_splitter import RecursiveCharacterTextSplitter\n",
    "\n",
    "def scrape_with_playwright(urls, schema):\n",
    "    \n",
    "    loader = AsyncChromiumLoader(urls)\n",
    "    docs = loader.load()\n",
    "    bs_transformer = BeautifulSoupTransformer()\n",
    "    docs_transformed = bs_transformer.transform_documents(docs,tags_to_extract=[\"a\"])\n",
    "    print(\"Extracting content with LLM\")\n",
    "    \n",
    "    # Grab the first 1000 tokens of the site\n",
    "    splitter = RecursiveCharacterTextSplitter.from_tiktoken_encoder(chunk_size=4000, \n",
    "                                                                    chunk_overlap=0)\n",
    "    splits = splitter.split_documents(docs_transformed)\n",
    "    \n",
    "    # Process the first split \n",
    "    extracted_content = extract(\n",
    "        schema=schema, content=splits[0].page_content\n",
    "    )\n",
    "    pprint.pprint(extracted_content)\n",
    "    return extracted_content\n",
    "\n",
    "urls = [\"https://hkstp.org/\"]\n",
    "extracted_content = scrape_with_playwright(urls, schema=schema)"
   ]
  },
  {
   "cell_type": "code",
   "execution_count": 118,
   "id": "fa233ade",
   "metadata": {},
   "outputs": [
    {
     "name": "stdout",
     "output_type": "stream",
     "text": [
      "Extracting content with LLM\n"
     ]
    }
   ],
   "source": [
    "loader = AsyncChromiumLoader(urls)\n",
    "docs = loader.load()\n",
    "bs_transformer = BeautifulSoupTransformer()\n",
    "docs_transformed = bs_transformer.transform_documents(docs,tags_to_extract=[\"p\"])\n",
    "print(\"Extracting content with LLM\")"
   ]
  },
  {
   "cell_type": "code",
   "execution_count": 183,
   "id": "185ffc56",
   "metadata": {},
   "outputs": [
    {
     "name": "stdout",
     "output_type": "stream",
     "text": [
      "Extracting content with LLM\n"
     ]
    }
   ],
   "source": [
    "loader = AsyncChromiumLoader(urls)\n",
    "docs = loader.load()\n",
    "bs_transformer = BeautifulSoupTransformer()\n",
    "docs_transformed = bs_transformer.transform_documents(docs,tags_to_extract=[\"body\"])\n",
    "print(\"Extracting content with LLM\")"
   ]
  },
  {
   "cell_type": "code",
   "execution_count": 212,
   "id": "51aa0282",
   "metadata": {},
   "outputs": [],
   "source": [
    "urls = [\"https://www.innovationhub.hk\"]"
   ]
  },
  {
   "cell_type": "code",
   "execution_count": 213,
   "id": "e9b7b2f6",
   "metadata": {},
   "outputs": [],
   "source": [
    "from langchain.document_loaders import AsyncChromiumLoader\n",
    "loader = AsyncChromiumLoader(urls)\n",
    "docs = loader.load()"
   ]
  },
  {
   "cell_type": "code",
   "execution_count": 214,
   "id": "36359df4",
   "metadata": {},
   "outputs": [
    {
     "data": {
      "text/plain": [
       "Document(page_content='<!DOCTYPE html><html lang=\"en-US\" class=\"js_active vc_desktop vc_transform vc_transform\"><head>\\n<meta charset=\"utf-8\">\\n<meta name=\"viewport\" content=\"width=device-width, initial-scale=1.0\">\\n<link rel=\"shortcut icon\" href=\"/favicon.png\" type=\"image/x-icon\">\\n<title>Innovation Hub@HK - Innovation Hub@HK</title>\\n<meta name=\"keywords\" content=\"Innovation, research and development outcomes, commercialisation, technology transfer\">\\n<meta name=\"description\" content=\"Innovation Hub@HK is launched by the Innovation and Technology Commission (ITC) of the Government of the Hong Kong Special Administrative Region. It aims at showcasing research and development (R&amp;D) outcomes of Hong Kong’s public research institutes to facilitate commercialisation and technology transfer to the industry. Through Innovation Hub@HK, you can have access to information about the deliverables of the applied research work of Hong Kong’s top researchers, get in touch with the relevant research institutes and explore how their research outcomes could help upgrade and transform your business.\">\\n<link rel=\"stylesheet\" type=\"text/css\" href=\"/themes/bingo/wp-content/themes/css/style.css\">\\n<link rel=\"stylesheet\" type=\"text/css\" href=\"/themes/bingo/static/css/uikit.css\">\\n<link rel=\"stylesheet\" type=\"text/css\" href=\"/themes/bingo/static/css/all.css?v1.1.7\">\\n<link rel=\"stylesheet\" type=\"text/css\" href=\"/themes/bingo/static/css/ccc.css\">\\n<link rel=\"stylesheet\" type=\"text/css\" href=\"/themes/bingo/wp-content/themes/liquid-cadigal/css/main.min.css?v1\">\\n<link rel=\"stylesheet\" type=\"text/css\" href=\"/themes/bingo/fontawesome/css/all.css\">\\n<link rel=\"stylesheet\" type=\"text/css\" href=\"/themes/bingo/static/css/animate.css\">\\n<link rel=\"stylesheet\" type=\"text/css\" href=\"/themes/bingo/dist/jquery.fancybox.min.css\">\\n<link rel=\"stylesheet\" type=\"text/css\" href=\"/themes/bingo/static/css/fontsize.css?v1\">\\n<script async=\"\" src=\"https://www.googletagmanager.com/gtm.js?id=GTM-W642PNH\"></script><script type=\"text/javascript\" src=\"/themes/bingo/static/js/jquery-3.6.0.min.js\"></script>\\n<script type=\"text/javascript\" src=\"/themes/bingo/static/js/uikit.js\"></script>\\n<script type=\"text/javascript\" src=\"/themes/bingo/wp-content/themes/js/swiper.min.js\"></script>\\n<script type=\"text/javascript\" src=\"/themes/bingo/dist/jquery.fancybox.min.js\"></script>\\n\\n<!-- Google tag (gtag.js) -->\\n<script async=\"\" src=\"https://www.googletagmanager.com/gtag/js?id=G-K46NFJJG21\"></script>\\n<script>\\n  window.dataLayer = window.dataLayer || [];\\n  function gtag(){dataLayer.push(arguments);}\\n  gtag(\\'js\\', new Date());\\n  gtag(\\'config\\', \\'G-K46NFJJG21\\');\\n</script>\\n<!-- Google Tag Manager -->\\n<script>(function(w,d,s,l,i){w[l]=w[l]||[];w[l].push({\\'gtm.start\\':\\nnew Date().getTime(),event:\\'gtm.js\\'});var f=d.getElementsByTagName(s)[0],\\nj=d.createElement(s),dl=l!=\\'dataLayer\\'?\\'&l=\\'+l:\\'\\';j.async=true;j.src=\\n\\'https://www.googletagmanager.com/gtm.js?id=\\'+i+dl;f.parentNode.insertBefore(j,f);\\n})(window,document,\\'script\\',\\'dataLayer\\',\\'GTM-W642PNH\\');</script>\\n<!-- End Google Tag Manager -->\\n<meta class=\"foundation-mq\"></head>\\n<body class=\"bingo\">\\n<!-- Google Tag Manager (noscript) -->\\n<noscript><iframe src=\"https://www.googletagmanager.com/ns.html?id=GTM-W642PNH\"\\nheight=\"0\" width=\"0\" style=\"display:none;visibility:hidden\"></iframe></noscript>\\n<!-- End Google Tag Manager (noscript) -->\\n<div id=\"smoothstate_container\">\\n    <div id=\"wp-body-div\" class=\"home\" data-post-id=\"13\" data-post-type=\"page\">\\n        <div id=\"wrapper\">\\n            <div id=\"mobile-menu-overlay\"></div>\\n<header id=\"header\">\\n    <div class=\"header-inner\" uk-scrollspy=\"target: .main-section; cls: uk-animation-slide-top; delay: 200\">\\n        <div class=\"main-section uk-scrollspy-inview \" style=\"\">\\n            <strong class=\"logo\"><a href=\"/\" class=\"logo-link\" style=\"border: none;\"><img src=\"/uploads/image/202206/b023fc78487272d7fee3855dac73d84c.png\" alt=\"Innovation Hub@HK\"></a></strong>\\n            <nav id=\"nav\">\\n                <div class=\"menu\">\\n                    <div class=\"main-menu\">\\n                        <ul id=\"menu-primary\" class=\"nav-menu\">\\n                            <a href=\"#u\" id=\"u\" accesskey=\"u\" class=\"acc\" title=\"Select Upper Menu Access Key\">:::</a>\\n                                                        <li id=\"menu-item-0\" class=\"menu-item menu-item-type-post_type menu-item-object-page menu-item-110\">\\n                                <a href=\"/about-us\">About Us</a>\\n                            </li>\\n                                                        <li id=\"menu-item-1\" class=\"menu-item menu-item-type-post_type menu-item-object-page menu-item-110\">\\n                                <a href=\"/articles/research-institutes\">Research Institutes</a>\\n                            </li>\\n                                                        <li id=\"menu-item-2\" class=\"menu-item menu-item-type-post_type menu-item-object-page menu-item-110\">\\n                                <a href=\"/articles/hk-technologies\">HK Technologies</a>\\n                            </li>\\n                                                        <li id=\"menu-item-3\" class=\"menu-item menu-item-type-post_type menu-item-object-page menu-item-110\">\\n                                <a href=\"/contact-us\">Contact Us</a>\\n                            </li>\\n                                                    </ul>\\n                    </div>\\n                </div>\\n            </nav>\\n            <button class=\"hamburger trigger-mobile-menu\" aria-label=\"Menu\"> <span class=\"lines\"></span> </button>\\n        </div>\\n        <ul class=\"btn-list\" uk-scrollspy=\"target: >li; cls: uk-animation-slide-bottom; delay: 200\">\\n            <li class=\"uk-scrollspy-inview \" style=\"\">\\n                <div class=\"font-item cta-btn\">\\n                    <button onclick=\"fontSize(\\'normal\\')\">A</button>\\n                    <button onclick=\"fontSize(\\'middle\\')\">A</button>\\n                    <button onclick=\"fontSize(\\'large\\')\">A</button>\\n                </div>\\n            </li>\\n            <li class=\"uk-scrollspy-inview uk-animation-slide-bottom\" style=\"\">\\n                <div class=\"lang-item cta-btn\">\\n                                        <a href=\"/zh-hk\">繁</a>\\n                                        <a href=\"/\">EN</a>\\n                                        <a href=\"/zh-cn\">简</a>\\n                                    </div>\\n            </li>\\n        </ul>\\n    </div>\\n</header>\\n\\n\\n<main id=\"main\" data-page-key=\"home\" uk-scrollspy=\"target: .home-hero-banner; cls: uk-animation-fade; delay: 200\">\\n    <section class=\"home-hero-banner uk-scrollspy-inview \" uk-scrollspy=\"target: .hero__title; cls: uk-animation-slide-bottom; delay: 300\" style=\"\">\\n        <div class=\"banner-inner\">\\n            <div class=\"hero hero--homepage hero--homepage-transparent\">\\n                <div class=\"hero__carousel slick-initialized slick-slider slick-dotted\" data-homepage-carousel=\"\"><div class=\"slick-list draggable\"><div class=\"slick-track\" style=\"opacity: 1; width: 5120px;\"><div class=\"slick-slide slick-current slick-active transition-active\" data-slick-index=\"0\" aria-hidden=\"false\" role=\"tabpanel\" id=\"slick-slide00\" style=\"width: 1280px; position: relative; left: 0px; top: 0px; z-index: 999; opacity: 1;\"><div><div class=\"hero__slide row column\" style=\"width: 100%; display: inline-block;\">\\n                                                <div class=\"hero__text-content column\">\\n                                                    <p class=\"hero__tag\" data-slide-nav-title=\"\" title=\"OUR MISSIONS 1\"></p>\\n                            <h1 class=\"showDesktopTitle hero__title uk-scrollspy-inview uk-animation-slide-bottom\" style=\"\">Commercialisation Opportunities and <br>\\nTechnology Transfer</h1>\\n\\n                            <h1 class=\"showMobileTitle hero__title\" style=\"visibility: hidden;\">Commercialisation Opportunities and <br>\\nTechnology Transfer</h1>\\n                                                </div>\\n                                                <div class=\"hero__image center\">\\n                            <div class=\"hero__overlay\"></div>\\n                            <picture>\\n                                <source srcset=\"/uploads/image/202205/2658012468842aa7bb008f0b530452f9.jpg\">\\n                                <img src=\"/uploads/image/202205/2658012468842aa7bb008f0b530452f9.jpg\" alt=\"OUR MISSIONS 1\" data-object-fit=\"\">\\n                            </picture>\\n                        </div>\\n                    </div></div></div><div class=\"slick-slide transition-active\" data-slick-index=\"1\" aria-hidden=\"true\" tabindex=\"-1\" role=\"tabpanel\" id=\"slick-slide01\" style=\"width: 1280px; position: relative; left: -1280px; top: 0px; z-index: 998; opacity: 0;\"><div><div class=\"hero__slide row column\" style=\"width: 100%; display: inline-block;\">\\n                                                <div class=\"hero__text-content column\">\\n                                                    <p class=\"hero__tag\" data-slide-nav-title=\"\" title=\"OUR MISSIONS 2\"></p>\\n                            <h1 class=\"showDesktopTitle hero__title uk-scrollspy-inview uk-animation-slide-bottom\" style=\"\">Get in Touch<br>\\nwith Hong Kong\\'s Top Researchers</h1>\\n\\n                            <h1 class=\"showMobileTitle hero__title\" style=\"visibility: hidden;\">Get in Touch<br>\\nwith Hong Kong\\'s Top Researchers</h1>\\n                                                </div>\\n                                                <div class=\"hero__image center\">\\n                            <div class=\"hero__overlay\"></div>\\n                            <picture>\\n                                <source srcset=\"/uploads/image/202206/d2b3566f49bd13e9e78b3ee301321367.jpg\">\\n                                <img src=\"/uploads/image/202206/d2b3566f49bd13e9e78b3ee301321367.jpg\" alt=\"OUR MISSIONS 2\" data-object-fit=\"\">\\n                            </picture>\\n                        </div>\\n                    </div></div></div><div class=\"slick-slide transition-active\" data-slick-index=\"2\" aria-hidden=\"true\" tabindex=\"-1\" role=\"tabpanel\" id=\"slick-slide02\" style=\"width: 1280px; position: relative; left: -2560px; top: 0px; z-index: 998; opacity: 0;\"><div><div class=\"hero__slide row column\" style=\"width: 100%; display: inline-block;\">\\n                                                <div class=\"hero__text-content column\">\\n                                                    <p class=\"hero__tag\" data-slide-nav-title=\"\" title=\"OUR MISSIONS 3\"></p>\\n                            <h1 class=\"showDesktopTitle hero__title\" style=\"visibility: hidden;\">Upgrade and \\nTransform Your Business</h1>\\n\\n                            <h1 class=\"showMobileTitle hero__title\" style=\"visibility: hidden;\">Upgrade and \\nTransform Your Business</h1>\\n                                                </div>\\n                                                <div class=\"hero__image center\">\\n                            <div class=\"hero__overlay\"></div>\\n                            <picture>\\n                                <source srcset=\"/uploads/image/202206/93261f88d2aed617ebe78cb04d6e9dd6.jpg\">\\n                                <img src=\"/uploads/image/202206/93261f88d2aed617ebe78cb04d6e9dd6.jpg\" alt=\"OUR MISSIONS 3\" data-object-fit=\"\">\\n                            </picture>\\n                        </div>\\n                    </div></div></div><div class=\"slick-slide transition-active\" data-slick-index=\"3\" aria-hidden=\"true\" tabindex=\"-1\" role=\"tabpanel\" id=\"slick-slide03\" style=\"width: 1280px; position: relative; left: -3840px; top: 0px; z-index: 998; opacity: 0;\"><div><div class=\"hero__slide row column\" style=\"width: 100%; display: inline-block;\">\\n                                                <div class=\"hero__text-content column\">\\n                                                    <p class=\"hero__tag\" data-slide-nav-title=\"\" title=\"OUR MISSIONS 4\"></p>\\n                            <h1 class=\"showDesktopTitle hero__title\" style=\"visibility: hidden;\">Top Innovations in Hong Kong</h1>\\n\\n                            <h1 class=\"showMobileTitle hero__title\" style=\"visibility: hidden;\">Top Innovations in Hong Kong</h1>\\n                                                </div>\\n                                                <div class=\"hero__image center\">\\n                            <div class=\"hero__overlay\"></div>\\n                            <picture>\\n                                <source srcset=\"/uploads/image/202206/cbb0887e745838642295b5006387877b.jpg\">\\n                                <img src=\"/uploads/image/202206/cbb0887e745838642295b5006387877b.jpg\" alt=\"OUR MISSIONS 4\" data-object-fit=\"\">\\n                            </picture>\\n                        </div>\\n                    </div></div></div></div></div></div>\\n                <div class=\"hero__nav-container row column\">\\n                    <div class=\"column slide-count-4\" data-carousel-nav=\"\"><ul class=\"slick-dots\" role=\"tablist\" style=\"\"><li class=\"slick-active transition-active\" role=\"presentation\">\\n                        <a class=\"hero__slide-nav-item\" data-slide-nav-item=\"\">\\n                            <span class=\"hero__slide-nav-progress\" style=\"transition-duration: 5500ms;\"></span>\\n                            \\n                        </a>\\n                    </li><li class=\"transition-active\" role=\"presentation\">\\n                        <a class=\"hero__slide-nav-item\" data-slide-nav-item=\"\">\\n                            <span class=\"hero__slide-nav-progress\" style=\"transition-duration: 5500ms;\"></span>\\n                            \\n                        </a>\\n                    </li><li class=\"transition-active\" role=\"presentation\">\\n                        <a class=\"hero__slide-nav-item\" data-slide-nav-item=\"\">\\n                            <span class=\"hero__slide-nav-progress\" style=\"transition-duration: 5500ms;\"></span>\\n                            \\n                        </a>\\n                    </li><li class=\"transition-active\" role=\"presentation\">\\n                        <a class=\"hero__slide-nav-item\" data-slide-nav-item=\"\">\\n                            <span class=\"hero__slide-nav-progress\" style=\"transition-duration: 5500ms;\"></span>\\n                            \\n                        </a>\\n                    </li></ul></div>\\n                </div>\\n            </div>\\n        </div>\\n    </section>\\n\\n    <script src=\"/themes/bingo/static/bootstrap/js/bootstrap.min.js\"></script>\\n<script src=\"/themes/bingo/static/js/bootstrap-select.js?v1\"></script>\\n<link rel=\"stylesheet\" href=\"/themes/bingo/static/bootstrap/css/bootstrap.css\">\\n<link rel=\"stylesheet\" href=\"/themes/bingo/static/css/bootstrap-select.css?v1\">\\n<section class=\"searchBox uk-container uk-margin-large\" uk-scrollspy=\"target: .searchTitle,.searchForm; cls: uk-animation-slide-bottom; delay: 200\">\\n    <div class=\"searchTitle uk-scrollspy-inview \" style=\"\">\\n        <h2>Technologies Search</h2>\\n        <button type=\"button\" class=\"btn btn-clear\" id=\"allClear\" style=\"display:none\">All Clear</button>\\n    </div>\\n        <form action=\"/articles/hk-technologies\" class=\"searchForm uk-scrollspy-inview uk-animation-slide-bottom\" style=\"\">\\n        <input type=\"text\" id=\"word\" name=\"word\" aria-label=\"Enter Keywords\" placeholder=\"Enter Keywords\" value=\"\">\\n        <div class=\"selectDiv selectBR co1\">\\n            <button type=\"button\" class=\"btn btn-clear\" id=\"clearArea\" style=\"\">Clear</button>\\n              \\n            <p class=\"selectTitle\"><label for=\"secArea\">Technology Areas</label></p>\\n            <select name=\"area\" id=\"secArea\" class=\"selectpicker bs-select-hidden\" data-hide-disabled=\"true\" data-live-search=\"true\" title=\"Please Select\" aria-label=\"Technology Areas\"><option class=\"bs-title-option\" value=\"\">Please Select</option>\\n                                <option value=\"ai\">Artificial Intelligence (AI)</option>\\n                                <option value=\"artstech\">ArtsTech</option>\\n                                <option value=\"ar-vr-metaverse\">Augmented Reality (AR) / Virtual Reality (VR) / Metaverse</option>\\n                                <option value=\"automotive-technology-parts\">Automotive Technology and Parts</option>\\n                                <option value=\"biotechnology\">Biotechnology</option>\\n                                <option value=\"blockchain\">Blockchain</option>\\n                                <option value=\"chemical-technology\">Chemical Technology</option>\\n                                <option value=\"chinese-medicine\">Chinese Medicine</option>\\n                                <option value=\"communications-technology\">Communications Technology</option>\\n                                <option value=\"cybersecurity\">Cybersecurity</option>\\n                                <option value=\"data-analytics-big-data\">Data Analytics / Big Data</option>\\n                                <option value=\"digital-entertainment\">Digital Entertainment</option>\\n                                <option value=\"electronics\">Electronics</option>\\n                                <option value=\"energy-technology-clean-technology\">Energy Technology / Clean Technology</option>\\n                                <option value=\"fintech\">Financial technology (FinTech)</option>\\n                                <option value=\"gerontech\">Gerontech</option>\\n                                <option value=\"green-technology-environmental-technology\">Green Technology / Environmental Technology</option>\\n                                <option value=\"health-technology\">Health Technology</option>\\n                                <option value=\"information-technology\">Information Technology</option>\\n                                <option value=\"insurtech\">InsurTech</option>\\n                                <option value=\"ic-microelectronics\">Integrated Circuit (IC) / Microelectronics</option>\\n                                <option value=\"Iot\">Internet-of-Things (IoT)</option>\\n                                <option value=\"logistics-supply-chain-management\">Logistics and Supply Chain Management</option>\\n                                <option value=\"manufacturing-technology-process-enhancement\">Manufacturing Technology / Process Enhancement</option>\\n                                <option value=\"material-science\">Material Science</option>\\n                                <option value=\"nanotechnology\">Nanotechnology</option>\\n                                <option value=\"regtech\">RegTech</option>\\n                                <option value=\"robotics\">Robotics</option>\\n                                <option value=\"smart-living\">Smart Living</option>\\n                                <option value=\"smart-mobility\">Smart Mobility</option>\\n                                <option value=\"others\">Others</option>\\n                            </select><div class=\"btn-group bootstrap-select\"><button type=\"button\" class=\"btn dropdown-toggle btn-default\" data-toggle=\"dropdown\" data-id=\"secArea\" title=\"Please Select\"><span class=\"filter-option pull-left\">Please Select</span>&nbsp;<span class=\"caret\"></span></button><div class=\"dropdown-menu open\"><div class=\"bs-searchbox\"><input type=\"text\" class=\"form-control\" autocomplete=\"off\" aria-label=\"Enter Keywords\"></div><ul class=\"dropdown-menu inner\"><li data-original-index=\"1\"><a tabindex=\"0\" class=\"\" style=\"\" data-tokens=\"null\"><span class=\"text\">Artificial Intelligence (AI)</span><span class=\"glyphicon glyphicon-ok check-mark\"></span></a></li><li data-original-index=\"2\"><a tabindex=\"0\" class=\"\" style=\"\" data-tokens=\"null\"><span class=\"text\">ArtsTech</span><span class=\"glyphicon glyphicon-ok check-mark\"></span></a></li><li data-original-index=\"3\"><a tabindex=\"0\" class=\"\" style=\"\" data-tokens=\"null\"><span class=\"text\">Augmented Reality (AR) / Virtual Reality (VR) / Metaverse</span><span class=\"glyphicon glyphicon-ok check-mark\"></span></a></li><li data-original-index=\"4\"><a tabindex=\"0\" class=\"\" style=\"\" data-tokens=\"null\"><span class=\"text\">Automotive Technology and Parts</span><span class=\"glyphicon glyphicon-ok check-mark\"></span></a></li><li data-original-index=\"5\"><a tabindex=\"0\" class=\"\" style=\"\" data-tokens=\"null\"><span class=\"text\">Biotechnology</span><span class=\"glyphicon glyphicon-ok check-mark\"></span></a></li><li data-original-index=\"6\"><a tabindex=\"0\" class=\"\" style=\"\" data-tokens=\"null\"><span class=\"text\">Blockchain</span><span class=\"glyphicon glyphicon-ok check-mark\"></span></a></li><li data-original-index=\"7\"><a tabindex=\"0\" class=\"\" style=\"\" data-tokens=\"null\"><span class=\"text\">Chemical Technology</span><span class=\"glyphicon glyphicon-ok check-mark\"></span></a></li><li data-original-index=\"8\"><a tabindex=\"0\" class=\"\" style=\"\" data-tokens=\"null\"><span class=\"text\">Chinese Medicine</span><span class=\"glyphicon glyphicon-ok check-mark\"></span></a></li><li data-original-index=\"9\"><a tabindex=\"0\" class=\"\" style=\"\" data-tokens=\"null\"><span class=\"text\">Communications Technology</span><span class=\"glyphicon glyphicon-ok check-mark\"></span></a></li><li data-original-index=\"10\"><a tabindex=\"0\" class=\"\" style=\"\" data-tokens=\"null\"><span class=\"text\">Cybersecurity</span><span class=\"glyphicon glyphicon-ok check-mark\"></span></a></li><li data-original-index=\"11\"><a tabindex=\"0\" class=\"\" style=\"\" data-tokens=\"null\"><span class=\"text\">Data Analytics / Big Data</span><span class=\"glyphicon glyphicon-ok check-mark\"></span></a></li><li data-original-index=\"12\"><a tabindex=\"0\" class=\"\" style=\"\" data-tokens=\"null\"><span class=\"text\">Digital Entertainment</span><span class=\"glyphicon glyphicon-ok check-mark\"></span></a></li><li data-original-index=\"13\"><a tabindex=\"0\" class=\"\" style=\"\" data-tokens=\"null\"><span class=\"text\">Electronics</span><span class=\"glyphicon glyphicon-ok check-mark\"></span></a></li><li data-original-index=\"14\"><a tabindex=\"0\" class=\"\" style=\"\" data-tokens=\"null\"><span class=\"text\">Energy Technology / Clean Technology</span><span class=\"glyphicon glyphicon-ok check-mark\"></span></a></li><li data-original-index=\"15\"><a tabindex=\"0\" class=\"\" style=\"\" data-tokens=\"null\"><span class=\"text\">Financial technology (FinTech)</span><span class=\"glyphicon glyphicon-ok check-mark\"></span></a></li><li data-original-index=\"16\"><a tabindex=\"0\" class=\"\" style=\"\" data-tokens=\"null\"><span class=\"text\">Gerontech</span><span class=\"glyphicon glyphicon-ok check-mark\"></span></a></li><li data-original-index=\"17\"><a tabindex=\"0\" class=\"\" style=\"\" data-tokens=\"null\"><span class=\"text\">Green Technology / Environmental Technology</span><span class=\"glyphicon glyphicon-ok check-mark\"></span></a></li><li data-original-index=\"18\"><a tabindex=\"0\" class=\"\" style=\"\" data-tokens=\"null\"><span class=\"text\">Health Technology</span><span class=\"glyphicon glyphicon-ok check-mark\"></span></a></li><li data-original-index=\"19\"><a tabindex=\"0\" class=\"\" style=\"\" data-tokens=\"null\"><span class=\"text\">Information Technology</span><span class=\"glyphicon glyphicon-ok check-mark\"></span></a></li><li data-original-index=\"20\"><a tabindex=\"0\" class=\"\" style=\"\" data-tokens=\"null\"><span class=\"text\">InsurTech</span><span class=\"glyphicon glyphicon-ok check-mark\"></span></a></li><li data-original-index=\"21\"><a tabindex=\"0\" class=\"\" style=\"\" data-tokens=\"null\"><span class=\"text\">Integrated Circuit (IC) / Microelectronics</span><span class=\"glyphicon glyphicon-ok check-mark\"></span></a></li><li data-original-index=\"22\"><a tabindex=\"0\" class=\"\" style=\"\" data-tokens=\"null\"><span class=\"text\">Internet-of-Things (IoT)</span><span class=\"glyphicon glyphicon-ok check-mark\"></span></a></li><li data-original-index=\"23\"><a tabindex=\"0\" class=\"\" style=\"\" data-tokens=\"null\"><span class=\"text\">Logistics and Supply Chain Management</span><span class=\"glyphicon glyphicon-ok check-mark\"></span></a></li><li data-original-index=\"24\"><a tabindex=\"0\" class=\"\" style=\"\" data-tokens=\"null\"><span class=\"text\">Manufacturing Technology / Process Enhancement</span><span class=\"glyphicon glyphicon-ok check-mark\"></span></a></li><li data-original-index=\"25\"><a tabindex=\"0\" class=\"\" style=\"\" data-tokens=\"null\"><span class=\"text\">Material Science</span><span class=\"glyphicon glyphicon-ok check-mark\"></span></a></li><li data-original-index=\"26\"><a tabindex=\"0\" class=\"\" style=\"\" data-tokens=\"null\"><span class=\"text\">Nanotechnology</span><span class=\"glyphicon glyphicon-ok check-mark\"></span></a></li><li data-original-index=\"27\"><a tabindex=\"0\" class=\"\" style=\"\" data-tokens=\"null\"><span class=\"text\">RegTech</span><span class=\"glyphicon glyphicon-ok check-mark\"></span></a></li><li data-original-index=\"28\"><a tabindex=\"0\" class=\"\" style=\"\" data-tokens=\"null\"><span class=\"text\">Robotics</span><span class=\"glyphicon glyphicon-ok check-mark\"></span></a></li><li data-original-index=\"29\"><a tabindex=\"0\" class=\"\" style=\"\" data-tokens=\"null\"><span class=\"text\">Smart Living</span><span class=\"glyphicon glyphicon-ok check-mark\"></span></a></li><li data-original-index=\"30\"><a tabindex=\"0\" class=\"\" style=\"\" data-tokens=\"null\"><span class=\"text\">Smart Mobility</span><span class=\"glyphicon glyphicon-ok check-mark\"></span></a></li><li data-original-index=\"31\"><a tabindex=\"0\" class=\"\" style=\"\" data-tokens=\"null\"><span class=\"text\">Others</span><span class=\"glyphicon glyphicon-ok check-mark\"></span></a></li></ul></div></div>\\n        </div>\\n        <div class=\"selectDiv selectBR co2\">\\n            <button type=\"button\" class=\"btn btn-clear\" id=\"clearTor\" style=\"\">Clear</button>\\n              \\n            <p class=\"selectTitle\"><label for=\"secTor\">Industrial Sectors</label></p>\\n            <select name=\"sector\" id=\"secTor\" class=\"selectpicker bs-select-hidden\" data-hide-disabled=\"true\" data-live-search=\"true\" title=\"Please Select\" aria-label=\"Industrial Sectors\"><option class=\"bs-title-option\" value=\"\">Please Select</option>\\n                                <option value=\"accommodation-services\">Accommodation Services</option>\\n                                <option value=\"agriculture-fisheries\">Agriculture and Fisheries</option>\\n                                <option value=\"air-purification\">Air Purification</option>\\n                                <option value=\"automotive\">Automotive</option>\\n                                <option value=\"beauty\">Beauty</option>\\n                                <option value=\"chemical\">Chemical</option>\\n                                <option value=\"construction-real-estate\">Construction, Real Estate</option>\\n                                <option value=\"creative-industry-advertising-exhibition\">Creative Industry, Advertising, Exhibition</option>\\n                                <option value=\"education-training\">Education and Training</option>\\n                                <option value=\"electronics-electrical-products\">Electronics and Electrical Products</option>\\n                                <option value=\"energy\">Energy</option>\\n                                <option value=\"environment-waste-treatment\">Environment / Waste Treatment</option>\\n                                <option value=\"finance-insurance\">Finance and Insurance</option>\\n                                <option value=\"food-beverage\">Food and Beverage</option>\\n                                <option value=\"health-healthcare-device\">Health and Healthcare Device</option>\\n                                <option value=\"import-export-trade-wholesale\">Import/Export/Trade and Wholesale</option>\\n                                <option value=\"in-vitro-diagnostics\">In Vitro Diagnostics</option>\\n                                <option value=\"information-communications\">Information and Communications</option>\\n                                <option value=\"legal-accounting\">Legal / Accounting</option>\\n                                <option value=\"machinery-metals-tooling\">Machinery, Metals and Tooling</option>\\n                                <option value=\"manufacturing\">Manufacturing</option>\\n                                <option value=\"medical-caring\">Medical and Caring</option>\\n                                <option value=\"optical-products\">Optical Products</option>\\n                                <option value=\"pharmaceutical-healthcare-products\">Pharmaceutical and Healthcare Products</option>\\n                                <option value=\"plastics\">Plastics</option>\\n                                <option value=\"printing-packaging\">Printing and Packaging</option>\\n                                <option value=\"property-management\">Property Management</option>\\n                                <option value=\"retail\">Retail</option>\\n                                <option value=\"sports\">Sports</option>\\n                                <option value=\"testing-certification\">Testing and Certification</option>\\n                                <option value=\"textiles-clothing-footwear\">Textiles / Clothing / Footwear</option>\\n                                <option value=\"tourism\">Tourism</option>\\n                                <option value=\"toys\">Toys</option>\\n                                <option value=\"transportation-logistics\">Transportation and Logistics</option>\\n                                <option value=\"watch-clock-jewelry\">Watch, Clock and Jewelry</option>\\n                                <option value=\"water-purification\">Water Purification/Treatment</option>\\n                                <option value=\"others\">Others</option>\\n                            </select><div class=\"btn-group bootstrap-select\"><button type=\"button\" class=\"btn dropdown-toggle btn-default\" data-toggle=\"dropdown\" data-id=\"secTor\" title=\"Please Select\"><span class=\"filter-option pull-left\">Please Select</span>&nbsp;<span class=\"caret\"></span></button><div class=\"dropdown-menu open\"><div class=\"bs-searchbox\"><input type=\"text\" class=\"form-control\" autocomplete=\"off\" aria-label=\"Enter Keywords\"></div><ul class=\"dropdown-menu inner\"><li data-original-index=\"1\"><a tabindex=\"0\" class=\"\" style=\"\" data-tokens=\"null\"><span class=\"text\">Accommodation Services</span><span class=\"glyphicon glyphicon-ok check-mark\"></span></a></li><li data-original-index=\"2\"><a tabindex=\"0\" class=\"\" style=\"\" data-tokens=\"null\"><span class=\"text\">Agriculture and Fisheries</span><span class=\"glyphicon glyphicon-ok check-mark\"></span></a></li><li data-original-index=\"3\"><a tabindex=\"0\" class=\"\" style=\"\" data-tokens=\"null\"><span class=\"text\">Air Purification</span><span class=\"glyphicon glyphicon-ok check-mark\"></span></a></li><li data-original-index=\"4\"><a tabindex=\"0\" class=\"\" style=\"\" data-tokens=\"null\"><span class=\"text\">Automotive</span><span class=\"glyphicon glyphicon-ok check-mark\"></span></a></li><li data-original-index=\"5\"><a tabindex=\"0\" class=\"\" style=\"\" data-tokens=\"null\"><span class=\"text\">Beauty</span><span class=\"glyphicon glyphicon-ok check-mark\"></span></a></li><li data-original-index=\"6\"><a tabindex=\"0\" class=\"\" style=\"\" data-tokens=\"null\"><span class=\"text\">Chemical</span><span class=\"glyphicon glyphicon-ok check-mark\"></span></a></li><li data-original-index=\"7\"><a tabindex=\"0\" class=\"\" style=\"\" data-tokens=\"null\"><span class=\"text\">Construction, Real Estate</span><span class=\"glyphicon glyphicon-ok check-mark\"></span></a></li><li data-original-index=\"8\"><a tabindex=\"0\" class=\"\" style=\"\" data-tokens=\"null\"><span class=\"text\">Creative Industry, Advertising, Exhibition</span><span class=\"glyphicon glyphicon-ok check-mark\"></span></a></li><li data-original-index=\"9\"><a tabindex=\"0\" class=\"\" style=\"\" data-tokens=\"null\"><span class=\"text\">Education and Training</span><span class=\"glyphicon glyphicon-ok check-mark\"></span></a></li><li data-original-index=\"10\"><a tabindex=\"0\" class=\"\" style=\"\" data-tokens=\"null\"><span class=\"text\">Electronics and Electrical Products</span><span class=\"glyphicon glyphicon-ok check-mark\"></span></a></li><li data-original-index=\"11\"><a tabindex=\"0\" class=\"\" style=\"\" data-tokens=\"null\"><span class=\"text\">Energy</span><span class=\"glyphicon glyphicon-ok check-mark\"></span></a></li><li data-original-index=\"12\"><a tabindex=\"0\" class=\"\" style=\"\" data-tokens=\"null\"><span class=\"text\">Environment / Waste Treatment</span><span class=\"glyphicon glyphicon-ok check-mark\"></span></a></li><li data-original-index=\"13\"><a tabindex=\"0\" class=\"\" style=\"\" data-tokens=\"null\"><span class=\"text\">Finance and Insurance</span><span class=\"glyphicon glyphicon-ok check-mark\"></span></a></li><li data-original-index=\"14\"><a tabindex=\"0\" class=\"\" style=\"\" data-tokens=\"null\"><span class=\"text\">Food and Beverage</span><span class=\"glyphicon glyphicon-ok check-mark\"></span></a></li><li data-original-index=\"15\"><a tabindex=\"0\" class=\"\" style=\"\" data-tokens=\"null\"><span class=\"text\">Health and Healthcare Device</span><span class=\"glyphicon glyphicon-ok check-mark\"></span></a></li><li data-original-index=\"16\"><a tabindex=\"0\" class=\"\" style=\"\" data-tokens=\"null\"><span class=\"text\">Import/Export/Trade and Wholesale</span><span class=\"glyphicon glyphicon-ok check-mark\"></span></a></li><li data-original-index=\"17\"><a tabindex=\"0\" class=\"\" style=\"\" data-tokens=\"null\"><span class=\"text\">In Vitro Diagnostics</span><span class=\"glyphicon glyphicon-ok check-mark\"></span></a></li><li data-original-index=\"18\"><a tabindex=\"0\" class=\"\" style=\"\" data-tokens=\"null\"><span class=\"text\">Information and Communications</span><span class=\"glyphicon glyphicon-ok check-mark\"></span></a></li><li data-original-index=\"19\"><a tabindex=\"0\" class=\"\" style=\"\" data-tokens=\"null\"><span class=\"text\">Legal / Accounting</span><span class=\"glyphicon glyphicon-ok check-mark\"></span></a></li><li data-original-index=\"20\"><a tabindex=\"0\" class=\"\" style=\"\" data-tokens=\"null\"><span class=\"text\">Machinery, Metals and Tooling</span><span class=\"glyphicon glyphicon-ok check-mark\"></span></a></li><li data-original-index=\"21\"><a tabindex=\"0\" class=\"\" style=\"\" data-tokens=\"null\"><span class=\"text\">Manufacturing</span><span class=\"glyphicon glyphicon-ok check-mark\"></span></a></li><li data-original-index=\"22\"><a tabindex=\"0\" class=\"\" style=\"\" data-tokens=\"null\"><span class=\"text\">Medical and Caring</span><span class=\"glyphicon glyphicon-ok check-mark\"></span></a></li><li data-original-index=\"23\"><a tabindex=\"0\" class=\"\" style=\"\" data-tokens=\"null\"><span class=\"text\">Optical Products</span><span class=\"glyphicon glyphicon-ok check-mark\"></span></a></li><li data-original-index=\"24\"><a tabindex=\"0\" class=\"\" style=\"\" data-tokens=\"null\"><span class=\"text\">Pharmaceutical and Healthcare Products</span><span class=\"glyphicon glyphicon-ok check-mark\"></span></a></li><li data-original-index=\"25\"><a tabindex=\"0\" class=\"\" style=\"\" data-tokens=\"null\"><span class=\"text\">Plastics</span><span class=\"glyphicon glyphicon-ok check-mark\"></span></a></li><li data-original-index=\"26\"><a tabindex=\"0\" class=\"\" style=\"\" data-tokens=\"null\"><span class=\"text\">Printing and Packaging</span><span class=\"glyphicon glyphicon-ok check-mark\"></span></a></li><li data-original-index=\"27\"><a tabindex=\"0\" class=\"\" style=\"\" data-tokens=\"null\"><span class=\"text\">Property Management</span><span class=\"glyphicon glyphicon-ok check-mark\"></span></a></li><li data-original-index=\"28\"><a tabindex=\"0\" class=\"\" style=\"\" data-tokens=\"null\"><span class=\"text\">Retail</span><span class=\"glyphicon glyphicon-ok check-mark\"></span></a></li><li data-original-index=\"29\"><a tabindex=\"0\" class=\"\" style=\"\" data-tokens=\"null\"><span class=\"text\">Sports</span><span class=\"glyphicon glyphicon-ok check-mark\"></span></a></li><li data-original-index=\"30\"><a tabindex=\"0\" class=\"\" style=\"\" data-tokens=\"null\"><span class=\"text\">Testing and Certification</span><span class=\"glyphicon glyphicon-ok check-mark\"></span></a></li><li data-original-index=\"31\"><a tabindex=\"0\" class=\"\" style=\"\" data-tokens=\"null\"><span class=\"text\">Textiles / Clothing / Footwear</span><span class=\"glyphicon glyphicon-ok check-mark\"></span></a></li><li data-original-index=\"32\"><a tabindex=\"0\" class=\"\" style=\"\" data-tokens=\"null\"><span class=\"text\">Tourism</span><span class=\"glyphicon glyphicon-ok check-mark\"></span></a></li><li data-original-index=\"33\"><a tabindex=\"0\" class=\"\" style=\"\" data-tokens=\"null\"><span class=\"text\">Toys</span><span class=\"glyphicon glyphicon-ok check-mark\"></span></a></li><li data-original-index=\"34\"><a tabindex=\"0\" class=\"\" style=\"\" data-tokens=\"null\"><span class=\"text\">Transportation and Logistics</span><span class=\"glyphicon glyphicon-ok check-mark\"></span></a></li><li data-original-index=\"35\"><a tabindex=\"0\" class=\"\" style=\"\" data-tokens=\"null\"><span class=\"text\">Watch, Clock and Jewelry</span><span class=\"glyphicon glyphicon-ok check-mark\"></span></a></li><li data-original-index=\"36\"><a tabindex=\"0\" class=\"\" style=\"\" data-tokens=\"null\"><span class=\"text\">Water Purification/Treatment</span><span class=\"glyphicon glyphicon-ok check-mark\"></span></a></li><li data-original-index=\"37\"><a tabindex=\"0\" class=\"\" style=\"\" data-tokens=\"null\"><span class=\"text\">Others</span><span class=\"glyphicon glyphicon-ok check-mark\"></span></a></li></ul></div></div>\\n        </div>\\n        <div class=\"selectDiv co3\">\\n            <button type=\"button\" class=\"btn btn-clear\" id=\"clearRd\" style=\"\">Clear</button>\\n                        <p class=\"selectTitle\"><label for=\"secRd\">Research Institutes</label></p>\\n            <select name=\"institute\" id=\"secRd\" class=\"selectpicker bs-select-hidden\" data-hide-disabled=\"true\" data-live-search=\"true\" title=\"Please Select\" aria-label=\"Research Institutes\"><option class=\"bs-title-option\" value=\"\">Please Select</option>\\n                <optgroup label=\"Research Organisations\">  \\n                                <option value=\"apas\">APAS</option>\\n                                <option value=\"astri\">ASTRI</option>\\n                                <option value=\"hkpc\">HKPC</option>\\n                                <option value=\"lscm\">LSCM</option>\\n                                <option value=\"nami\">NAMI</option>\\n                                <option value=\"hkrita\">HKRITA</option>\\n                                </optgroup>\\n                <optgroup label=\"Universities\">  \\n                                <option value=\"cityu\">CityU</option>\\n                                <option value=\"hkbu\">HKBU</option>\\n                                <option value=\"cuhk\">CUHK</option>\\n                                <option value=\"polyu\">PolyU</option>\\n                                <option value=\"hkust\">HKUST</option>\\n                                <option value=\"hku\">HKU</option>\\n                                </optgroup>\\n                <optgroup label=\"Health@InnoHK\">  \\n                                <option value=\"hkcend\">HKCeND</option>\\n                                <option value=\"lsccb\">LSCCB</option>\\n                                <option value=\"novostics\">Novostics</option>\\n                                <option value=\"magic\">MagIC</option>\\n                                <option value=\"abic\">ABIC</option>\\n                                <option value=\"c2i\">C2i</option>\\n                                <option value=\"cvvt\">CVVT</option>\\n                                <option value=\"cevr\">CEVR</option>\\n                                <option value=\"coche\">COCHE</option>\\n                                <option value=\"cdd\">CDD</option>\\n                                <option value=\"crmh\">CRMH</option>\\n                                <option value=\"coi\">COI</option>\\n                                <option value=\"ctscb\">CTSCB</option>\\n                                <option value=\"cnrm\">CNRM</option>\\n                                </optgroup>\\n                <optgroup label=\"AIR@InnoHK\">  \\n                                <option value=\"hkclr\">HKCLR</option>\\n                                <option value=\"mrc\">MRC</option>\\n                                <option value=\"cpii\">CPII</option>\\n                                <option value=\"aidlab\">AiDLab</option>\\n                                <option value=\"hkcrc\">HKCRC</option>\\n                                <option value=\"cimda\">CIMDA</option>\\n                                <option value=\"aift\">AIFT</option>\\n                                <option value=\"cairs\">CAiRS</option>\\n                                <option value=\"hkqai\">HKQAI</option>\\n                                <option value=\"transgp\">TransGP</option>\\n                                <option value=\"d24h\">D²4H</option>\\n                                <option value=\"access\">ACCESS</option>\\n                                <option value=\"flair\">FLAIR</option>\\n                                <option value=\"cair\">CAIR</option>\\n                                </optgroup>\\n            </select><div class=\"btn-group bootstrap-select\"><button type=\"button\" class=\"btn dropdown-toggle btn-default\" data-toggle=\"dropdown\" data-id=\"secRd\" title=\"Please Select\"><span class=\"filter-option pull-left\">Please Select</span>&nbsp;<span class=\"caret\"></span></button><div class=\"dropdown-menu open\"><div class=\"bs-searchbox\"><input type=\"text\" class=\"form-control\" autocomplete=\"off\" aria-label=\"Enter Keywords\"></div><ul class=\"dropdown-menu inner\"><li class=\"dropdown-header \" data-optgroup=\"1\"><span class=\"text\">Research Organisations</span></li><li data-original-index=\"1\" data-optgroup=\"1\"><a tabindex=\"0\" class=\"opt  \" style=\"\" data-tokens=\"null\"><span class=\"text\">APAS</span><span class=\"glyphicon glyphicon-ok check-mark\"></span></a></li><li data-original-index=\"2\" data-optgroup=\"1\"><a tabindex=\"0\" class=\"opt undefined\" style=\"\" data-tokens=\"null\"><span class=\"text\">ASTRI</span><span class=\"glyphicon glyphicon-ok check-mark\"></span></a></li><li data-original-index=\"3\" data-optgroup=\"1\"><a tabindex=\"0\" class=\"opt undefined\" style=\"\" data-tokens=\"null\"><span class=\"text\">HKPC</span><span class=\"glyphicon glyphicon-ok check-mark\"></span></a></li><li data-original-index=\"4\" data-optgroup=\"1\"><a tabindex=\"0\" class=\"opt undefined\" style=\"\" data-tokens=\"null\"><span class=\"text\">LSCM</span><span class=\"glyphicon glyphicon-ok check-mark\"></span></a></li><li data-original-index=\"5\" data-optgroup=\"1\"><a tabindex=\"0\" class=\"opt undefined\" style=\"\" data-tokens=\"null\"><span class=\"text\">NAMI</span><span class=\"glyphicon glyphicon-ok check-mark\"></span></a></li><li data-original-index=\"6\" data-optgroup=\"1\"><a tabindex=\"0\" class=\"opt undefined\" style=\"\" data-tokens=\"null\"><span class=\"text\">HKRITA</span><span class=\"glyphicon glyphicon-ok check-mark\"></span></a></li><li class=\"divider\" data-optgroup=\"2div\"></li><li class=\"dropdown-header \" data-optgroup=\"2\"><span class=\"text\">Universities</span></li><li data-original-index=\"7\" data-optgroup=\"2\"><a tabindex=\"0\" class=\"opt  \" style=\"\" data-tokens=\"null\"><span class=\"text\">CityU</span><span class=\"glyphicon glyphicon-ok check-mark\"></span></a></li><li data-original-index=\"8\" data-optgroup=\"2\"><a tabindex=\"0\" class=\"opt undefined\" style=\"\" data-tokens=\"null\"><span class=\"text\">HKBU</span><span class=\"glyphicon glyphicon-ok check-mark\"></span></a></li><li data-original-index=\"9\" data-optgroup=\"2\"><a tabindex=\"0\" class=\"opt undefined\" style=\"\" data-tokens=\"null\"><span class=\"text\">CUHK</span><span class=\"glyphicon glyphicon-ok check-mark\"></span></a></li><li data-original-index=\"10\" data-optgroup=\"2\"><a tabindex=\"0\" class=\"opt undefined\" style=\"\" data-tokens=\"null\"><span class=\"text\">PolyU</span><span class=\"glyphicon glyphicon-ok check-mark\"></span></a></li><li data-original-index=\"11\" data-optgroup=\"2\"><a tabindex=\"0\" class=\"opt undefined\" style=\"\" data-tokens=\"null\"><span class=\"text\">HKUST</span><span class=\"glyphicon glyphicon-ok check-mark\"></span></a></li><li data-original-index=\"12\" data-optgroup=\"2\"><a tabindex=\"0\" class=\"opt undefined\" style=\"\" data-tokens=\"null\"><span class=\"text\">HKU</span><span class=\"glyphicon glyphicon-ok check-mark\"></span></a></li><li class=\"divider\" data-optgroup=\"3div\"></li><li class=\"dropdown-header \" data-optgroup=\"3\"><span class=\"text\">Health@InnoHK</span></li><li data-original-index=\"13\" data-optgroup=\"3\"><a tabindex=\"0\" class=\"opt  \" style=\"\" data-tokens=\"null\"><span class=\"text\">HKCeND</span><span class=\"glyphicon glyphicon-ok check-mark\"></span></a></li><li data-original-index=\"14\" data-optgroup=\"3\"><a tabindex=\"0\" class=\"opt undefined\" style=\"\" data-tokens=\"null\"><span class=\"text\">LSCCB</span><span class=\"glyphicon glyphicon-ok check-mark\"></span></a></li><li data-original-index=\"15\" data-optgroup=\"3\"><a tabindex=\"0\" class=\"opt undefined\" style=\"\" data-tokens=\"null\"><span class=\"text\">Novostics</span><span class=\"glyphicon glyphicon-ok check-mark\"></span></a></li><li data-original-index=\"16\" data-optgroup=\"3\"><a tabindex=\"0\" class=\"opt undefined\" style=\"\" data-tokens=\"null\"><span class=\"text\">MagIC</span><span class=\"glyphicon glyphicon-ok check-mark\"></span></a></li><li data-original-index=\"17\" data-optgroup=\"3\"><a tabindex=\"0\" class=\"opt undefined\" style=\"\" data-tokens=\"null\"><span class=\"text\">ABIC</span><span class=\"glyphicon glyphicon-ok check-mark\"></span></a></li><li data-original-index=\"18\" data-optgroup=\"3\"><a tabindex=\"0\" class=\"opt undefined\" style=\"\" data-tokens=\"null\"><span class=\"text\">C2i</span><span class=\"glyphicon glyphicon-ok check-mark\"></span></a></li><li data-original-index=\"19\" data-optgroup=\"3\"><a tabindex=\"0\" class=\"opt undefined\" style=\"\" data-tokens=\"null\"><span class=\"text\">CVVT</span><span class=\"glyphicon glyphicon-ok check-mark\"></span></a></li><li data-original-index=\"20\" data-optgroup=\"3\"><a tabindex=\"0\" class=\"opt undefined\" style=\"\" data-tokens=\"null\"><span class=\"text\">CEVR</span><span class=\"glyphicon glyphicon-ok check-mark\"></span></a></li><li data-original-index=\"21\" data-optgroup=\"3\"><a tabindex=\"0\" class=\"opt undefined\" style=\"\" data-tokens=\"null\"><span class=\"text\">COCHE</span><span class=\"glyphicon glyphicon-ok check-mark\"></span></a></li><li data-original-index=\"22\" data-optgroup=\"3\"><a tabindex=\"0\" class=\"opt undefined\" style=\"\" data-tokens=\"null\"><span class=\"text\">CDD</span><span class=\"glyphicon glyphicon-ok check-mark\"></span></a></li><li data-original-index=\"23\" data-optgroup=\"3\"><a tabindex=\"0\" class=\"opt undefined\" style=\"\" data-tokens=\"null\"><span class=\"text\">CRMH</span><span class=\"glyphicon glyphicon-ok check-mark\"></span></a></li><li data-original-index=\"24\" data-optgroup=\"3\"><a tabindex=\"0\" class=\"opt undefined\" style=\"\" data-tokens=\"null\"><span class=\"text\">COI</span><span class=\"glyphicon glyphicon-ok check-mark\"></span></a></li><li data-original-index=\"25\" data-optgroup=\"3\"><a tabindex=\"0\" class=\"opt undefined\" style=\"\" data-tokens=\"null\"><span class=\"text\">CTSCB</span><span class=\"glyphicon glyphicon-ok check-mark\"></span></a></li><li data-original-index=\"26\" data-optgroup=\"3\"><a tabindex=\"0\" class=\"opt undefined\" style=\"\" data-tokens=\"null\"><span class=\"text\">CNRM</span><span class=\"glyphicon glyphicon-ok check-mark\"></span></a></li><li class=\"divider\" data-optgroup=\"4div\"></li><li class=\"dropdown-header \" data-optgroup=\"4\"><span class=\"text\">AIR@InnoHK</span></li><li data-original-index=\"27\" data-optgroup=\"4\"><a tabindex=\"0\" class=\"opt  \" style=\"\" data-tokens=\"null\"><span class=\"text\">HKCLR</span><span class=\"glyphicon glyphicon-ok check-mark\"></span></a></li><li data-original-index=\"28\" data-optgroup=\"4\"><a tabindex=\"0\" class=\"opt undefined\" style=\"\" data-tokens=\"null\"><span class=\"text\">MRC</span><span class=\"glyphicon glyphicon-ok check-mark\"></span></a></li><li data-original-index=\"29\" data-optgroup=\"4\"><a tabindex=\"0\" class=\"opt undefined\" style=\"\" data-tokens=\"null\"><span class=\"text\">CPII</span><span class=\"glyphicon glyphicon-ok check-mark\"></span></a></li><li data-original-index=\"30\" data-optgroup=\"4\"><a tabindex=\"0\" class=\"opt undefined\" style=\"\" data-tokens=\"null\"><span class=\"text\">AiDLab</span><span class=\"glyphicon glyphicon-ok check-mark\"></span></a></li><li data-original-index=\"31\" data-optgroup=\"4\"><a tabindex=\"0\" class=\"opt undefined\" style=\"\" data-tokens=\"null\"><span class=\"text\">HKCRC</span><span class=\"glyphicon glyphicon-ok check-mark\"></span></a></li><li data-original-index=\"32\" data-optgroup=\"4\"><a tabindex=\"0\" class=\"opt undefined\" style=\"\" data-tokens=\"null\"><span class=\"text\">CIMDA</span><span class=\"glyphicon glyphicon-ok check-mark\"></span></a></li><li data-original-index=\"33\" data-optgroup=\"4\"><a tabindex=\"0\" class=\"opt undefined\" style=\"\" data-tokens=\"null\"><span class=\"text\">AIFT</span><span class=\"glyphicon glyphicon-ok check-mark\"></span></a></li><li data-original-index=\"34\" data-optgroup=\"4\"><a tabindex=\"0\" class=\"opt undefined\" style=\"\" data-tokens=\"null\"><span class=\"text\">CAiRS</span><span class=\"glyphicon glyphicon-ok check-mark\"></span></a></li><li data-original-index=\"35\" data-optgroup=\"4\"><a tabindex=\"0\" class=\"opt undefined\" style=\"\" data-tokens=\"null\"><span class=\"text\">HKQAI</span><span class=\"glyphicon glyphicon-ok check-mark\"></span></a></li><li data-original-index=\"36\" data-optgroup=\"4\"><a tabindex=\"0\" class=\"opt undefined\" style=\"\" data-tokens=\"null\"><span class=\"text\">TransGP</span><span class=\"glyphicon glyphicon-ok check-mark\"></span></a></li><li data-original-index=\"37\" data-optgroup=\"4\"><a tabindex=\"0\" class=\"opt undefined\" style=\"\" data-tokens=\"null\"><span class=\"text\">D²4H</span><span class=\"glyphicon glyphicon-ok check-mark\"></span></a></li><li data-original-index=\"38\" data-optgroup=\"4\"><a tabindex=\"0\" class=\"opt undefined\" style=\"\" data-tokens=\"null\"><span class=\"text\">ACCESS</span><span class=\"glyphicon glyphicon-ok check-mark\"></span></a></li><li data-original-index=\"39\" data-optgroup=\"4\"><a tabindex=\"0\" class=\"opt undefined\" style=\"\" data-tokens=\"null\"><span class=\"text\">FLAIR</span><span class=\"glyphicon glyphicon-ok check-mark\"></span></a></li><li data-original-index=\"40\" data-optgroup=\"4\"><a tabindex=\"0\" class=\"opt undefined\" style=\"\" data-tokens=\"null\"><span class=\"text\">CAIR</span><span class=\"glyphicon glyphicon-ok check-mark\"></span></a></li></ul></div></div>\\n        </div>\\n        <input type=\"submit\" value=\"Search\">\\n    </form>\\n</section>\\n<script src=\"/themes/bingo/static/js/search.js\"></script>   \\n    <section class=\"resultBox uk-container\" uk-scrollspy=\"target: .blueButton; cls: uk-animation-slide-bottom; delay: 200\">\\n        <div uk-grid=\"\" class=\"uk-child-width-1-2 uk-child-width-1-2@s uk-child-width-1-3@m uk-grid-small uk-grid\" uk-scrollspy=\"target: > div; cls: uk-animation-slide-bottom; delay: 200\">\\n                        <div class=\"uk-first-column\" style=\"visibility: hidden;\">\\n                <a href=\"/articles/hk-technologies?area=ai\" class=\"resultContent posr\">\\n                                        <div class=\"ratio ratio-16x9\"><img src=\"/uploads/image/202205/c7d2c77c5f7718f2ec6022b2e74e0fff.png\" alt=\"Artificial Intelligence (AI)\"></div>\\n                                        <div class=\"resultText\">\\n                        <h3>Artificial Intelligence (AI)</h3>\\n                    </div>\\n                </a>\\n            </div>\\n                        <div style=\"visibility: hidden;\">\\n                <a href=\"/articles/hk-technologies?area=health-technology\" class=\"resultContent posr\">\\n                                        <div class=\"ratio ratio-16x9\"><img src=\"/uploads/image/202205/c05f21a4b605fd25f29b80255301af1b.png\" alt=\"Health Technology\"></div>\\n                                        <div class=\"resultText\">\\n                        <h3>Health Technology</h3>\\n                    </div>\\n                </a>\\n            </div>\\n                        <div style=\"visibility: hidden;\">\\n                <a href=\"/articles/hk-technologies?area=manufacturing-technology-process-enhancement\" class=\"resultContent posr\">\\n                                        <div class=\"ratio ratio-16x9\"><img src=\"/uploads/image/202205/204c408bc8f32d13da23a136a0b9170e.png\" alt=\"Manufacturing Technology / Process Enhancement\"></div>\\n                                        <div class=\"resultText\">\\n                        <h3>Manufacturing Technology / Process Enhancement</h3>\\n                    </div>\\n                </a>\\n            </div>\\n                        <div class=\"uk-grid-margin uk-first-column\" style=\"visibility: hidden;\">\\n                <a href=\"/articles/hk-technologies?area=biotechnology\" class=\"resultContent posr\">\\n                                        <div class=\"ratio ratio-16x9\"><img src=\"/uploads/image/202205/10a41cad974f1cc9f4528ccbffc9040c.png\" alt=\"Biotechnology\"></div>\\n                                        <div class=\"resultText\">\\n                        <h3>Biotechnology</h3>\\n                    </div>\\n                </a>\\n            </div>\\n                        <div class=\"uk-grid-margin\" style=\"visibility: hidden;\">\\n                <a href=\"/articles/hk-technologies?area=material-science\" class=\"resultContent posr\">\\n                                        <div class=\"ratio ratio-16x9\"><img src=\"/uploads/image/202205/4209d976b20fd76b07651542526a8799.png\" alt=\"Material Science\"></div>\\n                                        <div class=\"resultText\">\\n                        <h3>Material Science</h3>\\n                    </div>\\n                </a>\\n            </div>\\n                        <div class=\"uk-grid-margin\" style=\"visibility: hidden;\">\\n                <a href=\"/articles/hk-technologies?area=green-technology-environmental-technology\" class=\"resultContent posr\">\\n                                        <div class=\"ratio ratio-16x9\"><img src=\"/uploads/image/202205/65ac0d365d54d32b5af70762b0551156.png\" alt=\"Green Technology / Environmental Technology\"></div>\\n                                        <div class=\"resultText\">\\n                        <h3>Green Technology / Environmental Technology</h3>\\n                    </div>\\n                </a>\\n            </div>\\n                        <div class=\"uk-grid-margin uk-first-column\" style=\"visibility: hidden;\">\\n                <a href=\"/articles/hk-technologies?area=robotics\" class=\"resultContent posr\">\\n                                        <div class=\"ratio ratio-16x9\"><img src=\"/uploads/image/202205/61b3556eb8821799eef69293cef6f338.png\" alt=\"Robotics\"></div>\\n                                        <div class=\"resultText\">\\n                        <h3>Robotics</h3>\\n                    </div>\\n                </a>\\n            </div>\\n                        <div class=\"uk-grid-margin\" style=\"visibility: hidden;\">\\n                <a href=\"/articles/hk-technologies?area=nanotechnology\" class=\"resultContent posr\">\\n                                        <div class=\"ratio ratio-16x9\"><img src=\"/uploads/image/202205/f5643e8d6a5a3eb9fc621035e49d8737.png\" alt=\"Nanotechnology\"></div>\\n                                        <div class=\"resultText\">\\n                        <h3>Nanotechnology</h3>\\n                    </div>\\n                </a>\\n            </div>\\n                        <div class=\"uk-grid-margin\" style=\"visibility: hidden;\">\\n                <a href=\"/articles/hk-technologies?area=electronics\" class=\"resultContent posr\">\\n                                        <div class=\"ratio ratio-16x9\"><img src=\"/uploads/image/202205/3d106b6bd8975bcbd7d6db4c808eb5c6.png\" alt=\"Electronics\"></div>\\n                                        <div class=\"resultText\">\\n                        <h3>Electronics</h3>\\n                    </div>\\n                </a>\\n            </div>\\n                        <div class=\"uk-grid-margin uk-first-column\" style=\"visibility: hidden;\">\\n                <a href=\"/articles/hk-technologies?area=smart-living\" class=\"resultContent posr\">\\n                                        <div class=\"ratio ratio-16x9\"><img src=\"/uploads/image/202205/a8c8b8f8351b7d318465ea8a93b2352f.png\" alt=\"Smart Living\"></div>\\n                                        <div class=\"resultText\">\\n                        <h3>Smart Living</h3>\\n                    </div>\\n                </a>\\n            </div>\\n                        <div class=\"uk-grid-margin\" style=\"visibility: hidden;\">\\n                <a href=\"/articles/hk-technologies?area=energy-technology-clean-technology\" class=\"resultContent posr\">\\n                                        <div class=\"ratio ratio-16x9\"><img src=\"/themes/bingo/static/images/default.png\" alt=\"Energy Technology / Clean Technology\"></div>\\n                                        <div class=\"resultText\">\\n                        <h3>Energy Technology / Clean Technology</h3>\\n                    </div>\\n                </a>\\n            </div>\\n                        <div class=\"uk-grid-margin\" style=\"visibility: hidden;\">\\n                <a href=\"/articles/hk-technologies?area=automotive-technology-parts\" class=\"resultContent posr\">\\n                                        <div class=\"ratio ratio-16x9\"><img src=\"/uploads/image/202205/a60771d1ad0e2d78edac07b839232a52.png\" alt=\"Automotive Technology and Parts\"></div>\\n                                        <div class=\"resultText\">\\n                        <h3>Automotive Technology and Parts</h3>\\n                    </div>\\n                </a>\\n            </div>\\n                    </div>\\n        <a class=\"blueButton\" style=\"visibility: hidden;\" href=\"/articles/hk-technologies\">Load More</a>\\n    </section>\\n\\n        <section class=\"uk-container clients\" style=\"padding-top: 0;\" uk-scrollspy=\"target: >h2; cls: uk-animation-slide-bottom; delay: 200\">\\n        <h2 style=\"visibility: hidden;\">We have <span count=\"510\" class=\"counter\">510</span><span>+</span> technologies ready for commercialisation from the following research institutes:</h2>\\n        <div class=\"uk-margin-large-left uk-margin-large-right\" uk-scrollspy=\"target: >p; cls: uk-animation-slide-bottom; delay: 200\"><p style=\"text-align: center; visibility: hidden;\">(Listed in alphabetical order)</p></div>\\n        <div uk-slider=\"finite: true,autoplay: true\" class=\"uk-slider\">\\n            <div class=\"uk-position-relative clientLogos\">\\n                <div class=\"uk-slider-container\">\\n                    <ul class=\"uk-slider-items uk-child-width-1-2 uk-child-width-1-3@s uk-child-width-1-6@m\" uk-scrollspy=\"target: .clientBox; cls: uk-animation-slide-bottom; delay: 200\" style=\"transform: translate3d(0px, 0px, 0px);\">\\n                                                <li class=\"clientBox uk-active\" style=\"visibility: hidden;\" tabindex=\"-1\"><img src=\"/uploads/image/202206/51eabadb10c1cf4e83d3f38824aa517d.svg\" alt=\"APAS\"></li>\\n                                                <li class=\"clientBox uk-active\" style=\"visibility: hidden;\" tabindex=\"-1\"><img src=\"/uploads/image/202206/a841ff3e1c9eb1cb70d975ff7ea23fc6.svg\" alt=\"ASTRI\"></li>\\n                                                <li class=\"clientBox uk-active\" style=\"visibility: hidden;\" tabindex=\"-1\"><img src=\"/uploads/image/202301/9c1284469976be5fe5a6556c5ea91a50.svg\" alt=\"HKPC\"></li>\\n                                                <li class=\"clientBox uk-active\" style=\"visibility: hidden;\" tabindex=\"-1\"><img src=\"/uploads/image/202206/11676ec939cb94d5b7683cde11f5a3e3.svg\" alt=\"LSCM\"></li>\\n                                                <li class=\"clientBox uk-active\" style=\"visibility: hidden;\" tabindex=\"-1\"><img src=\"/uploads/image/202206/9da37a8ce83bd35ead2ac07743184651.svg\" alt=\"NAMI\"></li>\\n                                                <li class=\"clientBox uk-active\" style=\"visibility: hidden;\" tabindex=\"-1\"><img src=\"/uploads/image/202206/a2cc78c9e5bdd8bd8629e463250a4a14.png\" alt=\"HKRITA\"></li>\\n                                            </ul>\\n                </div>\\n                <button class=\"uk-position-center-left techListSliderNav uk-position-small uk-icon uk-slidenav-previous uk-slidenav uk-invisible\" uk-slidenav-previous=\"\" uk-slider-item=\"previous\" aria-label=\"Previous\" hidden=\"\"><svg width=\"14\" height=\"24\" viewBox=\"0 0 14 24\" xmlns=\"http://www.w3.org/2000/svg\"><polyline fill=\"none\" stroke=\"#000\" stroke-width=\"1.4\" points=\"12.775,1 1.225,12 12.775,23 \"></polyline></svg></button>\\n                <button class=\"uk-position-center-right techListSliderNav uk-position-small uk-icon uk-slidenav-next uk-slidenav uk-invisible\" uk-slidenav-next=\"\" uk-slider-item=\"next\" aria-label=\"Next\" hidden=\"\"><svg width=\"14\" height=\"24\" viewBox=\"0 0 14 24\" xmlns=\"http://www.w3.org/2000/svg\"><polyline fill=\"none\" stroke=\"#000\" stroke-width=\"1.4\" points=\"1.225,23 12.775,12 1.225,1 \"></polyline></svg></button>\\n            </div>\\n        </div>\\n        <div uk-slider=\"finite: true,autoplay: true\" class=\"uk-slider\">\\n            <div class=\"uk-position-relative clientLogos\">\\n                <div class=\"uk-slider-container\">\\n                    <ul class=\"uk-slider-items uk-child-width-1-2 uk-child-width-1-3@s uk-child-width-1-6@m\" uk-scrollspy=\"target: .clientBox; cls: uk-animation-slide-bottom; delay: 200\" style=\"transform: translate3d(0px, 0px, 0px);\">\\n                                                <li class=\"clientBox uk-active\" style=\"visibility: hidden;\" tabindex=\"-1\"><img src=\"/uploads/image/202206/f4d0e586dc2503ded4c8d2ee66d1455c.svg\" alt=\"CityU\"></li>\\n                                                <li class=\"clientBox uk-active\" style=\"visibility: hidden;\" tabindex=\"-1\"><img src=\"/uploads/image/202206/f7b482400d3a0e25a6756376124570ad.svg\" alt=\"HKBU\"></li>\\n                                                <li class=\"clientBox uk-active\" style=\"visibility: hidden;\" tabindex=\"-1\"><img src=\"/uploads/image/202206/e411139600fb3e3254cb803c17634753.svg\" alt=\"CUHK\"></li>\\n                                                <li class=\"clientBox uk-active\" style=\"visibility: hidden;\" tabindex=\"-1\"><img src=\"/uploads/image/202211/5d6b9cc2293ac441880701f0c2abf77f.svg\" alt=\"PolyU\"></li>\\n                                                <li class=\"clientBox uk-active\" style=\"visibility: hidden;\" tabindex=\"-1\"><img src=\"/uploads/image/202208/175171c24b915e7be0577e8036cdc413.png\" alt=\"HKUST\"></li>\\n                                                <li class=\"clientBox uk-active\" style=\"visibility: hidden;\" tabindex=\"-1\"><img src=\"/uploads/image/202206/955482b05c645839b853346509447674.png\" alt=\"HKU\"></li>\\n                                            </ul>\\n                </div>\\n                <button class=\"uk-position-center-left techListSliderNav uk-position-small uk-icon uk-slidenav-previous uk-slidenav uk-invisible\" uk-slidenav-previous=\"\" uk-slider-item=\"previous\" aria-label=\"Previous\" hidden=\"\"><svg width=\"14\" height=\"24\" viewBox=\"0 0 14 24\" xmlns=\"http://www.w3.org/2000/svg\"><polyline fill=\"none\" stroke=\"#000\" stroke-width=\"1.4\" points=\"12.775,1 1.225,12 12.775,23 \"></polyline></svg></button>\\n                <button class=\"uk-position-center-right techListSliderNav uk-position-small uk-icon uk-slidenav-next uk-slidenav uk-invisible\" uk-slidenav-next=\"\" uk-slider-item=\"next\" aria-label=\"Next\" hidden=\"\">\\n            <svg width=\"14\" height=\"24\" viewBox=\"0 0 14 24\" xmlns=\"http://www.w3.org/2000/svg\"><polyline fill=\"none\" stroke=\"#000\" stroke-width=\"1.4\" points=\"1.225,23 12.775,12 1.225,1 \"></polyline></svg></button></div>\\n        </div>\\n    </section>\\n</main>\\n<script src=\"/themes/bingo/static/js/jquery.waypoints.min.js\"></script>\\n<script src=\"/themes/bingo/static/js/jquery.countup.min.js\"></script>\\n<script type=\"text/javascript\">\\n$(\\'.counter\\').countUp();\\n</script>\\n<script type=\"text/javascript\" src=\"/themes/bingo/wp-content/themes/js/js-bottom.js\"></script><footer id=\"footer\">\\n    <div class=\"uk-container top-section\">\\n        <div class=\"menu-wrapper\">\\n            <div class=\"uk-grid\" uk-scrollspy=\"target: >div,.footer-logo; cls: uk-animation-slide-bottom; delay: 200\">\\n                <div class=\"uk-width-1-1 uk-width-1-3@s uk-width-1-4@m\" style=\"visibility: hidden;\">\\n                    <a href=\"#b\" id=\"b\" accesskey=\"b\" title=\"Footer Anchor\">:::</a>\\n                    <strong class=\"footer-logo\" style=\"margin-top: 0px; visibility: hidden;\">\\n                        <img src=\"/uploads/image/202206/9242a2e48e55ecec98cd7cc0fbff0b63.png\" alt=\"© 2022 Innovation Hub@HK\">\\n                    </strong>\\n                </div>\\n                <div class=\"uk-width-1-1 uk-width-1-3@s uk-width-1-4@m zh-width-1\" style=\"visibility: hidden;\">\\n                                        <div class=\"white foot-nav-item\">Research Organisations</div>\\n                    <ul class=\"cenul\">\\n                                                <li><a href=\"/articles/apas\">APAS</a></li>\\n                                                <li><a href=\"/articles/astri\">ASTRI</a></li>\\n                                                <li><a href=\"/articles/hkpc\">HKPC</a></li>\\n                                                <li><a href=\"/articles/lscm\">LSCM</a></li>\\n                                                <li><a href=\"/articles/nami\">NAMI</a></li>\\n                                                <li><a href=\"/articles/hkrita\">HKRITA</a></li>\\n                                            </ul>\\n                </div>\\n                <div class=\"uk-width-1-1 uk-width-1-3@s uk-width-1-4@m zh-width-4\" style=\"visibility: hidden;\">\\n                                        <div class=\"white foot-nav-item\">Universities</div>\\n                    <ul class=\"cenul\">\\n                                                <li><a href=\"/articles/cityu\">CityU</a></li>\\n                                                <li><a href=\"/articles/hkbu\">HKBU</a></li>\\n                                                <li><a href=\"/articles/cuhk\">CUHK</a></li>\\n                                                <li><a href=\"/articles/polyu\">PolyU</a></li>\\n                                                <li><a href=\"/articles/hkust\">HKUST</a></li>\\n                                                <li><a href=\"/articles/hku\">HKU</a></li>\\n                                            </ul>\\n                </div>\\n                <div class=\"uk-width-1-1 uk-width-1-3@s uk-width-1-4@m zh-width-1\" style=\"visibility: hidden;\">\\n                                        <div class=\"white foot-nav-item\"><a href=\"/articles/hk-technologies\">HK Technologies</a></div>\\n                    <div class=\"white foot-nav-item\" style=\"padding-top:8px\"><a href=\"/about-us\">About Us</a></div>\\n                    <div class=\"white foot-nav-item\" style=\"padding-top:8px\"><a href=\"/contact-us\">Contact Us</a></div>\\n                </div>\\n            </div>\\n        </div>\\n    </div>\\n    <div class=\"copyright-info\">\\n        <div class=\"uk-container\">\\n            <div class=\"row\">\\n                <div class=\"col-sm-9 col-xs-12 \">\\n                    <div class=\"copyright\" uk-scrollspy=\"target: >p,.list-inline li; cls: uk-animation-slide-bottom; delay: 200\">\\n                        <p style=\"visibility: hidden;\">© 2022 Innovation Hub@HK</p>\\n                        <ul class=\"list-inline\">\\n                                                        <li style=\"visibility: hidden;\"><a href=\"/important-notices\">Important Notices</a></li>\\n                                                        <li style=\"visibility: hidden;\"><a href=\"/sitemap\">Sitemap</a></li>\\n                                                    </ul>\\n                    </div>\\n                </div>\\n            </div>\\n        </div>\\n    </div>\\n</footer><script type=\"text/javascript\">\\n    var $display_again_after = \\'90\\';\\n    var $display_on = \\'leasepage\\';\\n    var $display_after = \\'10\\';\\n    var $liquid_popup_enabled = \\'1\\';\\n    var $liquid_popup_reset_date = \\'\\';\\n</script>\\n\\n<script type=\"text/javascript\" src=\"/themes/bingo/wp-includes/js/wp-embed.min.js\"></script>\\n<script type=\"text/javascript\" src=\"/themes/bingo/wp-content/plugins/js_composer/assets/js/dist/js_composer_front.min.js\"></script>\\n<script src=\"/themes/bingo/static/js/fontsize.js\"></script>\\n<style>\\n.hero__slide-nav-item {\\n    text-decoration: none !important;\\n    cursor: pointer;\\n}\\n</style>\\n<script type=\"text/javascript\" src=\"/themes/bingo/static/js/wow.js\"></script>\\n<script>\\nnew WOW().init();\\n$(\"#header .hamburger\").click(function() {\\n    $(\"body\").toggleClass(\"menu-on\")\\n    $(this).toggleClass(\"off\");\\n    $(\"#nav\").toggleClass(\"on\");\\n})\\n</script>        </div>\\n    </div>\\n</div>\\n\\n<script type=\"text/javascript\" src=\"/_Incapsula_Resource?SWJIYLWA=719d34d31c8e3a6e6fffd425f7e032f3&amp;ns=1&amp;cb=323524035\" async=\"\"></script>\\n</body></html>', metadata={'source': 'https://www.innovationhub.hk'})"
      ]
     },
     "execution_count": 214,
     "metadata": {},
     "output_type": "execute_result"
    }
   ],
   "source": [
    "docs[0]"
   ]
  },
  {
   "cell_type": "code",
   "execution_count": 220,
   "id": "004623d8",
   "metadata": {},
   "outputs": [],
   "source": [
    "from langchain.chains import create_extraction_chain\n",
    "\n",
    "schema = {\n",
    "    \"properties\": {\n",
    "        \"url_of_the_logo\": {\"type\": \"string\"},\n",
    "\n",
    "    },\n",
    "    \"required\": [\"url_of_company_logo\"],\n",
    "}\n",
    "\n",
    "def extract(content: str, schema: dict):\n",
    "    return create_extraction_chain(schema=schema, llm=llm).run(content)"
   ]
  },
  {
   "cell_type": "code",
   "execution_count": 221,
   "id": "20f7e70f",
   "metadata": {},
   "outputs": [
    {
     "name": "stdout",
     "output_type": "stream",
     "text": [
      "[{'url_of_the_logo': '/uploads/image/202206/b023fc78487272d7fee3855dac73d84c.png'}]\n"
     ]
    }
   ],
   "source": [
    "extracted_content = extract(\n",
    "        schema=schema, content=docs[0].page_content[0:4000]\n",
    "    )\n",
    "pprint.pprint(extracted_content)"
   ]
  },
  {
   "cell_type": "code",
   "execution_count": null,
   "id": "c68e3595",
   "metadata": {},
   "outputs": [],
   "source": []
  },
  {
   "cell_type": "code",
   "execution_count": 217,
   "id": "1810ac47",
   "metadata": {},
   "outputs": [
    {
     "data": {
      "text/plain": [
       "[Document(page_content='Who We  Are What We Offer How We Nurture Why We Innofacture Our Community Hong Kong and Beyond OUR IMPACT OUR FOOTPRINTS OUR ACHIEVEMENTS Our Milestones Our Management The Board & Committees Sustainability Passion Matters Infrastructure Science Park Labs Co-working Spaces InnoCell InnoCentre Co-Working Space InnoPark STP Platform HSITP Institute for Translational Research Incubation, Acceleration & Elite Ideation Incubation Acceleration Elite STARTUPS CO-DEVELOPMENT Funding and Capital Corporate Partnerships Talent Game On TALENT OPPORTUNITIES Experience Training Career ENTERPRISE OPPORTUNITIES Innofacturing Tomorrow Tai Po INNOPARK GMP CENTRE Precision Manufacturing Centre MARS Centre Tseung Kwan O INNOPARK DT Hub AMC Yuen Long INNOPARK Microelectronics\\xa0Centre (MEC) DIRECTORY INNOVATORS STORIES ALUMNI Be an Incubatee Careers at HKSTP Park Life Events & Happenings Book Event Space Rent Our Spaces News Room HAPPY HONG KONG BAZAAR Why Hong Kong Our Commitment To I&T Development Greater Bay Area Hong Kong Science Park Shenzhen Branch EN 繁體中文 简体中文 English Search INNOPARK Discover INNOPARKs now! EXPLORE NOW HAPPY HONG KONG BAZAAR @ SCIENCE PARK Thank you for your participation SUSTAINABILITY Ambitiously driving a 1.5°C future WORK. LIVE. PLAY. LEARN. Come check out the latest happenings now! LEARN MORE ELEVATOR PITCH COMPETITION The end is just the beginning. See you next year! Thriving with bright ideas and growth opportunities, HKSTP is propelling success for innovators everywhere. WHERE INNOVATIONS ARE FOUND Funding & Capital Incubation and Acceleration Programmes WHERE FUTURE IS CREATED WHERE TALENT FLOURISHES Talent Game On 2K23 Innovators Stories Directory COLLABORATE WITH OUR 1,400+ COMPANIES You are just a click away from reaching 1,400+ forward-thinking tech ventures, corporations and investors in Hong Kong’s biggest innovation ecosystem.Sign up to HKSTP portal, the all-in-one resource for startups, enterprises and investors alike. See what our ecosystem can offer today. NEWS ROOM Gleneagles Hospital Hong Kong Signs Collaboration Agreement with HKSTP  to Drive... HKSTP\\'s BFSI Accelerator 2023 Fuels FinTech Adoption with Proven Solutions in... HKSTP Reinforces Vision to Achieve Net-Zero Emissions by 2045 and  Help Hong... HKSTP Delegation Completes South East Asia Tour With Visit to Malaysia HKSTP Sparks Co-innovation between Hong Kong Police Force and Altai Technologies... HKSTP Delegation Visits Singapore to Kick Off “HKSTP Innovation Mixer” in Asia HKSTP Partners with JYCGIF: New Memorandum of Understanding  Aims to Draw Female... 70 Secondary Schools Participate in STEM+E Competition HKSTP Crowns Overall Champion Skyland Innovation at EPiC 2023 Pitching... BioMed Technology Funded by Alibaba Hong Kong Entrepreneurs Fund, Gobi and TIMC... HKSTP and Chinachem Group Unleash Power of Pilot-first Trials to Accelerate... HKSTP Joins Web3 Festival to Fuel Hong Kong’s Ambition to be a Global Web3 Hub HKSTP Joins the City’s Healthcare Flagship Events to Drive Tech Adoption and... “Transforming Cities, Connecting Lives” – HKSTP Showcases Cutting-edge Smart... HKSTP and FHKI Nurture Young Entrepreneurs for I&T - “Innopreneur Experience... FHKI and HKSTP Co-organise “Innopreneur Experience Journey Cohort 2” Job... HKSTP and AstraZeneca signing MOU on Strategic Collaboration HKSTP and The Hong Kong Medical Association Reinforce Partnership and Mission to... HAPPENINGS Play At Science Park, an innovative summer awaits! Learn Events and Happenings At HKSTP, we host exhilarating events to draw the most brilliant minds and... Live Shop and Dine No need to head out for your food and daily essentials! Hungry? Choose from our... Pet friendly environment Get ready for paw-some experiences at\\xa0the Park! Bring your furry friends... Hong Kong Science Park Clubhouse Refuel your body and mind without having to leave the Park. Our Clubhouse gives... Work Park App\\u200b Offline life at the Park is great, but did you know that we thrive online too?... Experience our award-winning residential and co-working space built right at the... Shop and Dine @ DT Hub VIEW ALL x Hong Kong Science & Technology Parks Corporation (‘HKSTP’) wishes to alert users and the general public to beware of fraudulent websites purported to be from HKSTP. Branding materials (including the logo, name and graphics) of HKSTP were appropriated in such websites without authorisation.HKSTP’s official website is https://www.hkstp.org, and you should always double-check that this is the address in your browser. If you are unsure whether a website or communication you have received is legitimate, you should never provide your personal details.HKSTP is working with the relevant authorities to shut down the fraudulent site. If you are concerned, please contact us at enquiry.marketing@hkstp.org and/or report to the Police. Contact Us Fields marked with an asterisk (*) are required fields. Please fill in this field Salutation Prof Dr Mr Mrs Ms Miss Please input valid email Country / Region Hong KongMainland ChinaAfghanistanAlbaniaAlgeriaAmerican SamoaAndorraAngolaAnguillaAntigua and BarbudaArgentinaArmeniaArubaAustraliaAustriaAzerbaijanBahamasBahrainBangladeshBarbadosBelarusBelgiumBelizeBeninBermudaBhutanBoliviaBosnia and HerzegovinaBotswanaBrazilBritish Indian Ocean TerritoryBritish Virgin IslandsBrunei DarussalamBulgariaBurkina FasoBurundiCabo VerdeCambodiaCameroonCanadaCaribbean NetherlandsCayman IslandsCentral African RepublicChadChileColombiaComorosCongoCook IslandsCosta RicaCote d\\'IvoireCroatiaCubaCuracaoCyprusCzech RepublicDemocratic Republic of CongoDenmarkDjiboutiDominicaDominican RepublicEcuadorEgyptEl SalvadorEquatorial GuineaEritreaEstoniaEthiopiaFalkland IslandsFaroe IslandsFijiFinlandFranceFrench GuianaFrench PolynesiaGabonGambiaGeorgiaGermanyGhanaGibraltarGreeceGreenlandGrenadaGuadeloupeGuamGuatemalaGuineaGuinea BissauGuyanaHaitiHondurasHungaryIcelandIndiaIndonesiaIranIraqIrelandIsraelItalyJamaicaJapanJordanKazakhstanKenyaKiribatiKorea, DPR OfKorea, Republic OfKuwaitKyrgyzstanLaosLatviaLebanonLesothoLiberiaLibyaLiechtensteinLithuaniaLuxembourgMacaoMadagascarMalawiMalaysiaMaldivesMaliMaltaMarshall IslandsMartiniqueMauritaniaMauritiusMayotteMexicoMicronesia,Federated States OfMonacoMongoliaMontenegroMontserratMoroccoMozambiqueMyanmarNamibiaNauruNepalNetherlandsNew CaledoniaNew ZealandNicaraguaNigerNigeriaNiue IslandNorfolk IslandNorth MacedoniaNorthern Mariana IslandsNorwayOmanPakistanPalauPanamaPapua New GuineaParaguayPeruPhilippinesPitcairn IslandPolandPortugalPuerto RicoQatarRepublic of MoldovaReunionRomaniaRussiaRwandaSaint-BarthelemySaint MartinSaint HelenaSaint Kitts and NevisSaint LuciaSaint Pierre & MiquelonSaint Vincent and GrenadinesSamoaSan MarinoSao Tome and PrincipeSaudi ArabiaSenegalSerbiaSeychellesSierra LeoneSingaporeSint MaartenSlovakiaSloveniaSolomon IslandsSomaliaSouth AfricaSouth SudanSpainSri LankaSudanSurinameSwedenSwitzerlandSyriaTaiwanTajikistanTanzaniaThailandTimor-LesteTogoTongaTrinidad And TobagoTunisiaTurkiyeTurkmenistanTurks & Caicos IslandTuvaluUgandaUkraineUnited Arab EmiratesUnited KingdomUnited States Virgin IslandsUruguayUSAUzbekistanVanuatuVenezuelaViet NamWallis & Futuna IslandsWestern SaharaYemenZambiaZimbabweEswatini I am directed to the HKSTP website from Google Yahoo Bing Facebook Instagram LinkedIn YouTube Online Advertisement Promotional Email Business / Association Referral Online Publication Enquiry Feedback I am interested in getting more information on Acceleration Programme Admission to InnoCell Admission to InnoCentre Admission to Science Park Admission to InnoPark Elite Programme Experience Centre Ideation Programme Incu-Bio STF Funding Investment Opportunities Technology Support & Lab Services Venue Booking at InnoCentre Venue Booking at Lab Facilities (Science Park) Venue Booking at Science Park By submitting your contact details, ticking the boxes and clicking \"Submit\" indicate that: I have read, understand and agreed the Privacy Policy Statement and Personal Information Collection Statement published by HKSTP. *You need to check the box Direct Marketing Consent: YES, I CONSENT to HKSTP using my personal data in direct marketing as set out in Personal Information Collection Statement via my email. NO, I DO NOT CONSENT to HKSTP using my personal data in direct marketing as set out in Personal Information Collection Statement via all channels. *Please select whether you agree to receive direct marketing. BotDetect CAPTCHA ASP.NET Form Validation Submit Video Room Publications Tender Notice Supplier Registration Corporate Governance Public Notice How To Get Here PartnersConnect Portal Privacy Policy PICS Terms of Use Accessibility Promotion of Racial Equality Site map Warning against Fraudulence ICAC -  Corruption Prevention Advisory Service © 2023 Hong Kong Science & Technology Parks Corporation, all rights reserved. The data and figures about HKSTP on this website is updated as of 31 Jan 2023 unless specified. We use cookies to ensure that we give you the best experience on our website. We also share information about your use of our site with our social media and analytics partners. By continuing to use our website, you agree to our use of such cookies. For more information, please review our Cookies Policy and Privacy Policy. Accept', metadata={'source': 'https://hkstp.org/'})]"
      ]
     },
     "execution_count": 217,
     "metadata": {},
     "output_type": "execute_result"
    }
   ],
   "source": [
    "docs_transformed"
   ]
  },
  {
   "cell_type": "code",
   "execution_count": null,
   "id": "d6fbac4b",
   "metadata": {},
   "outputs": [],
   "source": [
    "# Grab the first 1000 tokens of the site\n",
    "splitter = RecursiveCharacterTextSplitter.from_tiktoken_encoder(chunk_size=4000, \n",
    "                                                                    chunk_overlap=0)\n",
    "splits = splitter.split_documents(docs_transformed)"
   ]
  },
  {
   "cell_type": "markdown",
   "id": "9bdccfa0",
   "metadata": {},
   "source": [
    "# Fecch the logo of a company"
   ]
  },
  {
   "cell_type": "code",
   "execution_count": null,
   "id": "91a671e8",
   "metadata": {},
   "outputs": [],
   "source": [
    "path = \"\""
   ]
  },
  {
   "cell_type": "code",
   "execution_count": null,
   "id": "196e9dc0",
   "metadata": {},
   "outputs": [],
   "source": [
    "from langchain.document_loaders import AsyncChromiumLoader\n",
    "loader = AsyncChromiumLoader(urls)\n",
    "docs = loader.load()"
   ]
  },
  {
   "cell_type": "code",
   "execution_count": null,
   "id": "ae44dd01",
   "metadata": {},
   "outputs": [],
   "source": [
    "from langchain.chains import create_extraction_chain\n",
    "\n",
    "schema = {\n",
    "    \"properties\": {\n",
    "        \"url_of_the_logo\": {\"type\": \"string\"},\n",
    "\n",
    "    },\n",
    "    \"required\": [\"url_of_company_logo\"],\n",
    "}\n",
    "\n",
    "def extract(content: str, schema: dict):\n",
    "    return create_extraction_chain(schema=schema, llm=llm).run(content)"
   ]
  },
  {
   "cell_type": "code",
   "execution_count": null,
   "id": "9cb1b9e5",
   "metadata": {},
   "outputs": [],
   "source": [
    "extracted_content = extract(\n",
    "        schema=schema, content=docs[0].page_content[0:4000]\n",
    "    )\n",
    "pprint.pprint(extracted_content)"
   ]
  }
 ],
 "metadata": {
  "kernelspec": {
   "display_name": "Python 3 (ipykernel)",
   "language": "python",
   "name": "python3"
  },
  "language_info": {
   "codemirror_mode": {
    "name": "ipython",
    "version": 3
   },
   "file_extension": ".py",
   "mimetype": "text/x-python",
   "name": "python",
   "nbconvert_exporter": "python",
   "pygments_lexer": "ipython3",
   "version": "3.9.13"
  }
 },
 "nbformat": 4,
 "nbformat_minor": 5
}
